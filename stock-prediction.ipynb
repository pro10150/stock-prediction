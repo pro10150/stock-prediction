{
 "cells": [
  {
   "cell_type": "code",
   "execution_count": 2,
   "id": "6a2b1b0f-bbd6-46eb-b179-125466f4efd8",
   "metadata": {},
   "outputs": [],
   "source": [
    "import numpy as np\n",
    "import pandas as pd\n",
    "import matplotlib.pyplot as plt\n",
    "import pandas_datareader as pdr\n",
    "import seaborn as sns\n",
    "import talib \n",
    "from sklearn.preprocessing import MinMaxScaler\n",
    "from sklearn import tree\n",
    "from sklearn.linear_model import LinearRegression\n",
    "from sklearn.feature_selection import RFE\n",
    "from mlxtend.feature_selection import SequentialFeatureSelector as SFS\n",
    "from matplotlib.colors import ListedColormap\n",
    "from xgboost import XGBClassifier\n",
    "import numpy as np\n",
    "import matplotlib.pyplot as plt\n",
    "from matplotlib.colors import ListedColormap\n",
    "from sklearn.model_selection import train_test_split\n",
    "from sklearn.preprocessing import StandardScaler\n",
    "from sklearn.datasets import make_moons, make_circles, make_classification\n",
    "from sklearn.svm import SVC\n",
    "from sklearn.gaussian_process.kernels import RBF\n",
    "from sklearn.tree import DecisionTreeClassifier\n",
    "from sklearn.ensemble import RandomForestClassifier, AdaBoostClassifier\n",
    "from sklearn.discriminant_analysis import QuadraticDiscriminantAnalysis\n",
    "from sklearn.linear_model import LogisticRegression\n",
    "\n"
   ]
  },
  {
   "cell_type": "code",
   "execution_count": 3,
   "id": "81dd9763",
   "metadata": {},
   "outputs": [],
   "source": [
    "startdate = '2016-01-1'\n",
    "enddate= '2021-12-31'\n",
    "scaler = MinMaxScaler()"
   ]
  },
  {
   "cell_type": "code",
   "execution_count": 4,
   "id": "dcaed81f-a4c3-4908-808b-b4647707d732",
   "metadata": {},
   "outputs": [],
   "source": [
    "dji = pdr.get_data_yahoo('^DJI', start=startdate, end=enddate)\n",
    "dji_norm = pd.DataFrame(scaler.fit_transform(dji), columns=dji.columns)\n",
    "n225 = pdr.get_data_yahoo(\"^N225\", start=startdate, end=enddate)\n",
    "n225_norm = pd.DataFrame(scaler.fit_transform(n225), columns=n225.columns)\n",
    "hsi = pdr.get_data_yahoo(\"^HSI\", start=startdate, end=enddate)\n",
    "hsi_norm = pd.DataFrame(scaler.fit_transform(hsi), columns=hsi.columns)\n",
    "sse = pdr.get_data_yahoo(\"000001.SS\", start=startdate, end=enddate)\n",
    "sse_norm = pd.DataFrame(scaler.fit_transform(sse), columns=sse.columns)\n"
   ]
  },
  {
   "cell_type": "markdown",
   "id": "b4280033",
   "metadata": {
    "jp-MarkdownHeadingCollapsed": true,
    "tags": []
   },
   "source": [
    "<h1>Dow Jones Industrial Average</h1>"
   ]
  },
  {
   "cell_type": "markdown",
   "id": "e3c72e21",
   "metadata": {},
   "source": [
    "<h2>Feature Selection</h2>"
   ]
  },
  {
   "cell_type": "code",
   "execution_count": 5,
   "id": "0289786f",
   "metadata": {
    "tags": []
   },
   "outputs": [
    {
     "data": {
      "text/html": [
       "<div>\n",
       "<style scoped>\n",
       "    .dataframe tbody tr th:only-of-type {\n",
       "        vertical-align: middle;\n",
       "    }\n",
       "\n",
       "    .dataframe tbody tr th {\n",
       "        vertical-align: top;\n",
       "    }\n",
       "\n",
       "    .dataframe thead th {\n",
       "        text-align: right;\n",
       "    }\n",
       "</style>\n",
       "<table border=\"1\" class=\"dataframe\">\n",
       "  <thead>\n",
       "    <tr style=\"text-align: right;\">\n",
       "      <th></th>\n",
       "      <th>High</th>\n",
       "      <th>Low</th>\n",
       "      <th>Open</th>\n",
       "      <th>Close</th>\n",
       "      <th>Volume</th>\n",
       "      <th>Adj Close</th>\n",
       "      <th>Future Close</th>\n",
       "    </tr>\n",
       "    <tr>\n",
       "      <th>Date</th>\n",
       "      <th></th>\n",
       "      <th></th>\n",
       "      <th></th>\n",
       "      <th></th>\n",
       "      <th></th>\n",
       "      <th></th>\n",
       "      <th></th>\n",
       "    </tr>\n",
       "  </thead>\n",
       "  <tbody>\n",
       "    <tr>\n",
       "      <th>2015-12-31</th>\n",
       "      <td>17590.660156</td>\n",
       "      <td>17421.160156</td>\n",
       "      <td>17590.660156</td>\n",
       "      <td>17425.029297</td>\n",
       "      <td>93690000</td>\n",
       "      <td>17425.029297</td>\n",
       "      <td>17148.939453</td>\n",
       "    </tr>\n",
       "    <tr>\n",
       "      <th>2016-01-04</th>\n",
       "      <td>17405.480469</td>\n",
       "      <td>16957.630859</td>\n",
       "      <td>17405.480469</td>\n",
       "      <td>17148.939453</td>\n",
       "      <td>148060000</td>\n",
       "      <td>17148.939453</td>\n",
       "      <td>17158.660156</td>\n",
       "    </tr>\n",
       "    <tr>\n",
       "      <th>2016-01-05</th>\n",
       "      <td>17195.839844</td>\n",
       "      <td>17038.609375</td>\n",
       "      <td>17147.500000</td>\n",
       "      <td>17158.660156</td>\n",
       "      <td>105750000</td>\n",
       "      <td>17158.660156</td>\n",
       "      <td>16906.509766</td>\n",
       "    </tr>\n",
       "    <tr>\n",
       "      <th>2016-01-06</th>\n",
       "      <td>17154.830078</td>\n",
       "      <td>16817.619141</td>\n",
       "      <td>17154.830078</td>\n",
       "      <td>16906.509766</td>\n",
       "      <td>120250000</td>\n",
       "      <td>16906.509766</td>\n",
       "      <td>16514.099609</td>\n",
       "    </tr>\n",
       "    <tr>\n",
       "      <th>2016-01-07</th>\n",
       "      <td>16888.359375</td>\n",
       "      <td>16463.630859</td>\n",
       "      <td>16888.359375</td>\n",
       "      <td>16514.099609</td>\n",
       "      <td>176240000</td>\n",
       "      <td>16514.099609</td>\n",
       "      <td>16346.450195</td>\n",
       "    </tr>\n",
       "    <tr>\n",
       "      <th>...</th>\n",
       "      <td>...</td>\n",
       "      <td>...</td>\n",
       "      <td>...</td>\n",
       "      <td>...</td>\n",
       "      <td>...</td>\n",
       "      <td>...</td>\n",
       "      <td>...</td>\n",
       "    </tr>\n",
       "    <tr>\n",
       "      <th>2021-11-30</th>\n",
       "      <td>35056.988281</td>\n",
       "      <td>34424.441406</td>\n",
       "      <td>35056.988281</td>\n",
       "      <td>34483.718750</td>\n",
       "      <td>678800000</td>\n",
       "      <td>34483.718750</td>\n",
       "      <td>34022.039062</td>\n",
       "    </tr>\n",
       "    <tr>\n",
       "      <th>2021-12-01</th>\n",
       "      <td>35004.640625</td>\n",
       "      <td>34006.980469</td>\n",
       "      <td>34678.941406</td>\n",
       "      <td>34022.039062</td>\n",
       "      <td>496000000</td>\n",
       "      <td>34022.039062</td>\n",
       "      <td>34639.789062</td>\n",
       "    </tr>\n",
       "    <tr>\n",
       "      <th>2021-12-02</th>\n",
       "      <td>34759.648438</td>\n",
       "      <td>34076.250000</td>\n",
       "      <td>34076.250000</td>\n",
       "      <td>34639.789062</td>\n",
       "      <td>466900000</td>\n",
       "      <td>34639.789062</td>\n",
       "      <td>34580.078125</td>\n",
       "    </tr>\n",
       "    <tr>\n",
       "      <th>2021-12-03</th>\n",
       "      <td>34801.308594</td>\n",
       "      <td>34264.570312</td>\n",
       "      <td>34692.781250</td>\n",
       "      <td>34580.078125</td>\n",
       "      <td>439550000</td>\n",
       "      <td>34580.078125</td>\n",
       "      <td>34884.441406</td>\n",
       "    </tr>\n",
       "    <tr>\n",
       "      <th>2021-12-06</th>\n",
       "      <td>34892.218750</td>\n",
       "      <td>34633.429688</td>\n",
       "      <td>34633.429688</td>\n",
       "      <td>34884.441406</td>\n",
       "      <td>11752905</td>\n",
       "      <td>34884.441406</td>\n",
       "      <td>NaN</td>\n",
       "    </tr>\n",
       "  </tbody>\n",
       "</table>\n",
       "<p>1494 rows × 7 columns</p>\n",
       "</div>"
      ],
      "text/plain": [
       "                    High           Low          Open         Close     Volume  \\\n",
       "Date                                                                            \n",
       "2015-12-31  17590.660156  17421.160156  17590.660156  17425.029297   93690000   \n",
       "2016-01-04  17405.480469  16957.630859  17405.480469  17148.939453  148060000   \n",
       "2016-01-05  17195.839844  17038.609375  17147.500000  17158.660156  105750000   \n",
       "2016-01-06  17154.830078  16817.619141  17154.830078  16906.509766  120250000   \n",
       "2016-01-07  16888.359375  16463.630859  16888.359375  16514.099609  176240000   \n",
       "...                  ...           ...           ...           ...        ...   \n",
       "2021-11-30  35056.988281  34424.441406  35056.988281  34483.718750  678800000   \n",
       "2021-12-01  35004.640625  34006.980469  34678.941406  34022.039062  496000000   \n",
       "2021-12-02  34759.648438  34076.250000  34076.250000  34639.789062  466900000   \n",
       "2021-12-03  34801.308594  34264.570312  34692.781250  34580.078125  439550000   \n",
       "2021-12-06  34892.218750  34633.429688  34633.429688  34884.441406   11752905   \n",
       "\n",
       "               Adj Close  Future Close  \n",
       "Date                                    \n",
       "2015-12-31  17425.029297  17148.939453  \n",
       "2016-01-04  17148.939453  17158.660156  \n",
       "2016-01-05  17158.660156  16906.509766  \n",
       "2016-01-06  16906.509766  16514.099609  \n",
       "2016-01-07  16514.099609  16346.450195  \n",
       "...                  ...           ...  \n",
       "2021-11-30  34483.718750  34022.039062  \n",
       "2021-12-01  34022.039062  34639.789062  \n",
       "2021-12-02  34639.789062  34580.078125  \n",
       "2021-12-03  34580.078125  34884.441406  \n",
       "2021-12-06  34884.441406           NaN  \n",
       "\n",
       "[1494 rows x 7 columns]"
      ]
     },
     "execution_count": 5,
     "metadata": {},
     "output_type": "execute_result"
    }
   ],
   "source": [
    "dji['Future Close'] = dji['Close'].shift(-1)\n",
    "dji"
   ]
  },
  {
   "cell_type": "code",
   "execution_count": 6,
   "id": "3123e9a7",
   "metadata": {},
   "outputs": [],
   "source": [
    "def computeTarget(present_price, future_price):\n",
    "    score = (( future_price - present_price ) / present_price ) * 100\n",
    "    target = []\n",
    "    for i in score:\n",
    "        if i > 0.01:\n",
    "            target.append(1)\n",
    "        elif i <= 0.01:\n",
    "            target.append(0)\n",
    "        else:\n",
    "            target.append(0)\n",
    "    return target\n",
    "# 1 = up, 0 = down"
   ]
  },
  {
   "cell_type": "code",
   "execution_count": 7,
   "id": "b029de59",
   "metadata": {},
   "outputs": [],
   "source": [
    "\n",
    "target = computeTarget(dji['Close'], dji['Future Close'])\n",
    "\n",
    "dji['Target'] = target\n"
   ]
  },
  {
   "cell_type": "code",
   "execution_count": 8,
   "id": "ead8e0e8-fc6a-4772-8f0b-5bec6abac5c8",
   "metadata": {},
   "outputs": [],
   "source": [
    "close = dji['Close']\n",
    "high = dji['High']\n",
    "low = dji['Low']\n",
    "open = dji['Open']\n",
    "volume  = dji['Volume']"
   ]
  },
  {
   "cell_type": "code",
   "execution_count": 9,
   "id": "a43f2f7d-15b4-435d-a133-cccb77d6f831",
   "metadata": {},
   "outputs": [
    {
     "data": {
      "text/html": [
       "<div>\n",
       "<style scoped>\n",
       "    .dataframe tbody tr th:only-of-type {\n",
       "        vertical-align: middle;\n",
       "    }\n",
       "\n",
       "    .dataframe tbody tr th {\n",
       "        vertical-align: top;\n",
       "    }\n",
       "\n",
       "    .dataframe thead th {\n",
       "        text-align: right;\n",
       "    }\n",
       "</style>\n",
       "<table border=\"1\" class=\"dataframe\">\n",
       "  <thead>\n",
       "    <tr style=\"text-align: right;\">\n",
       "      <th></th>\n",
       "      <th>SMA20</th>\n",
       "      <th>SMA50</th>\n",
       "      <th>SMA200</th>\n",
       "      <th>EMA</th>\n",
       "      <th>OBV</th>\n",
       "      <th>RSI14</th>\n",
       "      <th>ADX</th>\n",
       "      <th>ADXR</th>\n",
       "      <th>aroondown</th>\n",
       "      <th>aroonup</th>\n",
       "      <th>...</th>\n",
       "      <th>slowk</th>\n",
       "      <th>slowd</th>\n",
       "      <th>fastk</th>\n",
       "      <th>fastd</th>\n",
       "      <th>TRIX</th>\n",
       "      <th>ULTOSC</th>\n",
       "      <th>WILLR</th>\n",
       "      <th>Target</th>\n",
       "      <th>Close</th>\n",
       "      <th>Re Target</th>\n",
       "    </tr>\n",
       "    <tr>\n",
       "      <th>Date</th>\n",
       "      <th></th>\n",
       "      <th></th>\n",
       "      <th></th>\n",
       "      <th></th>\n",
       "      <th></th>\n",
       "      <th></th>\n",
       "      <th></th>\n",
       "      <th></th>\n",
       "      <th></th>\n",
       "      <th></th>\n",
       "      <th></th>\n",
       "      <th></th>\n",
       "      <th></th>\n",
       "      <th></th>\n",
       "      <th></th>\n",
       "      <th></th>\n",
       "      <th></th>\n",
       "      <th></th>\n",
       "      <th></th>\n",
       "      <th></th>\n",
       "      <th></th>\n",
       "    </tr>\n",
       "  </thead>\n",
       "  <tbody>\n",
       "    <tr>\n",
       "      <th>2015-12-31</th>\n",
       "      <td>NaN</td>\n",
       "      <td>NaN</td>\n",
       "      <td>NaN</td>\n",
       "      <td>NaN</td>\n",
       "      <td>9.369000e+07</td>\n",
       "      <td>NaN</td>\n",
       "      <td>NaN</td>\n",
       "      <td>NaN</td>\n",
       "      <td>NaN</td>\n",
       "      <td>NaN</td>\n",
       "      <td>...</td>\n",
       "      <td>NaN</td>\n",
       "      <td>NaN</td>\n",
       "      <td>NaN</td>\n",
       "      <td>NaN</td>\n",
       "      <td>NaN</td>\n",
       "      <td>NaN</td>\n",
       "      <td>NaN</td>\n",
       "      <td>0</td>\n",
       "      <td>17425.029297</td>\n",
       "      <td>17148.939453</td>\n",
       "    </tr>\n",
       "    <tr>\n",
       "      <th>2016-01-04</th>\n",
       "      <td>NaN</td>\n",
       "      <td>NaN</td>\n",
       "      <td>NaN</td>\n",
       "      <td>NaN</td>\n",
       "      <td>-5.437000e+07</td>\n",
       "      <td>NaN</td>\n",
       "      <td>NaN</td>\n",
       "      <td>NaN</td>\n",
       "      <td>NaN</td>\n",
       "      <td>NaN</td>\n",
       "      <td>...</td>\n",
       "      <td>NaN</td>\n",
       "      <td>NaN</td>\n",
       "      <td>NaN</td>\n",
       "      <td>NaN</td>\n",
       "      <td>NaN</td>\n",
       "      <td>NaN</td>\n",
       "      <td>NaN</td>\n",
       "      <td>1</td>\n",
       "      <td>17148.939453</td>\n",
       "      <td>17158.660156</td>\n",
       "    </tr>\n",
       "    <tr>\n",
       "      <th>2016-01-05</th>\n",
       "      <td>NaN</td>\n",
       "      <td>NaN</td>\n",
       "      <td>NaN</td>\n",
       "      <td>NaN</td>\n",
       "      <td>5.138000e+07</td>\n",
       "      <td>NaN</td>\n",
       "      <td>NaN</td>\n",
       "      <td>NaN</td>\n",
       "      <td>NaN</td>\n",
       "      <td>NaN</td>\n",
       "      <td>...</td>\n",
       "      <td>NaN</td>\n",
       "      <td>NaN</td>\n",
       "      <td>NaN</td>\n",
       "      <td>NaN</td>\n",
       "      <td>NaN</td>\n",
       "      <td>NaN</td>\n",
       "      <td>NaN</td>\n",
       "      <td>0</td>\n",
       "      <td>17158.660156</td>\n",
       "      <td>16906.509766</td>\n",
       "    </tr>\n",
       "    <tr>\n",
       "      <th>2016-01-06</th>\n",
       "      <td>NaN</td>\n",
       "      <td>NaN</td>\n",
       "      <td>NaN</td>\n",
       "      <td>NaN</td>\n",
       "      <td>-6.887000e+07</td>\n",
       "      <td>NaN</td>\n",
       "      <td>NaN</td>\n",
       "      <td>NaN</td>\n",
       "      <td>NaN</td>\n",
       "      <td>NaN</td>\n",
       "      <td>...</td>\n",
       "      <td>NaN</td>\n",
       "      <td>NaN</td>\n",
       "      <td>NaN</td>\n",
       "      <td>NaN</td>\n",
       "      <td>NaN</td>\n",
       "      <td>NaN</td>\n",
       "      <td>NaN</td>\n",
       "      <td>0</td>\n",
       "      <td>16906.509766</td>\n",
       "      <td>16514.099609</td>\n",
       "    </tr>\n",
       "    <tr>\n",
       "      <th>2016-01-07</th>\n",
       "      <td>NaN</td>\n",
       "      <td>NaN</td>\n",
       "      <td>NaN</td>\n",
       "      <td>NaN</td>\n",
       "      <td>-2.451100e+08</td>\n",
       "      <td>NaN</td>\n",
       "      <td>NaN</td>\n",
       "      <td>NaN</td>\n",
       "      <td>NaN</td>\n",
       "      <td>NaN</td>\n",
       "      <td>...</td>\n",
       "      <td>NaN</td>\n",
       "      <td>NaN</td>\n",
       "      <td>NaN</td>\n",
       "      <td>NaN</td>\n",
       "      <td>NaN</td>\n",
       "      <td>NaN</td>\n",
       "      <td>NaN</td>\n",
       "      <td>0</td>\n",
       "      <td>16514.099609</td>\n",
       "      <td>16346.450195</td>\n",
       "    </tr>\n",
       "    <tr>\n",
       "      <th>...</th>\n",
       "      <td>...</td>\n",
       "      <td>...</td>\n",
       "      <td>...</td>\n",
       "      <td>...</td>\n",
       "      <td>...</td>\n",
       "      <td>...</td>\n",
       "      <td>...</td>\n",
       "      <td>...</td>\n",
       "      <td>...</td>\n",
       "      <td>...</td>\n",
       "      <td>...</td>\n",
       "      <td>...</td>\n",
       "      <td>...</td>\n",
       "      <td>...</td>\n",
       "      <td>...</td>\n",
       "      <td>...</td>\n",
       "      <td>...</td>\n",
       "      <td>...</td>\n",
       "      <td>...</td>\n",
       "      <td>...</td>\n",
       "      <td>...</td>\n",
       "    </tr>\n",
       "    <tr>\n",
       "      <th>2021-11-30</th>\n",
       "      <td>35845.307227</td>\n",
       "      <td>35282.616797</td>\n",
       "      <td>34348.898145</td>\n",
       "      <td>35501.413927</td>\n",
       "      <td>3.942757e+10</td>\n",
       "      <td>31.663054</td>\n",
       "      <td>23.173511</td>\n",
       "      <td>24.323333</td>\n",
       "      <td>100.000000</td>\n",
       "      <td>0.000000</td>\n",
       "      <td>...</td>\n",
       "      <td>16.528354</td>\n",
       "      <td>31.024955</td>\n",
       "      <td>4.183068</td>\n",
       "      <td>16.528354</td>\n",
       "      <td>0.056232</td>\n",
       "      <td>32.270423</td>\n",
       "      <td>-96.916121</td>\n",
       "      <td>0</td>\n",
       "      <td>34483.718750</td>\n",
       "      <td>34022.039062</td>\n",
       "    </tr>\n",
       "    <tr>\n",
       "      <th>2021-12-01</th>\n",
       "      <td>35743.777734</td>\n",
       "      <td>35284.660781</td>\n",
       "      <td>34360.943242</td>\n",
       "      <td>35304.163945</td>\n",
       "      <td>3.893157e+10</td>\n",
       "      <td>27.377423</td>\n",
       "      <td>25.744965</td>\n",
       "      <td>25.230877</td>\n",
       "      <td>100.000000</td>\n",
       "      <td>0.000000</td>\n",
       "      <td>...</td>\n",
       "      <td>12.579611</td>\n",
       "      <td>21.838442</td>\n",
       "      <td>0.828083</td>\n",
       "      <td>12.579611</td>\n",
       "      <td>0.053016</td>\n",
       "      <td>26.865407</td>\n",
       "      <td>-99.348008</td>\n",
       "      <td>1</td>\n",
       "      <td>34022.039062</td>\n",
       "      <td>34639.789062</td>\n",
       "    </tr>\n",
       "    <tr>\n",
       "      <th>2021-12-02</th>\n",
       "      <td>35667.888281</td>\n",
       "      <td>35292.290156</td>\n",
       "      <td>34376.675488</td>\n",
       "      <td>35215.580628</td>\n",
       "      <td>3.939847e+10</td>\n",
       "      <td>39.229887</td>\n",
       "      <td>28.132745</td>\n",
       "      <td>26.137370</td>\n",
       "      <td>92.857143</td>\n",
       "      <td>21.428571</td>\n",
       "      <td>...</td>\n",
       "      <td>17.183696</td>\n",
       "      <td>15.430554</td>\n",
       "      <td>46.539936</td>\n",
       "      <td>17.183696</td>\n",
       "      <td>0.049360</td>\n",
       "      <td>35.869221</td>\n",
       "      <td>-72.601287</td>\n",
       "      <td>0</td>\n",
       "      <td>34639.789062</td>\n",
       "      <td>34580.078125</td>\n",
       "    </tr>\n",
       "    <tr>\n",
       "      <th>2021-12-03</th>\n",
       "      <td>35590.680664</td>\n",
       "      <td>35288.595313</td>\n",
       "      <td>34392.104277</td>\n",
       "      <td>35130.846961</td>\n",
       "      <td>3.895892e+10</td>\n",
       "      <td>38.574552</td>\n",
       "      <td>30.153469</td>\n",
       "      <td>27.024315</td>\n",
       "      <td>85.714286</td>\n",
       "      <td>14.285714</td>\n",
       "      <td>...</td>\n",
       "      <td>30.702926</td>\n",
       "      <td>20.155411</td>\n",
       "      <td>44.740758</td>\n",
       "      <td>30.702926</td>\n",
       "      <td>0.045330</td>\n",
       "      <td>35.581343</td>\n",
       "      <td>-75.186591</td>\n",
       "      <td>1</td>\n",
       "      <td>34580.078125</td>\n",
       "      <td>34884.441406</td>\n",
       "    </tr>\n",
       "    <tr>\n",
       "      <th>2021-12-06</th>\n",
       "      <td>35518.505273</td>\n",
       "      <td>35290.324141</td>\n",
       "      <td>34408.918037</td>\n",
       "      <td>35097.992887</td>\n",
       "      <td>3.897067e+10</td>\n",
       "      <td>43.734136</td>\n",
       "      <td>31.593767</td>\n",
       "      <td>27.757718</td>\n",
       "      <td>78.571429</td>\n",
       "      <td>7.142857</td>\n",
       "      <td>...</td>\n",
       "      <td>58.282593</td>\n",
       "      <td>35.389738</td>\n",
       "      <td>83.567087</td>\n",
       "      <td>58.282593</td>\n",
       "      <td>0.041262</td>\n",
       "      <td>37.558191</td>\n",
       "      <td>-62.008575</td>\n",
       "      <td>0</td>\n",
       "      <td>34884.441406</td>\n",
       "      <td>NaN</td>\n",
       "    </tr>\n",
       "  </tbody>\n",
       "</table>\n",
       "<p>1494 rows × 40 columns</p>\n",
       "</div>"
      ],
      "text/plain": [
       "                   SMA20         SMA50        SMA200           EMA  \\\n",
       "Date                                                                 \n",
       "2015-12-31           NaN           NaN           NaN           NaN   \n",
       "2016-01-04           NaN           NaN           NaN           NaN   \n",
       "2016-01-05           NaN           NaN           NaN           NaN   \n",
       "2016-01-06           NaN           NaN           NaN           NaN   \n",
       "2016-01-07           NaN           NaN           NaN           NaN   \n",
       "...                  ...           ...           ...           ...   \n",
       "2021-11-30  35845.307227  35282.616797  34348.898145  35501.413927   \n",
       "2021-12-01  35743.777734  35284.660781  34360.943242  35304.163945   \n",
       "2021-12-02  35667.888281  35292.290156  34376.675488  35215.580628   \n",
       "2021-12-03  35590.680664  35288.595313  34392.104277  35130.846961   \n",
       "2021-12-06  35518.505273  35290.324141  34408.918037  35097.992887   \n",
       "\n",
       "                     OBV      RSI14        ADX       ADXR   aroondown  \\\n",
       "Date                                                                    \n",
       "2015-12-31  9.369000e+07        NaN        NaN        NaN         NaN   \n",
       "2016-01-04 -5.437000e+07        NaN        NaN        NaN         NaN   \n",
       "2016-01-05  5.138000e+07        NaN        NaN        NaN         NaN   \n",
       "2016-01-06 -6.887000e+07        NaN        NaN        NaN         NaN   \n",
       "2016-01-07 -2.451100e+08        NaN        NaN        NaN         NaN   \n",
       "...                  ...        ...        ...        ...         ...   \n",
       "2021-11-30  3.942757e+10  31.663054  23.173511  24.323333  100.000000   \n",
       "2021-12-01  3.893157e+10  27.377423  25.744965  25.230877  100.000000   \n",
       "2021-12-02  3.939847e+10  39.229887  28.132745  26.137370   92.857143   \n",
       "2021-12-03  3.895892e+10  38.574552  30.153469  27.024315   85.714286   \n",
       "2021-12-06  3.897067e+10  43.734136  31.593767  27.757718   78.571429   \n",
       "\n",
       "              aroonup  ...      slowk      slowd      fastk      fastd  \\\n",
       "Date                   ...                                               \n",
       "2015-12-31        NaN  ...        NaN        NaN        NaN        NaN   \n",
       "2016-01-04        NaN  ...        NaN        NaN        NaN        NaN   \n",
       "2016-01-05        NaN  ...        NaN        NaN        NaN        NaN   \n",
       "2016-01-06        NaN  ...        NaN        NaN        NaN        NaN   \n",
       "2016-01-07        NaN  ...        NaN        NaN        NaN        NaN   \n",
       "...               ...  ...        ...        ...        ...        ...   \n",
       "2021-11-30   0.000000  ...  16.528354  31.024955   4.183068  16.528354   \n",
       "2021-12-01   0.000000  ...  12.579611  21.838442   0.828083  12.579611   \n",
       "2021-12-02  21.428571  ...  17.183696  15.430554  46.539936  17.183696   \n",
       "2021-12-03  14.285714  ...  30.702926  20.155411  44.740758  30.702926   \n",
       "2021-12-06   7.142857  ...  58.282593  35.389738  83.567087  58.282593   \n",
       "\n",
       "                TRIX     ULTOSC      WILLR  Target         Close     Re Target  \n",
       "Date                                                                            \n",
       "2015-12-31       NaN        NaN        NaN       0  17425.029297  17148.939453  \n",
       "2016-01-04       NaN        NaN        NaN       1  17148.939453  17158.660156  \n",
       "2016-01-05       NaN        NaN        NaN       0  17158.660156  16906.509766  \n",
       "2016-01-06       NaN        NaN        NaN       0  16906.509766  16514.099609  \n",
       "2016-01-07       NaN        NaN        NaN       0  16514.099609  16346.450195  \n",
       "...              ...        ...        ...     ...           ...           ...  \n",
       "2021-11-30  0.056232  32.270423 -96.916121       0  34483.718750  34022.039062  \n",
       "2021-12-01  0.053016  26.865407 -99.348008       1  34022.039062  34639.789062  \n",
       "2021-12-02  0.049360  35.869221 -72.601287       0  34639.789062  34580.078125  \n",
       "2021-12-03  0.045330  35.581343 -75.186591       1  34580.078125  34884.441406  \n",
       "2021-12-06  0.041262  37.558191 -62.008575       0  34884.441406           NaN  \n",
       "\n",
       "[1494 rows x 40 columns]"
      ]
     },
     "execution_count": 9,
     "metadata": {},
     "output_type": "execute_result"
    }
   ],
   "source": [
    "dji_ti = pd.DataFrame()\n",
    "dji_ti['SMA20'] = talib.SMA(close, timeperiod=20)\n",
    "dji_ti['SMA50'] = talib.SMA(close, timeperiod=50)\n",
    "dji_ti['SMA200'] = talib.SMA(close, timeperiod=200)\n",
    "dji_ti['EMA'] = talib.EMA(close, timeperiod=14)\n",
    "dji_ti['OBV'] = talib.OBV(close, volume)\n",
    "dji_ti['RSI14'] = talib.RSI(close, timeperiod=14)\n",
    "dji_ti['ADX'] = talib.ADX(high, low, close, timeperiod=14)\n",
    "dji_ti['ADXR'] = talib.ADXR(high, low, close, timeperiod=14)\n",
    "dji_ti['aroondown'], dji_ti['aroonup'] = talib.AROON(high, low, timeperiod=14)\n",
    "dji_ti['APO'] = talib.APO(close, fastperiod=12, slowperiod=26, matype=0)\n",
    "dji_ti['AROONOSC'] = talib.AROONOSC(high, low, timeperiod=14)\n",
    "dji_ti['BOP'] = talib.BOP(open, high, low, close)\n",
    "dji_ti['CCI'] = talib.CCI(high, low, close, timeperiod=14)\n",
    "dji_ti['CMO'] = talib.CMO(close, timeperiod=14)\n",
    "dji_ti['DX'] = talib.DX(high, low, close, timeperiod=14)\n",
    "dji_ti['macd'],dji_ti['macdsignal'],dji_ti['macdhist'] = talib.MACD(close, fastperiod = 12, slowperiod=26, signalperiod=9)\n",
    "dji_ti['MFI'] = talib.MFI(high, low, close, volume, timeperiod=14)\n",
    "dji_ti['MINUS_DI'] = talib.MINUS_DI(high, low, close, timeperiod=14)\n",
    "dji_ti['MINUS_DM'] = talib.MINUS_DM(high, low, timeperiod=14)\n",
    "dji_ti['MOM'] = talib.MOM(close, timeperiod=14)\n",
    "dji_ti['PLUS_DI'] = talib.PLUS_DI(high, low, close, timeperiod=14)\n",
    "dji_ti['PLUS_DM'] = talib.PLUS_DM(high, low, timeperiod=14)\n",
    "dji_ti['PPO'] = talib.PPO(close, fastperiod=12, slowperiod=26, matype=0)\n",
    "dji_ti['ROC'] = talib.ROC(close, timeperiod=10)\n",
    "dji_ti['ROCP'] = talib.ROCP(close, timeperiod=10)\n",
    "dji_ti['ROCR'] = talib.ROCR(close, timeperiod=10)\n",
    "dji_ti['ROCR100'] = talib.ROCR100(close, timeperiod=10)\n",
    "dji_ti['slowk'], dji_ti['slowd'] = talib.STOCH(high, low, close, fastk_period=5, slowk_period=3, slowd_period=3, slowd_matype=0)\n",
    "dji_ti['fastk'], dji_ti['fastd'] = talib.STOCHF(high, low, close, fastk_period=5, fastd_period=3, fastd_matype=0)\n",
    "dji_ti['TRIX'] = talib.TRIX(close, timeperiod=30)\n",
    "dji_ti['ULTOSC'] = talib.ULTOSC(high, low, close, timeperiod1=7, timeperiod2=14, timeperiod3=28)\n",
    "dji_ti['WILLR'] = talib.WILLR(high, low, close, timeperiod=14)\n",
    "dji_ti['Target'] = dji['Target']\n",
    "dji_ti['Close'] = dji['Close']\n",
    "dji_ti['Re Target'] = dji['Future Close']\n",
    "dji_ti"
   ]
  },
  {
   "cell_type": "code",
   "execution_count": 10,
   "id": "d7150c71",
   "metadata": {},
   "outputs": [],
   "source": [
    "dji_target = dji_ti.tail(1)\n",
    "dji_target\n",
    "dji_ti = dji_ti.dropna()"
   ]
  },
  {
   "cell_type": "code",
   "execution_count": 11,
   "id": "73f9722b",
   "metadata": {},
   "outputs": [],
   "source": [
    "def selectFeatures(df, target):\n",
    "    #Split the features and target data\n",
    "    #select the first 13 columns as features\n",
    "    X = df.drop(target, axis=1)  # Feature Matrix\n",
    "    #Select the last column for target \n",
    "    Y = df[target]               # Target Variable\n",
    "\n",
    "    #Build a logistic regression model \n",
    "    model = LinearRegression()\n",
    "    #Define RFE \n",
    "    rfe = RFE(model)\n",
    "    #Use RFE to select the top 5 features \n",
    "    fit = rfe.fit(X, Y)\n",
    "\n",
    "    #Create a dataframe for the results \n",
    "    df_RFE_results = []\n",
    "    for i in range(X.shape[1]):\n",
    "        df_RFE_results.append(\n",
    "            {      \n",
    "                'Feature_names': X.columns[i],\n",
    "                'Selected':  rfe.support_[i],\n",
    "                'RFE_ranking':  rfe.ranking_[i],\n",
    "            }\n",
    "        )\n",
    "\n",
    "    df_RFE_results = pd.DataFrame(df_RFE_results)\n",
    "    df_RFE_results.index.name='Columns'\n",
    "    ti = []\n",
    "    for index, row in df_RFE_results.iterrows():\n",
    "        if row['Selected'] == True:\n",
    "            ti.append(row['Feature_names']) \n",
    "    return ti"
   ]
  },
  {
   "cell_type": "code",
   "execution_count": 12,
   "id": "be486c26",
   "metadata": {},
   "outputs": [
    {
     "data": {
      "text/plain": [
       "['ADX',\n",
       " 'ADXR',\n",
       " 'aroondown',\n",
       " 'APO',\n",
       " 'BOP',\n",
       " 'CMO',\n",
       " 'DX',\n",
       " 'MFI',\n",
       " 'MINUS_DI',\n",
       " 'PLUS_DI',\n",
       " 'PPO',\n",
       " 'ROC',\n",
       " 'ROCR100',\n",
       " 'slowd',\n",
       " 'TRIX',\n",
       " 'ULTOSC',\n",
       " 'WILLR']"
      ]
     },
     "execution_count": 12,
     "metadata": {},
     "output_type": "execute_result"
    }
   ],
   "source": [
    "dji_features = selectFeatures(dji_ti,'Target')\n",
    "dji_features.remove('Re Target')\n",
    "dji_features.remove('Close')\n",
    "dji_features"
   ]
  },
  {
   "cell_type": "code",
   "execution_count": 13,
   "id": "bf8b7288-39a2-459a-a648-3a864c51f0e7",
   "metadata": {},
   "outputs": [],
   "source": [
    "from sklearn.model_selection import train_test_split\n",
    "X = dji_ti.loc[:, dji_features].values\n",
    "#X = dji_ti.loc[:, ['CCI', 'DX', 'MINUS_DI', 'PLUS_DM', 'slowd']].values\n",
    "y = dji_ti.loc[:, ['Target']].values\n",
    "X_train, X_test, y_train, y_test = train_test_split(X, y, test_size=0.2, random_state=0)\n"
   ]
  },
  {
   "cell_type": "code",
   "execution_count": 14,
   "id": "3b537f27",
   "metadata": {},
   "outputs": [],
   "source": [
    "from sklearn.preprocessing import StandardScaler\n",
    "sc = StandardScaler()\n",
    "X_train = sc.fit_transform(X_train)\n",
    "X_test = sc.transform(X_test)"
   ]
  },
  {
   "cell_type": "code",
   "execution_count": 15,
   "id": "7838cd30",
   "metadata": {},
   "outputs": [],
   "source": [
    "# def visualize(title, xlabel, ylabel, classifier, X_test, y_test):\n",
    "#     X_set, y_set = X_test, y_test\n",
    "#     X1, X2 = np.meshgrid(np.arange(start = X_set[:, 0].min() - 1, stop = X_set[:, 0].max() + 1, step = 0.01),\n",
    "#                          np.arange(start = X_set[:, 1].min() - 1, stop = X_set[:, 1].max() + 1, step = 0.01))\n",
    "#     plt.contourf(X1, X2, classifier.predict(np.array([X1.ravel(), X2.ravel()]).T).reshape(X1.shape),\n",
    "#                  alpha = 0.75, cmap = ListedColormap(('lightblue', 'cornsilk')))\n",
    "#     plt.xlim(X1.min(), X1.max())\n",
    "#     plt.ylim(X2.min(), X2.max())\n",
    "\n",
    "#     for i, j in enumerate(np.unique(y_set)):\n",
    "#         plt.scatter(X_set[y_set == j, 0], X_set[y_set == j, 1], label = j)\n",
    "\n",
    "#     plt.title(title)\n",
    "#     plt.xlabel(xlabel)\n",
    "#     plt.ylabel(ylabel)\n",
    "#     plt.legend()\n",
    "#     plt.show()"
   ]
  },
  {
   "cell_type": "markdown",
   "id": "6dbda3d5",
   "metadata": {
    "jp-MarkdownHeadingCollapsed": true,
    "tags": []
   },
   "source": [
    "<h2>Decision Tree</h2>"
   ]
  },
  {
   "cell_type": "code",
   "execution_count": 16,
   "id": "3aeac4b9",
   "metadata": {},
   "outputs": [
    {
     "data": {
      "text/plain": [
       "DecisionTreeClassifier()"
      ]
     },
     "execution_count": 16,
     "metadata": {},
     "output_type": "execute_result"
    }
   ],
   "source": [
    "# Decision Tree Classifier: Create and Train the model\n",
    "#\n",
    "from sklearn.tree import DecisionTreeClassifier\n",
    "\n",
    "dtc = DecisionTreeClassifier()\n",
    "dtc.fit(X_train, y_train)"
   ]
  },
  {
   "cell_type": "code",
   "execution_count": 17,
   "id": "ee75644e",
   "metadata": {},
   "outputs": [
    {
     "data": {
      "text/plain": [
       "array([1, 1, 1, 0, 0, 1, 1, 1, 0, 0, 1, 1, 0, 1, 0, 0, 0, 0, 1, 0, 1, 1,\n",
       "       1, 1, 0, 1, 1, 1, 0, 1, 1, 0, 0, 1, 1, 0, 1, 0, 1, 0, 1, 0, 0, 0,\n",
       "       1, 0, 0, 0, 0, 1, 0, 1, 1, 0, 1, 1, 1, 1, 0, 0, 0, 1, 1, 1, 0, 0,\n",
       "       1, 1, 1, 1, 0, 0, 0, 0, 1, 0, 0, 1, 0, 1, 1, 1, 0, 0, 1, 1, 1, 1,\n",
       "       0, 1, 0, 0, 0, 1, 0, 0, 0, 1, 0, 0, 0, 1, 1, 1, 0, 0, 0, 0, 1, 1,\n",
       "       0, 1, 1, 0, 0, 1, 0, 0, 0, 1, 1, 0, 0, 1, 1, 0, 0, 0, 1, 1, 0, 0,\n",
       "       1, 0, 0, 1, 1, 1, 1, 1, 1, 0, 0, 0, 0, 0, 1, 1, 0, 0, 0, 0, 1, 0,\n",
       "       0, 1, 1, 1, 0, 1, 0, 1, 0, 0, 1, 1, 0, 1, 1, 1, 1, 0, 1, 1, 0, 0,\n",
       "       1, 1, 0, 0, 0, 1, 1, 1, 1, 0, 1, 1, 0, 1, 0, 1, 1, 1, 0, 0, 0, 1,\n",
       "       0, 0, 1, 0, 1, 0, 1, 0, 1, 0, 0, 1, 1, 1, 1, 0, 1, 1, 0, 1, 1, 0,\n",
       "       0, 1, 0, 1, 0, 0, 0, 0, 0, 0, 1, 0, 0, 1, 0, 1, 1, 0, 1, 0, 0, 1,\n",
       "       1, 0, 1, 1, 1, 1, 1, 1, 0, 1, 1, 1, 1, 1, 0, 0, 1], dtype=int64)"
      ]
     },
     "execution_count": 17,
     "metadata": {},
     "output_type": "execute_result"
    }
   ],
   "source": [
    "# Prediction\n",
    "#\n",
    "y_pred = dtc.predict(X_test)  #Accuracy\n",
    "y_pred"
   ]
  },
  {
   "cell_type": "code",
   "execution_count": 18,
   "id": "aa94329e",
   "metadata": {},
   "outputs": [],
   "source": [
    "# Look at the actual y_test\n",
    "#\n",
    "#y_test\n"
   ]
  },
  {
   "cell_type": "code",
   "execution_count": 19,
   "id": "8af94b63",
   "metadata": {},
   "outputs": [],
   "source": [
    "from sklearn import metrics\n",
    "cla = \"classification\"\n",
    "reg = \"regression\"\n",
    "def evaluate(task, y_test, y_pred):\n",
    "    evaluate = []\n",
    "    if task == cla:\n",
    "        evaluate.append(metrics.accuracy_score(y_test, y_pred))\n",
    "        evaluate.append(metrics.confusion_matrix(y_test, y_pred))\n",
    "        evaluate.append(metrics.f1_score(y_test, y_pred))\n",
    "        evaluate.append(metrics.precision_score(y_test, y_pred))\n",
    "        evaluate.append(metrics.recall_score(y_test, y_pred))\n",
    "        evaluate.append(metrics.roc_auc_score(y_test, y_pred))\n",
    "    elif task == reg:\n",
    "        evaluate.append(metrics.mean_squared_error(y_test, y_pred, squared=False))\n",
    "        evaluate.append(metrics.r2_score(y_test, y_pred))\n",
    "    return evaluate\n"
   ]
  },
  {
   "cell_type": "code",
   "execution_count": 20,
   "id": "7b596a4b",
   "metadata": {},
   "outputs": [],
   "source": [
    "def printEval(task, evaluation):\n",
    "    if task == cla:\n",
    "        print(\"Accuracy Score: \", evaluation[0])\n",
    "        print(\"Confusion Matrix: \\n\", evaluation[1])\n",
    "        print(\"F1 Score: \", evaluation[2])\n",
    "        print(\"Precision Score: \", evaluation[3])\n",
    "        print(\"Recall score: \", evaluation[4])\n",
    "        print(\"Area Under Curve score: \", evaluation[5])\n",
    "    elif task == reg:\n",
    "        print(\"Mean Squared Error: \", evaluation[0])\n",
    "        print(\"Adjusted R squared\", evaluation[1])"
   ]
  },
  {
   "cell_type": "code",
   "execution_count": 21,
   "id": "7fd1b6d4",
   "metadata": {},
   "outputs": [
    {
     "name": "stdout",
     "output_type": "stream",
     "text": [
      "Accuracy Score:  0.4826254826254826\n",
      "Confusion Matrix: \n",
      " [[46 55]\n",
      " [79 79]]\n",
      "F1 Score:  0.541095890410959\n",
      "Precision Score:  0.5895522388059702\n",
      "Recall score:  0.5\n",
      "Area Under Curve score:  0.4777227722772277\n"
     ]
    }
   ],
   "source": [
    "dctEval = evaluate(cla, y_test, y_pred)\n",
    "printEval(cla, dctEval)\n"
   ]
  },
  {
   "cell_type": "markdown",
   "id": "9c1bf7aa",
   "metadata": {
    "jp-MarkdownHeadingCollapsed": true,
    "tags": []
   },
   "source": [
    "<h2>Random Forest</h2>"
   ]
  },
  {
   "cell_type": "code",
   "execution_count": 22,
   "id": "9d384b69",
   "metadata": {},
   "outputs": [],
   "source": [
    "from sklearn.model_selection import train_test_split\n",
    "from sklearn.ensemble import RandomForestClassifier"
   ]
  },
  {
   "cell_type": "code",
   "execution_count": 23,
   "id": "7b9716bf",
   "metadata": {},
   "outputs": [
    {
     "name": "stderr",
     "output_type": "stream",
     "text": [
      "C:\\Users\\kjmoo\\AppData\\Local\\Temp/ipykernel_4256/3312196032.py:2: DataConversionWarning: A column-vector y was passed when a 1d array was expected. Please change the shape of y to (n_samples,), for example using ravel().\n",
      "  forest.fit(X_train, y_train)\n"
     ]
    },
    {
     "data": {
      "text/plain": [
       "RandomForestClassifier(max_depth=2, n_estimators=1000, random_state=42)"
      ]
     },
     "execution_count": 23,
     "metadata": {},
     "output_type": "execute_result"
    }
   ],
   "source": [
    "forest = RandomForestClassifier(n_estimators = 1000, random_state = 42, max_depth=2)\n",
    "forest.fit(X_train, y_train)"
   ]
  },
  {
   "cell_type": "code",
   "execution_count": 24,
   "id": "0e8eb315",
   "metadata": {},
   "outputs": [
    {
     "data": {
      "text/plain": [
       "array([1, 1, 1, 1, 1, 1, 1, 1, 1, 1, 1, 0, 1, 1, 1, 1, 1, 1, 1, 1, 1, 1,\n",
       "       1, 1, 1, 1, 1, 1, 1, 1, 1, 1, 1, 1, 1, 1, 1, 1, 1, 1, 1, 1, 1, 1,\n",
       "       1, 1, 1, 1, 1, 1, 1, 1, 1, 1, 1, 1, 1, 1, 1, 1, 1, 1, 1, 1, 1, 1,\n",
       "       1, 1, 1, 1, 1, 1, 1, 1, 0, 1, 1, 1, 1, 1, 1, 1, 1, 1, 1, 1, 1, 1,\n",
       "       1, 1, 1, 1, 1, 1, 1, 1, 1, 1, 1, 1, 1, 1, 1, 1, 1, 1, 1, 1, 1, 1,\n",
       "       1, 1, 1, 1, 1, 0, 1, 1, 1, 1, 1, 1, 1, 1, 1, 1, 1, 0, 1, 1, 1, 1,\n",
       "       1, 1, 1, 1, 1, 1, 1, 1, 1, 1, 1, 1, 1, 1, 1, 1, 1, 1, 1, 1, 1, 1,\n",
       "       1, 1, 0, 1, 1, 1, 1, 1, 1, 1, 1, 1, 1, 1, 1, 1, 1, 1, 1, 1, 1, 1,\n",
       "       1, 1, 1, 1, 1, 1, 1, 1, 1, 1, 1, 1, 1, 1, 1, 1, 1, 1, 1, 1, 1, 1,\n",
       "       1, 1, 1, 1, 1, 1, 1, 1, 0, 1, 1, 1, 1, 1, 1, 1, 1, 1, 1, 1, 0, 1,\n",
       "       1, 1, 1, 1, 1, 1, 1, 0, 1, 1, 1, 1, 1, 1, 1, 1, 1, 1, 1, 1, 1, 1,\n",
       "       1, 1, 1, 1, 1, 1, 1, 1, 1, 1, 1, 1, 1, 1, 1, 1, 1], dtype=int64)"
      ]
     },
     "execution_count": 24,
     "metadata": {},
     "output_type": "execute_result"
    }
   ],
   "source": [
    "# Prediction\n",
    "#\n",
    "y_pred = forest.predict(X_test)  #Accuracy\n",
    "y_pred"
   ]
  },
  {
   "cell_type": "code",
   "execution_count": 25,
   "id": "e607dcb3",
   "metadata": {},
   "outputs": [
    {
     "name": "stdout",
     "output_type": "stream",
     "text": [
      "Accuracy Score:  0.5945945945945946\n",
      "Confusion Matrix: \n",
      " [[  2  99]\n",
      " [  6 152]]\n",
      "F1 Score:  0.7432762836185819\n",
      "Precision Score:  0.6055776892430279\n",
      "Recall score:  0.9620253164556962\n",
      "Area Under Curve score:  0.490913648326858\n"
     ]
    }
   ],
   "source": [
    "forestEval = evaluate(cla, y_test, y_pred)\n",
    "printEval(cla, forestEval)"
   ]
  },
  {
   "cell_type": "markdown",
   "id": "74ff4474",
   "metadata": {
    "jp-MarkdownHeadingCollapsed": true,
    "tags": []
   },
   "source": [
    "<h2>Logistic Regression</h2>"
   ]
  },
  {
   "cell_type": "code",
   "execution_count": 26,
   "id": "6a6f35a4",
   "metadata": {},
   "outputs": [
    {
     "name": "stderr",
     "output_type": "stream",
     "text": [
      "C:\\Users\\kjmoo\\AppData\\Local\\Packages\\PythonSoftwareFoundation.Python.3.9_qbz5n2kfra8p0\\LocalCache\\local-packages\\Python39\\site-packages\\sklearn\\utils\\validation.py:985: DataConversionWarning: A column-vector y was passed when a 1d array was expected. Please change the shape of y to (n_samples, ), for example using ravel().\n",
      "  y = column_or_1d(y, warn=True)\n"
     ]
    },
    {
     "data": {
      "text/plain": [
       "LogisticRegression()"
      ]
     },
     "execution_count": 26,
     "metadata": {},
     "output_type": "execute_result"
    }
   ],
   "source": [
    "# Logistic Regression Classifier: Create and Train the model\n",
    "from sklearn.linear_model import LogisticRegression\n",
    "\n",
    "logistic = LogisticRegression()\n",
    "logistic.fit(X_train, y_train)"
   ]
  },
  {
   "cell_type": "code",
   "execution_count": 27,
   "id": "535841d8-5893-45f3-891b-618053c24660",
   "metadata": {},
   "outputs": [
    {
     "data": {
      "text/plain": [
       "array([1, 1, 0, 1, 1, 0, 1, 0, 1, 1, 1, 1, 1, 1, 1, 1, 1, 0, 1, 0, 1, 1,\n",
       "       1, 0, 0, 1, 1, 1, 1, 0, 1, 0, 1, 0, 1, 1, 1, 1, 1, 1, 1, 1, 1, 1,\n",
       "       1, 1, 1, 0, 0, 1, 1, 1, 0, 1, 1, 1, 1, 1, 1, 1, 1, 0, 1, 1, 0, 1,\n",
       "       1, 1, 1, 1, 0, 0, 1, 0, 0, 0, 1, 0, 1, 1, 1, 1, 1, 1, 1, 1, 1, 1,\n",
       "       0, 1, 1, 0, 1, 1, 1, 1, 1, 1, 1, 1, 0, 0, 1, 0, 1, 1, 0, 1, 1, 1,\n",
       "       1, 1, 1, 1, 1, 0, 1, 1, 1, 1, 0, 1, 1, 1, 0, 1, 1, 1, 0, 0, 1, 1,\n",
       "       1, 0, 1, 0, 1, 1, 1, 1, 1, 1, 1, 1, 1, 1, 0, 0, 1, 1, 0, 1, 1, 0,\n",
       "       1, 1, 1, 1, 1, 1, 1, 1, 1, 1, 0, 1, 0, 1, 1, 1, 0, 1, 1, 1, 1, 1,\n",
       "       1, 1, 1, 0, 0, 1, 1, 1, 0, 1, 1, 1, 1, 1, 1, 0, 0, 1, 1, 1, 1, 1,\n",
       "       0, 1, 1, 1, 0, 1, 1, 1, 0, 1, 1, 1, 1, 1, 0, 0, 1, 1, 1, 1, 1, 1,\n",
       "       1, 1, 1, 1, 1, 1, 1, 1, 1, 0, 1, 1, 1, 1, 1, 1, 1, 0, 1, 0, 1, 1,\n",
       "       0, 1, 1, 1, 1, 1, 1, 1, 0, 1, 1, 1, 1, 1, 1, 1, 1], dtype=int64)"
      ]
     },
     "execution_count": 27,
     "metadata": {},
     "output_type": "execute_result"
    }
   ],
   "source": [
    "# Prediction\n",
    "y_pred = logistic.predict(X_test)  #Accuracy\n",
    "y_pred"
   ]
  },
  {
   "cell_type": "code",
   "execution_count": 28,
   "id": "30e4cbae-537d-40fe-b664-59795e3bc000",
   "metadata": {},
   "outputs": [],
   "source": [
    "# Look at the actual y_test\n",
    "#y_test"
   ]
  },
  {
   "cell_type": "code",
   "execution_count": 29,
   "id": "9c82be98-9b66-47c3-b0d7-2653d37de054",
   "metadata": {},
   "outputs": [
    {
     "name": "stdout",
     "output_type": "stream",
     "text": [
      "Accuracy Score:  0.5945945945945946\n",
      "Confusion Matrix: \n",
      " [[ 26  75]\n",
      " [ 30 128]]\n",
      "F1 Score:  0.7091412742382271\n",
      "Precision Score:  0.6305418719211823\n",
      "Recall score:  0.810126582278481\n",
      "Area Under Curve score:  0.5337761624263692\n"
     ]
    }
   ],
   "source": [
    "logisticEval = evaluate(cla, y_test, y_pred)\n",
    "printEval(cla, logisticEval)"
   ]
  },
  {
   "cell_type": "markdown",
   "id": "c4994a04",
   "metadata": {
    "jp-MarkdownHeadingCollapsed": true,
    "tags": []
   },
   "source": [
    "<h2>XGBoost</h2>"
   ]
  },
  {
   "cell_type": "code",
   "execution_count": 30,
   "id": "1cff85bd",
   "metadata": {},
   "outputs": [
    {
     "name": "stderr",
     "output_type": "stream",
     "text": [
      "C:\\Users\\kjmoo\\AppData\\Local\\Packages\\PythonSoftwareFoundation.Python.3.9_qbz5n2kfra8p0\\LocalCache\\local-packages\\Python39\\site-packages\\xgboost\\sklearn.py:1224: UserWarning: The use of label encoder in XGBClassifier is deprecated and will be removed in a future release. To remove this warning, do the following: 1) Pass option use_label_encoder=False when constructing XGBClassifier object; and 2) Encode your labels (y) as integers starting with 0, i.e. 0, 1, 2, ..., [num_class - 1].\n",
      "  warnings.warn(label_encoder_deprecation_msg, UserWarning)\n",
      "C:\\Users\\kjmoo\\AppData\\Local\\Packages\\PythonSoftwareFoundation.Python.3.9_qbz5n2kfra8p0\\LocalCache\\local-packages\\Python39\\site-packages\\sklearn\\preprocessing\\_label.py:98: DataConversionWarning: A column-vector y was passed when a 1d array was expected. Please change the shape of y to (n_samples, ), for example using ravel().\n",
      "  y = column_or_1d(y, warn=True)\n",
      "C:\\Users\\kjmoo\\AppData\\Local\\Packages\\PythonSoftwareFoundation.Python.3.9_qbz5n2kfra8p0\\LocalCache\\local-packages\\Python39\\site-packages\\sklearn\\preprocessing\\_label.py:133: DataConversionWarning: A column-vector y was passed when a 1d array was expected. Please change the shape of y to (n_samples, ), for example using ravel().\n",
      "  y = column_or_1d(y, warn=True)\n"
     ]
    },
    {
     "name": "stdout",
     "output_type": "stream",
     "text": [
      "[21:30:34] WARNING: C:/Users/Administrator/workspace/xgboost-win64_release_1.5.1/src/learner.cc:1115: Starting in XGBoost 1.3.0, the default evaluation metric used with the objective 'binary:logistic' was changed from 'error' to 'logloss'. Explicitly set eval_metric if you'd like to restore the old behavior.\n"
     ]
    },
    {
     "data": {
      "text/plain": [
       "XGBClassifier(base_score=0.5, booster='gbtree', colsample_bylevel=1,\n",
       "              colsample_bynode=1, colsample_bytree=1, enable_categorical=False,\n",
       "              gamma=0, gpu_id=-1, importance_type=None,\n",
       "              interaction_constraints='', learning_rate=0.300000012,\n",
       "              max_delta_step=0, max_depth=6, min_child_weight=1, missing=nan,\n",
       "              monotone_constraints='()', n_estimators=100, n_jobs=16,\n",
       "              num_parallel_tree=1, predictor='auto', random_state=0,\n",
       "              reg_alpha=0, reg_lambda=1, scale_pos_weight=1, subsample=1,\n",
       "              tree_method='exact', validate_parameters=1, verbosity=None)"
      ]
     },
     "execution_count": 30,
     "metadata": {},
     "output_type": "execute_result"
    }
   ],
   "source": [
    "from xgboost import XGBClassifier\n",
    "from numpy import loadtxt\n",
    "from sklearn.metrics import accuracy_score\n",
    "\n",
    "xgb = XGBClassifier()\n",
    "xgb.fit(X_train, y_train)"
   ]
  },
  {
   "cell_type": "code",
   "execution_count": 31,
   "id": "f2cd9c16",
   "metadata": {
    "collapsed": true,
    "jupyter": {
     "outputs_hidden": true
    },
    "tags": []
   },
   "outputs": [
    {
     "data": {
      "text/plain": [
       "array([1, 0, 1, 1, 0, 1, 1, 1, 1, 1, 1, 0, 0, 1, 1, 0, 0, 0, 1, 0, 0, 0,\n",
       "       1, 0, 0, 1, 1, 1, 0, 1, 1, 0, 1, 1, 1, 1, 0, 1, 1, 1, 0, 0, 1, 0,\n",
       "       1, 1, 0, 1, 1, 0, 0, 1, 0, 0, 0, 1, 0, 0, 1, 0, 0, 1, 1, 1, 0, 0,\n",
       "       0, 1, 1, 1, 0, 0, 1, 0, 1, 1, 0, 0, 0, 1, 1, 1, 1, 1, 1, 1, 0, 1,\n",
       "       0, 0, 1, 0, 1, 1, 0, 0, 1, 1, 0, 0, 0, 0, 1, 1, 1, 0, 0, 1, 0, 1,\n",
       "       1, 1, 1, 0, 0, 1, 1, 0, 1, 0, 1, 0, 1, 1, 1, 0, 1, 0, 0, 1, 1, 0,\n",
       "       1, 0, 1, 0, 1, 1, 1, 0, 1, 1, 0, 0, 1, 1, 1, 0, 0, 1, 0, 0, 0, 1,\n",
       "       1, 0, 0, 1, 0, 0, 1, 1, 1, 1, 1, 1, 0, 0, 1, 0, 0, 1, 1, 1, 0, 0,\n",
       "       1, 0, 0, 0, 1, 1, 1, 1, 1, 0, 1, 0, 0, 1, 0, 1, 1, 1, 1, 0, 0, 1,\n",
       "       0, 1, 1, 1, 1, 1, 1, 0, 0, 1, 1, 0, 1, 1, 1, 1, 1, 0, 1, 0, 0, 0,\n",
       "       0, 0, 0, 1, 0, 0, 1, 0, 1, 0, 1, 1, 1, 1, 0, 1, 1, 0, 1, 0, 1, 0,\n",
       "       0, 1, 1, 1, 1, 0, 1, 1, 0, 1, 0, 1, 1, 1, 1, 0, 1], dtype=int64)"
      ]
     },
     "execution_count": 31,
     "metadata": {},
     "output_type": "execute_result"
    }
   ],
   "source": [
    "y_pred = xgb.predict(X_test)  #Accuracy\n",
    "y_pred"
   ]
  },
  {
   "cell_type": "code",
   "execution_count": 32,
   "id": "38835b80",
   "metadata": {
    "collapsed": true,
    "jupyter": {
     "outputs_hidden": true
    },
    "tags": []
   },
   "outputs": [],
   "source": [
    "#y_test"
   ]
  },
  {
   "cell_type": "code",
   "execution_count": 33,
   "id": "89b3011f",
   "metadata": {},
   "outputs": [
    {
     "name": "stdout",
     "output_type": "stream",
     "text": [
      "Accuracy Score:  0.5096525096525096\n",
      "Confusion Matrix: \n",
      " [[43 58]\n",
      " [69 89]]\n",
      "F1 Score:  0.5836065573770493\n",
      "Precision Score:  0.6054421768707483\n",
      "Recall score:  0.5632911392405063\n",
      "Area Under Curve score:  0.494516856748966\n"
     ]
    }
   ],
   "source": [
    "xgbEval = evaluate(cla, y_test, y_pred)\n",
    "printEval(cla, xgbEval)"
   ]
  },
  {
   "cell_type": "markdown",
   "id": "8201d2b2",
   "metadata": {
    "jp-MarkdownHeadingCollapsed": true,
    "tags": []
   },
   "source": [
    "<h2>Linear Regression</h2>"
   ]
  },
  {
   "cell_type": "code",
   "execution_count": 34,
   "metadata": {},
   "outputs": [
    {
     "name": "stderr",
     "output_type": "stream",
     "text": [
      "C:\\Users\\kjmoo\\AppData\\Local\\Temp/ipykernel_4256/935387594.py:1: SettingWithCopyWarning: \n",
      "A value is trying to be set on a copy of a slice from a DataFrame.\n",
      "Try using .loc[row_indexer,col_indexer] = value instead\n",
      "\n",
      "See the caveats in the documentation: https://pandas.pydata.org/pandas-docs/stable/user_guide/indexing.html#returning-a-view-versus-a-copy\n",
      "  dji_ti['Re Target'] = dji['Future Close']\n"
     ]
    }
   ],
   "source": [
    "dji_ti['Re Target'] = dji['Future Close']"
   ]
  },
  {
   "cell_type": "code",
   "execution_count": 35,
   "metadata": {},
   "outputs": [],
   "source": [
    "# dji_target = dji_ti.tail(1)\n",
    "# dji_target\n",
    "# dji_ti = dji_ti.dropna()"
   ]
  },
  {
   "cell_type": "code",
   "execution_count": 36,
   "id": "535d773e",
   "metadata": {},
   "outputs": [
    {
     "data": {
      "text/plain": [
       "['EMA',\n",
       " 'RSI14',\n",
       " 'ADXR',\n",
       " 'APO',\n",
       " 'BOP',\n",
       " 'CMO',\n",
       " 'DX',\n",
       " 'macdhist',\n",
       " 'MFI',\n",
       " 'MINUS_DI',\n",
       " 'PLUS_DI',\n",
       " 'PLUS_DM',\n",
       " 'PPO',\n",
       " 'slowd',\n",
       " 'fastk',\n",
       " 'TRIX',\n",
       " 'WILLR']"
      ]
     },
     "execution_count": 36,
     "metadata": {},
     "output_type": "execute_result"
    }
   ],
   "source": [
    "dji_refeatures = selectFeatures(dji_ti,'Re Target')\n",
    "dji_refeatures.remove('Target')\n",
    "dji_refeatures.remove('Close')\n",
    "dji_refeatures"
   ]
  },
  {
   "cell_type": "code",
   "execution_count": 37,
   "id": "55358ac3",
   "metadata": {},
   "outputs": [],
   "source": [
    "from sklearn.model_selection import train_test_split\n",
    "X = dji_ti.loc[:, dji_refeatures].values\n",
    "#X = dji_ti.loc[:, ['CCI', 'DX', 'MINUS_DI', 'PLUS_DM', 'slowd']].values\n",
    "y = dji_ti.loc[:, ['Re Target']].values\n",
    "X_train, X_test, y_train, y_test = train_test_split(X, y, test_size=0.2, random_state=0)\n"
   ]
  },
  {
   "cell_type": "code",
   "execution_count": 38,
   "id": "1b9f451c",
   "metadata": {},
   "outputs": [],
   "source": [
    "from sklearn.preprocessing import StandardScaler\n",
    "sc = StandardScaler()\n",
    "X_train = sc.fit_transform(X_train)\n",
    "X_test = sc.transform(X_test)"
   ]
  },
  {
   "cell_type": "code",
   "execution_count": 39,
   "id": "935df1cb",
   "metadata": {},
   "outputs": [],
   "source": [
    "from sklearn.linear_model import LinearRegression\n",
    "lr = LinearRegression(fit_intercept=True)\n",
    "from sklearn import metrics"
   ]
  },
  {
   "cell_type": "code",
   "execution_count": 40,
   "id": "d91be986",
   "metadata": {},
   "outputs": [
    {
     "data": {
      "text/plain": [
       "LinearRegression()"
      ]
     },
     "execution_count": 40,
     "metadata": {},
     "output_type": "execute_result"
    }
   ],
   "source": [
    "lr = LinearRegression()\n",
    "lr.fit(X_train, y_train)"
   ]
  },
  {
   "cell_type": "code",
   "execution_count": 41,
   "id": "50f7300b",
   "metadata": {
    "collapsed": true,
    "jupyter": {
     "outputs_hidden": true
    },
    "tags": []
   },
   "outputs": [
    {
     "name": "stdout",
     "output_type": "stream",
     "text": [
      "[[25501.88909252]\n",
      " [25955.03426158]\n",
      " [34383.60633301]\n",
      " [22498.59958836]\n",
      " [26740.62601199]\n",
      " [25599.41839309]\n",
      " [34988.95409387]\n",
      " [27903.47035205]\n",
      " [27937.28606953]\n",
      " [21552.2645956 ]\n",
      " [34068.3076324 ]\n",
      " [27052.08017083]\n",
      " [34196.39257534]\n",
      " [29762.89183249]\n",
      " [25396.96776325]\n",
      " [33956.58853736]\n",
      " [29112.58302746]\n",
      " [21822.88868816]\n",
      " [26431.50429022]\n",
      " [26594.53734206]\n",
      " [25380.90609068]\n",
      " [20056.74829933]\n",
      " [23684.39074066]\n",
      " [35535.83615093]\n",
      " [18059.93381803]\n",
      " [20993.40261819]\n",
      " [25797.9852743 ]\n",
      " [24926.15511867]\n",
      " [24695.02686172]\n",
      " [21844.42593124]\n",
      " [19064.90703764]\n",
      " [30721.19631867]\n",
      " [25025.85527544]\n",
      " [24043.14856662]\n",
      " [26610.43648964]\n",
      " [23707.21653156]\n",
      " [28643.94571332]\n",
      " [25783.99672902]\n",
      " [27498.03623474]\n",
      " [25619.10504187]\n",
      " [29933.5625663 ]\n",
      " [21111.57661523]\n",
      " [19643.13191102]\n",
      " [34490.09160826]\n",
      " [35976.76507693]\n",
      " [35466.77956894]\n",
      " [26675.09154632]\n",
      " [26562.11628425]\n",
      " [23538.23955871]\n",
      " [25406.41555858]\n",
      " [31298.40056677]\n",
      " [25003.73827064]\n",
      " [19784.98169467]\n",
      " [24556.10135021]\n",
      " [25260.27632979]\n",
      " [35136.19292736]\n",
      " [21259.29242953]\n",
      " [25539.87589945]\n",
      " [22765.09898097]\n",
      " [23697.9606498 ]\n",
      " [25406.45888059]\n",
      " [35705.75392958]\n",
      " [32540.55522498]\n",
      " [26633.39321509]\n",
      " [33802.51219634]\n",
      " [22810.24453435]\n",
      " [26262.84359768]\n",
      " [27821.31498376]\n",
      " [18631.86216016]\n",
      " [23163.00220078]\n",
      " [28814.53106358]\n",
      " [23373.05704654]\n",
      " [35394.05802029]\n",
      " [26970.21220557]\n",
      " [26221.85861336]\n",
      " [26817.5018275 ]\n",
      " [23984.47378108]\n",
      " [30925.58106363]\n",
      " [21437.64933624]\n",
      " [28764.98817588]\n",
      " [30017.5988402 ]\n",
      " [21673.20655847]\n",
      " [35051.82538445]\n",
      " [28269.49054682]\n",
      " [24140.49590802]\n",
      " [26332.19730016]\n",
      " [21518.37028926]\n",
      " [25598.61409228]\n",
      " [34582.14689056]\n",
      " [20708.24284108]\n",
      " [20699.55977684]\n",
      " [28625.4904473 ]\n",
      " [26437.32754684]\n",
      " [21222.20728996]\n",
      " [26954.78165333]\n",
      " [24818.31789629]\n",
      " [17983.99280641]\n",
      " [28748.28801696]\n",
      " [24784.52471102]\n",
      " [26016.81804296]\n",
      " [34505.89537359]\n",
      " [27907.22902894]\n",
      " [19775.57678083]\n",
      " [26689.49640945]\n",
      " [25023.26358396]\n",
      " [32803.22995201]\n",
      " [34931.04478173]\n",
      " [34372.074711  ]\n",
      " [19626.78028471]\n",
      " [31751.80809317]\n",
      " [28470.05754224]\n",
      " [26039.73000519]\n",
      " [27851.88058006]\n",
      " [33839.50397419]\n",
      " [26201.14535942]\n",
      " [26176.00435094]\n",
      " [26201.27663419]\n",
      " [31573.2051572 ]\n",
      " [33071.35819244]\n",
      " [31266.59109754]\n",
      " [21897.01565227]\n",
      " [25176.96118298]\n",
      " [34770.96261843]\n",
      " [17706.5678506 ]\n",
      " [28361.0952784 ]\n",
      " [28503.39513035]\n",
      " [25049.89754597]\n",
      " [29528.45501917]\n",
      " [26840.05606741]\n",
      " [25116.37560441]\n",
      " [20944.17821288]\n",
      " [22171.30701807]\n",
      " [21865.00194087]\n",
      " [20391.93229167]\n",
      " [25544.98216078]\n",
      " [28647.06671765]\n",
      " [18080.16353622]\n",
      " [25698.92066776]\n",
      " [24910.30110175]\n",
      " [26129.78513561]\n",
      " [26741.23797342]\n",
      " [27884.79031961]\n",
      " [30985.50909071]\n",
      " [25786.36729645]\n",
      " [26151.50981798]\n",
      " [25217.03906244]\n",
      " [25167.89992974]\n",
      " [24726.66877656]\n",
      " [19897.43264277]\n",
      " [20851.12498407]\n",
      " [25906.11153574]\n",
      " [25887.7891171 ]\n",
      " [27881.06853932]\n",
      " [19886.00244774]\n",
      " [22520.27053397]\n",
      " [21213.49706638]\n",
      " [26527.91031835]\n",
      " [25117.83041249]\n",
      " [27740.39931678]\n",
      " [28196.04758891]\n",
      " [30112.67625241]\n",
      " [35297.02764111]\n",
      " [25935.93392145]\n",
      " [20917.7112099 ]\n",
      " [35996.95801104]\n",
      " [25640.53135048]\n",
      " [18217.2079131 ]\n",
      " [22679.13250768]\n",
      " [33504.2455238 ]\n",
      " [26802.9910918 ]\n",
      " [29030.55445206]\n",
      " [19038.10454006]\n",
      " [26784.62381297]\n",
      " [23374.84605531]\n",
      " [25184.97044113]\n",
      " [25492.77779324]\n",
      " [25165.19711856]\n",
      " [29013.12732725]\n",
      " [35713.62923328]\n",
      " [24726.56787206]\n",
      " [34547.90648181]\n",
      " [24610.19396027]\n",
      " [22820.75978008]\n",
      " [30995.6886946 ]\n",
      " [24787.3627044 ]\n",
      " [28109.42620993]\n",
      " [25390.58301721]\n",
      " [34143.14652697]\n",
      " [31416.44198234]\n",
      " [26080.34708294]\n",
      " [21990.11188276]\n",
      " [23555.07040999]\n",
      " [21661.50765001]\n",
      " [28594.55919148]\n",
      " [21569.49874864]\n",
      " [24622.49391185]\n",
      " [28796.08031573]\n",
      " [23734.52620187]\n",
      " [25392.60952883]\n",
      " [24596.48914914]\n",
      " [27407.62882947]\n",
      " [26825.62709693]\n",
      " [26429.56399512]\n",
      " [25105.20537371]\n",
      " [25706.2711305 ]\n",
      " [23667.02066855]\n",
      " [26098.51301926]\n",
      " [22439.51151837]\n",
      " [25770.9447587 ]\n",
      " [25860.86600585]\n",
      " [27582.67209793]\n",
      " [24659.94988617]\n",
      " [25661.33980659]\n",
      " [25271.0598775 ]\n",
      " [27123.06900959]\n",
      " [24030.67332186]\n",
      " [25253.45517109]\n",
      " [24213.46480773]\n",
      " [29011.83857844]\n",
      " [34907.16284595]\n",
      " [34713.34832949]\n",
      " [19064.4722569 ]\n",
      " [29121.42973827]\n",
      " [22343.17165225]\n",
      " [31001.64197124]\n",
      " [25689.34923819]\n",
      " [25671.51965298]\n",
      " [26519.91395369]\n",
      " [32462.50547217]\n",
      " [24712.10050921]\n",
      " [24411.71999264]\n",
      " [27142.24468071]\n",
      " [34303.12152806]\n",
      " [28059.16775866]\n",
      " [25006.82366245]\n",
      " [21633.42817385]\n",
      " [24457.46043617]\n",
      " [34042.84944536]\n",
      " [24532.62516299]\n",
      " [34392.56130782]\n",
      " [30267.19340715]\n",
      " [26123.70375392]\n",
      " [19881.55084071]\n",
      " [36054.82777426]\n",
      " [24287.45152171]\n",
      " [29888.32912799]\n",
      " [28825.49346436]\n",
      " [25046.77912526]\n",
      " [34948.50532249]\n",
      " [24000.10771178]\n",
      " [30430.42009321]\n",
      " [35207.22774933]\n",
      " [25861.05318016]\n",
      " [25815.93809619]\n",
      " [27669.13548333]\n",
      " [19624.74252188]\n",
      " [30286.99420543]\n",
      " [27130.11707988]\n",
      " [26547.91942521]]\n"
     ]
    }
   ],
   "source": [
    "y_pred = lr.predict(X_test)\n",
    "print(y_pred)"
   ]
  },
  {
   "cell_type": "code",
   "execution_count": 42,
   "id": "7172b248",
   "metadata": {},
   "outputs": [],
   "source": [
    "dframe = pd.DataFrame({'Actual':y_test.flatten(),'predicted':y_pred.flatten()})"
   ]
  },
  {
   "cell_type": "code",
   "execution_count": 43,
   "id": "5b6d4f84-a582-4c30-83c9-5bc24202fd12",
   "metadata": {},
   "outputs": [
    {
     "name": "stdout",
     "output_type": "stream",
     "text": [
      "Slope: [[ 4.38144741e+03 -1.09756596e+14 -1.16328125e+01  3.91414062e+02\n",
      "   3.05390625e+01  1.09756596e+14 -4.49765625e+01  3.49070312e+02\n",
      "  -5.70839844e+01 -6.33974609e+01  6.80781250e+01  1.56132812e+01\n",
      "  -3.24396484e+02 -3.76376953e+01  1.29228516e+02  1.08093750e+02\n",
      "  -8.29589844e-01]]\n",
      "Intercept: [26309.05998209]\n"
     ]
    }
   ],
   "source": [
    "print('Slope:', lr.coef_)\n",
    "print('Intercept:', lr.intercept_)"
   ]
  },
  {
   "cell_type": "code",
   "execution_count": 44,
   "id": "26e1cb25-6d54-4ed9-b454-64689132b514",
   "metadata": {
    "tags": []
   },
   "outputs": [],
   "source": [
    "def plotReg(title, X, y, ti, features, model):\n",
    "    X_target = ti.loc[:, features].values\n",
    "    y_target = ti.loc[:, ['Re Target']].values\n",
    "    X_target = sc.transform(X_target)\n",
    "    # Plot outputs\n",
    "    fig = plt.figure(figsize=(13,6))\n",
    "    plt.plot(X,y, color=\"black\", label=\"Future Close Price\")\n",
    "    plt.plot(X[-180:],y[-180:], color=\"green\", label=\"Actual\")\n",
    "    plt.plot(X[-180:], model.predict(X_target), color=\"orange\", label=\"predicted\")\n",
    "    plt.title(title)\n",
    "    plt.xlabel('Date')\n",
    "    plt.ylabel('Price')\n",
    "    plt.legend()\n",
    "    plt.show()"
   ]
  },
  {
   "cell_type": "code",
   "execution_count": 45,
   "id": "0f3d6391-5d51-4ab6-adfa-57a6f96ff179",
   "metadata": {},
   "outputs": [
    {
     "data": {
      "image/png": "[encoded data removed]",
      "text/plain": [
       "<Figure size 936x432 with 1 Axes>"
      ]
     },
     "metadata": {
      "needs_background": "light"
     },
     "output_type": "display_data"
    }
   ],
   "source": [
    "plotReg('Dow Jones Industrial Average 180 days', dji.index, dji[['Future Close']], dji_ti.iloc[-180:], dji_refeatures, lr)"
   ]
  },
  {
   "cell_type": "code",
   "execution_count": 46,
   "id": "c40acc4e",
   "metadata": {},
   "outputs": [
    {
     "name": "stdout",
     "output_type": "stream",
     "text": [
      "Mean Squared Error:  291.646709170685\n",
      "Adjusted R squared 0.9954966435398833\n"
     ]
    }
   ],
   "source": [
    "lrEval = evaluate(reg, y_test, y_pred)\n",
    "printEval(reg, lrEval)"
   ]
  },
  {
   "cell_type": "markdown",
   "id": "0dc88c22",
   "metadata": {
    "jp-MarkdownHeadingCollapsed": true,
    "tags": []
   },
   "source": [
    "<h2>Polynomial Regression</h2>"
   ]
  },
  {
   "cell_type": "code",
   "execution_count": 47,
   "id": "26581ae2",
   "metadata": {},
   "outputs": [
    {
     "data": {
      "text/plain": [
       "Pipeline(steps=[('polynomialfeatures', PolynomialFeatures()),\n",
       "                ('linearregression', LinearRegression())])"
      ]
     },
     "execution_count": 47,
     "metadata": {},
     "output_type": "execute_result"
    }
   ],
   "source": [
    "from sklearn.preprocessing import PolynomialFeatures\n",
    "from sklearn.pipeline import make_pipeline\n",
    "from sklearn.linear_model import LinearRegression\n",
    "degree=2\n",
    "pr=make_pipeline(PolynomialFeatures(degree),LinearRegression())\n",
    "pr.fit(X_train,y_train)"
   ]
  },
  {
   "cell_type": "code",
   "execution_count": 48,
   "id": "6098098d",
   "metadata": {
    "collapsed": true,
    "jupyter": {
     "outputs_hidden": true
    },
    "tags": []
   },
   "outputs": [],
   "source": [
    "y_pred = pr.predict(X_test)  #Accuracy\n",
    "#y_pred"
   ]
  },
  {
   "cell_type": "code",
   "execution_count": 49,
   "id": "b49af624",
   "metadata": {},
   "outputs": [
    {
     "data": {
      "image/png": "[encoded data removed]",
      "text/plain": [
       "<Figure size 936x432 with 1 Axes>"
      ]
     },
     "metadata": {
      "needs_background": "light"
     },
     "output_type": "display_data"
    }
   ],
   "source": [
    "plotReg('Dow Jones Industrial Average 180 days', dji.index, dji[['Future Close']], dji_ti.iloc[-180:], dji_refeatures, pr)"
   ]
  },
  {
   "cell_type": "code",
   "execution_count": 50,
   "id": "cca59807",
   "metadata": {},
   "outputs": [
    {
     "name": "stdout",
     "output_type": "stream",
     "text": [
      "Mean Squared Error:  351.648930202112\n",
      "Adjusted R squared 0.9934530237585674\n"
     ]
    }
   ],
   "source": [
    "prEval = evaluate(reg, y_test, y_pred)\n",
    "printEval(reg, prEval)"
   ]
  },
  {
   "cell_type": "code",
   "execution_count": 51,
   "id": "b7395177",
   "metadata": {},
   "outputs": [],
   "source": [
    "def finalEvaluate(pred):\n",
    "    down = pred.count(0)\n",
    "    up = pred.count(1)\n",
    "    upText = \"The model suggests that you should sell\"\n",
    "    downText = \"The model suggests that you should buy\"\n",
    "    print(pred)\n",
    "    if up > down:\n",
    "        print(upText)\n",
    "        return True\n",
    "    elif up < down:\n",
    "        print(downText)\n",
    "        return True\n",
    "    else:\n",
    "        return False"
   ]
  },
  {
   "cell_type": "code",
   "execution_count": 52,
   "id": "aa5e2bd9",
   "metadata": {},
   "outputs": [],
   "source": [
    "def regPredict(classifier, pred, target):\n",
    "    predict = classifier.predict(pred)\n",
    "    tg = target['Close'].values[0]\n",
    "    if predict[0] > tg:\n",
    "        return 1\n",
    "    else:\n",
    "        return 0\n"
   ]
  },
  {
   "cell_type": "code",
   "execution_count": 53,
   "id": "c2c3c013",
   "metadata": {},
   "outputs": [],
   "source": [
    "from sklearn.preprocessing import normalize\n",
    "def finalPredict(target, target_features, retarget_features, dctEvaluation, forestEvaluation, logisticEvaluation, xgbEvaluation, lrEvaluation, prEvaluation):\n",
    "    X = target.loc[:, target_features].values\n",
    "    X_test = sc.transform(X)\n",
    "    reX = target.loc[:, retarget_features].values\n",
    "    reX_test = sc.transform(reX)\n",
    "    dctE = dctEvaluation.copy()\n",
    "    forestE = forestEvaluation.copy()\n",
    "    logisticE = logisticEvaluation.copy()\n",
    "    xgbE = xgbEvaluation.copy()\n",
    "    lrE = lrEvaluation.copy()\n",
    "    prE = prEvaluation.copy()\n",
    "    evaluation = []\n",
    "    evaluation.append(dctE[0])\n",
    "    evaluation.append(forestE[0])\n",
    "    evaluation.append(logisticE[0])\n",
    "    evaluation.append(xgbE[0])\n",
    "    evaluation.append(lrE[1])\n",
    "    evaluation.append(prE[1])\n",
    "    pred = []\n",
    "    pred.append(dtc.predict(X_test)[0])\n",
    "    pred.append(forest.predict(X_test)[0])\n",
    "    pred.append(logistic.predict(X_test)[0])\n",
    "    pred.append(xgb.predict(X_test)[0])\n",
    "    pred.append(regPredict(lr, reX_test, target))\n",
    "    pred.append(regPredict(pr, reX_test, target))\n",
    "    final = finalEvaluate(pred)\n",
    "    if final == False:\n",
    "        min_value = min(evaluation)\n",
    "        min_index = evaluation.index(min_value)\n",
    "        pred.pop(min_index)\n",
    "        finalEvaluate(pred)\n"
   ]
  },
  {
   "cell_type": "code",
   "execution_count": 54,
   "id": "ce5668d2",
   "metadata": {
    "jupyter": {
     "source_hidden": true
    },
    "tags": []
   },
   "outputs": [
    {
     "name": "stdout",
     "output_type": "stream",
     "text": [
      "[1, 1, 1, 1, 0, 0]\n",
      "The model suggests that you should sell\n"
     ]
    }
   ],
   "source": [
    "finalPredict(dji_target, dji_features,dji_refeatures, dctEval, forestEval, logisticEval, xgbEval, lrEval, prEval)\n"
   ]
  },
  {
   "cell_type": "markdown",
   "id": "61afc3c4",
   "metadata": {
    "jp-MarkdownHeadingCollapsed": true,
    "tags": []
   },
   "source": [
    "<h1>Nikkei 225 Stock Average</h1>"
   ]
  },
  {
   "cell_type": "markdown",
   "id": "e75c99ee",
   "metadata": {
    "jp-MarkdownHeadingCollapsed": true,
    "tags": []
   },
   "source": [
    "<h2>Feature Selection</h2>"
   ]
  },
  {
   "cell_type": "code",
   "execution_count": 55,
   "id": "1c432117",
   "metadata": {},
   "outputs": [
    {
     "data": {
      "text/html": [
       "<div>\n",
       "<style scoped>\n",
       "    .dataframe tbody tr th:only-of-type {\n",
       "        vertical-align: middle;\n",
       "    }\n",
       "\n",
       "    .dataframe tbody tr th {\n",
       "        vertical-align: top;\n",
       "    }\n",
       "\n",
       "    .dataframe thead th {\n",
       "        text-align: right;\n",
       "    }\n",
       "</style>\n",
       "<table border=\"1\" class=\"dataframe\">\n",
       "  <thead>\n",
       "    <tr style=\"text-align: right;\">\n",
       "      <th></th>\n",
       "      <th>High</th>\n",
       "      <th>Low</th>\n",
       "      <th>Open</th>\n",
       "      <th>Close</th>\n",
       "      <th>Volume</th>\n",
       "      <th>Adj Close</th>\n",
       "      <th>Future Close</th>\n",
       "    </tr>\n",
       "    <tr>\n",
       "      <th>Date</th>\n",
       "      <th></th>\n",
       "      <th></th>\n",
       "      <th></th>\n",
       "      <th></th>\n",
       "      <th></th>\n",
       "      <th></th>\n",
       "      <th></th>\n",
       "    </tr>\n",
       "  </thead>\n",
       "  <tbody>\n",
       "    <tr>\n",
       "      <th>2016-01-04</th>\n",
       "      <td>18951.119141</td>\n",
       "      <td>18394.429688</td>\n",
       "      <td>18818.580078</td>\n",
       "      <td>18450.980469</td>\n",
       "      <td>140200000.0</td>\n",
       "      <td>18450.980469</td>\n",
       "      <td>18374.000000</td>\n",
       "    </tr>\n",
       "    <tr>\n",
       "      <th>2016-01-05</th>\n",
       "      <td>18547.380859</td>\n",
       "      <td>18327.519531</td>\n",
       "      <td>18398.759766</td>\n",
       "      <td>18374.000000</td>\n",
       "      <td>132300000.0</td>\n",
       "      <td>18374.000000</td>\n",
       "      <td>18191.320312</td>\n",
       "    </tr>\n",
       "    <tr>\n",
       "      <th>2016-01-06</th>\n",
       "      <td>18469.380859</td>\n",
       "      <td>18064.300781</td>\n",
       "      <td>18410.570312</td>\n",
       "      <td>18191.320312</td>\n",
       "      <td>142200000.0</td>\n",
       "      <td>18191.320312</td>\n",
       "      <td>17767.339844</td>\n",
       "    </tr>\n",
       "    <tr>\n",
       "      <th>2016-01-07</th>\n",
       "      <td>18172.039062</td>\n",
       "      <td>17767.339844</td>\n",
       "      <td>18139.769531</td>\n",
       "      <td>17767.339844</td>\n",
       "      <td>168000000.0</td>\n",
       "      <td>17767.339844</td>\n",
       "      <td>17697.960938</td>\n",
       "    </tr>\n",
       "    <tr>\n",
       "      <th>2016-01-08</th>\n",
       "      <td>17975.310547</td>\n",
       "      <td>17509.640625</td>\n",
       "      <td>17562.230469</td>\n",
       "      <td>17697.960938</td>\n",
       "      <td>184300000.0</td>\n",
       "      <td>17697.960938</td>\n",
       "      <td>17218.960938</td>\n",
       "    </tr>\n",
       "    <tr>\n",
       "      <th>...</th>\n",
       "      <td>...</td>\n",
       "      <td>...</td>\n",
       "      <td>...</td>\n",
       "      <td>...</td>\n",
       "      <td>...</td>\n",
       "      <td>...</td>\n",
       "      <td>...</td>\n",
       "    </tr>\n",
       "    <tr>\n",
       "      <th>2021-11-30</th>\n",
       "      <td>28718.699219</td>\n",
       "      <td>27819.140625</td>\n",
       "      <td>28611.730469</td>\n",
       "      <td>27821.759766</td>\n",
       "      <td>140700000.0</td>\n",
       "      <td>27821.759766</td>\n",
       "      <td>27935.619141</td>\n",
       "    </tr>\n",
       "    <tr>\n",
       "      <th>2021-12-01</th>\n",
       "      <td>28106.300781</td>\n",
       "      <td>27594.009766</td>\n",
       "      <td>27866.730469</td>\n",
       "      <td>27935.619141</td>\n",
       "      <td>80900000.0</td>\n",
       "      <td>27935.619141</td>\n",
       "      <td>27753.369141</td>\n",
       "    </tr>\n",
       "    <tr>\n",
       "      <th>2021-12-02</th>\n",
       "      <td>27938.550781</td>\n",
       "      <td>27644.960938</td>\n",
       "      <td>27716.199219</td>\n",
       "      <td>27753.369141</td>\n",
       "      <td>77400000.0</td>\n",
       "      <td>27753.369141</td>\n",
       "      <td>28029.570312</td>\n",
       "    </tr>\n",
       "    <tr>\n",
       "      <th>2021-12-03</th>\n",
       "      <td>28029.570312</td>\n",
       "      <td>27588.609375</td>\n",
       "      <td>27841.050781</td>\n",
       "      <td>28029.570312</td>\n",
       "      <td>71900000.0</td>\n",
       "      <td>28029.570312</td>\n",
       "      <td>27927.369141</td>\n",
       "    </tr>\n",
       "    <tr>\n",
       "      <th>2021-12-06</th>\n",
       "      <td>28081.039062</td>\n",
       "      <td>27693.910156</td>\n",
       "      <td>28069.960938</td>\n",
       "      <td>27927.369141</td>\n",
       "      <td>0.0</td>\n",
       "      <td>27927.369141</td>\n",
       "      <td>NaN</td>\n",
       "    </tr>\n",
       "  </tbody>\n",
       "</table>\n",
       "<p>1448 rows × 7 columns</p>\n",
       "</div>"
      ],
      "text/plain": [
       "                    High           Low          Open         Close  \\\n",
       "Date                                                                 \n",
       "2016-01-04  18951.119141  18394.429688  18818.580078  18450.980469   \n",
       "2016-01-05  18547.380859  18327.519531  18398.759766  18374.000000   \n",
       "2016-01-06  18469.380859  18064.300781  18410.570312  18191.320312   \n",
       "2016-01-07  18172.039062  17767.339844  18139.769531  17767.339844   \n",
       "2016-01-08  17975.310547  17509.640625  17562.230469  17697.960938   \n",
       "...                  ...           ...           ...           ...   \n",
       "2021-11-30  28718.699219  27819.140625  28611.730469  27821.759766   \n",
       "2021-12-01  28106.300781  27594.009766  27866.730469  27935.619141   \n",
       "2021-12-02  27938.550781  27644.960938  27716.199219  27753.369141   \n",
       "2021-12-03  28029.570312  27588.609375  27841.050781  28029.570312   \n",
       "2021-12-06  28081.039062  27693.910156  28069.960938  27927.369141   \n",
       "\n",
       "                 Volume     Adj Close  Future Close  \n",
       "Date                                                 \n",
       "2016-01-04  140200000.0  18450.980469  18374.000000  \n",
       "2016-01-05  132300000.0  18374.000000  18191.320312  \n",
       "2016-01-06  142200000.0  18191.320312  17767.339844  \n",
       "2016-01-07  168000000.0  17767.339844  17697.960938  \n",
       "2016-01-08  184300000.0  17697.960938  17218.960938  \n",
       "...                 ...           ...           ...  \n",
       "2021-11-30  140700000.0  27821.759766  27935.619141  \n",
       "2021-12-01   80900000.0  27935.619141  27753.369141  \n",
       "2021-12-02   77400000.0  27753.369141  28029.570312  \n",
       "2021-12-03   71900000.0  28029.570312  27927.369141  \n",
       "2021-12-06          0.0  27927.369141           NaN  \n",
       "\n",
       "[1448 rows x 7 columns]"
      ]
     },
     "execution_count": 55,
     "metadata": {},
     "output_type": "execute_result"
    }
   ],
   "source": [
    "n225['Future Close'] = n225['Close'].shift(-1)\n",
    "n225"
   ]
  },
  {
   "cell_type": "code",
   "execution_count": 56,
   "id": "e7464fb8",
   "metadata": {},
   "outputs": [],
   "source": [
    "target = computeTarget(n225['Close'], n225['Future Close'])\n",
    "\n",
    "n225['Target'] = target"
   ]
  },
  {
   "cell_type": "code",
   "execution_count": 57,
   "id": "9ba82349",
   "metadata": {},
   "outputs": [],
   "source": [
    "close = n225['Close']\n",
    "high = n225['High']\n",
    "low = n225['Low']\n",
    "open = n225['Open']\n",
    "volume  = n225['Volume']"
   ]
  },
  {
   "cell_type": "code",
   "execution_count": 58,
   "id": "50d3cc4a",
   "metadata": {
    "jupyter": {
     "source_hidden": true
    },
    "tags": []
   },
   "outputs": [
    {
     "data": {
      "text/html": [
       "<div>\n",
       "<style scoped>\n",
       "    .dataframe tbody tr th:only-of-type {\n",
       "        vertical-align: middle;\n",
       "    }\n",
       "\n",
       "    .dataframe tbody tr th {\n",
       "        vertical-align: top;\n",
       "    }\n",
       "\n",
       "    .dataframe thead th {\n",
       "        text-align: right;\n",
       "    }\n",
       "</style>\n",
       "<table border=\"1\" class=\"dataframe\">\n",
       "  <thead>\n",
       "    <tr style=\"text-align: right;\">\n",
       "      <th></th>\n",
       "      <th>SMA20</th>\n",
       "      <th>SMA50</th>\n",
       "      <th>SMA200</th>\n",
       "      <th>EMA</th>\n",
       "      <th>OBV</th>\n",
       "      <th>RSI14</th>\n",
       "      <th>ADX</th>\n",
       "      <th>ADXR</th>\n",
       "      <th>aroondown</th>\n",
       "      <th>aroonup</th>\n",
       "      <th>...</th>\n",
       "      <th>slowk</th>\n",
       "      <th>slowd</th>\n",
       "      <th>fastk</th>\n",
       "      <th>fastd</th>\n",
       "      <th>TRIX</th>\n",
       "      <th>ULTOSC</th>\n",
       "      <th>WILLR</th>\n",
       "      <th>Target</th>\n",
       "      <th>Close</th>\n",
       "      <th>Re Target</th>\n",
       "    </tr>\n",
       "    <tr>\n",
       "      <th>Date</th>\n",
       "      <th></th>\n",
       "      <th></th>\n",
       "      <th></th>\n",
       "      <th></th>\n",
       "      <th></th>\n",
       "      <th></th>\n",
       "      <th></th>\n",
       "      <th></th>\n",
       "      <th></th>\n",
       "      <th></th>\n",
       "      <th></th>\n",
       "      <th></th>\n",
       "      <th></th>\n",
       "      <th></th>\n",
       "      <th></th>\n",
       "      <th></th>\n",
       "      <th></th>\n",
       "      <th></th>\n",
       "      <th></th>\n",
       "      <th></th>\n",
       "      <th></th>\n",
       "    </tr>\n",
       "  </thead>\n",
       "  <tbody>\n",
       "    <tr>\n",
       "      <th>2016-01-04</th>\n",
       "      <td>NaN</td>\n",
       "      <td>NaN</td>\n",
       "      <td>NaN</td>\n",
       "      <td>NaN</td>\n",
       "      <td>1.402000e+08</td>\n",
       "      <td>NaN</td>\n",
       "      <td>NaN</td>\n",
       "      <td>NaN</td>\n",
       "      <td>NaN</td>\n",
       "      <td>NaN</td>\n",
       "      <td>...</td>\n",
       "      <td>NaN</td>\n",
       "      <td>NaN</td>\n",
       "      <td>NaN</td>\n",
       "      <td>NaN</td>\n",
       "      <td>NaN</td>\n",
       "      <td>NaN</td>\n",
       "      <td>NaN</td>\n",
       "      <td>0</td>\n",
       "      <td>18450.980469</td>\n",
       "      <td>18374.000000</td>\n",
       "    </tr>\n",
       "    <tr>\n",
       "      <th>2016-01-05</th>\n",
       "      <td>NaN</td>\n",
       "      <td>NaN</td>\n",
       "      <td>NaN</td>\n",
       "      <td>NaN</td>\n",
       "      <td>7.900000e+06</td>\n",
       "      <td>NaN</td>\n",
       "      <td>NaN</td>\n",
       "      <td>NaN</td>\n",
       "      <td>NaN</td>\n",
       "      <td>NaN</td>\n",
       "      <td>...</td>\n",
       "      <td>NaN</td>\n",
       "      <td>NaN</td>\n",
       "      <td>NaN</td>\n",
       "      <td>NaN</td>\n",
       "      <td>NaN</td>\n",
       "      <td>NaN</td>\n",
       "      <td>NaN</td>\n",
       "      <td>0</td>\n",
       "      <td>18374.000000</td>\n",
       "      <td>18191.320312</td>\n",
       "    </tr>\n",
       "    <tr>\n",
       "      <th>2016-01-06</th>\n",
       "      <td>NaN</td>\n",
       "      <td>NaN</td>\n",
       "      <td>NaN</td>\n",
       "      <td>NaN</td>\n",
       "      <td>-1.343000e+08</td>\n",
       "      <td>NaN</td>\n",
       "      <td>NaN</td>\n",
       "      <td>NaN</td>\n",
       "      <td>NaN</td>\n",
       "      <td>NaN</td>\n",
       "      <td>...</td>\n",
       "      <td>NaN</td>\n",
       "      <td>NaN</td>\n",
       "      <td>NaN</td>\n",
       "      <td>NaN</td>\n",
       "      <td>NaN</td>\n",
       "      <td>NaN</td>\n",
       "      <td>NaN</td>\n",
       "      <td>0</td>\n",
       "      <td>18191.320312</td>\n",
       "      <td>17767.339844</td>\n",
       "    </tr>\n",
       "    <tr>\n",
       "      <th>2016-01-07</th>\n",
       "      <td>NaN</td>\n",
       "      <td>NaN</td>\n",
       "      <td>NaN</td>\n",
       "      <td>NaN</td>\n",
       "      <td>-3.023000e+08</td>\n",
       "      <td>NaN</td>\n",
       "      <td>NaN</td>\n",
       "      <td>NaN</td>\n",
       "      <td>NaN</td>\n",
       "      <td>NaN</td>\n",
       "      <td>...</td>\n",
       "      <td>NaN</td>\n",
       "      <td>NaN</td>\n",
       "      <td>NaN</td>\n",
       "      <td>NaN</td>\n",
       "      <td>NaN</td>\n",
       "      <td>NaN</td>\n",
       "      <td>NaN</td>\n",
       "      <td>0</td>\n",
       "      <td>17767.339844</td>\n",
       "      <td>17697.960938</td>\n",
       "    </tr>\n",
       "    <tr>\n",
       "      <th>2016-01-08</th>\n",
       "      <td>NaN</td>\n",
       "      <td>NaN</td>\n",
       "      <td>NaN</td>\n",
       "      <td>NaN</td>\n",
       "      <td>-4.866000e+08</td>\n",
       "      <td>NaN</td>\n",
       "      <td>NaN</td>\n",
       "      <td>NaN</td>\n",
       "      <td>NaN</td>\n",
       "      <td>NaN</td>\n",
       "      <td>...</td>\n",
       "      <td>NaN</td>\n",
       "      <td>NaN</td>\n",
       "      <td>NaN</td>\n",
       "      <td>NaN</td>\n",
       "      <td>NaN</td>\n",
       "      <td>NaN</td>\n",
       "      <td>NaN</td>\n",
       "      <td>0</td>\n",
       "      <td>17697.960938</td>\n",
       "      <td>17218.960938</td>\n",
       "    </tr>\n",
       "    <tr>\n",
       "      <th>...</th>\n",
       "      <td>...</td>\n",
       "      <td>...</td>\n",
       "      <td>...</td>\n",
       "      <td>...</td>\n",
       "      <td>...</td>\n",
       "      <td>...</td>\n",
       "      <td>...</td>\n",
       "      <td>...</td>\n",
       "      <td>...</td>\n",
       "      <td>...</td>\n",
       "      <td>...</td>\n",
       "      <td>...</td>\n",
       "      <td>...</td>\n",
       "      <td>...</td>\n",
       "      <td>...</td>\n",
       "      <td>...</td>\n",
       "      <td>...</td>\n",
       "      <td>...</td>\n",
       "      <td>...</td>\n",
       "      <td>...</td>\n",
       "      <td>...</td>\n",
       "    </tr>\n",
       "    <tr>\n",
       "      <th>2021-11-30</th>\n",
       "      <td>29370.608398</td>\n",
       "      <td>29153.891992</td>\n",
       "      <td>28943.025322</td>\n",
       "      <td>29066.518032</td>\n",
       "      <td>5.449700e+09</td>\n",
       "      <td>31.862883</td>\n",
       "      <td>16.441484</td>\n",
       "      <td>14.666264</td>\n",
       "      <td>100.000000</td>\n",
       "      <td>35.714286</td>\n",
       "      <td>...</td>\n",
       "      <td>6.090439</td>\n",
       "      <td>17.547172</td>\n",
       "      <td>0.135083</td>\n",
       "      <td>6.090439</td>\n",
       "      <td>0.041502</td>\n",
       "      <td>31.087620</td>\n",
       "      <td>-99.877712</td>\n",
       "      <td>1</td>\n",
       "      <td>27821.759766</td>\n",
       "      <td>27935.619141</td>\n",
       "    </tr>\n",
       "    <tr>\n",
       "      <th>2021-12-01</th>\n",
       "      <td>29285.035352</td>\n",
       "      <td>29106.137578</td>\n",
       "      <td>28938.807471</td>\n",
       "      <td>28915.731513</td>\n",
       "      <td>5.530600e+09</td>\n",
       "      <td>33.915601</td>\n",
       "      <td>18.932162</td>\n",
       "      <td>15.663407</td>\n",
       "      <td>100.000000</td>\n",
       "      <td>28.571429</td>\n",
       "      <td>...</td>\n",
       "      <td>7.799032</td>\n",
       "      <td>12.005260</td>\n",
       "      <td>17.284336</td>\n",
       "      <td>7.799032</td>\n",
       "      <td>0.038143</td>\n",
       "      <td>33.765736</td>\n",
       "      <td>-85.567345</td>\n",
       "      <td>0</td>\n",
       "      <td>27935.619141</td>\n",
       "      <td>27753.369141</td>\n",
       "    </tr>\n",
       "    <tr>\n",
       "      <th>2021-12-02</th>\n",
       "      <td>29196.658789</td>\n",
       "      <td>29051.203945</td>\n",
       "      <td>28930.631816</td>\n",
       "      <td>28760.749863</td>\n",
       "      <td>5.453200e+09</td>\n",
       "      <td>32.241270</td>\n",
       "      <td>21.244934</td>\n",
       "      <td>16.558292</td>\n",
       "      <td>92.857143</td>\n",
       "      <td>21.428571</td>\n",
       "      <td>...</td>\n",
       "      <td>8.861125</td>\n",
       "      <td>7.583532</td>\n",
       "      <td>9.163954</td>\n",
       "      <td>8.861125</td>\n",
       "      <td>0.033823</td>\n",
       "      <td>31.547181</td>\n",
       "      <td>-93.267226</td>\n",
       "      <td>1</td>\n",
       "      <td>27753.369141</td>\n",
       "      <td>28029.570312</td>\n",
       "    </tr>\n",
       "    <tr>\n",
       "      <th>2021-12-03</th>\n",
       "      <td>29108.418848</td>\n",
       "      <td>29015.001133</td>\n",
       "      <td>28923.250020</td>\n",
       "      <td>28663.259257</td>\n",
       "      <td>5.525100e+09</td>\n",
       "      <td>37.293649</td>\n",
       "      <td>23.072641</td>\n",
       "      <td>17.448407</td>\n",
       "      <td>100.000000</td>\n",
       "      <td>14.285714</td>\n",
       "      <td>...</td>\n",
       "      <td>21.191546</td>\n",
       "      <td>12.617234</td>\n",
       "      <td>37.126347</td>\n",
       "      <td>21.191546</td>\n",
       "      <td>0.029018</td>\n",
       "      <td>37.770275</td>\n",
       "      <td>-81.412251</td>\n",
       "      <td>0</td>\n",
       "      <td>28029.570312</td>\n",
       "      <td>27927.369141</td>\n",
       "    </tr>\n",
       "    <tr>\n",
       "      <th>2021-12-06</th>\n",
       "      <td>29024.208789</td>\n",
       "      <td>28980.760508</td>\n",
       "      <td>28915.072217</td>\n",
       "      <td>28565.140575</td>\n",
       "      <td>5.525100e+09</td>\n",
       "      <td>36.217520</td>\n",
       "      <td>24.584119</td>\n",
       "      <td>18.287423</td>\n",
       "      <td>92.857143</td>\n",
       "      <td>7.142857</td>\n",
       "      <td>...</td>\n",
       "      <td>25.422219</td>\n",
       "      <td>18.491630</td>\n",
       "      <td>29.976357</td>\n",
       "      <td>25.422219</td>\n",
       "      <td>0.023770</td>\n",
       "      <td>37.874431</td>\n",
       "      <td>-85.720319</td>\n",
       "      <td>0</td>\n",
       "      <td>27927.369141</td>\n",
       "      <td>NaN</td>\n",
       "    </tr>\n",
       "  </tbody>\n",
       "</table>\n",
       "<p>1448 rows × 40 columns</p>\n",
       "</div>"
      ],
      "text/plain": [
       "                   SMA20         SMA50        SMA200           EMA  \\\n",
       "Date                                                                 \n",
       "2016-01-04           NaN           NaN           NaN           NaN   \n",
       "2016-01-05           NaN           NaN           NaN           NaN   \n",
       "2016-01-06           NaN           NaN           NaN           NaN   \n",
       "2016-01-07           NaN           NaN           NaN           NaN   \n",
       "2016-01-08           NaN           NaN           NaN           NaN   \n",
       "...                  ...           ...           ...           ...   \n",
       "2021-11-30  29370.608398  29153.891992  28943.025322  29066.518032   \n",
       "2021-12-01  29285.035352  29106.137578  28938.807471  28915.731513   \n",
       "2021-12-02  29196.658789  29051.203945  28930.631816  28760.749863   \n",
       "2021-12-03  29108.418848  29015.001133  28923.250020  28663.259257   \n",
       "2021-12-06  29024.208789  28980.760508  28915.072217  28565.140575   \n",
       "\n",
       "                     OBV      RSI14        ADX       ADXR   aroondown  \\\n",
       "Date                                                                    \n",
       "2016-01-04  1.402000e+08        NaN        NaN        NaN         NaN   \n",
       "2016-01-05  7.900000e+06        NaN        NaN        NaN         NaN   \n",
       "2016-01-06 -1.343000e+08        NaN        NaN        NaN         NaN   \n",
       "2016-01-07 -3.023000e+08        NaN        NaN        NaN         NaN   \n",
       "2016-01-08 -4.866000e+08        NaN        NaN        NaN         NaN   \n",
       "...                  ...        ...        ...        ...         ...   \n",
       "2021-11-30  5.449700e+09  31.862883  16.441484  14.666264  100.000000   \n",
       "2021-12-01  5.530600e+09  33.915601  18.932162  15.663407  100.000000   \n",
       "2021-12-02  5.453200e+09  32.241270  21.244934  16.558292   92.857143   \n",
       "2021-12-03  5.525100e+09  37.293649  23.072641  17.448407  100.000000   \n",
       "2021-12-06  5.525100e+09  36.217520  24.584119  18.287423   92.857143   \n",
       "\n",
       "              aroonup  ...      slowk      slowd      fastk      fastd  \\\n",
       "Date                   ...                                               \n",
       "2016-01-04        NaN  ...        NaN        NaN        NaN        NaN   \n",
       "2016-01-05        NaN  ...        NaN        NaN        NaN        NaN   \n",
       "2016-01-06        NaN  ...        NaN        NaN        NaN        NaN   \n",
       "2016-01-07        NaN  ...        NaN        NaN        NaN        NaN   \n",
       "2016-01-08        NaN  ...        NaN        NaN        NaN        NaN   \n",
       "...               ...  ...        ...        ...        ...        ...   \n",
       "2021-11-30  35.714286  ...   6.090439  17.547172   0.135083   6.090439   \n",
       "2021-12-01  28.571429  ...   7.799032  12.005260  17.284336   7.799032   \n",
       "2021-12-02  21.428571  ...   8.861125   7.583532   9.163954   8.861125   \n",
       "2021-12-03  14.285714  ...  21.191546  12.617234  37.126347  21.191546   \n",
       "2021-12-06   7.142857  ...  25.422219  18.491630  29.976357  25.422219   \n",
       "\n",
       "                TRIX     ULTOSC      WILLR  Target         Close     Re Target  \n",
       "Date                                                                            \n",
       "2016-01-04       NaN        NaN        NaN       0  18450.980469  18374.000000  \n",
       "2016-01-05       NaN        NaN        NaN       0  18374.000000  18191.320312  \n",
       "2016-01-06       NaN        NaN        NaN       0  18191.320312  17767.339844  \n",
       "2016-01-07       NaN        NaN        NaN       0  17767.339844  17697.960938  \n",
       "2016-01-08       NaN        NaN        NaN       0  17697.960938  17218.960938  \n",
       "...              ...        ...        ...     ...           ...           ...  \n",
       "2021-11-30  0.041502  31.087620 -99.877712       1  27821.759766  27935.619141  \n",
       "2021-12-01  0.038143  33.765736 -85.567345       0  27935.619141  27753.369141  \n",
       "2021-12-02  0.033823  31.547181 -93.267226       1  27753.369141  28029.570312  \n",
       "2021-12-03  0.029018  37.770275 -81.412251       0  28029.570312  27927.369141  \n",
       "2021-12-06  0.023770  37.874431 -85.720319       0  27927.369141           NaN  \n",
       "\n",
       "[1448 rows x 40 columns]"
      ]
     },
     "execution_count": 58,
     "metadata": {},
     "output_type": "execute_result"
    }
   ],
   "source": [
    "n225_ti = pd.DataFrame()\n",
    "n225_ti['SMA20'] = talib.SMA(close, timeperiod=20)\n",
    "n225_ti['SMA50'] = talib.SMA(close, timeperiod=50)\n",
    "n225_ti['SMA200'] = talib.SMA(close, timeperiod=200)\n",
    "n225_ti['EMA'] = talib.EMA(close, timeperiod=14)\n",
    "n225_ti['OBV'] = talib.OBV(close, volume)\n",
    "n225_ti['RSI14'] = talib.RSI(close, timeperiod=14)\n",
    "n225_ti['ADX'] = talib.ADX(high, low, close, timeperiod=14)\n",
    "n225_ti['ADXR'] = talib.ADXR(high, low, close, timeperiod=14)\n",
    "n225_ti['aroondown'], n225_ti['aroonup'] = talib.AROON(high, low, timeperiod=14)\n",
    "n225_ti['APO'] = talib.APO(close, fastperiod=12, slowperiod=26, matype=0)\n",
    "n225_ti['AROONOSC'] = talib.AROONOSC(high, low, timeperiod=14)\n",
    "n225_ti['BOP'] = talib.BOP(open, high, low, close)\n",
    "n225_ti['CCI'] = talib.CCI(high, low, close, timeperiod=14)\n",
    "n225_ti['CMO'] = talib.CMO(close, timeperiod=14)\n",
    "n225_ti['DX'] = talib.DX(high, low, close, timeperiod=14)\n",
    "n225_ti['macd'],n225_ti['macdsignal'],n225_ti['macdhist'] = talib.MACD(close, fastperiod = 12, slowperiod=26, signalperiod=9)\n",
    "n225_ti['MFI'] = talib.MFI(high, low, close, volume, timeperiod=14)\n",
    "n225_ti['MINUS_DI'] = talib.MINUS_DI(high, low, close, timeperiod=14)\n",
    "n225_ti['MINUS_DM'] = talib.MINUS_DM(high, low, timeperiod=14)\n",
    "n225_ti['MOM'] = talib.MOM(close, timeperiod=14)\n",
    "n225_ti['PLUS_DI'] = talib.PLUS_DI(high, low, close, timeperiod=14)\n",
    "n225_ti['PLUS_DM'] = talib.PLUS_DM(high, low, timeperiod=14)\n",
    "n225_ti['PPO'] = talib.PPO(close, fastperiod=12, slowperiod=26, matype=0)\n",
    "n225_ti['ROC'] = talib.ROC(close, timeperiod=10)\n",
    "n225_ti['ROCP'] = talib.ROCP(close, timeperiod=10)\n",
    "n225_ti['ROCR'] = talib.ROCR(close, timeperiod=10)\n",
    "n225_ti['ROCR100'] = talib.ROCR100(close, timeperiod=10)\n",
    "n225_ti['slowk'], n225_ti['slowd'] = talib.STOCH(high, low, close, fastk_period=5, slowk_period=3, slowd_period=3, slowd_matype=0)\n",
    "n225_ti['fastk'], n225_ti['fastd'] = talib.STOCHF(high, low, close, fastk_period=5, fastd_period=3, fastd_matype=0)\n",
    "n225_ti['TRIX'] = talib.TRIX(close, timeperiod=30)\n",
    "n225_ti['ULTOSC'] = talib.ULTOSC(high, low, close, timeperiod1=7, timeperiod2=14, timeperiod3=28)\n",
    "n225_ti['WILLR'] = talib.WILLR(high, low, close, timeperiod=14)\n",
    "n225_ti['Target'] = n225['Target']\n",
    "n225_ti['Close'] = n225['Close']\n",
    "n225_ti['Re Target'] = n225['Future Close']\n",
    "n225_ti"
   ]
  },
  {
   "cell_type": "code",
   "execution_count": 59,
   "id": "f7f68611",
   "metadata": {},
   "outputs": [],
   "source": [
    "\n",
    "n225_target = n225_ti.tail(1)"
   ]
  },
  {
   "cell_type": "code",
   "execution_count": 60,
   "id": "286b02d7",
   "metadata": {
    "tags": []
   },
   "outputs": [
    {
     "data": {
      "text/plain": [
       "['ADX',\n",
       " 'ADXR',\n",
       " 'aroondown',\n",
       " 'aroonup',\n",
       " 'CCI',\n",
       " 'MFI',\n",
       " 'MINUS_DI',\n",
       " 'PLUS_DI',\n",
       " 'PPO',\n",
       " 'ROC',\n",
       " 'ROCR100',\n",
       " 'slowk',\n",
       " 'slowd',\n",
       " 'fastd',\n",
       " 'TRIX',\n",
       " 'ULTOSC',\n",
       " 'WILLR']"
      ]
     },
     "execution_count": 60,
     "metadata": {},
     "output_type": "execute_result"
    }
   ],
   "source": [
    "n225_ti = n225_ti.dropna()\n",
    "n225_features = selectFeatures(n225_ti, 'Target')\n",
    "n225_features.remove('Re Target')\n",
    "n225_features.remove('Close')\n",
    "n225_features"
   ]
  },
  {
   "cell_type": "code",
   "execution_count": 61,
   "id": "c990a5f0",
   "metadata": {},
   "outputs": [],
   "source": [
    "X = n225_ti.loc[:, n225_features].values\n",
    "#X = dji_ti.loc[:, ['CCI', 'DX', 'MINUS_DI', 'PLUS_DM', 'slowd']].values\n",
    "y = n225_ti.loc[:, ['Target']].values\n",
    "X_train, X_test, y_train, y_test = train_test_split(X, y, test_size=0.2, random_state=0)"
   ]
  },
  {
   "cell_type": "code",
   "execution_count": 62,
   "id": "9b48f716",
   "metadata": {},
   "outputs": [],
   "source": [
    "sc = StandardScaler()\n",
    "X_train = sc.fit_transform(X_train)\n",
    "X_test = sc.transform(X_test)"
   ]
  },
  {
   "cell_type": "markdown",
   "id": "c07467fb",
   "metadata": {
    "jp-MarkdownHeadingCollapsed": true,
    "tags": []
   },
   "source": [
    "<h2>Decision Tree</h2>"
   ]
  },
  {
   "cell_type": "code",
   "execution_count": 63,
   "id": "dfab44b2",
   "metadata": {},
   "outputs": [
    {
     "data": {
      "text/plain": [
       "DecisionTreeClassifier()"
      ]
     },
     "execution_count": 63,
     "metadata": {},
     "output_type": "execute_result"
    }
   ],
   "source": [
    "dtc = DecisionTreeClassifier()\n",
    "dtc.fit(X_train, y_train)"
   ]
  },
  {
   "cell_type": "code",
   "execution_count": 64,
   "id": "f8d8a47c",
   "metadata": {
    "tags": []
   },
   "outputs": [
    {
     "data": {
      "text/plain": [
       "array([0, 0, 0, 1, 1, 1, 0, 1, 0, 1, 0, 1, 1, 1, 0, 0, 0, 0, 0, 0, 0, 0,\n",
       "       0, 0, 1, 1, 1, 1, 1, 1, 1, 1, 1, 0, 1, 0, 0, 0, 1, 0, 1, 1, 0, 1,\n",
       "       0, 1, 1, 0, 1, 0, 1, 0, 1, 1, 1, 0, 0, 0, 1, 0, 0, 0, 1, 0, 0, 1,\n",
       "       0, 1, 1, 0, 1, 0, 0, 0, 0, 0, 1, 1, 1, 0, 0, 1, 0, 1, 0, 1, 0, 0,\n",
       "       0, 0, 1, 0, 0, 1, 0, 0, 1, 1, 1, 1, 1, 1, 0, 0, 1, 0, 1, 0, 0, 1,\n",
       "       0, 1, 0, 0, 0, 1, 1, 1, 1, 0, 1, 1, 0, 0, 0, 1, 0, 0, 1, 0, 0, 0,\n",
       "       1, 1, 1, 1, 1, 1, 0, 1, 0, 1, 0, 1, 0, 1, 0, 0, 1, 0, 0, 0, 0, 0,\n",
       "       1, 1, 0, 0, 1, 0, 0, 1, 1, 0, 0, 0, 0, 0, 1, 0, 0, 0, 0, 0, 0, 0,\n",
       "       1, 0, 0, 1, 1, 1, 0, 1, 0, 0, 0, 0, 1, 1, 0, 1, 0, 0, 0, 1, 0, 1,\n",
       "       0, 0, 0, 1, 0, 0, 1, 1, 1, 0, 0, 0, 0, 1, 1, 1, 0, 1, 1, 0, 0, 0,\n",
       "       1, 0, 0, 0, 0, 0, 0, 1, 1, 1, 1, 1, 0, 0, 0, 1, 0, 0, 0, 0, 1, 1,\n",
       "       1, 0, 0, 0, 0, 1, 1, 0], dtype=int64)"
      ]
     },
     "execution_count": 64,
     "metadata": {},
     "output_type": "execute_result"
    }
   ],
   "source": [
    "# Prediction\n",
    "#\n",
    "y_pred = dtc.predict(X_test)  #Accuracy\n",
    "y_pred"
   ]
  },
  {
   "cell_type": "code",
   "execution_count": 65,
   "id": "1507d02b",
   "metadata": {
    "collapsed": true,
    "jupyter": {
     "outputs_hidden": true
    },
    "tags": []
   },
   "outputs": [
    {
     "data": {
      "text/plain": [
       "array([[1],\n",
       "       [1],\n",
       "       [0],\n",
       "       [0],\n",
       "       [1],\n",
       "       [1],\n",
       "       [1],\n",
       "       [1],\n",
       "       [0],\n",
       "       [1],\n",
       "       [1],\n",
       "       [1],\n",
       "       [1],\n",
       "       [0],\n",
       "       [1],\n",
       "       [0],\n",
       "       [1],\n",
       "       [1],\n",
       "       [1],\n",
       "       [0],\n",
       "       [0],\n",
       "       [0],\n",
       "       [0],\n",
       "       [1],\n",
       "       [1],\n",
       "       [1],\n",
       "       [1],\n",
       "       [1],\n",
       "       [1],\n",
       "       [1],\n",
       "       [0],\n",
       "       [0],\n",
       "       [1],\n",
       "       [1],\n",
       "       [1],\n",
       "       [1],\n",
       "       [1],\n",
       "       [0],\n",
       "       [1],\n",
       "       [1],\n",
       "       [1],\n",
       "       [1],\n",
       "       [0],\n",
       "       [0],\n",
       "       [1],\n",
       "       [0],\n",
       "       [0],\n",
       "       [1],\n",
       "       [1],\n",
       "       [0],\n",
       "       [0],\n",
       "       [1],\n",
       "       [0],\n",
       "       [0],\n",
       "       [1],\n",
       "       [0],\n",
       "       [0],\n",
       "       [0],\n",
       "       [0],\n",
       "       [0],\n",
       "       [1],\n",
       "       [1],\n",
       "       [1],\n",
       "       [1],\n",
       "       [1],\n",
       "       [0],\n",
       "       [1],\n",
       "       [0],\n",
       "       [1],\n",
       "       [1],\n",
       "       [0],\n",
       "       [1],\n",
       "       [1],\n",
       "       [0],\n",
       "       [0],\n",
       "       [1],\n",
       "       [0],\n",
       "       [0],\n",
       "       [0],\n",
       "       [0],\n",
       "       [1],\n",
       "       [1],\n",
       "       [1],\n",
       "       [0],\n",
       "       [0],\n",
       "       [0],\n",
       "       [0],\n",
       "       [0],\n",
       "       [1],\n",
       "       [0],\n",
       "       [0],\n",
       "       [1],\n",
       "       [1],\n",
       "       [1],\n",
       "       [0],\n",
       "       [0],\n",
       "       [1],\n",
       "       [1],\n",
       "       [1],\n",
       "       [1],\n",
       "       [1],\n",
       "       [0],\n",
       "       [1],\n",
       "       [0],\n",
       "       [0],\n",
       "       [1],\n",
       "       [0],\n",
       "       [0],\n",
       "       [1],\n",
       "       [1],\n",
       "       [0],\n",
       "       [0],\n",
       "       [0],\n",
       "       [1],\n",
       "       [0],\n",
       "       [0],\n",
       "       [1],\n",
       "       [0],\n",
       "       [1],\n",
       "       [1],\n",
       "       [0],\n",
       "       [1],\n",
       "       [1],\n",
       "       [1],\n",
       "       [0],\n",
       "       [1],\n",
       "       [0],\n",
       "       [0],\n",
       "       [0],\n",
       "       [1],\n",
       "       [0],\n",
       "       [0],\n",
       "       [1],\n",
       "       [0],\n",
       "       [0],\n",
       "       [1],\n",
       "       [0],\n",
       "       [1],\n",
       "       [1],\n",
       "       [1],\n",
       "       [1],\n",
       "       [0],\n",
       "       [0],\n",
       "       [1],\n",
       "       [0],\n",
       "       [1],\n",
       "       [0],\n",
       "       [0],\n",
       "       [1],\n",
       "       [1],\n",
       "       [0],\n",
       "       [0],\n",
       "       [1],\n",
       "       [1],\n",
       "       [1],\n",
       "       [0],\n",
       "       [0],\n",
       "       [0],\n",
       "       [1],\n",
       "       [1],\n",
       "       [0],\n",
       "       [1],\n",
       "       [0],\n",
       "       [1],\n",
       "       [0],\n",
       "       [0],\n",
       "       [1],\n",
       "       [0],\n",
       "       [1],\n",
       "       [1],\n",
       "       [1],\n",
       "       [1],\n",
       "       [1],\n",
       "       [1],\n",
       "       [1],\n",
       "       [1],\n",
       "       [1],\n",
       "       [0],\n",
       "       [0],\n",
       "       [0],\n",
       "       [1],\n",
       "       [1],\n",
       "       [0],\n",
       "       [0],\n",
       "       [0],\n",
       "       [1],\n",
       "       [0],\n",
       "       [1],\n",
       "       [1],\n",
       "       [0],\n",
       "       [1],\n",
       "       [1],\n",
       "       [1],\n",
       "       [1],\n",
       "       [0],\n",
       "       [1],\n",
       "       [0],\n",
       "       [1],\n",
       "       [0],\n",
       "       [1],\n",
       "       [1],\n",
       "       [1],\n",
       "       [1],\n",
       "       [0],\n",
       "       [1],\n",
       "       [0],\n",
       "       [0],\n",
       "       [1],\n",
       "       [0],\n",
       "       [0],\n",
       "       [1],\n",
       "       [1],\n",
       "       [1],\n",
       "       [0],\n",
       "       [0],\n",
       "       [1],\n",
       "       [0],\n",
       "       [1],\n",
       "       [1],\n",
       "       [1],\n",
       "       [1],\n",
       "       [1],\n",
       "       [0],\n",
       "       [1],\n",
       "       [0],\n",
       "       [1],\n",
       "       [1],\n",
       "       [0],\n",
       "       [1],\n",
       "       [1],\n",
       "       [1],\n",
       "       [0],\n",
       "       [0],\n",
       "       [1],\n",
       "       [1],\n",
       "       [0],\n",
       "       [0],\n",
       "       [1],\n",
       "       [1],\n",
       "       [0],\n",
       "       [1],\n",
       "       [1],\n",
       "       [1],\n",
       "       [1],\n",
       "       [0],\n",
       "       [1],\n",
       "       [1],\n",
       "       [1],\n",
       "       [1],\n",
       "       [1]], dtype=int64)"
      ]
     },
     "execution_count": 65,
     "metadata": {},
     "output_type": "execute_result"
    }
   ],
   "source": [
    "# Look at the actual y_test\n",
    "#\n",
    "y_test"
   ]
  },
  {
   "cell_type": "code",
   "execution_count": 66,
   "id": "b2470462",
   "metadata": {},
   "outputs": [
    {
     "name": "stdout",
     "output_type": "stream",
     "text": [
      "Accuracy Score:  0.512\n",
      "Confusion Matrix: \n",
      " [[63 44]\n",
      " [78 65]]\n",
      "F1 Score:  0.5158730158730158\n",
      "Precision Score:  0.5963302752293578\n",
      "Recall score:  0.45454545454545453\n",
      "Area Under Curve score:  0.5216652506372133\n"
     ]
    }
   ],
   "source": [
    "dctEval = evaluate(cla, y_test, y_pred)\n",
    "printEval(cla, dctEval)"
   ]
  },
  {
   "cell_type": "markdown",
   "id": "3759afad",
   "metadata": {
    "jp-MarkdownHeadingCollapsed": true,
    "tags": []
   },
   "source": [
    "<h2>Random Forest</h2>"
   ]
  },
  {
   "cell_type": "code",
   "execution_count": 67,
   "id": "beeb4da5",
   "metadata": {},
   "outputs": [
    {
     "name": "stderr",
     "output_type": "stream",
     "text": [
      "C:\\Users\\kjmoo\\AppData\\Local\\Temp/ipykernel_4256/2696115339.py:2: DataConversionWarning: A column-vector y was passed when a 1d array was expected. Please change the shape of y to (n_samples,), for example using ravel().\n",
      "  forest.fit(X_train, y_train)\n"
     ]
    },
    {
     "data": {
      "text/plain": [
       "RandomForestClassifier(max_depth=4, n_estimators=1000, random_state=43)"
      ]
     },
     "execution_count": 67,
     "metadata": {},
     "output_type": "execute_result"
    }
   ],
   "source": [
    "forest = RandomForestClassifier(n_estimators = 1000, random_state = 43, max_depth=4, min_samples_split=2 )\n",
    "forest.fit(X_train, y_train)"
   ]
  },
  {
   "cell_type": "code",
   "execution_count": 68,
   "id": "53dbdb92",
   "metadata": {},
   "outputs": [
    {
     "data": {
      "text/plain": [
       "array([1, 0, 0, 0, 1, 0, 1, 1, 0, 1, 0, 1, 1, 1, 0, 1, 0, 0, 1, 0, 0, 0,\n",
       "       1, 0, 1, 1, 0, 0, 1, 0, 1, 0, 0, 1, 1, 0, 0, 1, 0, 0, 0, 1, 0, 1,\n",
       "       0, 1, 1, 0, 1, 0, 1, 0, 1, 0, 1, 0, 1, 1, 1, 1, 0, 0, 1, 0, 0, 1,\n",
       "       0, 1, 1, 0, 1, 1, 0, 1, 1, 1, 1, 1, 0, 0, 0, 1, 0, 1, 0, 0, 1, 0,\n",
       "       1, 0, 1, 0, 0, 1, 0, 1, 0, 1, 0, 1, 1, 0, 0, 0, 1, 0, 1, 0, 0, 1,\n",
       "       0, 0, 0, 1, 1, 0, 0, 1, 0, 1, 0, 1, 0, 0, 0, 1, 0, 0, 0, 1, 1, 0,\n",
       "       1, 1, 0, 1, 0, 0, 0, 0, 0, 0, 0, 0, 1, 0, 0, 0, 1, 1, 0, 1, 0, 0,\n",
       "       1, 0, 1, 1, 0, 0, 0, 0, 1, 0, 0, 0, 1, 1, 1, 1, 1, 1, 0, 0, 0, 1,\n",
       "       1, 0, 0, 1, 0, 0, 1, 1, 0, 0, 1, 1, 0, 0, 1, 0, 1, 0, 1, 1, 0, 0,\n",
       "       0, 1, 1, 1, 0, 0, 0, 1, 0, 0, 0, 0, 0, 0, 1, 1, 1, 1, 1, 0, 1, 0,\n",
       "       1, 1, 0, 0, 0, 0, 0, 1, 0, 1, 1, 1, 1, 1, 1, 1, 0, 1, 1, 0, 0, 1,\n",
       "       0, 0, 0, 0, 0, 0, 0, 0], dtype=int64)"
      ]
     },
     "execution_count": 68,
     "metadata": {},
     "output_type": "execute_result"
    }
   ],
   "source": [
    "# Prediction\n",
    "#\n",
    "y_pred = forest.predict(X_test)  #Accuracy\n",
    "y_pred"
   ]
  },
  {
   "cell_type": "code",
   "execution_count": 69,
   "id": "1f8ce2aa",
   "metadata": {
    "tags": []
   },
   "outputs": [],
   "source": [
    "#y_test"
   ]
  },
  {
   "cell_type": "code",
   "execution_count": 70,
   "id": "99d69d1f",
   "metadata": {},
   "outputs": [
    {
     "name": "stdout",
     "output_type": "stream",
     "text": [
      "Accuracy Score:  0.48\n",
      "Confusion Matrix: \n",
      " [[57 50]\n",
      " [80 63]]\n",
      "F1 Score:  0.49218749999999994\n",
      "Precision Score:  0.5575221238938053\n",
      "Recall score:  0.4405594405594406\n",
      "Area Under Curve score:  0.4866348604666362\n"
     ]
    }
   ],
   "source": [
    "forestEval = evaluate(cla, y_test, y_pred)\n",
    "printEval(cla, forestEval)"
   ]
  },
  {
   "cell_type": "markdown",
   "id": "76a56018",
   "metadata": {
    "jp-MarkdownHeadingCollapsed": true,
    "tags": []
   },
   "source": [
    "<h2>Logistic Regression</h2>"
   ]
  },
  {
   "cell_type": "code",
   "execution_count": 71,
   "id": "856720ca",
   "metadata": {},
   "outputs": [
    {
     "name": "stderr",
     "output_type": "stream",
     "text": [
      "C:\\Users\\kjmoo\\AppData\\Local\\Packages\\PythonSoftwareFoundation.Python.3.9_qbz5n2kfra8p0\\LocalCache\\local-packages\\Python39\\site-packages\\sklearn\\utils\\validation.py:985: DataConversionWarning: A column-vector y was passed when a 1d array was expected. Please change the shape of y to (n_samples, ), for example using ravel().\n",
      "  y = column_or_1d(y, warn=True)\n"
     ]
    },
    {
     "data": {
      "text/plain": [
       "LogisticRegression()"
      ]
     },
     "execution_count": 71,
     "metadata": {},
     "output_type": "execute_result"
    }
   ],
   "source": [
    "# Logistic Regression Classifier: Create and Train the model\n",
    "logistic = LogisticRegression()\n",
    "logistic.fit(X_train, y_train)"
   ]
  },
  {
   "cell_type": "code",
   "execution_count": 72,
   "id": "1e390b56-f35c-454a-bd69-3d7e08c8f69b",
   "metadata": {},
   "outputs": [
    {
     "data": {
      "text/plain": [
       "array([1, 1, 1, 1, 0, 0, 1, 1, 0, 1, 1, 1, 1, 0, 0, 1, 0, 1, 1, 0, 0, 0,\n",
       "       1, 1, 1, 1, 0, 0, 1, 1, 1, 1, 1, 1, 0, 0, 0, 0, 0, 0, 0, 1, 1, 1,\n",
       "       1, 1, 1, 1, 1, 0, 1, 0, 0, 1, 0, 0, 1, 0, 1, 0, 1, 0, 0, 0, 0, 1,\n",
       "       1, 1, 0, 0, 1, 0, 1, 1, 1, 0, 0, 1, 1, 0, 1, 0, 0, 0, 0, 1, 1, 0,\n",
       "       1, 0, 1, 0, 0, 0, 0, 1, 0, 0, 0, 1, 1, 1, 0, 0, 1, 0, 1, 0, 0, 1,\n",
       "       1, 0, 0, 1, 0, 0, 0, 1, 0, 1, 0, 1, 1, 1, 1, 1, 1, 1, 1, 1, 1, 1,\n",
       "       1, 1, 0, 0, 0, 0, 0, 0, 0, 0, 1, 1, 1, 0, 0, 1, 1, 1, 0, 1, 1, 1,\n",
       "       1, 0, 1, 1, 0, 0, 0, 0, 1, 1, 1, 0, 0, 1, 1, 1, 0, 0, 0, 0, 0, 0,\n",
       "       1, 0, 0, 1, 0, 0, 1, 1, 0, 1, 1, 1, 0, 0, 0, 1, 1, 1, 1, 1, 0, 0,\n",
       "       1, 0, 1, 1, 0, 0, 0, 0, 1, 0, 0, 1, 0, 0, 0, 1, 1, 1, 1, 1, 1, 1,\n",
       "       1, 1, 0, 1, 1, 0, 1, 0, 0, 0, 1, 1, 1, 1, 0, 1, 0, 1, 1, 0, 1, 1,\n",
       "       0, 1, 0, 0, 0, 1, 1, 0], dtype=int64)"
      ]
     },
     "execution_count": 72,
     "metadata": {},
     "output_type": "execute_result"
    }
   ],
   "source": [
    "# Prediction\n",
    "y_pred = logistic.predict(X_test)  #Accuracy\n",
    "y_pred"
   ]
  },
  {
   "cell_type": "code",
   "execution_count": 73,
   "id": "9ba14586-7149-4816-9bbe-119be9f6d2d6",
   "metadata": {
    "tags": []
   },
   "outputs": [],
   "source": [
    "# Look at the actual y_test\n",
    "#y_test"
   ]
  },
  {
   "cell_type": "code",
   "execution_count": 74,
   "id": "d52e985d-aee6-42f9-80e9-18e67a40ddf2",
   "metadata": {},
   "outputs": [
    {
     "name": "stdout",
     "output_type": "stream",
     "text": [
      "Accuracy Score:  0.472\n",
      "Confusion Matrix: \n",
      " [[46 61]\n",
      " [71 72]]\n",
      "F1 Score:  0.5217391304347826\n",
      "Precision Score:  0.5413533834586466\n",
      "Recall score:  0.5034965034965035\n",
      "Area Under Curve score:  0.4667015227762892\n"
     ]
    }
   ],
   "source": [
    "logisticEval = evaluate(cla, y_test, y_pred)\n",
    "printEval(cla, logisticEval)"
   ]
  },
  {
   "cell_type": "markdown",
   "id": "5555bcf8",
   "metadata": {
    "jp-MarkdownHeadingCollapsed": true,
    "tags": []
   },
   "source": [
    "<h2>XGBoost</h2>"
   ]
  },
  {
   "cell_type": "code",
   "execution_count": 75,
   "id": "d97f0722",
   "metadata": {},
   "outputs": [
    {
     "name": "stdout",
     "output_type": "stream",
     "text": [
      "[21:30:38] WARNING: C:/Users/Administrator/workspace/xgboost-win64_release_1.5.1/src/learner.cc:1115: Starting in XGBoost 1.3.0, the default evaluation metric used with the objective 'binary:logistic' was changed from 'error' to 'logloss'. Explicitly set eval_metric if you'd like to restore the old behavior.\n"
     ]
    },
    {
     "name": "stderr",
     "output_type": "stream",
     "text": [
      "C:\\Users\\kjmoo\\AppData\\Local\\Packages\\PythonSoftwareFoundation.Python.3.9_qbz5n2kfra8p0\\LocalCache\\local-packages\\Python39\\site-packages\\xgboost\\sklearn.py:1224: UserWarning: The use of label encoder in XGBClassifier is deprecated and will be removed in a future release. To remove this warning, do the following: 1) Pass option use_label_encoder=False when constructing XGBClassifier object; and 2) Encode your labels (y) as integers starting with 0, i.e. 0, 1, 2, ..., [num_class - 1].\n",
      "  warnings.warn(label_encoder_deprecation_msg, UserWarning)\n",
      "C:\\Users\\kjmoo\\AppData\\Local\\Packages\\PythonSoftwareFoundation.Python.3.9_qbz5n2kfra8p0\\LocalCache\\local-packages\\Python39\\site-packages\\sklearn\\preprocessing\\_label.py:98: DataConversionWarning: A column-vector y was passed when a 1d array was expected. Please change the shape of y to (n_samples, ), for example using ravel().\n",
      "  y = column_or_1d(y, warn=True)\n",
      "C:\\Users\\kjmoo\\AppData\\Local\\Packages\\PythonSoftwareFoundation.Python.3.9_qbz5n2kfra8p0\\LocalCache\\local-packages\\Python39\\site-packages\\sklearn\\preprocessing\\_label.py:133: DataConversionWarning: A column-vector y was passed when a 1d array was expected. Please change the shape of y to (n_samples, ), for example using ravel().\n",
      "  y = column_or_1d(y, warn=True)\n"
     ]
    },
    {
     "data": {
      "text/plain": [
       "XGBClassifier(base_score=0.5, booster='gbtree', colsample_bylevel=1,\n",
       "              colsample_bynode=1, colsample_bytree=1, enable_categorical=False,\n",
       "              gamma=0, gpu_id=-1, importance_type=None,\n",
       "              interaction_constraints='', learning_rate=0.300000012,\n",
       "              max_delta_step=0, max_depth=6, min_child_weight=1, missing=nan,\n",
       "              monotone_constraints='()', n_estimators=100, n_jobs=16,\n",
       "              num_parallel_tree=1, predictor='auto', random_state=0,\n",
       "              reg_alpha=0, reg_lambda=1, scale_pos_weight=1, subsample=1,\n",
       "              tree_method='exact', validate_parameters=1, verbosity=None)"
      ]
     },
     "execution_count": 75,
     "metadata": {},
     "output_type": "execute_result"
    }
   ],
   "source": [
    "from xgboost import XGBClassifier\n",
    "from numpy import loadtxt\n",
    "from sklearn.metrics import accuracy_score\n",
    "\n",
    "xgb = XGBClassifier()\n",
    "xgb.fit(X_train, y_train)"
   ]
  },
  {
   "cell_type": "code",
   "execution_count": 76,
   "id": "8996b5f4",
   "metadata": {},
   "outputs": [
    {
     "data": {
      "text/plain": [
       "array([1, 0, 0, 0, 1, 0, 0, 1, 0, 1, 1, 1, 1, 1, 0, 1, 0, 1, 1, 1, 1, 0,\n",
       "       0, 0, 0, 1, 0, 1, 1, 0, 1, 1, 0, 1, 1, 1, 0, 0, 0, 0, 1, 0, 1, 1,\n",
       "       0, 1, 1, 0, 1, 0, 1, 0, 0, 0, 1, 0, 1, 0, 0, 1, 0, 0, 1, 0, 0, 0,\n",
       "       0, 1, 1, 0, 0, 0, 0, 1, 0, 0, 0, 1, 0, 0, 0, 1, 0, 1, 0, 0, 0, 1,\n",
       "       0, 0, 1, 0, 0, 1, 1, 1, 0, 1, 1, 1, 0, 0, 0, 0, 0, 0, 1, 1, 1, 1,\n",
       "       0, 0, 0, 1, 1, 1, 0, 1, 0, 0, 1, 1, 1, 0, 0, 1, 0, 0, 0, 0, 1, 0,\n",
       "       1, 1, 0, 0, 0, 1, 0, 0, 0, 1, 1, 0, 1, 0, 0, 0, 0, 1, 1, 1, 0, 0,\n",
       "       1, 0, 1, 0, 1, 1, 0, 1, 1, 0, 0, 1, 1, 0, 0, 0, 0, 1, 0, 0, 0, 1,\n",
       "       1, 0, 0, 1, 0, 0, 1, 1, 1, 0, 1, 0, 0, 1, 0, 0, 1, 0, 1, 1, 0, 0,\n",
       "       0, 1, 1, 1, 0, 0, 0, 0, 0, 1, 0, 0, 0, 1, 1, 1, 1, 0, 1, 1, 1, 1,\n",
       "       1, 1, 1, 1, 0, 0, 0, 0, 1, 0, 1, 0, 1, 1, 1, 0, 0, 0, 0, 1, 0, 1,\n",
       "       1, 0, 0, 0, 1, 0, 0, 0], dtype=int64)"
      ]
     },
     "execution_count": 76,
     "metadata": {},
     "output_type": "execute_result"
    }
   ],
   "source": [
    "y_pred = xgb.predict(X_test)  #Accuracy\n",
    "y_pred"
   ]
  },
  {
   "cell_type": "code",
   "execution_count": 77,
   "id": "c1f30967",
   "metadata": {
    "tags": []
   },
   "outputs": [],
   "source": [
    "#y_test"
   ]
  },
  {
   "cell_type": "code",
   "execution_count": 78,
   "id": "528e5407",
   "metadata": {},
   "outputs": [
    {
     "name": "stdout",
     "output_type": "stream",
     "text": [
      "Accuracy Score:  0.48\n",
      "Confusion Matrix: \n",
      " [[57 50]\n",
      " [80 63]]\n",
      "F1 Score:  0.49218749999999994\n",
      "Precision Score:  0.5575221238938053\n",
      "Recall score:  0.4405594405594406\n",
      "Area Under Curve score:  0.4866348604666362\n"
     ]
    }
   ],
   "source": [
    "xgbEval = evaluate(cla, y_test, y_pred)\n",
    "printEval(cla, xgbEval)"
   ]
  },
  {
   "cell_type": "markdown",
   "id": "bf3baca6",
   "metadata": {
    "jp-MarkdownHeadingCollapsed": true,
    "tags": []
   },
   "source": [
    "<h2>Linear Regress</h2>"
   ]
  },
  {
   "cell_type": "code",
   "execution_count": 79,
   "id": "fa438d2d",
   "metadata": {},
   "outputs": [
    {
     "data": {
      "text/plain": [
       "['ADX',\n",
       " 'ADXR',\n",
       " 'aroondown',\n",
       " 'aroonup',\n",
       " 'BOP',\n",
       " 'CMO',\n",
       " 'DX',\n",
       " 'MINUS_DI',\n",
       " 'PLUS_DI',\n",
       " 'PPO',\n",
       " 'ROC',\n",
       " 'ROCR100',\n",
       " 'slowk',\n",
       " 'fastk',\n",
       " 'fastd',\n",
       " 'TRIX',\n",
       " 'ULTOSC']"
      ]
     },
     "execution_count": 79,
     "metadata": {},
     "output_type": "execute_result"
    }
   ],
   "source": [
    "n225_refeatures = selectFeatures(n225_ti,'Re Target')\n",
    "n225_refeatures.remove('Target')\n",
    "n225_refeatures.remove('Close')\n",
    "n225_refeatures"
   ]
  },
  {
   "cell_type": "code",
   "execution_count": 80,
   "id": "95ea452b",
   "metadata": {},
   "outputs": [],
   "source": [
    "from sklearn.model_selection import train_test_split\n",
    "X = n225_ti.loc[:, n225_refeatures].values\n",
    "y = n225_ti.loc[:, ['Re Target']].values\n",
    "X_train, X_test, y_train, y_test = train_test_split(X, y, test_size=0.2, random_state=0)"
   ]
  },
  {
   "cell_type": "code",
   "execution_count": 81,
   "id": "f925fc91",
   "metadata": {},
   "outputs": [],
   "source": [
    "from sklearn.preprocessing import StandardScaler\n",
    "sc = StandardScaler()\n",
    "X_train = sc.fit_transform(X_train)\n",
    "X_test = sc.transform(X_test)"
   ]
  },
  {
   "cell_type": "code",
   "execution_count": 82,
   "id": "ca078214",
   "metadata": {},
   "outputs": [],
   "source": [
    "from sklearn.linear_model import LinearRegression\n",
    "lr = LinearRegression(fit_intercept=True)\n",
    "from sklearn import metrics"
   ]
  },
  {
   "cell_type": "code",
   "execution_count": 83,
   "id": "02cfce81",
   "metadata": {},
   "outputs": [
    {
     "data": {
      "text/plain": [
       "LinearRegression()"
      ]
     },
     "execution_count": 83,
     "metadata": {},
     "output_type": "execute_result"
    }
   ],
   "source": [
    "lr = LinearRegression()\n",
    "lr.fit(X_train, y_train)"
   ]
  },
  {
   "cell_type": "code",
   "execution_count": 84,
   "id": "683a1dc9",
   "metadata": {
    "collapsed": true,
    "jupyter": {
     "outputs_hidden": true
    },
    "tags": []
   },
   "outputs": [],
   "source": [
    "y_pred = lr.predict(X_test)\n",
    "#print(y_pred)"
   ]
  },
  {
   "cell_type": "code",
   "execution_count": 85,
   "id": "e12ec864",
   "metadata": {},
   "outputs": [],
   "source": [
    "dframe = pd.DataFrame({'Actual':y_test.flatten(),'predicted':y_pred.flatten()})"
   ]
  },
  {
   "cell_type": "code",
   "execution_count": 86,
   "id": "30761530-a3c9-49c4-95ca-a1847ee2f0dd",
   "metadata": {},
   "outputs": [
    {
     "name": "stdout",
     "output_type": "stream",
     "text": [
      "Slope: [[-4.15162375e+02  2.03888614e+02 -2.80084832e+02 -1.70813240e+02\n",
      "   2.18570850e+02 -2.17998974e+03  2.59638426e+02 -1.54781264e+03\n",
      "   3.38742357e+02  3.74791681e+02  4.10387475e+16 -4.10387475e+16\n",
      "  -1.68811827e+15  1.40799762e+02  1.68811827e+15  8.23340218e+02\n",
      "  -9.81219262e+02]]\n",
      "Intercept: [23241.23755229]\n"
     ]
    }
   ],
   "source": [
    "print('Slope:', lr.coef_)\n",
    "print('Intercept:', lr.intercept_)"
   ]
  },
  {
   "cell_type": "code",
   "execution_count": 87,
   "id": "2e655053-f499-4d87-8846-87767010a8fb",
   "metadata": {},
   "outputs": [
    {
     "data": {
      "image/png": "[encoded data removed]",
      "text/plain": [
       "<Figure size 936x432 with 1 Axes>"
      ]
     },
     "metadata": {
      "needs_background": "light"
     },
     "output_type": "display_data"
    }
   ],
   "source": [
    "plotReg('Nikkei 225 Stock Average 180 days', n225.index, n225[['Future Close']], n225_ti.iloc[-180:], n225_refeatures, lr)"
   ]
  },
  {
   "cell_type": "code",
   "execution_count": 88,
   "id": "eb768b0e",
   "metadata": {},
   "outputs": [
    {
     "name": "stdout",
     "output_type": "stream",
     "text": [
      "Mean Squared Error:  3064.967607536687\n",
      "Adjusted R squared 0.15862457825043064\n"
     ]
    }
   ],
   "source": [
    "lrEval = evaluate(reg, y_test, y_pred)\n",
    "printEval(reg, lrEval)"
   ]
  },
  {
   "cell_type": "markdown",
   "id": "f7b30f7d",
   "metadata": {
    "jp-MarkdownHeadingCollapsed": true,
    "tags": []
   },
   "source": [
    "<h2>Polynomial Regression</h2>"
   ]
  },
  {
   "cell_type": "code",
   "execution_count": 89,
   "id": "3591627b",
   "metadata": {},
   "outputs": [
    {
     "data": {
      "text/plain": [
       "Pipeline(steps=[('polynomialfeatures', PolynomialFeatures()),\n",
       "                ('linearregression', LinearRegression())])"
      ]
     },
     "execution_count": 89,
     "metadata": {},
     "output_type": "execute_result"
    }
   ],
   "source": [
    "from sklearn.preprocessing import PolynomialFeatures\n",
    "from sklearn.pipeline import make_pipeline\n",
    "from sklearn.linear_model import LinearRegression\n",
    "degree=2\n",
    "pr=make_pipeline(PolynomialFeatures(degree),LinearRegression())\n",
    "pr.fit(X_train,y_train)"
   ]
  },
  {
   "cell_type": "code",
   "execution_count": 90,
   "id": "813e219c",
   "metadata": {
    "collapsed": true,
    "jupyter": {
     "outputs_hidden": true
    },
    "tags": []
   },
   "outputs": [],
   "source": [
    "y_pred = pr.predict(X_test)  #Accuracy\n",
    "#y_pred"
   ]
  },
  {
   "cell_type": "code",
   "execution_count": 91,
   "id": "37690452-f605-44ec-8ed6-7aac0115d4d8",
   "metadata": {},
   "outputs": [
    {
     "data": {
      "image/png": "[encoded data removed]",
      "text/plain": [
       "<Figure size 936x432 with 1 Axes>"
      ]
     },
     "metadata": {
      "needs_background": "light"
     },
     "output_type": "display_data"
    }
   ],
   "source": [
    "plotReg('Nikkei 225 Stock Average 180 days', n225.index, n225[['Future Close']], n225_ti.iloc[-180:], n225_refeatures, pr)"
   ]
  },
  {
   "cell_type": "code",
   "execution_count": 92,
   "id": "15d5fd36",
   "metadata": {},
   "outputs": [
    {
     "name": "stdout",
     "output_type": "stream",
     "text": [
      "Mean Squared Error:  2800.2106542784836\n",
      "Adjusted R squared 0.2977052034515255\n"
     ]
    }
   ],
   "source": [
    "gsEval = evaluate(reg, y_test, y_pred)\n",
    "printEval(reg, gsEval)"
   ]
  },
  {
   "cell_type": "code",
   "execution_count": null,
   "metadata": {},
   "outputs": [],
   "source": []
  },
  {
   "cell_type": "code",
   "execution_count": 171,
   "id": "fa4184b1",
   "metadata": {
    "jupyter": {
     "source_hidden": true
    },
    "tags": []
   },
   "outputs": [
    {
     "name": "stdout",
     "output_type": "stream",
     "text": [
      "[1, 0, 1, 0, 0, 0]\n",
      "The model suggests that you should buy\n"
     ]
    }
   ],
   "source": [
    "finalPredict(n225_target, n225_features,n225_refeatures, dctEval, forestEval, logisticEval, xgbEval, lrEval, prEval)\n"
   ]
  },
  {
   "cell_type": "markdown",
   "id": "6351bd27",
   "metadata": {
    "jp-MarkdownHeadingCollapsed": true,
    "tags": []
   },
   "source": [
    "<h1>Heng Seng Index</h1>"
   ]
  },
  {
   "cell_type": "markdown",
   "id": "b1405105",
   "metadata": {
    "jp-MarkdownHeadingCollapsed": true,
    "tags": []
   },
   "source": [
    "<h2>Feature Selection</h2>"
   ]
  },
  {
   "cell_type": "code",
   "execution_count": 94,
   "id": "9062aa12",
   "metadata": {},
   "outputs": [
    {
     "data": {
      "text/html": [
       "<div>\n",
       "<style scoped>\n",
       "    .dataframe tbody tr th:only-of-type {\n",
       "        vertical-align: middle;\n",
       "    }\n",
       "\n",
       "    .dataframe tbody tr th {\n",
       "        vertical-align: top;\n",
       "    }\n",
       "\n",
       "    .dataframe thead th {\n",
       "        text-align: right;\n",
       "    }\n",
       "</style>\n",
       "<table border=\"1\" class=\"dataframe\">\n",
       "  <thead>\n",
       "    <tr style=\"text-align: right;\">\n",
       "      <th></th>\n",
       "      <th>High</th>\n",
       "      <th>Low</th>\n",
       "      <th>Open</th>\n",
       "      <th>Close</th>\n",
       "      <th>Volume</th>\n",
       "      <th>Adj Close</th>\n",
       "      <th>Future Close</th>\n",
       "    </tr>\n",
       "    <tr>\n",
       "      <th>Date</th>\n",
       "      <th></th>\n",
       "      <th></th>\n",
       "      <th></th>\n",
       "      <th></th>\n",
       "      <th></th>\n",
       "      <th></th>\n",
       "      <th></th>\n",
       "    </tr>\n",
       "  </thead>\n",
       "  <tbody>\n",
       "    <tr>\n",
       "      <th>2016-01-04</th>\n",
       "      <td>21794.839844</td>\n",
       "      <td>21227.609375</td>\n",
       "      <td>21782.619141</td>\n",
       "      <td>21327.119141</td>\n",
       "      <td>1.712095e+09</td>\n",
       "      <td>21327.119141</td>\n",
       "      <td>21188.720703</td>\n",
       "    </tr>\n",
       "    <tr>\n",
       "      <th>2016-01-05</th>\n",
       "      <td>21452.740234</td>\n",
       "      <td>21095.900391</td>\n",
       "      <td>21318.689453</td>\n",
       "      <td>21188.720703</td>\n",
       "      <td>1.484745e+09</td>\n",
       "      <td>21188.720703</td>\n",
       "      <td>20980.810547</td>\n",
       "    </tr>\n",
       "    <tr>\n",
       "      <th>2016-01-06</th>\n",
       "      <td>21199.619141</td>\n",
       "      <td>20947.300781</td>\n",
       "      <td>21142.630859</td>\n",
       "      <td>20980.810547</td>\n",
       "      <td>1.651083e+09</td>\n",
       "      <td>20980.810547</td>\n",
       "      <td>20333.339844</td>\n",
       "    </tr>\n",
       "    <tr>\n",
       "      <th>2016-01-07</th>\n",
       "      <td>20826.439453</td>\n",
       "      <td>20323.970703</td>\n",
       "      <td>20772.599609</td>\n",
       "      <td>20333.339844</td>\n",
       "      <td>2.982004e+09</td>\n",
       "      <td>20333.339844</td>\n",
       "      <td>20453.710938</td>\n",
       "    </tr>\n",
       "    <tr>\n",
       "      <th>2016-01-08</th>\n",
       "      <td>20596.419922</td>\n",
       "      <td>20324.619141</td>\n",
       "      <td>20491.880859</td>\n",
       "      <td>20453.710938</td>\n",
       "      <td>2.078133e+09</td>\n",
       "      <td>20453.710938</td>\n",
       "      <td>19888.500000</td>\n",
       "    </tr>\n",
       "    <tr>\n",
       "      <th>...</th>\n",
       "      <td>...</td>\n",
       "      <td>...</td>\n",
       "      <td>...</td>\n",
       "      <td>...</td>\n",
       "      <td>...</td>\n",
       "      <td>...</td>\n",
       "      <td>...</td>\n",
       "    </tr>\n",
       "    <tr>\n",
       "      <th>2021-11-30</th>\n",
       "      <td>23888.369141</td>\n",
       "      <td>23175.369141</td>\n",
       "      <td>23782.859375</td>\n",
       "      <td>23475.259766</td>\n",
       "      <td>3.344858e+09</td>\n",
       "      <td>23475.259766</td>\n",
       "      <td>23658.919922</td>\n",
       "    </tr>\n",
       "    <tr>\n",
       "      <th>2021-12-01</th>\n",
       "      <td>23864.300781</td>\n",
       "      <td>23537.650391</td>\n",
       "      <td>23595.570312</td>\n",
       "      <td>23658.919922</td>\n",
       "      <td>2.118635e+09</td>\n",
       "      <td>23658.919922</td>\n",
       "      <td>23788.929688</td>\n",
       "    </tr>\n",
       "    <tr>\n",
       "      <th>2021-12-02</th>\n",
       "      <td>23807.000000</td>\n",
       "      <td>23517.519531</td>\n",
       "      <td>23524.050781</td>\n",
       "      <td>23788.929688</td>\n",
       "      <td>2.328241e+09</td>\n",
       "      <td>23788.929688</td>\n",
       "      <td>23766.689453</td>\n",
       "    </tr>\n",
       "    <tr>\n",
       "      <th>2021-12-03</th>\n",
       "      <td>23802.769531</td>\n",
       "      <td>23451.929688</td>\n",
       "      <td>23675.259766</td>\n",
       "      <td>23766.689453</td>\n",
       "      <td>2.717890e+09</td>\n",
       "      <td>23766.689453</td>\n",
       "      <td>23349.380859</td>\n",
       "    </tr>\n",
       "    <tr>\n",
       "      <th>2021-12-06</th>\n",
       "      <td>23628.300781</td>\n",
       "      <td>23314.970703</td>\n",
       "      <td>23420.439453</td>\n",
       "      <td>23349.380859</td>\n",
       "      <td>0.000000e+00</td>\n",
       "      <td>23349.380859</td>\n",
       "      <td>NaN</td>\n",
       "    </tr>\n",
       "  </tbody>\n",
       "</table>\n",
       "<p>1460 rows × 7 columns</p>\n",
       "</div>"
      ],
      "text/plain": [
       "                    High           Low          Open         Close  \\\n",
       "Date                                                                 \n",
       "2016-01-04  21794.839844  21227.609375  21782.619141  21327.119141   \n",
       "2016-01-05  21452.740234  21095.900391  21318.689453  21188.720703   \n",
       "2016-01-06  21199.619141  20947.300781  21142.630859  20980.810547   \n",
       "2016-01-07  20826.439453  20323.970703  20772.599609  20333.339844   \n",
       "2016-01-08  20596.419922  20324.619141  20491.880859  20453.710938   \n",
       "...                  ...           ...           ...           ...   \n",
       "2021-11-30  23888.369141  23175.369141  23782.859375  23475.259766   \n",
       "2021-12-01  23864.300781  23537.650391  23595.570312  23658.919922   \n",
       "2021-12-02  23807.000000  23517.519531  23524.050781  23788.929688   \n",
       "2021-12-03  23802.769531  23451.929688  23675.259766  23766.689453   \n",
       "2021-12-06  23628.300781  23314.970703  23420.439453  23349.380859   \n",
       "\n",
       "                  Volume     Adj Close  Future Close  \n",
       "Date                                                  \n",
       "2016-01-04  1.712095e+09  21327.119141  21188.720703  \n",
       "2016-01-05  1.484745e+09  21188.720703  20980.810547  \n",
       "2016-01-06  1.651083e+09  20980.810547  20333.339844  \n",
       "2016-01-07  2.982004e+09  20333.339844  20453.710938  \n",
       "2016-01-08  2.078133e+09  20453.710938  19888.500000  \n",
       "...                  ...           ...           ...  \n",
       "2021-11-30  3.344858e+09  23475.259766  23658.919922  \n",
       "2021-12-01  2.118635e+09  23658.919922  23788.929688  \n",
       "2021-12-02  2.328241e+09  23788.929688  23766.689453  \n",
       "2021-12-03  2.717890e+09  23766.689453  23349.380859  \n",
       "2021-12-06  0.000000e+00  23349.380859           NaN  \n",
       "\n",
       "[1460 rows x 7 columns]"
      ]
     },
     "execution_count": 94,
     "metadata": {},
     "output_type": "execute_result"
    }
   ],
   "source": [
    "hsi['Future Close'] = hsi['Close'].shift(-1)\n",
    "hsi"
   ]
  },
  {
   "cell_type": "code",
   "execution_count": 95,
   "id": "29ed1e2f",
   "metadata": {},
   "outputs": [],
   "source": [
    "target = computeTarget(hsi['Close'], hsi['Future Close'])\n",
    "\n",
    "hsi['Target'] = target\n"
   ]
  },
  {
   "cell_type": "code",
   "execution_count": 96,
   "id": "91849ee3",
   "metadata": {},
   "outputs": [],
   "source": [
    "close = hsi['Close']\n",
    "high = hsi['High']\n",
    "low = hsi['Low']\n",
    "open = hsi['Open']\n",
    "volume  = hsi['Volume']"
   ]
  },
  {
   "cell_type": "code",
   "execution_count": 97,
   "id": "a052f075",
   "metadata": {},
   "outputs": [
    {
     "data": {
      "text/html": [
       "<div>\n",
       "<style scoped>\n",
       "    .dataframe tbody tr th:only-of-type {\n",
       "        vertical-align: middle;\n",
       "    }\n",
       "\n",
       "    .dataframe tbody tr th {\n",
       "        vertical-align: top;\n",
       "    }\n",
       "\n",
       "    .dataframe thead th {\n",
       "        text-align: right;\n",
       "    }\n",
       "</style>\n",
       "<table border=\"1\" class=\"dataframe\">\n",
       "  <thead>\n",
       "    <tr style=\"text-align: right;\">\n",
       "      <th></th>\n",
       "      <th>SMA20</th>\n",
       "      <th>SMA50</th>\n",
       "      <th>SMA200</th>\n",
       "      <th>EMA</th>\n",
       "      <th>OBV</th>\n",
       "      <th>RSI14</th>\n",
       "      <th>ADX</th>\n",
       "      <th>ADXR</th>\n",
       "      <th>aroondown</th>\n",
       "      <th>aroonup</th>\n",
       "      <th>...</th>\n",
       "      <th>slowk</th>\n",
       "      <th>slowd</th>\n",
       "      <th>fastk</th>\n",
       "      <th>fastd</th>\n",
       "      <th>TRIX</th>\n",
       "      <th>ULTOSC</th>\n",
       "      <th>WILLR</th>\n",
       "      <th>Target</th>\n",
       "      <th>Close</th>\n",
       "      <th>Re Target</th>\n",
       "    </tr>\n",
       "    <tr>\n",
       "      <th>Date</th>\n",
       "      <th></th>\n",
       "      <th></th>\n",
       "      <th></th>\n",
       "      <th></th>\n",
       "      <th></th>\n",
       "      <th></th>\n",
       "      <th></th>\n",
       "      <th></th>\n",
       "      <th></th>\n",
       "      <th></th>\n",
       "      <th></th>\n",
       "      <th></th>\n",
       "      <th></th>\n",
       "      <th></th>\n",
       "      <th></th>\n",
       "      <th></th>\n",
       "      <th></th>\n",
       "      <th></th>\n",
       "      <th></th>\n",
       "      <th></th>\n",
       "      <th></th>\n",
       "    </tr>\n",
       "  </thead>\n",
       "  <tbody>\n",
       "    <tr>\n",
       "      <th>2016-01-04</th>\n",
       "      <td>NaN</td>\n",
       "      <td>NaN</td>\n",
       "      <td>NaN</td>\n",
       "      <td>NaN</td>\n",
       "      <td>1.712095e+09</td>\n",
       "      <td>NaN</td>\n",
       "      <td>NaN</td>\n",
       "      <td>NaN</td>\n",
       "      <td>NaN</td>\n",
       "      <td>NaN</td>\n",
       "      <td>...</td>\n",
       "      <td>NaN</td>\n",
       "      <td>NaN</td>\n",
       "      <td>NaN</td>\n",
       "      <td>NaN</td>\n",
       "      <td>NaN</td>\n",
       "      <td>NaN</td>\n",
       "      <td>NaN</td>\n",
       "      <td>0</td>\n",
       "      <td>21327.119141</td>\n",
       "      <td>21188.720703</td>\n",
       "    </tr>\n",
       "    <tr>\n",
       "      <th>2016-01-05</th>\n",
       "      <td>NaN</td>\n",
       "      <td>NaN</td>\n",
       "      <td>NaN</td>\n",
       "      <td>NaN</td>\n",
       "      <td>2.273497e+08</td>\n",
       "      <td>NaN</td>\n",
       "      <td>NaN</td>\n",
       "      <td>NaN</td>\n",
       "      <td>NaN</td>\n",
       "      <td>NaN</td>\n",
       "      <td>...</td>\n",
       "      <td>NaN</td>\n",
       "      <td>NaN</td>\n",
       "      <td>NaN</td>\n",
       "      <td>NaN</td>\n",
       "      <td>NaN</td>\n",
       "      <td>NaN</td>\n",
       "      <td>NaN</td>\n",
       "      <td>0</td>\n",
       "      <td>21188.720703</td>\n",
       "      <td>20980.810547</td>\n",
       "    </tr>\n",
       "    <tr>\n",
       "      <th>2016-01-06</th>\n",
       "      <td>NaN</td>\n",
       "      <td>NaN</td>\n",
       "      <td>NaN</td>\n",
       "      <td>NaN</td>\n",
       "      <td>-1.423734e+09</td>\n",
       "      <td>NaN</td>\n",
       "      <td>NaN</td>\n",
       "      <td>NaN</td>\n",
       "      <td>NaN</td>\n",
       "      <td>NaN</td>\n",
       "      <td>...</td>\n",
       "      <td>NaN</td>\n",
       "      <td>NaN</td>\n",
       "      <td>NaN</td>\n",
       "      <td>NaN</td>\n",
       "      <td>NaN</td>\n",
       "      <td>NaN</td>\n",
       "      <td>NaN</td>\n",
       "      <td>0</td>\n",
       "      <td>20980.810547</td>\n",
       "      <td>20333.339844</td>\n",
       "    </tr>\n",
       "    <tr>\n",
       "      <th>2016-01-07</th>\n",
       "      <td>NaN</td>\n",
       "      <td>NaN</td>\n",
       "      <td>NaN</td>\n",
       "      <td>NaN</td>\n",
       "      <td>-4.405738e+09</td>\n",
       "      <td>NaN</td>\n",
       "      <td>NaN</td>\n",
       "      <td>NaN</td>\n",
       "      <td>NaN</td>\n",
       "      <td>NaN</td>\n",
       "      <td>...</td>\n",
       "      <td>NaN</td>\n",
       "      <td>NaN</td>\n",
       "      <td>NaN</td>\n",
       "      <td>NaN</td>\n",
       "      <td>NaN</td>\n",
       "      <td>NaN</td>\n",
       "      <td>NaN</td>\n",
       "      <td>1</td>\n",
       "      <td>20333.339844</td>\n",
       "      <td>20453.710938</td>\n",
       "    </tr>\n",
       "    <tr>\n",
       "      <th>2016-01-08</th>\n",
       "      <td>NaN</td>\n",
       "      <td>NaN</td>\n",
       "      <td>NaN</td>\n",
       "      <td>NaN</td>\n",
       "      <td>-2.327604e+09</td>\n",
       "      <td>NaN</td>\n",
       "      <td>NaN</td>\n",
       "      <td>NaN</td>\n",
       "      <td>NaN</td>\n",
       "      <td>NaN</td>\n",
       "      <td>...</td>\n",
       "      <td>NaN</td>\n",
       "      <td>NaN</td>\n",
       "      <td>NaN</td>\n",
       "      <td>NaN</td>\n",
       "      <td>NaN</td>\n",
       "      <td>NaN</td>\n",
       "      <td>NaN</td>\n",
       "      <td>0</td>\n",
       "      <td>20453.710938</td>\n",
       "      <td>19888.500000</td>\n",
       "    </tr>\n",
       "    <tr>\n",
       "      <th>...</th>\n",
       "      <td>...</td>\n",
       "      <td>...</td>\n",
       "      <td>...</td>\n",
       "      <td>...</td>\n",
       "      <td>...</td>\n",
       "      <td>...</td>\n",
       "      <td>...</td>\n",
       "      <td>...</td>\n",
       "      <td>...</td>\n",
       "      <td>...</td>\n",
       "      <td>...</td>\n",
       "      <td>...</td>\n",
       "      <td>...</td>\n",
       "      <td>...</td>\n",
       "      <td>...</td>\n",
       "      <td>...</td>\n",
       "      <td>...</td>\n",
       "      <td>...</td>\n",
       "      <td>...</td>\n",
       "      <td>...</td>\n",
       "      <td>...</td>\n",
       "    </tr>\n",
       "    <tr>\n",
       "      <th>2021-11-30</th>\n",
       "      <td>24891.525586</td>\n",
       "      <td>24962.398438</td>\n",
       "      <td>27281.231582</td>\n",
       "      <td>24606.557641</td>\n",
       "      <td>1.796668e+11</td>\n",
       "      <td>26.337965</td>\n",
       "      <td>20.745865</td>\n",
       "      <td>17.735988</td>\n",
       "      <td>100.000000</td>\n",
       "      <td>28.571429</td>\n",
       "      <td>...</td>\n",
       "      <td>8.961841</td>\n",
       "      <td>13.965130</td>\n",
       "      <td>17.891526</td>\n",
       "      <td>8.961841</td>\n",
       "      <td>-0.060435</td>\n",
       "      <td>35.699137</td>\n",
       "      <td>-88.337193</td>\n",
       "      <td>1</td>\n",
       "      <td>23475.259766</td>\n",
       "      <td>23658.919922</td>\n",
       "    </tr>\n",
       "    <tr>\n",
       "      <th>2021-12-01</th>\n",
       "      <td>24823.234082</td>\n",
       "      <td>24942.219844</td>\n",
       "      <td>27252.928828</td>\n",
       "      <td>24480.205945</td>\n",
       "      <td>1.817854e+11</td>\n",
       "      <td>30.643761</td>\n",
       "      <td>23.149249</td>\n",
       "      <td>18.413873</td>\n",
       "      <td>92.857143</td>\n",
       "      <td>21.428571</td>\n",
       "      <td>...</td>\n",
       "      <td>18.530248</td>\n",
       "      <td>14.225536</td>\n",
       "      <td>30.464877</td>\n",
       "      <td>18.530248</td>\n",
       "      <td>-0.063597</td>\n",
       "      <td>35.681700</td>\n",
       "      <td>-81.194613</td>\n",
       "      <td>1</td>\n",
       "      <td>23658.919922</td>\n",
       "      <td>23788.929688</td>\n",
       "    </tr>\n",
       "    <tr>\n",
       "      <th>2021-12-02</th>\n",
       "      <td>24751.421094</td>\n",
       "      <td>24919.583242</td>\n",
       "      <td>27224.492529</td>\n",
       "      <td>24388.035777</td>\n",
       "      <td>1.841137e+11</td>\n",
       "      <td>33.602504</td>\n",
       "      <td>25.404155</td>\n",
       "      <td>19.054933</td>\n",
       "      <td>85.714286</td>\n",
       "      <td>14.285714</td>\n",
       "      <td>...</td>\n",
       "      <td>31.527417</td>\n",
       "      <td>19.673169</td>\n",
       "      <td>46.225847</td>\n",
       "      <td>31.527417</td>\n",
       "      <td>-0.067209</td>\n",
       "      <td>41.550020</td>\n",
       "      <td>-76.138507</td>\n",
       "      <td>0</td>\n",
       "      <td>23788.929688</td>\n",
       "      <td>23766.689453</td>\n",
       "    </tr>\n",
       "    <tr>\n",
       "      <th>2021-12-03</th>\n",
       "      <td>24696.230078</td>\n",
       "      <td>24912.934219</td>\n",
       "      <td>27193.132373</td>\n",
       "      <td>24305.189601</td>\n",
       "      <td>1.813958e+11</td>\n",
       "      <td>33.340479</td>\n",
       "      <td>27.576825</td>\n",
       "      <td>20.026719</td>\n",
       "      <td>78.571429</td>\n",
       "      <td>7.142857</td>\n",
       "      <td>...</td>\n",
       "      <td>46.117986</td>\n",
       "      <td>32.058550</td>\n",
       "      <td>61.663235</td>\n",
       "      <td>46.117986</td>\n",
       "      <td>-0.071155</td>\n",
       "      <td>45.498410</td>\n",
       "      <td>-77.003434</td>\n",
       "      <td>0</td>\n",
       "      <td>23766.689453</td>\n",
       "      <td>23349.380859</td>\n",
       "    </tr>\n",
       "    <tr>\n",
       "      <th>2021-12-06</th>\n",
       "      <td>24625.510645</td>\n",
       "      <td>24895.491055</td>\n",
       "      <td>27159.011426</td>\n",
       "      <td>24177.748435</td>\n",
       "      <td>1.813958e+11</td>\n",
       "      <td>28.802137</td>\n",
       "      <td>29.758262</td>\n",
       "      <td>21.011071</td>\n",
       "      <td>71.428571</td>\n",
       "      <td>0.000000</td>\n",
       "      <td>...</td>\n",
       "      <td>44.098218</td>\n",
       "      <td>40.581207</td>\n",
       "      <td>24.405571</td>\n",
       "      <td>44.098218</td>\n",
       "      <td>-0.075752</td>\n",
       "      <td>38.874744</td>\n",
       "      <td>-93.018423</td>\n",
       "      <td>0</td>\n",
       "      <td>23349.380859</td>\n",
       "      <td>NaN</td>\n",
       "    </tr>\n",
       "  </tbody>\n",
       "</table>\n",
       "<p>1460 rows × 40 columns</p>\n",
       "</div>"
      ],
      "text/plain": [
       "                   SMA20         SMA50        SMA200           EMA  \\\n",
       "Date                                                                 \n",
       "2016-01-04           NaN           NaN           NaN           NaN   \n",
       "2016-01-05           NaN           NaN           NaN           NaN   \n",
       "2016-01-06           NaN           NaN           NaN           NaN   \n",
       "2016-01-07           NaN           NaN           NaN           NaN   \n",
       "2016-01-08           NaN           NaN           NaN           NaN   \n",
       "...                  ...           ...           ...           ...   \n",
       "2021-11-30  24891.525586  24962.398438  27281.231582  24606.557641   \n",
       "2021-12-01  24823.234082  24942.219844  27252.928828  24480.205945   \n",
       "2021-12-02  24751.421094  24919.583242  27224.492529  24388.035777   \n",
       "2021-12-03  24696.230078  24912.934219  27193.132373  24305.189601   \n",
       "2021-12-06  24625.510645  24895.491055  27159.011426  24177.748435   \n",
       "\n",
       "                     OBV      RSI14        ADX       ADXR   aroondown  \\\n",
       "Date                                                                    \n",
       "2016-01-04  1.712095e+09        NaN        NaN        NaN         NaN   \n",
       "2016-01-05  2.273497e+08        NaN        NaN        NaN         NaN   \n",
       "2016-01-06 -1.423734e+09        NaN        NaN        NaN         NaN   \n",
       "2016-01-07 -4.405738e+09        NaN        NaN        NaN         NaN   \n",
       "2016-01-08 -2.327604e+09        NaN        NaN        NaN         NaN   \n",
       "...                  ...        ...        ...        ...         ...   \n",
       "2021-11-30  1.796668e+11  26.337965  20.745865  17.735988  100.000000   \n",
       "2021-12-01  1.817854e+11  30.643761  23.149249  18.413873   92.857143   \n",
       "2021-12-02  1.841137e+11  33.602504  25.404155  19.054933   85.714286   \n",
       "2021-12-03  1.813958e+11  33.340479  27.576825  20.026719   78.571429   \n",
       "2021-12-06  1.813958e+11  28.802137  29.758262  21.011071   71.428571   \n",
       "\n",
       "              aroonup  ...      slowk      slowd      fastk      fastd  \\\n",
       "Date                   ...                                               \n",
       "2016-01-04        NaN  ...        NaN        NaN        NaN        NaN   \n",
       "2016-01-05        NaN  ...        NaN        NaN        NaN        NaN   \n",
       "2016-01-06        NaN  ...        NaN        NaN        NaN        NaN   \n",
       "2016-01-07        NaN  ...        NaN        NaN        NaN        NaN   \n",
       "2016-01-08        NaN  ...        NaN        NaN        NaN        NaN   \n",
       "...               ...  ...        ...        ...        ...        ...   \n",
       "2021-11-30  28.571429  ...   8.961841  13.965130  17.891526   8.961841   \n",
       "2021-12-01  21.428571  ...  18.530248  14.225536  30.464877  18.530248   \n",
       "2021-12-02  14.285714  ...  31.527417  19.673169  46.225847  31.527417   \n",
       "2021-12-03   7.142857  ...  46.117986  32.058550  61.663235  46.117986   \n",
       "2021-12-06   0.000000  ...  44.098218  40.581207  24.405571  44.098218   \n",
       "\n",
       "                TRIX     ULTOSC      WILLR  Target         Close     Re Target  \n",
       "Date                                                                            \n",
       "2016-01-04       NaN        NaN        NaN       0  21327.119141  21188.720703  \n",
       "2016-01-05       NaN        NaN        NaN       0  21188.720703  20980.810547  \n",
       "2016-01-06       NaN        NaN        NaN       0  20980.810547  20333.339844  \n",
       "2016-01-07       NaN        NaN        NaN       1  20333.339844  20453.710938  \n",
       "2016-01-08       NaN        NaN        NaN       0  20453.710938  19888.500000  \n",
       "...              ...        ...        ...     ...           ...           ...  \n",
       "2021-11-30 -0.060435  35.699137 -88.337193       1  23475.259766  23658.919922  \n",
       "2021-12-01 -0.063597  35.681700 -81.194613       1  23658.919922  23788.929688  \n",
       "2021-12-02 -0.067209  41.550020 -76.138507       0  23788.929688  23766.689453  \n",
       "2021-12-03 -0.071155  45.498410 -77.003434       0  23766.689453  23349.380859  \n",
       "2021-12-06 -0.075752  38.874744 -93.018423       0  23349.380859           NaN  \n",
       "\n",
       "[1460 rows x 40 columns]"
      ]
     },
     "execution_count": 97,
     "metadata": {},
     "output_type": "execute_result"
    }
   ],
   "source": [
    "hsi_ti = pd.DataFrame()\n",
    "hsi_ti['SMA20'] = talib.SMA(close, timeperiod=20)\n",
    "hsi_ti['SMA50'] = talib.SMA(close, timeperiod=50)\n",
    "hsi_ti['SMA200'] = talib.SMA(close, timeperiod=200)\n",
    "hsi_ti['EMA'] = talib.EMA(close, timeperiod=14)\n",
    "hsi_ti['OBV'] = talib.OBV(close, volume)\n",
    "hsi_ti['RSI14'] = talib.RSI(close, timeperiod=14)\n",
    "hsi_ti['ADX'] = talib.ADX(high, low, close, timeperiod=14)\n",
    "hsi_ti['ADXR'] = talib.ADXR(high, low, close, timeperiod=14)\n",
    "hsi_ti['aroondown'], hsi_ti['aroonup'] = talib.AROON(high, low, timeperiod=14)\n",
    "hsi_ti['APO'] = talib.APO(close, fastperiod=12, slowperiod=26, matype=0)\n",
    "hsi_ti['AROONOSC'] = talib.AROONOSC(high, low, timeperiod=14)\n",
    "hsi_ti['BOP'] = talib.BOP(open, high, low, close)\n",
    "hsi_ti['CCI'] = talib.CCI(high, low, close, timeperiod=14)\n",
    "hsi_ti['CMO'] = talib.CMO(close, timeperiod=14)\n",
    "hsi_ti['DX'] = talib.DX(high, low, close, timeperiod=14)\n",
    "hsi_ti['macd'],hsi_ti['macdsignal'],hsi_ti['macdhist'] = talib.MACD(close, fastperiod = 12, slowperiod=26, signalperiod=9)\n",
    "hsi_ti['MFI'] = talib.MFI(high, low, close, volume, timeperiod=14)\n",
    "hsi_ti['MINUS_DI'] = talib.MINUS_DI(high, low, close, timeperiod=14)\n",
    "hsi_ti['MINUS_DM'] = talib.MINUS_DM(high, low, timeperiod=14)\n",
    "hsi_ti['MOM'] = talib.MOM(close, timeperiod=14)\n",
    "hsi_ti['PLUS_DI'] = talib.PLUS_DI(high, low, close, timeperiod=14)\n",
    "hsi_ti['PLUS_DM'] = talib.PLUS_DM(high, low, timeperiod=14)\n",
    "hsi_ti['PPO'] = talib.PPO(close, fastperiod=12, slowperiod=26, matype=0)\n",
    "hsi_ti['ROC'] = talib.ROC(close, timeperiod=10)\n",
    "hsi_ti['ROCP'] = talib.ROCP(close, timeperiod=10)\n",
    "hsi_ti['ROCR'] = talib.ROCR(close, timeperiod=10)\n",
    "hsi_ti['ROCR100'] = talib.ROCR100(close, timeperiod=10)\n",
    "hsi_ti['slowk'], hsi_ti['slowd'] = talib.STOCH(high, low, close, fastk_period=5, slowk_period=3, slowd_period=3, slowd_matype=0)\n",
    "hsi_ti['fastk'], hsi_ti['fastd'] = talib.STOCHF(high, low, close, fastk_period=5, fastd_period=3, fastd_matype=0)\n",
    "hsi_ti['TRIX'] = talib.TRIX(close, timeperiod=30)\n",
    "hsi_ti['ULTOSC'] = talib.ULTOSC(high, low, close, timeperiod1=7, timeperiod2=14, timeperiod3=28)\n",
    "hsi_ti['WILLR'] = talib.WILLR(high, low, close, timeperiod=14)\n",
    "hsi_ti['Target'] = hsi['Target']\n",
    "hsi_ti['Close'] = hsi['Close']\n",
    "hsi_ti['Re Target'] = hsi['Future Close']\n",
    "hsi_ti"
   ]
  },
  {
   "cell_type": "code",
   "execution_count": 98,
   "id": "517cfc67",
   "metadata": {},
   "outputs": [],
   "source": [
    "hsi_target = hsi_ti.tail(1)"
   ]
  },
  {
   "cell_type": "code",
   "execution_count": 99,
   "id": "8239c0ab",
   "metadata": {},
   "outputs": [
    {
     "data": {
      "text/plain": [
       "['RSI14',\n",
       " 'ADX',\n",
       " 'ADXR',\n",
       " 'aroonup',\n",
       " 'BOP',\n",
       " 'CMO',\n",
       " 'DX',\n",
       " 'MINUS_DI',\n",
       " 'PLUS_DI',\n",
       " 'PPO',\n",
       " 'ROC',\n",
       " 'ROCR100',\n",
       " 'slowk',\n",
       " 'fastk',\n",
       " 'fastd',\n",
       " 'TRIX',\n",
       " 'ULTOSC']"
      ]
     },
     "execution_count": 99,
     "metadata": {},
     "output_type": "execute_result"
    }
   ],
   "source": [
    "hsi_ti = hsi_ti.dropna()\n",
    "hsi_features = selectFeatures(hsi_ti,'Target')\n",
    "hsi_features.remove('Re Target')\n",
    "hsi_features.remove('Close')\n",
    "hsi_features"
   ]
  },
  {
   "cell_type": "code",
   "execution_count": 100,
   "id": "42c7d0db",
   "metadata": {},
   "outputs": [],
   "source": [
    "X = hsi_ti.loc[:, hsi_features].values\n",
    "#X = dji_ti.loc[:, ['CCI', 'DX', 'MINUS_DI', 'PLUS_DM', 'slowd']].values\n",
    "y = hsi_ti.loc[:, ['Target']].values\n",
    "X_train, X_test, y_train, y_test = train_test_split(X, y, test_size=0.2, random_state=0)"
   ]
  },
  {
   "cell_type": "code",
   "execution_count": 101,
   "id": "1a6f3ae0",
   "metadata": {},
   "outputs": [],
   "source": [
    "sc = StandardScaler()\n",
    "X_train = sc.fit_transform(X_train)\n",
    "X_test = sc.transform(X_test)"
   ]
  },
  {
   "cell_type": "markdown",
   "id": "2dcefe30",
   "metadata": {
    "jp-MarkdownHeadingCollapsed": true,
    "tags": []
   },
   "source": [
    "<h2>Decision Tree</h2>"
   ]
  },
  {
   "cell_type": "code",
   "execution_count": 102,
   "id": "d4d83c51",
   "metadata": {},
   "outputs": [
    {
     "data": {
      "text/plain": [
       "DecisionTreeClassifier()"
      ]
     },
     "execution_count": 102,
     "metadata": {},
     "output_type": "execute_result"
    }
   ],
   "source": [
    "dtc = DecisionTreeClassifier()\n",
    "dtc.fit(X_train, y_train)"
   ]
  },
  {
   "cell_type": "code",
   "execution_count": 103,
   "id": "3b42c1d6",
   "metadata": {},
   "outputs": [
    {
     "data": {
      "text/plain": [
       "array([1, 1, 0, 1, 0, 1, 1, 0, 1, 1, 0, 1, 1, 0, 1, 1, 0, 1, 0, 1, 0, 1,\n",
       "       1, 1, 1, 0, 0, 1, 0, 1, 0, 1, 1, 1, 1, 1, 0, 1, 0, 1, 1, 1, 0, 0,\n",
       "       0, 1, 1, 1, 0, 1, 0, 1, 1, 0, 0, 1, 0, 1, 0, 0, 1, 1, 1, 0, 0, 1,\n",
       "       1, 1, 0, 1, 0, 1, 0, 0, 1, 0, 0, 0, 0, 1, 0, 1, 0, 1, 1, 0, 1, 0,\n",
       "       1, 0, 0, 1, 0, 1, 0, 1, 0, 0, 1, 1, 0, 1, 0, 0, 1, 0, 1, 0, 1, 1,\n",
       "       1, 1, 0, 1, 1, 0, 0, 0, 1, 1, 0, 0, 1, 0, 1, 1, 0, 1, 1, 0, 0, 1,\n",
       "       0, 0, 0, 1, 1, 1, 1, 0, 0, 0, 0, 0, 0, 1, 1, 0, 0, 0, 1, 1, 1, 0,\n",
       "       1, 0, 0, 0, 1, 1, 0, 1, 0, 1, 0, 0, 0, 1, 0, 0, 1, 1, 1, 0, 0, 1,\n",
       "       1, 1, 1, 0, 1, 1, 1, 1, 1, 0, 1, 0, 1, 0, 1, 1, 0, 1, 0, 1, 0, 1,\n",
       "       1, 1, 0, 0, 1, 0, 0, 1, 0, 1, 1, 0, 1, 1, 1, 0, 1, 1, 0, 1, 0, 1,\n",
       "       1, 0, 1, 1, 1, 0, 1, 0, 1, 0, 1, 0, 0, 1, 1, 1, 1, 1, 1, 0, 0, 0,\n",
       "       1, 0, 0, 1, 1, 1, 0, 0, 0, 1], dtype=int64)"
      ]
     },
     "execution_count": 103,
     "metadata": {},
     "output_type": "execute_result"
    }
   ],
   "source": [
    "# Prediction\n",
    "#\n",
    "y_pred = dtc.predict(X_test)  #Accuracy\n",
    "y_pred"
   ]
  },
  {
   "cell_type": "code",
   "execution_count": 104,
   "id": "87c498e4",
   "metadata": {
    "tags": []
   },
   "outputs": [
    {
     "data": {
      "text/plain": [
       "array([[0],\n",
       "       [0],\n",
       "       [0],\n",
       "       [1],\n",
       "       [1],\n",
       "       [1],\n",
       "       [0],\n",
       "       [1],\n",
       "       [0],\n",
       "       [1],\n",
       "       [0],\n",
       "       [1],\n",
       "       [0],\n",
       "       [0],\n",
       "       [1],\n",
       "       [0],\n",
       "       [0],\n",
       "       [1],\n",
       "       [0],\n",
       "       [0],\n",
       "       [1],\n",
       "       [1],\n",
       "       [0],\n",
       "       [0],\n",
       "       [0],\n",
       "       [0],\n",
       "       [0],\n",
       "       [0],\n",
       "       [1],\n",
       "       [1],\n",
       "       [1],\n",
       "       [1],\n",
       "       [0],\n",
       "       [1],\n",
       "       [1],\n",
       "       [1],\n",
       "       [1],\n",
       "       [1],\n",
       "       [1],\n",
       "       [0],\n",
       "       [0],\n",
       "       [0],\n",
       "       [1],\n",
       "       [1],\n",
       "       [1],\n",
       "       [0],\n",
       "       [0],\n",
       "       [1],\n",
       "       [1],\n",
       "       [0],\n",
       "       [1],\n",
       "       [1],\n",
       "       [1],\n",
       "       [1],\n",
       "       [0],\n",
       "       [0],\n",
       "       [0],\n",
       "       [1],\n",
       "       [1],\n",
       "       [1],\n",
       "       [1],\n",
       "       [1],\n",
       "       [1],\n",
       "       [0],\n",
       "       [0],\n",
       "       [1],\n",
       "       [0],\n",
       "       [0],\n",
       "       [0],\n",
       "       [0],\n",
       "       [1],\n",
       "       [1],\n",
       "       [1],\n",
       "       [0],\n",
       "       [1],\n",
       "       [0],\n",
       "       [0],\n",
       "       [1],\n",
       "       [0],\n",
       "       [1],\n",
       "       [1],\n",
       "       [0],\n",
       "       [1],\n",
       "       [1],\n",
       "       [1],\n",
       "       [0],\n",
       "       [1],\n",
       "       [1],\n",
       "       [0],\n",
       "       [1],\n",
       "       [0],\n",
       "       [0],\n",
       "       [0],\n",
       "       [1],\n",
       "       [1],\n",
       "       [0],\n",
       "       [1],\n",
       "       [1],\n",
       "       [1],\n",
       "       [1],\n",
       "       [1],\n",
       "       [0],\n",
       "       [1],\n",
       "       [1],\n",
       "       [1],\n",
       "       [1],\n",
       "       [1],\n",
       "       [0],\n",
       "       [1],\n",
       "       [1],\n",
       "       [0],\n",
       "       [0],\n",
       "       [1],\n",
       "       [1],\n",
       "       [1],\n",
       "       [1],\n",
       "       [0],\n",
       "       [1],\n",
       "       [1],\n",
       "       [0],\n",
       "       [1],\n",
       "       [0],\n",
       "       [0],\n",
       "       [0],\n",
       "       [1],\n",
       "       [1],\n",
       "       [0],\n",
       "       [0],\n",
       "       [1],\n",
       "       [1],\n",
       "       [0],\n",
       "       [1],\n",
       "       [1],\n",
       "       [1],\n",
       "       [0],\n",
       "       [0],\n",
       "       [0],\n",
       "       [0],\n",
       "       [0],\n",
       "       [1],\n",
       "       [1],\n",
       "       [1],\n",
       "       [1],\n",
       "       [1],\n",
       "       [1],\n",
       "       [0],\n",
       "       [1],\n",
       "       [0],\n",
       "       [1],\n",
       "       [1],\n",
       "       [1],\n",
       "       [1],\n",
       "       [0],\n",
       "       [0],\n",
       "       [1],\n",
       "       [0],\n",
       "       [0],\n",
       "       [0],\n",
       "       [1],\n",
       "       [1],\n",
       "       [1],\n",
       "       [1],\n",
       "       [0],\n",
       "       [1],\n",
       "       [1],\n",
       "       [1],\n",
       "       [0],\n",
       "       [1],\n",
       "       [0],\n",
       "       [0],\n",
       "       [1],\n",
       "       [0],\n",
       "       [0],\n",
       "       [1],\n",
       "       [1],\n",
       "       [0],\n",
       "       [1],\n",
       "       [1],\n",
       "       [1],\n",
       "       [0],\n",
       "       [0],\n",
       "       [0],\n",
       "       [0],\n",
       "       [1],\n",
       "       [0],\n",
       "       [1],\n",
       "       [0],\n",
       "       [1],\n",
       "       [0],\n",
       "       [1],\n",
       "       [1],\n",
       "       [1],\n",
       "       [0],\n",
       "       [0],\n",
       "       [1],\n",
       "       [1],\n",
       "       [1],\n",
       "       [0],\n",
       "       [0],\n",
       "       [1],\n",
       "       [1],\n",
       "       [1],\n",
       "       [0],\n",
       "       [0],\n",
       "       [0],\n",
       "       [1],\n",
       "       [1],\n",
       "       [1],\n",
       "       [0],\n",
       "       [0],\n",
       "       [0],\n",
       "       [0],\n",
       "       [0],\n",
       "       [0],\n",
       "       [0],\n",
       "       [1],\n",
       "       [1],\n",
       "       [0],\n",
       "       [1],\n",
       "       [0],\n",
       "       [0],\n",
       "       [0],\n",
       "       [1],\n",
       "       [0],\n",
       "       [1],\n",
       "       [0],\n",
       "       [1],\n",
       "       [0],\n",
       "       [0],\n",
       "       [0],\n",
       "       [0],\n",
       "       [1],\n",
       "       [0],\n",
       "       [0],\n",
       "       [0],\n",
       "       [1],\n",
       "       [0],\n",
       "       [0],\n",
       "       [1],\n",
       "       [1],\n",
       "       [1],\n",
       "       [1],\n",
       "       [0],\n",
       "       [1],\n",
       "       [0],\n",
       "       [1],\n",
       "       [0],\n",
       "       [1],\n",
       "       [0],\n",
       "       [0],\n",
       "       [0],\n",
       "       [1]], dtype=int64)"
      ]
     },
     "execution_count": 104,
     "metadata": {},
     "output_type": "execute_result"
    }
   ],
   "source": [
    "# Look at the actual y_test\n",
    "#\n",
    "y_test"
   ]
  },
  {
   "cell_type": "code",
   "execution_count": 105,
   "id": "196630d6",
   "metadata": {},
   "outputs": [
    {
     "name": "stdout",
     "output_type": "stream",
     "text": [
      "Accuracy Score:  0.47619047619047616\n",
      "Confusion Matrix: \n",
      " [[50 68]\n",
      " [64 70]]\n",
      "F1 Score:  0.5147058823529412\n",
      "Precision Score:  0.5072463768115942\n",
      "Recall score:  0.5223880597014925\n",
      "Area Under Curve score:  0.47305843663040725\n"
     ]
    }
   ],
   "source": [
    "dctEval = evaluate(cla, y_test, y_pred)\n",
    "printEval(cla, dctEval)"
   ]
  },
  {
   "cell_type": "markdown",
   "id": "0b71717d",
   "metadata": {
    "jp-MarkdownHeadingCollapsed": true,
    "tags": []
   },
   "source": [
    "<h2>Random Forest</h2>"
   ]
  },
  {
   "cell_type": "code",
   "execution_count": 106,
   "id": "1846f95d",
   "metadata": {},
   "outputs": [
    {
     "name": "stderr",
     "output_type": "stream",
     "text": [
      "C:\\Users\\kjmoo\\AppData\\Local\\Temp/ipykernel_4256/33020272.py:2: DataConversionWarning: A column-vector y was passed when a 1d array was expected. Please change the shape of y to (n_samples,), for example using ravel().\n",
      "  forest.fit(X_train, y_train)\n"
     ]
    },
    {
     "data": {
      "text/plain": [
       "RandomForestClassifier(max_depth=2, n_estimators=1000, random_state=40)"
      ]
     },
     "execution_count": 106,
     "metadata": {},
     "output_type": "execute_result"
    }
   ],
   "source": [
    "forest = RandomForestClassifier(n_estimators = 1000, random_state = 40, max_depth=2 )\n",
    "forest.fit(X_train, y_train)"
   ]
  },
  {
   "cell_type": "code",
   "execution_count": 107,
   "id": "ecdeac80",
   "metadata": {},
   "outputs": [
    {
     "data": {
      "text/plain": [
       "array([1, 1, 1, 1, 1, 1, 1, 1, 1, 1, 1, 0, 1, 1, 1, 0, 1, 1, 1, 1, 1, 1,\n",
       "       1, 1, 0, 1, 1, 1, 1, 1, 1, 1, 1, 0, 1, 1, 0, 1, 1, 1, 1, 1, 1, 1,\n",
       "       1, 1, 1, 1, 1, 1, 0, 1, 1, 1, 1, 1, 1, 1, 1, 1, 1, 1, 1, 1, 0, 1,\n",
       "       1, 1, 1, 1, 1, 1, 1, 1, 1, 1, 1, 1, 1, 1, 1, 1, 1, 1, 1, 1, 0, 1,\n",
       "       1, 1, 1, 1, 1, 1, 1, 1, 1, 1, 1, 1, 1, 1, 1, 1, 1, 1, 1, 1, 1, 1,\n",
       "       1, 1, 1, 1, 1, 1, 1, 1, 1, 1, 1, 1, 1, 1, 1, 1, 1, 1, 1, 0, 0, 1,\n",
       "       1, 1, 1, 1, 1, 1, 1, 1, 1, 1, 1, 1, 1, 1, 1, 1, 1, 1, 1, 1, 1, 1,\n",
       "       1, 1, 0, 1, 1, 1, 1, 1, 1, 1, 1, 1, 1, 1, 1, 1, 1, 1, 0, 0, 1, 1,\n",
       "       1, 1, 1, 1, 1, 1, 1, 1, 1, 0, 1, 1, 0, 1, 1, 1, 1, 1, 1, 1, 1, 1,\n",
       "       1, 1, 1, 1, 1, 1, 1, 1, 1, 0, 1, 1, 1, 1, 1, 1, 1, 1, 1, 1, 1, 1,\n",
       "       1, 1, 1, 1, 0, 1, 1, 1, 1, 1, 1, 1, 1, 1, 1, 1, 1, 1, 1, 1, 1, 1,\n",
       "       1, 1, 1, 1, 1, 1, 1, 1, 1, 1], dtype=int64)"
      ]
     },
     "execution_count": 107,
     "metadata": {},
     "output_type": "execute_result"
    }
   ],
   "source": [
    "# Prediction\n",
    "#\n",
    "y_pred = forest.predict(X_test)  #Accuracy\n",
    "y_pred"
   ]
  },
  {
   "cell_type": "code",
   "execution_count": 108,
   "id": "b65495e4",
   "metadata": {},
   "outputs": [
    {
     "name": "stdout",
     "output_type": "stream",
     "text": [
      "Accuracy Score:  0.5198412698412699\n",
      "Confusion Matrix: \n",
      " [[  7 111]\n",
      " [ 10 124]]\n",
      "F1 Score:  0.6720867208672087\n",
      "Precision Score:  0.5276595744680851\n",
      "Recall score:  0.9253731343283582\n",
      "Area Under Curve score:  0.4923475841133316\n"
     ]
    }
   ],
   "source": [
    "forestEval = evaluate(cla, y_test, y_pred)\n",
    "printEval(cla, forestEval)"
   ]
  },
  {
   "cell_type": "markdown",
   "id": "e178edee",
   "metadata": {
    "jp-MarkdownHeadingCollapsed": true,
    "tags": []
   },
   "source": [
    "<h2>Logistic Regression</h2>"
   ]
  },
  {
   "cell_type": "code",
   "execution_count": 109,
   "id": "c0b32773",
   "metadata": {},
   "outputs": [
    {
     "name": "stderr",
     "output_type": "stream",
     "text": [
      "C:\\Users\\kjmoo\\AppData\\Local\\Packages\\PythonSoftwareFoundation.Python.3.9_qbz5n2kfra8p0\\LocalCache\\local-packages\\Python39\\site-packages\\sklearn\\utils\\validation.py:985: DataConversionWarning: A column-vector y was passed when a 1d array was expected. Please change the shape of y to (n_samples, ), for example using ravel().\n",
      "  y = column_or_1d(y, warn=True)\n"
     ]
    },
    {
     "data": {
      "text/plain": [
       "LogisticRegression()"
      ]
     },
     "execution_count": 109,
     "metadata": {},
     "output_type": "execute_result"
    }
   ],
   "source": [
    "# Logistic Regression Classifier: Create and Train the model\n",
    "logistic = LogisticRegression()\n",
    "logistic.fit(X_train, y_train)"
   ]
  },
  {
   "cell_type": "code",
   "execution_count": 110,
   "id": "89f3d1e6-c098-45f4-8fbd-98516054ff34",
   "metadata": {},
   "outputs": [
    {
     "data": {
      "text/plain": [
       "array([1, 1, 0, 1, 0, 1, 1, 0, 1, 1, 0, 1, 1, 0, 1, 1, 0, 1, 0, 1, 0, 1,\n",
       "       1, 1, 1, 0, 0, 1, 0, 1, 0, 1, 1, 1, 1, 1, 0, 1, 0, 1, 1, 1, 0, 0,\n",
       "       0, 1, 1, 1, 0, 1, 0, 1, 1, 0, 0, 1, 0, 1, 0, 0, 1, 1, 1, 0, 0, 1,\n",
       "       1, 1, 0, 1, 0, 1, 0, 0, 1, 0, 0, 0, 0, 1, 0, 1, 0, 1, 1, 0, 1, 0,\n",
       "       1, 0, 0, 1, 0, 1, 0, 1, 0, 0, 1, 1, 0, 1, 0, 0, 1, 0, 1, 0, 1, 1,\n",
       "       1, 1, 0, 1, 1, 0, 0, 0, 1, 1, 0, 0, 1, 0, 1, 1, 0, 1, 1, 0, 0, 1,\n",
       "       0, 0, 0, 1, 1, 1, 1, 0, 0, 0, 0, 0, 0, 1, 1, 0, 0, 0, 1, 1, 1, 0,\n",
       "       1, 0, 0, 0, 1, 1, 0, 1, 0, 1, 0, 0, 0, 1, 0, 0, 1, 1, 1, 0, 0, 1,\n",
       "       1, 1, 1, 0, 1, 1, 1, 1, 1, 0, 1, 0, 1, 0, 1, 1, 0, 1, 0, 1, 0, 1,\n",
       "       1, 1, 0, 0, 1, 0, 0, 1, 0, 1, 1, 0, 1, 1, 1, 0, 1, 1, 0, 1, 0, 1,\n",
       "       1, 0, 1, 1, 1, 0, 1, 0, 1, 0, 1, 0, 0, 1, 1, 1, 1, 1, 1, 0, 0, 0,\n",
       "       1, 0, 0, 1, 1, 1, 0, 0, 0, 1], dtype=int64)"
      ]
     },
     "execution_count": 110,
     "metadata": {},
     "output_type": "execute_result"
    }
   ],
   "source": [
    "# Prediction\n",
    "y_pred = dtc.predict(X_test)  #Accuracy\n",
    "y_pred"
   ]
  },
  {
   "cell_type": "code",
   "execution_count": 111,
   "id": "2fd4bf1d-0e6f-4c94-9fd7-110ae77d4e68",
   "metadata": {},
   "outputs": [],
   "source": [
    "# Look at the actual y_test\n",
    "#y_test"
   ]
  },
  {
   "cell_type": "code",
   "execution_count": 112,
   "id": "5322a7aa-443d-4bf1-9391-e8e60214949d",
   "metadata": {},
   "outputs": [
    {
     "name": "stdout",
     "output_type": "stream",
     "text": [
      "Accuracy Score:  0.47619047619047616\n",
      "Confusion Matrix: \n",
      " [[50 68]\n",
      " [64 70]]\n",
      "F1 Score:  0.5147058823529412\n",
      "Precision Score:  0.5072463768115942\n",
      "Recall score:  0.5223880597014925\n",
      "Area Under Curve score:  0.47305843663040725\n"
     ]
    }
   ],
   "source": [
    "logisticEval = evaluate(cla, y_test, y_pred)\n",
    "printEval(cla, logisticEval)"
   ]
  },
  {
   "cell_type": "markdown",
   "id": "646c4bfb",
   "metadata": {
    "jp-MarkdownHeadingCollapsed": true,
    "tags": []
   },
   "source": [
    "<h2>XGBoost</h2>"
   ]
  },
  {
   "cell_type": "code",
   "execution_count": 113,
   "id": "90f8c9d9",
   "metadata": {},
   "outputs": [
    {
     "name": "stdout",
     "output_type": "stream",
     "text": [
      "[21:30:41] WARNING: C:/Users/Administrator/workspace/xgboost-win64_release_1.5.1/src/learner.cc:1115: Starting in XGBoost 1.3.0, the default evaluation metric used with the objective 'binary:logistic' was changed from 'error' to 'logloss'. Explicitly set eval_metric if you'd like to restore the old behavior.\n"
     ]
    },
    {
     "name": "stderr",
     "output_type": "stream",
     "text": [
      "C:\\Users\\kjmoo\\AppData\\Local\\Packages\\PythonSoftwareFoundation.Python.3.9_qbz5n2kfra8p0\\LocalCache\\local-packages\\Python39\\site-packages\\xgboost\\sklearn.py:1224: UserWarning: The use of label encoder in XGBClassifier is deprecated and will be removed in a future release. To remove this warning, do the following: 1) Pass option use_label_encoder=False when constructing XGBClassifier object; and 2) Encode your labels (y) as integers starting with 0, i.e. 0, 1, 2, ..., [num_class - 1].\n",
      "  warnings.warn(label_encoder_deprecation_msg, UserWarning)\n",
      "C:\\Users\\kjmoo\\AppData\\Local\\Packages\\PythonSoftwareFoundation.Python.3.9_qbz5n2kfra8p0\\LocalCache\\local-packages\\Python39\\site-packages\\sklearn\\preprocessing\\_label.py:98: DataConversionWarning: A column-vector y was passed when a 1d array was expected. Please change the shape of y to (n_samples, ), for example using ravel().\n",
      "  y = column_or_1d(y, warn=True)\n",
      "C:\\Users\\kjmoo\\AppData\\Local\\Packages\\PythonSoftwareFoundation.Python.3.9_qbz5n2kfra8p0\\LocalCache\\local-packages\\Python39\\site-packages\\sklearn\\preprocessing\\_label.py:133: DataConversionWarning: A column-vector y was passed when a 1d array was expected. Please change the shape of y to (n_samples, ), for example using ravel().\n",
      "  y = column_or_1d(y, warn=True)\n"
     ]
    },
    {
     "data": {
      "text/plain": [
       "XGBClassifier(base_score=0.5, booster='gbtree', colsample_bylevel=1,\n",
       "              colsample_bynode=1, colsample_bytree=1, enable_categorical=False,\n",
       "              gamma=0, gpu_id=-1, importance_type=None,\n",
       "              interaction_constraints='', learning_rate=0.300000012,\n",
       "              max_delta_step=0, max_depth=6, min_child_weight=1, missing=nan,\n",
       "              monotone_constraints='()', n_estimators=100, n_jobs=16,\n",
       "              num_parallel_tree=1, predictor='auto', random_state=0,\n",
       "              reg_alpha=0, reg_lambda=1, scale_pos_weight=1, subsample=1,\n",
       "              tree_method='exact', validate_parameters=1, verbosity=None)"
      ]
     },
     "execution_count": 113,
     "metadata": {},
     "output_type": "execute_result"
    }
   ],
   "source": [
    "from xgboost import XGBClassifier\n",
    "from numpy import loadtxt\n",
    "from sklearn.metrics import accuracy_score\n",
    "\n",
    "xgb = XGBClassifier()\n",
    "xgb.fit(X_train, y_train)"
   ]
  },
  {
   "cell_type": "code",
   "execution_count": 114,
   "id": "3c907476",
   "metadata": {},
   "outputs": [
    {
     "data": {
      "text/plain": [
       "array([0, 1, 0, 1, 1, 1, 1, 0, 0, 1, 0, 0, 0, 0, 1, 1, 0, 0, 0, 0, 1, 0,\n",
       "       0, 0, 0, 0, 0, 1, 1, 1, 0, 1, 1, 1, 0, 1, 0, 1, 0, 1, 1, 0, 0, 1,\n",
       "       0, 0, 1, 0, 0, 1, 0, 1, 1, 1, 1, 0, 0, 1, 0, 0, 1, 1, 1, 0, 0, 1,\n",
       "       1, 1, 1, 1, 0, 1, 0, 1, 0, 0, 0, 0, 1, 1, 1, 1, 1, 1, 0, 0, 0, 0,\n",
       "       1, 1, 0, 0, 0, 0, 0, 1, 0, 1, 0, 1, 0, 0, 1, 1, 1, 0, 1, 1, 1, 0,\n",
       "       0, 0, 0, 0, 0, 0, 0, 0, 1, 0, 1, 0, 1, 1, 1, 1, 0, 1, 0, 0, 0, 1,\n",
       "       0, 0, 0, 0, 1, 1, 1, 1, 1, 0, 0, 0, 0, 1, 1, 0, 0, 0, 0, 1, 0, 1,\n",
       "       1, 0, 0, 0, 1, 1, 0, 1, 1, 1, 0, 1, 0, 1, 0, 1, 1, 1, 0, 0, 1, 1,\n",
       "       0, 1, 1, 0, 1, 0, 1, 0, 1, 1, 1, 0, 1, 0, 1, 0, 0, 0, 0, 1, 1, 0,\n",
       "       1, 0, 0, 0, 1, 1, 0, 0, 1, 0, 1, 0, 0, 1, 1, 0, 0, 0, 0, 0, 0, 0,\n",
       "       1, 0, 1, 1, 0, 0, 0, 1, 0, 0, 1, 0, 1, 1, 1, 1, 1, 1, 0, 0, 1, 0,\n",
       "       0, 0, 0, 1, 1, 1, 0, 0, 1, 1], dtype=int64)"
      ]
     },
     "execution_count": 114,
     "metadata": {},
     "output_type": "execute_result"
    }
   ],
   "source": [
    "y_pred = xgb.predict(X_test)  #Accuracy\n",
    "y_pred"
   ]
  },
  {
   "cell_type": "code",
   "execution_count": 115,
   "id": "bfd2f3bc",
   "metadata": {},
   "outputs": [],
   "source": [
    "#y_test"
   ]
  },
  {
   "cell_type": "code",
   "execution_count": 116,
   "id": "28af5783",
   "metadata": {},
   "outputs": [
    {
     "name": "stdout",
     "output_type": "stream",
     "text": [
      "Accuracy Score:  0.5119047619047619\n",
      "Confusion Matrix: \n",
      " [[64 54]\n",
      " [69 65]]\n",
      "F1 Score:  0.5138339920948617\n",
      "Precision Score:  0.5462184873949579\n",
      "Recall score:  0.48507462686567165\n",
      "Area Under Curve score:  0.513723754110802\n"
     ]
    }
   ],
   "source": [
    "xgbEval = evaluate(cla, y_test, y_pred)\n",
    "printEval(cla, xgbEval)"
   ]
  },
  {
   "cell_type": "markdown",
   "id": "b8f089e0",
   "metadata": {
    "jp-MarkdownHeadingCollapsed": true,
    "tags": []
   },
   "source": [
    "<h2>Linear Regression</h2>"
   ]
  },
  {
   "cell_type": "code",
   "execution_count": 117,
   "id": "98c15c61",
   "metadata": {},
   "outputs": [
    {
     "data": {
      "text/plain": [
       "['RSI14',\n",
       " 'ADXR',\n",
       " 'BOP',\n",
       " 'CMO',\n",
       " 'DX',\n",
       " 'MINUS_DI',\n",
       " 'PLUS_DI',\n",
       " 'PPO',\n",
       " 'ROC',\n",
       " 'ROCR100',\n",
       " 'slowk',\n",
       " 'slowd',\n",
       " 'fastk',\n",
       " 'fastd',\n",
       " 'TRIX',\n",
       " 'ULTOSC',\n",
       " 'WILLR']"
      ]
     },
     "execution_count": 117,
     "metadata": {},
     "output_type": "execute_result"
    }
   ],
   "source": [
    "hsi_refeatures = selectFeatures(hsi_ti,'Re Target')\n",
    "hsi_refeatures.remove('Target')\n",
    "hsi_refeatures.remove('Close')\n",
    "hsi_refeatures"
   ]
  },
  {
   "cell_type": "code",
   "execution_count": 118,
   "id": "5215c93b",
   "metadata": {},
   "outputs": [],
   "source": [
    "from sklearn.model_selection import train_test_split\n",
    "X = hsi_ti.loc[:, hsi_refeatures].values\n",
    "#X = dji_ti.loc[:, ['CCI', 'DX', 'MINUS_DI', 'PLUS_DM', 'slowd']].values\n",
    "y = hsi_ti.loc[:, ['Re Target']].values\n",
    "X_train, X_test, y_train, y_test = train_test_split(X, y, test_size=0.2, random_state=0, shuffle=False)"
   ]
  },
  {
   "cell_type": "code",
   "execution_count": 119,
   "id": "461dd3c5",
   "metadata": {},
   "outputs": [],
   "source": [
    "from sklearn.preprocessing import StandardScaler\n",
    "sc = StandardScaler()\n",
    "X_train = sc.fit_transform(X_train)\n",
    "X_test = sc.transform(X_test)"
   ]
  },
  {
   "cell_type": "code",
   "execution_count": 120,
   "id": "efcd699d",
   "metadata": {},
   "outputs": [],
   "source": [
    "from sklearn.linear_model import LinearRegression\n",
    "lr = LinearRegression(fit_intercept=True)\n",
    "from sklearn import metrics"
   ]
  },
  {
   "cell_type": "code",
   "execution_count": 121,
   "id": "7820b608",
   "metadata": {},
   "outputs": [
    {
     "data": {
      "text/plain": [
       "LinearRegression()"
      ]
     },
     "execution_count": 121,
     "metadata": {},
     "output_type": "execute_result"
    }
   ],
   "source": [
    "lr = LinearRegression()\n",
    "lr.fit(X_train, y_train)"
   ]
  },
  {
   "cell_type": "code",
   "execution_count": 122,
   "id": "2322a842",
   "metadata": {
    "collapsed": true,
    "jupyter": {
     "outputs_hidden": true
    },
    "tags": []
   },
   "outputs": [
    {
     "name": "stdout",
     "output_type": "stream",
     "text": [
      "[[27153.07060104]\n",
      " [27408.37093968]\n",
      " [27514.36471188]\n",
      " [27263.69206917]\n",
      " [27504.11441341]\n",
      " [27786.36164917]\n",
      " [27559.56223533]\n",
      " [27448.30004263]\n",
      " [27834.76184495]\n",
      " [27725.06772024]\n",
      " [27620.95505268]\n",
      " [27665.27681116]\n",
      " [27509.6485782 ]\n",
      " [27773.13466427]\n",
      " [28147.87949598]\n",
      " [28165.48152358]\n",
      " [28113.12188949]\n",
      " [27885.50458593]\n",
      " [28098.18718916]\n",
      " [28298.29408367]\n",
      " [28295.60620903]\n",
      " [28221.30627385]\n",
      " [28333.31775712]\n",
      " [28088.04402261]\n",
      " [28379.21468942]\n",
      " [28222.9850632 ]\n",
      " [28225.27876803]\n",
      " [28528.49818907]\n",
      " [28480.85036045]\n",
      " [28067.11148897]\n",
      " [28520.87643063]\n",
      " [28277.98669753]\n",
      " [28170.21197043]\n",
      " [28126.55071385]\n",
      " [28360.21561609]\n",
      " [28450.46709898]\n",
      " [28669.33223142]\n",
      " [28479.11040823]\n",
      " [29166.88101893]\n",
      " [29724.4215345 ]\n",
      " [29603.32597173]\n",
      " [29563.32093671]\n",
      " [29243.61695787]\n",
      " [29101.84556463]\n",
      " [29038.58657406]\n",
      " [28875.32216659]\n",
      " [28708.33947   ]\n",
      " [28795.35581092]\n",
      " [28867.78657531]\n",
      " [28431.08757206]\n",
      " [28773.14542042]\n",
      " [29031.22305318]\n",
      " [29390.99296874]\n",
      " [29220.82263617]\n",
      " [29369.77280104]\n",
      " [29358.57959259]\n",
      " [29720.93931497]\n",
      " [29562.31602926]\n",
      " [29392.67557851]\n",
      " [29386.56875242]\n",
      " [29260.98103497]\n",
      " [28659.63588005]\n",
      " [28664.31359684]\n",
      " [28031.18103208]\n",
      " [28565.66901217]\n",
      " [28139.8868977 ]\n",
      " [28409.45725257]\n",
      " [27786.23585341]\n",
      " [27909.45450799]\n",
      " [27785.44884663]\n",
      " [28174.42955885]\n",
      " [27796.79770364]\n",
      " [27514.96595959]\n",
      " [27298.58793896]\n",
      " [27272.12578685]\n",
      " [27880.41983543]\n",
      " [27246.57710176]\n",
      " [27322.31327161]\n",
      " [26741.853945  ]\n",
      " [26619.50067548]\n",
      " [26928.34981328]\n",
      " [27291.00776999]\n",
      " [27283.97864582]\n",
      " [27300.09468305]\n",
      " [27264.75923979]\n",
      " [27467.53553929]\n",
      " [27316.58225341]\n",
      " [27646.50963069]\n",
      " [27120.03540819]\n",
      " [27158.21664693]\n",
      " [26997.25345046]\n",
      " [27367.1222541 ]\n",
      " [27112.17904451]\n",
      " [27650.49929986]\n",
      " [27375.30250639]\n",
      " [27489.68038064]\n",
      " [26939.50419706]\n",
      " [27020.99684358]\n",
      " [27506.70329448]\n",
      " [27363.99580354]\n",
      " [27408.2754951 ]\n",
      " [27393.01139858]\n",
      " [27447.12521483]\n",
      " [26740.24666476]\n",
      " [26475.5052453 ]\n",
      " [26472.01592683]\n",
      " [26582.58821871]\n",
      " [26478.87323306]\n",
      " [26394.55241692]\n",
      " [26348.39511644]\n",
      " [26102.50690699]\n",
      " [26267.74617432]\n",
      " [25819.63588005]\n",
      " [25863.87881645]\n",
      " [26262.85824604]\n",
      " [26490.96880749]\n",
      " [26533.95599213]\n",
      " [26875.49229833]\n",
      " [26644.59015689]\n",
      " [27412.43640935]\n",
      " [27229.5922596 ]\n",
      " [27280.520498  ]\n",
      " [27219.06628255]\n",
      " [27141.41247416]\n",
      " [27513.39649551]\n",
      " [27290.86354789]\n",
      " [27000.09746765]\n",
      " [27034.24281216]\n",
      " [27029.51012148]\n",
      " [26874.56743462]\n",
      " [26770.09627322]\n",
      " [26802.95390277]\n",
      " [26485.02765961]\n",
      " [26317.2689867 ]\n",
      " [26212.78231451]\n",
      " [26527.27118218]\n",
      " [26763.91049309]\n",
      " [26712.01613078]\n",
      " [26511.39487557]\n",
      " [26785.88327983]\n",
      " [27098.66119653]\n",
      " [27203.98696597]\n",
      " [26794.49923963]\n",
      " [26504.01805062]\n",
      " [26331.02874029]\n",
      " [25934.49389791]\n",
      " [25948.53981189]\n",
      " [26162.22580832]\n",
      " [26404.67876819]\n",
      " [26095.83466325]\n",
      " [26074.44603913]\n",
      " [26019.58657454]\n",
      " [26451.61447734]\n",
      " [26320.22530501]\n",
      " [26297.69377307]\n",
      " [26065.29728279]\n",
      " [25924.05873559]\n",
      " [25696.41713784]\n",
      " [25720.73101087]\n",
      " [26245.0118313 ]\n",
      " [25897.69524168]\n",
      " [25307.56860011]\n",
      " [24933.22636382]\n",
      " [24814.41234567]\n",
      " [24965.59561545]\n",
      " [24934.78138206]\n",
      " [25180.72370082]\n",
      " [25199.90593512]\n",
      " [25584.38599562]\n",
      " [25587.74893861]\n",
      " [25487.26815629]\n",
      " [25851.25399136]\n",
      " [26104.89475022]\n",
      " [26248.87334175]\n",
      " [26045.97405727]\n",
      " [26331.38905191]\n",
      " [26063.47757697]\n",
      " [25284.95206403]\n",
      " [25297.86418789]\n",
      " [24875.4855947 ]\n",
      " [24981.48533199]\n",
      " [24811.33841209]\n",
      " [24862.79199347]\n",
      " [25086.34018387]\n",
      " [25015.5806334 ]\n",
      " [24891.8037073 ]\n",
      " [24799.56026304]\n",
      " [25424.1510249 ]\n",
      " [25684.77153841]\n",
      " [25664.15943625]\n",
      " [25769.69575099]\n",
      " [26217.4197027 ]\n",
      " [25980.0322881 ]\n",
      " [25981.71690014]\n",
      " [25447.46077016]\n",
      " [25559.70691372]\n",
      " [25344.10517108]\n",
      " [25180.79595137]\n",
      " [24888.8722196 ]\n",
      " [24673.5321551 ]\n",
      " [25031.73198112]\n",
      " [24791.39843368]\n",
      " [24874.79433367]\n",
      " [24795.43724235]\n",
      " [24799.36084357]\n",
      " [24597.82857175]\n",
      " [24535.31595639]\n",
      " [24393.29336901]\n",
      " [24830.12699176]\n",
      " [24174.65682339]\n",
      " [24402.34763817]\n",
      " [24516.40149927]\n",
      " [25343.34469055]\n",
      " [25126.83428812]\n",
      " [25435.60388208]\n",
      " [25251.53652394]\n",
      " [25591.23290406]\n",
      " [25671.93375119]\n",
      " [26101.95443364]\n",
      " [26039.19867505]\n",
      " [26046.47887984]\n",
      " [26365.06793252]\n",
      " [26431.23964296]\n",
      " [26373.29147888]\n",
      " [26245.31912364]\n",
      " [26081.93087063]\n",
      " [25764.96258178]\n",
      " [25696.32936551]\n",
      " [25773.01102148]\n",
      " [25760.10170627]\n",
      " [25696.60640851]\n",
      " [25604.61389444]\n",
      " [25491.87129577]\n",
      " [25445.32324232]\n",
      " [25690.26281705]\n",
      " [26270.11648331]\n",
      " [25958.61129617]\n",
      " [26122.97301376]\n",
      " [26404.63452561]\n",
      " [26382.00659783]\n",
      " [26217.19310618]\n",
      " [26147.35771764]\n",
      " [25925.77270124]\n",
      " [25987.70118373]\n",
      " [25950.79063065]\n",
      " [25833.66673253]\n",
      " [25647.40009051]\n",
      " [25798.51381567]\n",
      " [25626.20538838]\n",
      " [25383.71956768]\n",
      " [25422.59047975]\n",
      " [25541.20393914]]\n"
     ]
    }
   ],
   "source": [
    "y_pred = lr.predict(X_test)\n",
    "print(y_pred)"
   ]
  },
  {
   "cell_type": "code",
   "execution_count": 123,
   "id": "c5ac7844",
   "metadata": {},
   "outputs": [],
   "source": [
    "dframe = pd.DataFrame({'Actual':y_test.flatten(),'predicted':y_pred.flatten()})"
   ]
  },
  {
   "cell_type": "code",
   "execution_count": 124,
   "id": "267cc5cf-2a1c-4200-a693-84b8b9fc0996",
   "metadata": {},
   "outputs": [
    {
     "name": "stdout",
     "output_type": "stream",
     "text": [
      "Slope: [[-8.78994497e+14  8.03750000e+01  1.10449219e+02  8.78994497e+14\n",
      "  -1.04917969e+02 -4.03265625e+02  4.31734375e+02  4.48906250e+02\n",
      "   4.70499719e+16 -4.70499719e+16  6.54377155e+14 -1.09203125e+02\n",
      "   8.22421875e+01 -6.54377155e+14  1.04310938e+03  3.93687500e+02\n",
      "   3.48171875e+02]]\n",
      "Intercept: [26973.13987562]\n"
     ]
    }
   ],
   "source": [
    "print('Slope:', lr.coef_)\n",
    "print('Intercept:', lr.intercept_)"
   ]
  },
  {
   "cell_type": "code",
   "execution_count": 125,
   "id": "ac0d594f-53f7-44da-aab8-ebaa2e92dc5e",
   "metadata": {
    "tags": []
   },
   "outputs": [
    {
     "data": {
      "image/png": "[encoded data removed]",
      "text/plain": [
       "<Figure size 936x432 with 1 Axes>"
      ]
     },
     "metadata": {
      "needs_background": "light"
     },
     "output_type": "display_data"
    }
   ],
   "source": [
    "plotReg('Heng Seng Index 180 days', hsi.index, hsi[['Future Close']], hsi_ti.iloc[-180:], hsi_refeatures, lr)"
   ]
  },
  {
   "cell_type": "code",
   "execution_count": 126,
   "id": "91c7449c",
   "metadata": {},
   "outputs": [
    {
     "name": "stdout",
     "output_type": "stream",
     "text": [
      "Mean Squared Error:  1295.6236488811262\n",
      "Adjusted R squared 0.4849547339914644\n"
     ]
    }
   ],
   "source": [
    "lrEval = evaluate(reg, y_test, y_pred)\n",
    "printEval(reg, lrEval)"
   ]
  },
  {
   "cell_type": "markdown",
   "id": "9c917da6",
   "metadata": {
    "tags": []
   },
   "source": [
    "<h2>Polynomial Regression</h2>"
   ]
  },
  {
   "cell_type": "code",
   "execution_count": 127,
   "id": "04c862c6",
   "metadata": {},
   "outputs": [
    {
     "data": {
      "text/plain": [
       "Pipeline(steps=[('polynomialfeatures', PolynomialFeatures()),\n",
       "                ('linearregression', LinearRegression())])"
      ]
     },
     "execution_count": 127,
     "metadata": {},
     "output_type": "execute_result"
    }
   ],
   "source": [
    "from sklearn.preprocessing import PolynomialFeatures\n",
    "from sklearn.pipeline import make_pipeline\n",
    "from sklearn.linear_model import LinearRegression\n",
    "degree=2\n",
    "pr=make_pipeline(PolynomialFeatures(degree),LinearRegression())\n",
    "pr.fit(X_train,y_train)"
   ]
  },
  {
   "cell_type": "code",
   "execution_count": 128,
   "id": "6cda6d1e",
   "metadata": {
    "tags": []
   },
   "outputs": [
    {
     "data": {
      "text/plain": [
       "array([[24401.2862482 ],\n",
       "       [24569.88491774],\n",
       "       [24337.53065446],\n",
       "       [25364.98533577],\n",
       "       [26343.62139652],\n",
       "       [27447.69793195],\n",
       "       [26212.30219841],\n",
       "       [23787.72729313],\n",
       "       [25274.54672527],\n",
       "       [24681.14713895],\n",
       "       [25983.23974675],\n",
       "       [25200.62028995],\n",
       "       [26233.10677155],\n",
       "       [27027.65847436],\n",
       "       [28647.45904659],\n",
       "       [27776.13928045],\n",
       "       [26319.52427206],\n",
       "       [27110.08913826],\n",
       "       [26853.24004203],\n",
       "       [27717.29027002],\n",
       "       [28386.30378438],\n",
       "       [29557.90018351],\n",
       "       [27267.70573691],\n",
       "       [26900.96152933],\n",
       "       [26629.95564181],\n",
       "       [27015.72616409],\n",
       "       [26892.90588192],\n",
       "       [27564.20783441],\n",
       "       [27900.71618155],\n",
       "       [27306.74588691],\n",
       "       [27832.03961834],\n",
       "       [28320.46855865],\n",
       "       [29377.60432332],\n",
       "       [29800.2556658 ],\n",
       "       [30533.49763406],\n",
       "       [32090.24636523],\n",
       "       [33328.82386705],\n",
       "       [33270.80152103],\n",
       "       [35182.28522555],\n",
       "       [36160.94779012],\n",
       "       [36961.45152122],\n",
       "       [35873.78232065],\n",
       "       [34395.41786024],\n",
       "       [33965.83239441],\n",
       "       [33447.37681633],\n",
       "       [33167.9535561 ],\n",
       "       [30956.19195079],\n",
       "       [28887.84355188],\n",
       "       [27777.4505466 ],\n",
       "       [26898.59921697],\n",
       "       [28051.80359495],\n",
       "       [29448.77361119],\n",
       "       [29767.65139063],\n",
       "       [29449.01826625],\n",
       "       [30133.43193501],\n",
       "       [33070.9116685 ],\n",
       "       [29907.28110109],\n",
       "       [33081.85364794],\n",
       "       [30746.27697303],\n",
       "       [32568.22150895],\n",
       "       [31029.70908908],\n",
       "       [28174.98050903],\n",
       "       [29027.99918558],\n",
       "       [28016.34822443],\n",
       "       [29894.22489276],\n",
       "       [27200.90404133],\n",
       "       [27479.14106858],\n",
       "       [26360.49119499],\n",
       "       [27114.01060821],\n",
       "       [25479.39437674],\n",
       "       [26378.2719102 ],\n",
       "       [23575.52999988],\n",
       "       [24380.98627184],\n",
       "       [24059.65458146],\n",
       "       [27367.11881619],\n",
       "       [28242.94728448],\n",
       "       [26612.21858428],\n",
       "       [27290.56769615],\n",
       "       [24597.8641355 ],\n",
       "       [25056.91203718],\n",
       "       [27597.34726674],\n",
       "       [27680.66118397],\n",
       "       [27596.02798891],\n",
       "       [27462.4168683 ],\n",
       "       [26936.23338059],\n",
       "       [28878.2805176 ],\n",
       "       [27928.96014599],\n",
       "       [28955.48266026],\n",
       "       [27571.34188168],\n",
       "       [28553.2173074 ],\n",
       "       [28014.06328982],\n",
       "       [28710.15514243],\n",
       "       [28559.94760902],\n",
       "       [28862.22868195],\n",
       "       [27876.73745583],\n",
       "       [27682.30050724],\n",
       "       [26664.06782188],\n",
       "       [27313.71822362],\n",
       "       [27526.3988684 ],\n",
       "       [26698.0733963 ],\n",
       "       [26744.17221516],\n",
       "       [27042.56323108],\n",
       "       [26862.11912319],\n",
       "       [26031.52788253],\n",
       "       [26068.15627836],\n",
       "       [25778.74359951],\n",
       "       [25909.91309619],\n",
       "       [27411.72942428],\n",
       "       [25791.0267145 ],\n",
       "       [25286.90271956],\n",
       "       [25973.08430409],\n",
       "       [26742.52048583],\n",
       "       [25820.78276143],\n",
       "       [27249.24497191],\n",
       "       [24190.51659309],\n",
       "       [27277.24297486],\n",
       "       [27447.32390386],\n",
       "       [28167.63636189],\n",
       "       [28767.95061252],\n",
       "       [26656.78863022],\n",
       "       [25941.05897441],\n",
       "       [26047.73844269],\n",
       "       [27290.67260002],\n",
       "       [27260.85581874],\n",
       "       [26338.74876005],\n",
       "       [25953.68178864],\n",
       "       [26365.56550768],\n",
       "       [26805.49606038],\n",
       "       [27203.5873086 ],\n",
       "       [27166.52172623],\n",
       "       [27114.5325661 ],\n",
       "       [25711.77607823],\n",
       "       [25136.36651777],\n",
       "       [25627.69107738],\n",
       "       [24023.32436565],\n",
       "       [25697.95202442],\n",
       "       [26434.43199991],\n",
       "       [25667.31072122],\n",
       "       [24720.323275  ],\n",
       "       [25268.57941878],\n",
       "       [26719.6104129 ],\n",
       "       [25893.90787403],\n",
       "       [26340.38666538],\n",
       "       [27626.3244528 ],\n",
       "       [27618.33887302],\n",
       "       [27078.68399752],\n",
       "       [26265.42832556],\n",
       "       [27833.63480613],\n",
       "       [28206.80467793],\n",
       "       [27085.12749445],\n",
       "       [28173.57782539],\n",
       "       [26399.09159374],\n",
       "       [27345.25816103],\n",
       "       [26632.13080654],\n",
       "       [28146.50723374],\n",
       "       [27947.31621967],\n",
       "       [29296.8800797 ],\n",
       "       [28309.97472699],\n",
       "       [27116.3368288 ],\n",
       "       [27235.68039575],\n",
       "       [26143.27779832],\n",
       "       [26253.03194324],\n",
       "       [23752.79084309],\n",
       "       [24465.66744257],\n",
       "       [22419.34377351],\n",
       "       [23202.06625964],\n",
       "       [25341.70663615],\n",
       "       [26127.25356567],\n",
       "       [26082.51771352],\n",
       "       [25958.94641232],\n",
       "       [26542.74951948],\n",
       "       [26747.29595159],\n",
       "       [25887.45097888],\n",
       "       [26666.20098809],\n",
       "       [27953.70746675],\n",
       "       [29107.99757811],\n",
       "       [27064.47325251],\n",
       "       [26500.48693808],\n",
       "       [26478.6455444 ],\n",
       "       [26731.62950369],\n",
       "       [26366.05690305],\n",
       "       [27170.10976973],\n",
       "       [28441.54945196],\n",
       "       [28382.57913723],\n",
       "       [27052.05291343],\n",
       "       [27301.70892683],\n",
       "       [27956.60323631],\n",
       "       [28253.09895162],\n",
       "       [26977.34357838],\n",
       "       [27255.27609032],\n",
       "       [28205.23932486],\n",
       "       [27371.95154961],\n",
       "       [25432.28651048],\n",
       "       [25113.24217002],\n",
       "       [26189.73863645],\n",
       "       [25936.35412001],\n",
       "       [27161.0853065 ],\n",
       "       [27369.13046655],\n",
       "       [26652.29233377],\n",
       "       [26503.36193179],\n",
       "       [27635.56469224],\n",
       "       [27516.68364771],\n",
       "       [28054.03355813],\n",
       "       [27376.69888585],\n",
       "       [26888.0312776 ],\n",
       "       [26414.8822129 ],\n",
       "       [27066.45035561],\n",
       "       [28679.65081942],\n",
       "       [27942.3172666 ],\n",
       "       [28653.39875283],\n",
       "       [27681.16735634],\n",
       "       [27423.28415714],\n",
       "       [26798.19053819],\n",
       "       [25557.35655287],\n",
       "       [26651.98050208],\n",
       "       [27662.00473376],\n",
       "       [27208.60229372],\n",
       "       [27109.44092956],\n",
       "       [24762.59626359],\n",
       "       [25193.79964023],\n",
       "       [26098.59982289],\n",
       "       [26503.76635441],\n",
       "       [26439.67950831],\n",
       "       [25614.5398149 ],\n",
       "       [24782.13492213],\n",
       "       [26274.0650899 ],\n",
       "       [27107.29430018],\n",
       "       [27782.29823065],\n",
       "       [26508.57106594],\n",
       "       [26006.59811542],\n",
       "       [26555.10918138],\n",
       "       [26294.77360507],\n",
       "       [25326.05911892],\n",
       "       [25509.22151064],\n",
       "       [26618.9124797 ],\n",
       "       [25393.48013334],\n",
       "       [26138.63786131],\n",
       "       [27241.60442091],\n",
       "       [26219.03158781],\n",
       "       [26242.02137432],\n",
       "       [25558.1950054 ],\n",
       "       [28098.45128574],\n",
       "       [27356.15592724],\n",
       "       [26362.68795733],\n",
       "       [26702.43416614],\n",
       "       [26793.25505855],\n",
       "       [26817.96533926],\n",
       "       [26974.89702299],\n",
       "       [26816.27840905],\n",
       "       [28404.03779423],\n",
       "       [28821.60278356],\n",
       "       [27306.31329669]])"
      ]
     },
     "execution_count": 128,
     "metadata": {},
     "output_type": "execute_result"
    }
   ],
   "source": [
    "y_pred = pr.predict(X_test)  #Accuracy\n",
    "y_pred"
   ]
  },
  {
   "cell_type": "code",
   "execution_count": 129,
   "id": "39b0cd37-1b8e-4fb4-838d-8588d2335b77",
   "metadata": {},
   "outputs": [
    {
     "data": {
      "image/png": "[encoded data removed]",
      "text/plain": [
       "<Figure size 936x432 with 1 Axes>"
      ]
     },
     "metadata": {
      "needs_background": "light"
     },
     "output_type": "display_data"
    }
   ],
   "source": [
    "plotReg('Heng Seng Index 180 days', hsi.index, hsi[['Future Close']], hsi_ti.iloc[-180:], hsi_refeatures, pr)"
   ]
  },
  {
   "cell_type": "code",
   "execution_count": 130,
   "id": "609edd86",
   "metadata": {},
   "outputs": [
    {
     "name": "stdout",
     "output_type": "stream",
     "text": [
      "Mean Squared Error:  2271.8351284543505\n",
      "Adjusted R squared -0.5835846661212611\n"
     ]
    }
   ],
   "source": [
    "gsEval = evaluate(reg, y_test, y_pred)\n",
    "printEval(reg, gsEval)"
   ]
  },
  {
   "cell_type": "code",
   "execution_count": 170,
   "id": "aefdd785",
   "metadata": {},
   "outputs": [
    {
     "name": "stdout",
     "output_type": "stream",
     "text": [
      "[0, 1, 0, 1, 0, 1]\n",
      "[0, 0, 1, 0, 1]\n",
      "The model suggests that you should buy\n"
     ]
    }
   ],
   "source": [
    "finalPredict(hsi_target, hsi_features,hsi_refeatures, dctEval, forestEval, logisticEval, xgbEval, lrEval, prEval)\n"
   ]
  },
  {
   "cell_type": "markdown",
   "id": "0d9a43c2",
   "metadata": {
    "jp-MarkdownHeadingCollapsed": true,
    "tags": []
   },
   "source": [
    "<h1>SSE Composite Index</h1>"
   ]
  },
  {
   "cell_type": "markdown",
   "id": "c4626a9a",
   "metadata": {
    "jp-MarkdownHeadingCollapsed": true,
    "tags": []
   },
   "source": [
    "<h2>Feature Selection</h2>"
   ]
  },
  {
   "cell_type": "code",
   "execution_count": 132,
   "id": "5f23b706",
   "metadata": {},
   "outputs": [
    {
     "data": {
      "text/html": [
       "<div>\n",
       "<style scoped>\n",
       "    .dataframe tbody tr th:only-of-type {\n",
       "        vertical-align: middle;\n",
       "    }\n",
       "\n",
       "    .dataframe tbody tr th {\n",
       "        vertical-align: top;\n",
       "    }\n",
       "\n",
       "    .dataframe thead th {\n",
       "        text-align: right;\n",
       "    }\n",
       "</style>\n",
       "<table border=\"1\" class=\"dataframe\">\n",
       "  <thead>\n",
       "    <tr style=\"text-align: right;\">\n",
       "      <th></th>\n",
       "      <th>High</th>\n",
       "      <th>Low</th>\n",
       "      <th>Open</th>\n",
       "      <th>Close</th>\n",
       "      <th>Volume</th>\n",
       "      <th>Adj Close</th>\n",
       "      <th>Future Close</th>\n",
       "    </tr>\n",
       "    <tr>\n",
       "      <th>Date</th>\n",
       "      <th></th>\n",
       "      <th></th>\n",
       "      <th></th>\n",
       "      <th></th>\n",
       "      <th></th>\n",
       "      <th></th>\n",
       "      <th></th>\n",
       "    </tr>\n",
       "  </thead>\n",
       "  <tbody>\n",
       "    <tr>\n",
       "      <th>2016-01-04</th>\n",
       "      <td>3538.688965</td>\n",
       "      <td>3295.740967</td>\n",
       "      <td>3536.589111</td>\n",
       "      <td>3296.258057</td>\n",
       "      <td>184400</td>\n",
       "      <td>3296.258057</td>\n",
       "      <td>3287.710938</td>\n",
       "    </tr>\n",
       "    <tr>\n",
       "      <th>2016-01-05</th>\n",
       "      <td>3328.138916</td>\n",
       "      <td>3189.604980</td>\n",
       "      <td>3196.650879</td>\n",
       "      <td>3287.710938</td>\n",
       "      <td>266900</td>\n",
       "      <td>3287.710938</td>\n",
       "      <td>3361.840088</td>\n",
       "    </tr>\n",
       "    <tr>\n",
       "      <th>2016-01-06</th>\n",
       "      <td>3362.974121</td>\n",
       "      <td>3288.933105</td>\n",
       "      <td>3291.195068</td>\n",
       "      <td>3361.840088</td>\n",
       "      <td>238900</td>\n",
       "      <td>3361.840088</td>\n",
       "      <td>3125.001953</td>\n",
       "    </tr>\n",
       "    <tr>\n",
       "      <th>2016-01-07</th>\n",
       "      <td>3309.656982</td>\n",
       "      <td>3115.885010</td>\n",
       "      <td>3309.656982</td>\n",
       "      <td>3125.001953</td>\n",
       "      <td>70600</td>\n",
       "      <td>3125.001953</td>\n",
       "      <td>3186.412109</td>\n",
       "    </tr>\n",
       "    <tr>\n",
       "      <th>2016-01-08</th>\n",
       "      <td>3235.450928</td>\n",
       "      <td>3056.877930</td>\n",
       "      <td>3194.625000</td>\n",
       "      <td>3186.412109</td>\n",
       "      <td>286400</td>\n",
       "      <td>3186.412109</td>\n",
       "      <td>3016.704102</td>\n",
       "    </tr>\n",
       "    <tr>\n",
       "      <th>...</th>\n",
       "      <td>...</td>\n",
       "      <td>...</td>\n",
       "      <td>...</td>\n",
       "      <td>...</td>\n",
       "      <td>...</td>\n",
       "      <td>...</td>\n",
       "      <td>...</td>\n",
       "    </tr>\n",
       "    <tr>\n",
       "      <th>2021-11-30</th>\n",
       "      <td>3582.120117</td>\n",
       "      <td>3546.360107</td>\n",
       "      <td>3570.750000</td>\n",
       "      <td>3563.889893</td>\n",
       "      <td>349200</td>\n",
       "      <td>3563.889893</td>\n",
       "      <td>3576.889893</td>\n",
       "    </tr>\n",
       "    <tr>\n",
       "      <th>2021-12-01</th>\n",
       "      <td>3576.889893</td>\n",
       "      <td>3558.689941</td>\n",
       "      <td>3561.889893</td>\n",
       "      <td>3576.889893</td>\n",
       "      <td>329900</td>\n",
       "      <td>3576.889893</td>\n",
       "      <td>3573.840088</td>\n",
       "    </tr>\n",
       "    <tr>\n",
       "      <th>2021-12-02</th>\n",
       "      <td>3586.870117</td>\n",
       "      <td>3567.139893</td>\n",
       "      <td>3573.250000</td>\n",
       "      <td>3573.840088</td>\n",
       "      <td>354000</td>\n",
       "      <td>3573.840088</td>\n",
       "      <td>3607.429932</td>\n",
       "    </tr>\n",
       "    <tr>\n",
       "      <th>2021-12-03</th>\n",
       "      <td>3608.469971</td>\n",
       "      <td>3573.209961</td>\n",
       "      <td>3576.449951</td>\n",
       "      <td>3607.429932</td>\n",
       "      <td>377600</td>\n",
       "      <td>3607.429932</td>\n",
       "      <td>3589.306152</td>\n",
       "    </tr>\n",
       "    <tr>\n",
       "      <th>2021-12-06</th>\n",
       "      <td>3626.125732</td>\n",
       "      <td>3586.805176</td>\n",
       "      <td>3615.235596</td>\n",
       "      <td>3589.306152</td>\n",
       "      <td>3212968636</td>\n",
       "      <td>3589.306152</td>\n",
       "      <td>NaN</td>\n",
       "    </tr>\n",
       "  </tbody>\n",
       "</table>\n",
       "<p>1440 rows × 7 columns</p>\n",
       "</div>"
      ],
      "text/plain": [
       "                   High          Low         Open        Close      Volume  \\\n",
       "Date                                                                         \n",
       "2016-01-04  3538.688965  3295.740967  3536.589111  3296.258057      184400   \n",
       "2016-01-05  3328.138916  3189.604980  3196.650879  3287.710938      266900   \n",
       "2016-01-06  3362.974121  3288.933105  3291.195068  3361.840088      238900   \n",
       "2016-01-07  3309.656982  3115.885010  3309.656982  3125.001953       70600   \n",
       "2016-01-08  3235.450928  3056.877930  3194.625000  3186.412109      286400   \n",
       "...                 ...          ...          ...          ...         ...   \n",
       "2021-11-30  3582.120117  3546.360107  3570.750000  3563.889893      349200   \n",
       "2021-12-01  3576.889893  3558.689941  3561.889893  3576.889893      329900   \n",
       "2021-12-02  3586.870117  3567.139893  3573.250000  3573.840088      354000   \n",
       "2021-12-03  3608.469971  3573.209961  3576.449951  3607.429932      377600   \n",
       "2021-12-06  3626.125732  3586.805176  3615.235596  3589.306152  3212968636   \n",
       "\n",
       "              Adj Close  Future Close  \n",
       "Date                                   \n",
       "2016-01-04  3296.258057   3287.710938  \n",
       "2016-01-05  3287.710938   3361.840088  \n",
       "2016-01-06  3361.840088   3125.001953  \n",
       "2016-01-07  3125.001953   3186.412109  \n",
       "2016-01-08  3186.412109   3016.704102  \n",
       "...                 ...           ...  \n",
       "2021-11-30  3563.889893   3576.889893  \n",
       "2021-12-01  3576.889893   3573.840088  \n",
       "2021-12-02  3573.840088   3607.429932  \n",
       "2021-12-03  3607.429932   3589.306152  \n",
       "2021-12-06  3589.306152           NaN  \n",
       "\n",
       "[1440 rows x 7 columns]"
      ]
     },
     "execution_count": 132,
     "metadata": {},
     "output_type": "execute_result"
    }
   ],
   "source": [
    "sse['Future Close'] = sse['Close'].shift(-1)\n",
    "sse"
   ]
  },
  {
   "cell_type": "code",
   "execution_count": 133,
   "id": "027468fc",
   "metadata": {},
   "outputs": [],
   "source": [
    "target = computeTarget(sse['Close'], sse['Future Close'])\n",
    "\n",
    "sse['Target'] = target"
   ]
  },
  {
   "cell_type": "code",
   "execution_count": 134,
   "id": "2e76144d",
   "metadata": {},
   "outputs": [],
   "source": [
    "close = sse['Close']\n",
    "high = sse['High']\n",
    "low = sse['Low']\n",
    "open = sse['Open']\n",
    "volume  = sse['Volume']"
   ]
  },
  {
   "cell_type": "code",
   "execution_count": 135,
   "id": "9b49adb7",
   "metadata": {},
   "outputs": [
    {
     "data": {
      "text/html": [
       "<div>\n",
       "<style scoped>\n",
       "    .dataframe tbody tr th:only-of-type {\n",
       "        vertical-align: middle;\n",
       "    }\n",
       "\n",
       "    .dataframe tbody tr th {\n",
       "        vertical-align: top;\n",
       "    }\n",
       "\n",
       "    .dataframe thead th {\n",
       "        text-align: right;\n",
       "    }\n",
       "</style>\n",
       "<table border=\"1\" class=\"dataframe\">\n",
       "  <thead>\n",
       "    <tr style=\"text-align: right;\">\n",
       "      <th></th>\n",
       "      <th>SMA20</th>\n",
       "      <th>SMA50</th>\n",
       "      <th>SMA200</th>\n",
       "      <th>EMA</th>\n",
       "      <th>OBV</th>\n",
       "      <th>RSI14</th>\n",
       "      <th>ADX</th>\n",
       "      <th>ADXR</th>\n",
       "      <th>aroondown</th>\n",
       "      <th>aroonup</th>\n",
       "      <th>...</th>\n",
       "      <th>slowk</th>\n",
       "      <th>slowd</th>\n",
       "      <th>fastk</th>\n",
       "      <th>fastd</th>\n",
       "      <th>TRIX</th>\n",
       "      <th>ULTOSC</th>\n",
       "      <th>WILLR</th>\n",
       "      <th>Target</th>\n",
       "      <th>Close</th>\n",
       "      <th>Re Target</th>\n",
       "    </tr>\n",
       "    <tr>\n",
       "      <th>Date</th>\n",
       "      <th></th>\n",
       "      <th></th>\n",
       "      <th></th>\n",
       "      <th></th>\n",
       "      <th></th>\n",
       "      <th></th>\n",
       "      <th></th>\n",
       "      <th></th>\n",
       "      <th></th>\n",
       "      <th></th>\n",
       "      <th></th>\n",
       "      <th></th>\n",
       "      <th></th>\n",
       "      <th></th>\n",
       "      <th></th>\n",
       "      <th></th>\n",
       "      <th></th>\n",
       "      <th></th>\n",
       "      <th></th>\n",
       "      <th></th>\n",
       "      <th></th>\n",
       "    </tr>\n",
       "  </thead>\n",
       "  <tbody>\n",
       "    <tr>\n",
       "      <th>2016-01-04</th>\n",
       "      <td>NaN</td>\n",
       "      <td>NaN</td>\n",
       "      <td>NaN</td>\n",
       "      <td>NaN</td>\n",
       "      <td>1.844000e+05</td>\n",
       "      <td>NaN</td>\n",
       "      <td>NaN</td>\n",
       "      <td>NaN</td>\n",
       "      <td>NaN</td>\n",
       "      <td>NaN</td>\n",
       "      <td>...</td>\n",
       "      <td>NaN</td>\n",
       "      <td>NaN</td>\n",
       "      <td>NaN</td>\n",
       "      <td>NaN</td>\n",
       "      <td>NaN</td>\n",
       "      <td>NaN</td>\n",
       "      <td>NaN</td>\n",
       "      <td>0</td>\n",
       "      <td>3296.258057</td>\n",
       "      <td>3287.710938</td>\n",
       "    </tr>\n",
       "    <tr>\n",
       "      <th>2016-01-05</th>\n",
       "      <td>NaN</td>\n",
       "      <td>NaN</td>\n",
       "      <td>NaN</td>\n",
       "      <td>NaN</td>\n",
       "      <td>-8.250000e+04</td>\n",
       "      <td>NaN</td>\n",
       "      <td>NaN</td>\n",
       "      <td>NaN</td>\n",
       "      <td>NaN</td>\n",
       "      <td>NaN</td>\n",
       "      <td>...</td>\n",
       "      <td>NaN</td>\n",
       "      <td>NaN</td>\n",
       "      <td>NaN</td>\n",
       "      <td>NaN</td>\n",
       "      <td>NaN</td>\n",
       "      <td>NaN</td>\n",
       "      <td>NaN</td>\n",
       "      <td>1</td>\n",
       "      <td>3287.710938</td>\n",
       "      <td>3361.840088</td>\n",
       "    </tr>\n",
       "    <tr>\n",
       "      <th>2016-01-06</th>\n",
       "      <td>NaN</td>\n",
       "      <td>NaN</td>\n",
       "      <td>NaN</td>\n",
       "      <td>NaN</td>\n",
       "      <td>1.564000e+05</td>\n",
       "      <td>NaN</td>\n",
       "      <td>NaN</td>\n",
       "      <td>NaN</td>\n",
       "      <td>NaN</td>\n",
       "      <td>NaN</td>\n",
       "      <td>...</td>\n",
       "      <td>NaN</td>\n",
       "      <td>NaN</td>\n",
       "      <td>NaN</td>\n",
       "      <td>NaN</td>\n",
       "      <td>NaN</td>\n",
       "      <td>NaN</td>\n",
       "      <td>NaN</td>\n",
       "      <td>0</td>\n",
       "      <td>3361.840088</td>\n",
       "      <td>3125.001953</td>\n",
       "    </tr>\n",
       "    <tr>\n",
       "      <th>2016-01-07</th>\n",
       "      <td>NaN</td>\n",
       "      <td>NaN</td>\n",
       "      <td>NaN</td>\n",
       "      <td>NaN</td>\n",
       "      <td>8.580000e+04</td>\n",
       "      <td>NaN</td>\n",
       "      <td>NaN</td>\n",
       "      <td>NaN</td>\n",
       "      <td>NaN</td>\n",
       "      <td>NaN</td>\n",
       "      <td>...</td>\n",
       "      <td>NaN</td>\n",
       "      <td>NaN</td>\n",
       "      <td>NaN</td>\n",
       "      <td>NaN</td>\n",
       "      <td>NaN</td>\n",
       "      <td>NaN</td>\n",
       "      <td>NaN</td>\n",
       "      <td>1</td>\n",
       "      <td>3125.001953</td>\n",
       "      <td>3186.412109</td>\n",
       "    </tr>\n",
       "    <tr>\n",
       "      <th>2016-01-08</th>\n",
       "      <td>NaN</td>\n",
       "      <td>NaN</td>\n",
       "      <td>NaN</td>\n",
       "      <td>NaN</td>\n",
       "      <td>3.722000e+05</td>\n",
       "      <td>NaN</td>\n",
       "      <td>NaN</td>\n",
       "      <td>NaN</td>\n",
       "      <td>NaN</td>\n",
       "      <td>NaN</td>\n",
       "      <td>...</td>\n",
       "      <td>NaN</td>\n",
       "      <td>NaN</td>\n",
       "      <td>NaN</td>\n",
       "      <td>NaN</td>\n",
       "      <td>NaN</td>\n",
       "      <td>NaN</td>\n",
       "      <td>NaN</td>\n",
       "      <td>0</td>\n",
       "      <td>3186.412109</td>\n",
       "      <td>3016.704102</td>\n",
       "    </tr>\n",
       "    <tr>\n",
       "      <th>...</th>\n",
       "      <td>...</td>\n",
       "      <td>...</td>\n",
       "      <td>...</td>\n",
       "      <td>...</td>\n",
       "      <td>...</td>\n",
       "      <td>...</td>\n",
       "      <td>...</td>\n",
       "      <td>...</td>\n",
       "      <td>...</td>\n",
       "      <td>...</td>\n",
       "      <td>...</td>\n",
       "      <td>...</td>\n",
       "      <td>...</td>\n",
       "      <td>...</td>\n",
       "      <td>...</td>\n",
       "      <td>...</td>\n",
       "      <td>...</td>\n",
       "      <td>...</td>\n",
       "      <td>...</td>\n",
       "      <td>...</td>\n",
       "      <td>...</td>\n",
       "    </tr>\n",
       "    <tr>\n",
       "      <th>2021-11-30</th>\n",
       "      <td>3539.961621</td>\n",
       "      <td>3569.247051</td>\n",
       "      <td>3526.930282</td>\n",
       "      <td>3558.920841</td>\n",
       "      <td>2.487330e+07</td>\n",
       "      <td>52.096479</td>\n",
       "      <td>17.369247</td>\n",
       "      <td>22.381258</td>\n",
       "      <td>0.000000</td>\n",
       "      <td>71.428571</td>\n",
       "      <td>...</td>\n",
       "      <td>38.655207</td>\n",
       "      <td>49.692145</td>\n",
       "      <td>49.138835</td>\n",
       "      <td>38.655207</td>\n",
       "      <td>-0.007386</td>\n",
       "      <td>61.739004</td>\n",
       "      <td>-32.396652</td>\n",
       "      <td>1</td>\n",
       "      <td>3563.889893</td>\n",
       "      <td>3576.889893</td>\n",
       "    </tr>\n",
       "    <tr>\n",
       "      <th>2021-12-01</th>\n",
       "      <td>3543.879114</td>\n",
       "      <td>3566.477446</td>\n",
       "      <td>3527.288312</td>\n",
       "      <td>3561.316714</td>\n",
       "      <td>2.520320e+07</td>\n",
       "      <td>55.008687</td>\n",
       "      <td>16.461959</td>\n",
       "      <td>21.674837</td>\n",
       "      <td>0.000000</td>\n",
       "      <td>64.285714</td>\n",
       "      <td>...</td>\n",
       "      <td>56.033229</td>\n",
       "      <td>47.676037</td>\n",
       "      <td>71.380042</td>\n",
       "      <td>56.033229</td>\n",
       "      <td>-0.006916</td>\n",
       "      <td>61.441675</td>\n",
       "      <td>-28.837060</td>\n",
       "      <td>0</td>\n",
       "      <td>3576.889893</td>\n",
       "      <td>3573.840088</td>\n",
       "    </tr>\n",
       "    <tr>\n",
       "      <th>2021-12-02</th>\n",
       "      <td>3546.227612</td>\n",
       "      <td>3564.702246</td>\n",
       "      <td>3527.489087</td>\n",
       "      <td>3562.986498</td>\n",
       "      <td>2.484920e+07</td>\n",
       "      <td>54.176579</td>\n",
       "      <td>15.321140</td>\n",
       "      <td>20.753905</td>\n",
       "      <td>28.571429</td>\n",
       "      <td>57.142857</td>\n",
       "      <td>...</td>\n",
       "      <td>66.328400</td>\n",
       "      <td>53.672279</td>\n",
       "      <td>78.466324</td>\n",
       "      <td>66.328400</td>\n",
       "      <td>-0.006349</td>\n",
       "      <td>59.264174</td>\n",
       "      <td>-32.239910</td>\n",
       "      <td>1</td>\n",
       "      <td>3573.840088</td>\n",
       "      <td>3607.429932</td>\n",
       "    </tr>\n",
       "    <tr>\n",
       "      <th>2021-12-03</th>\n",
       "      <td>3552.020605</td>\n",
       "      <td>3563.726445</td>\n",
       "      <td>3527.939696</td>\n",
       "      <td>3568.912289</td>\n",
       "      <td>2.522680e+07</td>\n",
       "      <td>61.147474</td>\n",
       "      <td>14.994060</td>\n",
       "      <td>20.308288</td>\n",
       "      <td>21.428571</td>\n",
       "      <td>100.000000</td>\n",
       "      <td>...</td>\n",
       "      <td>82.859908</td>\n",
       "      <td>68.407179</td>\n",
       "      <td>98.733357</td>\n",
       "      <td>82.859908</td>\n",
       "      <td>-0.005454</td>\n",
       "      <td>64.601942</td>\n",
       "      <td>-1.090647</td>\n",
       "      <td>0</td>\n",
       "      <td>3607.429932</td>\n",
       "      <td>3589.306152</td>\n",
       "    </tr>\n",
       "    <tr>\n",
       "      <th>2021-12-06</th>\n",
       "      <td>3556.554419</td>\n",
       "      <td>3563.370767</td>\n",
       "      <td>3528.376932</td>\n",
       "      <td>3571.631471</td>\n",
       "      <td>-3.187742e+09</td>\n",
       "      <td>56.181338</td>\n",
       "      <td>15.220449</td>\n",
       "      <td>20.215252</td>\n",
       "      <td>14.285714</td>\n",
       "      <td>100.000000</td>\n",
       "      <td>...</td>\n",
       "      <td>77.013324</td>\n",
       "      <td>75.400544</td>\n",
       "      <td>53.840291</td>\n",
       "      <td>77.013324</td>\n",
       "      <td>-0.004436</td>\n",
       "      <td>59.754209</td>\n",
       "      <td>-32.579194</td>\n",
       "      <td>0</td>\n",
       "      <td>3589.306152</td>\n",
       "      <td>NaN</td>\n",
       "    </tr>\n",
       "  </tbody>\n",
       "</table>\n",
       "<p>1440 rows × 40 columns</p>\n",
       "</div>"
      ],
      "text/plain": [
       "                  SMA20        SMA50       SMA200          EMA           OBV  \\\n",
       "Date                                                                           \n",
       "2016-01-04          NaN          NaN          NaN          NaN  1.844000e+05   \n",
       "2016-01-05          NaN          NaN          NaN          NaN -8.250000e+04   \n",
       "2016-01-06          NaN          NaN          NaN          NaN  1.564000e+05   \n",
       "2016-01-07          NaN          NaN          NaN          NaN  8.580000e+04   \n",
       "2016-01-08          NaN          NaN          NaN          NaN  3.722000e+05   \n",
       "...                 ...          ...          ...          ...           ...   \n",
       "2021-11-30  3539.961621  3569.247051  3526.930282  3558.920841  2.487330e+07   \n",
       "2021-12-01  3543.879114  3566.477446  3527.288312  3561.316714  2.520320e+07   \n",
       "2021-12-02  3546.227612  3564.702246  3527.489087  3562.986498  2.484920e+07   \n",
       "2021-12-03  3552.020605  3563.726445  3527.939696  3568.912289  2.522680e+07   \n",
       "2021-12-06  3556.554419  3563.370767  3528.376932  3571.631471 -3.187742e+09   \n",
       "\n",
       "                RSI14        ADX       ADXR  aroondown     aroonup  ...  \\\n",
       "Date                                                                ...   \n",
       "2016-01-04        NaN        NaN        NaN        NaN         NaN  ...   \n",
       "2016-01-05        NaN        NaN        NaN        NaN         NaN  ...   \n",
       "2016-01-06        NaN        NaN        NaN        NaN         NaN  ...   \n",
       "2016-01-07        NaN        NaN        NaN        NaN         NaN  ...   \n",
       "2016-01-08        NaN        NaN        NaN        NaN         NaN  ...   \n",
       "...               ...        ...        ...        ...         ...  ...   \n",
       "2021-11-30  52.096479  17.369247  22.381258   0.000000   71.428571  ...   \n",
       "2021-12-01  55.008687  16.461959  21.674837   0.000000   64.285714  ...   \n",
       "2021-12-02  54.176579  15.321140  20.753905  28.571429   57.142857  ...   \n",
       "2021-12-03  61.147474  14.994060  20.308288  21.428571  100.000000  ...   \n",
       "2021-12-06  56.181338  15.220449  20.215252  14.285714  100.000000  ...   \n",
       "\n",
       "                slowk      slowd      fastk      fastd      TRIX     ULTOSC  \\\n",
       "Date                                                                          \n",
       "2016-01-04        NaN        NaN        NaN        NaN       NaN        NaN   \n",
       "2016-01-05        NaN        NaN        NaN        NaN       NaN        NaN   \n",
       "2016-01-06        NaN        NaN        NaN        NaN       NaN        NaN   \n",
       "2016-01-07        NaN        NaN        NaN        NaN       NaN        NaN   \n",
       "2016-01-08        NaN        NaN        NaN        NaN       NaN        NaN   \n",
       "...               ...        ...        ...        ...       ...        ...   \n",
       "2021-11-30  38.655207  49.692145  49.138835  38.655207 -0.007386  61.739004   \n",
       "2021-12-01  56.033229  47.676037  71.380042  56.033229 -0.006916  61.441675   \n",
       "2021-12-02  66.328400  53.672279  78.466324  66.328400 -0.006349  59.264174   \n",
       "2021-12-03  82.859908  68.407179  98.733357  82.859908 -0.005454  64.601942   \n",
       "2021-12-06  77.013324  75.400544  53.840291  77.013324 -0.004436  59.754209   \n",
       "\n",
       "                WILLR  Target        Close    Re Target  \n",
       "Date                                                     \n",
       "2016-01-04        NaN       0  3296.258057  3287.710938  \n",
       "2016-01-05        NaN       1  3287.710938  3361.840088  \n",
       "2016-01-06        NaN       0  3361.840088  3125.001953  \n",
       "2016-01-07        NaN       1  3125.001953  3186.412109  \n",
       "2016-01-08        NaN       0  3186.412109  3016.704102  \n",
       "...               ...     ...          ...          ...  \n",
       "2021-11-30 -32.396652       1  3563.889893  3576.889893  \n",
       "2021-12-01 -28.837060       0  3576.889893  3573.840088  \n",
       "2021-12-02 -32.239910       1  3573.840088  3607.429932  \n",
       "2021-12-03  -1.090647       0  3607.429932  3589.306152  \n",
       "2021-12-06 -32.579194       0  3589.306152          NaN  \n",
       "\n",
       "[1440 rows x 40 columns]"
      ]
     },
     "execution_count": 135,
     "metadata": {},
     "output_type": "execute_result"
    }
   ],
   "source": [
    "sse_ti = pd.DataFrame()\n",
    "sse_ti['SMA20'] = talib.SMA(close, timeperiod=20)\n",
    "sse_ti['SMA50'] = talib.SMA(close, timeperiod=50)\n",
    "sse_ti['SMA200'] = talib.SMA(close, timeperiod=200)\n",
    "sse_ti['EMA'] = talib.EMA(close, timeperiod=14)\n",
    "sse_ti['OBV'] = talib.OBV(close, volume)\n",
    "sse_ti['RSI14'] = talib.RSI(close, timeperiod=14)\n",
    "sse_ti['ADX'] = talib.ADX(high, low, close, timeperiod=14)\n",
    "sse_ti['ADXR'] = talib.ADXR(high, low, close, timeperiod=14)\n",
    "sse_ti['aroondown'], sse_ti['aroonup'] = talib.AROON(high, low, timeperiod=14)\n",
    "sse_ti['APO'] = talib.APO(close, fastperiod=12, slowperiod=26, matype=0)\n",
    "sse_ti['AROONOSC'] = talib.AROONOSC(high, low, timeperiod=14)\n",
    "sse_ti['BOP'] = talib.BOP(open, high, low, close)\n",
    "sse_ti['CCI'] = talib.CCI(high, low, close, timeperiod=14)\n",
    "sse_ti['CMO'] = talib.CMO(close, timeperiod=14)\n",
    "sse_ti['DX'] = talib.DX(high, low, close, timeperiod=14)\n",
    "sse_ti['macd'],sse_ti['macdsignal'],sse_ti['macdhist'] = talib.MACD(close, fastperiod = 12, slowperiod=26, signalperiod=9)\n",
    "sse_ti['MFI'] = talib.MFI(high, low, close, volume, timeperiod=14)\n",
    "sse_ti['MINUS_DI'] = talib.MINUS_DI(high, low, close, timeperiod=14)\n",
    "sse_ti['MINUS_DM'] = talib.MINUS_DM(high, low, timeperiod=14)\n",
    "sse_ti['MOM'] = talib.MOM(close, timeperiod=14)\n",
    "sse_ti['PLUS_DI'] = talib.PLUS_DI(high, low, close, timeperiod=14)\n",
    "sse_ti['PLUS_DM'] = talib.PLUS_DM(high, low, timeperiod=14)\n",
    "sse_ti['PPO'] = talib.PPO(close, fastperiod=12, slowperiod=26, matype=0)\n",
    "sse_ti['ROC'] = talib.ROC(close, timeperiod=10)\n",
    "sse_ti['ROCP'] = talib.ROCP(close, timeperiod=10)\n",
    "sse_ti['ROCR'] = talib.ROCR(close, timeperiod=10)\n",
    "sse_ti['ROCR100'] = talib.ROCR100(close, timeperiod=10)\n",
    "sse_ti['slowk'], sse_ti['slowd'] = talib.STOCH(high, low, close, fastk_period=5, slowk_period=3, slowd_period=3, slowd_matype=0)\n",
    "sse_ti['fastk'], sse_ti['fastd'] = talib.STOCHF(high, low, close, fastk_period=5, fastd_period=3, fastd_matype=0)\n",
    "sse_ti['TRIX'] = talib.TRIX(close, timeperiod=30)\n",
    "sse_ti['ULTOSC'] = talib.ULTOSC(high, low, close, timeperiod1=7, timeperiod2=14, timeperiod3=28)\n",
    "sse_ti['WILLR'] = talib.WILLR(high, low, close, timeperiod=14)\n",
    "sse_ti['Target'] = sse['Target']\n",
    "sse_ti['Close'] = sse['Close']\n",
    "sse_ti['Re Target'] = sse['Future Close']\n",
    "sse_ti"
   ]
  },
  {
   "cell_type": "code",
   "execution_count": 136,
   "id": "ad9c5b72",
   "metadata": {},
   "outputs": [],
   "source": [
    "sse_target = hsi_ti.tail(1)"
   ]
  },
  {
   "cell_type": "code",
   "execution_count": 137,
   "id": "0c7d37ab",
   "metadata": {},
   "outputs": [
    {
     "data": {
      "text/plain": [
       "['SMA20',\n",
       " 'EMA',\n",
       " 'RSI14',\n",
       " 'ADX',\n",
       " 'APO',\n",
       " 'BOP',\n",
       " 'CMO',\n",
       " 'macdhist',\n",
       " 'MINUS_DI',\n",
       " 'MINUS_DM',\n",
       " 'PLUS_DI',\n",
       " 'PLUS_DM',\n",
       " 'PPO',\n",
       " 'ROC',\n",
       " 'ROCR100',\n",
       " 'fastd',\n",
       " 'TRIX']"
      ]
     },
     "execution_count": 137,
     "metadata": {},
     "output_type": "execute_result"
    }
   ],
   "source": [
    "sse_ti = sse_ti.dropna()\n",
    "sse_features = selectFeatures(sse_ti,'Target')\n",
    "sse_features.remove('Re Target')\n",
    "sse_features.remove('Close')\n",
    "sse_features"
   ]
  },
  {
   "cell_type": "code",
   "execution_count": 138,
   "id": "356866e3",
   "metadata": {},
   "outputs": [],
   "source": [
    "X = sse_ti.loc[:, sse_features].values\n",
    "y = sse_ti.loc[:, ['Target']].values\n",
    "X_train, X_test, y_train, y_test = train_test_split(X, y, test_size=0.2, random_state=0)"
   ]
  },
  {
   "cell_type": "code",
   "execution_count": 139,
   "id": "207d5104",
   "metadata": {},
   "outputs": [],
   "source": [
    "sc = StandardScaler()\n",
    "X_train = sc.fit_transform(X_train)\n",
    "X_test = sc.transform(X_test)"
   ]
  },
  {
   "cell_type": "markdown",
   "id": "9d05f043",
   "metadata": {
    "jp-MarkdownHeadingCollapsed": true,
    "tags": []
   },
   "source": [
    "<h2>Decision Tree</h2>"
   ]
  },
  {
   "cell_type": "code",
   "execution_count": 140,
   "id": "f53e284b",
   "metadata": {},
   "outputs": [
    {
     "data": {
      "text/plain": [
       "DecisionTreeClassifier()"
      ]
     },
     "execution_count": 140,
     "metadata": {},
     "output_type": "execute_result"
    }
   ],
   "source": [
    "dtc = DecisionTreeClassifier()\n",
    "dtc.fit(X_train, y_train)"
   ]
  },
  {
   "cell_type": "code",
   "execution_count": 141,
   "id": "400a9dc3",
   "metadata": {},
   "outputs": [
    {
     "data": {
      "text/plain": [
       "array([1, 0, 1, 0, 1, 0, 1, 1, 0, 1, 1, 0, 0, 1, 1, 0, 1, 0, 1, 0, 1, 0,\n",
       "       0, 1, 0, 0, 0, 0, 0, 1, 0, 1, 1, 0, 1, 0, 1, 0, 1, 1, 1, 1, 1, 0,\n",
       "       0, 0, 1, 1, 0, 0, 1, 0, 1, 1, 1, 0, 0, 1, 0, 1, 0, 1, 1, 0, 1, 0,\n",
       "       1, 1, 0, 1, 1, 0, 0, 0, 1, 0, 0, 0, 1, 0, 0, 0, 1, 1, 1, 0, 1, 0,\n",
       "       1, 0, 0, 1, 1, 1, 1, 1, 1, 1, 0, 0, 0, 1, 1, 0, 0, 0, 1, 0, 1, 0,\n",
       "       1, 0, 1, 1, 1, 0, 0, 1, 0, 1, 1, 0, 1, 0, 0, 1, 1, 1, 0, 1, 0, 1,\n",
       "       0, 0, 1, 0, 1, 1, 0, 1, 0, 1, 1, 1, 1, 1, 1, 1, 1, 0, 1, 1, 0, 1,\n",
       "       0, 0, 1, 1, 0, 1, 0, 0, 1, 0, 0, 1, 1, 1, 1, 1, 1, 1, 1, 0, 1, 0,\n",
       "       1, 1, 1, 1, 1, 1, 1, 1, 1, 1, 1, 0, 1, 0, 1, 0, 1, 0, 1, 1, 1, 0,\n",
       "       0, 0, 0, 0, 1, 1, 0, 1, 0, 1, 0, 1, 1, 1, 1, 0, 0, 1, 1, 0, 1, 0,\n",
       "       0, 0, 1, 1, 0, 0, 0, 0, 0, 0, 0, 1, 0, 0, 0, 1, 1, 1, 1, 1, 1, 1,\n",
       "       1, 1, 0, 0, 1, 1], dtype=int64)"
      ]
     },
     "execution_count": 141,
     "metadata": {},
     "output_type": "execute_result"
    }
   ],
   "source": [
    "# Prediction\n",
    "#\n",
    "y_pred = dtc.predict(X_test)  #Accuracy\n",
    "y_pred"
   ]
  },
  {
   "cell_type": "code",
   "execution_count": 142,
   "id": "6e4f3da7",
   "metadata": {
    "collapsed": true,
    "jupyter": {
     "outputs_hidden": true
    },
    "tags": []
   },
   "outputs": [
    {
     "data": {
      "text/plain": [
       "array([[0],\n",
       "       [0],\n",
       "       [1],\n",
       "       [1],\n",
       "       [1],\n",
       "       [1],\n",
       "       [0],\n",
       "       [1],\n",
       "       [1],\n",
       "       [1],\n",
       "       [1],\n",
       "       [1],\n",
       "       [1],\n",
       "       [1],\n",
       "       [1],\n",
       "       [0],\n",
       "       [0],\n",
       "       [0],\n",
       "       [0],\n",
       "       [1],\n",
       "       [0],\n",
       "       [0],\n",
       "       [0],\n",
       "       [1],\n",
       "       [1],\n",
       "       [0],\n",
       "       [0],\n",
       "       [1],\n",
       "       [0],\n",
       "       [1],\n",
       "       [1],\n",
       "       [1],\n",
       "       [1],\n",
       "       [1],\n",
       "       [1],\n",
       "       [0],\n",
       "       [1],\n",
       "       [0],\n",
       "       [1],\n",
       "       [1],\n",
       "       [0],\n",
       "       [0],\n",
       "       [1],\n",
       "       [0],\n",
       "       [1],\n",
       "       [1],\n",
       "       [1],\n",
       "       [0],\n",
       "       [1],\n",
       "       [1],\n",
       "       [0],\n",
       "       [1],\n",
       "       [0],\n",
       "       [0],\n",
       "       [1],\n",
       "       [1],\n",
       "       [0],\n",
       "       [1],\n",
       "       [1],\n",
       "       [1],\n",
       "       [0],\n",
       "       [0],\n",
       "       [1],\n",
       "       [0],\n",
       "       [1],\n",
       "       [1],\n",
       "       [1],\n",
       "       [0],\n",
       "       [1],\n",
       "       [1],\n",
       "       [1],\n",
       "       [0],\n",
       "       [0],\n",
       "       [0],\n",
       "       [1],\n",
       "       [1],\n",
       "       [1],\n",
       "       [1],\n",
       "       [0],\n",
       "       [0],\n",
       "       [0],\n",
       "       [0],\n",
       "       [0],\n",
       "       [0],\n",
       "       [1],\n",
       "       [1],\n",
       "       [1],\n",
       "       [1],\n",
       "       [1],\n",
       "       [1],\n",
       "       [0],\n",
       "       [0],\n",
       "       [0],\n",
       "       [0],\n",
       "       [0],\n",
       "       [1],\n",
       "       [1],\n",
       "       [1],\n",
       "       [0],\n",
       "       [0],\n",
       "       [1],\n",
       "       [0],\n",
       "       [1],\n",
       "       [1],\n",
       "       [0],\n",
       "       [0],\n",
       "       [1],\n",
       "       [0],\n",
       "       [1],\n",
       "       [0],\n",
       "       [1],\n",
       "       [0],\n",
       "       [0],\n",
       "       [1],\n",
       "       [1],\n",
       "       [0],\n",
       "       [0],\n",
       "       [0],\n",
       "       [0],\n",
       "       [0],\n",
       "       [1],\n",
       "       [0],\n",
       "       [0],\n",
       "       [0],\n",
       "       [1],\n",
       "       [1],\n",
       "       [1],\n",
       "       [1],\n",
       "       [1],\n",
       "       [1],\n",
       "       [0],\n",
       "       [1],\n",
       "       [0],\n",
       "       [1],\n",
       "       [0],\n",
       "       [1],\n",
       "       [1],\n",
       "       [1],\n",
       "       [1],\n",
       "       [0],\n",
       "       [1],\n",
       "       [0],\n",
       "       [1],\n",
       "       [0],\n",
       "       [0],\n",
       "       [0],\n",
       "       [0],\n",
       "       [0],\n",
       "       [1],\n",
       "       [0],\n",
       "       [0],\n",
       "       [0],\n",
       "       [0],\n",
       "       [0],\n",
       "       [0],\n",
       "       [1],\n",
       "       [0],\n",
       "       [0],\n",
       "       [0],\n",
       "       [1],\n",
       "       [1],\n",
       "       [1],\n",
       "       [0],\n",
       "       [1],\n",
       "       [1],\n",
       "       [0],\n",
       "       [1],\n",
       "       [0],\n",
       "       [0],\n",
       "       [0],\n",
       "       [0],\n",
       "       [1],\n",
       "       [1],\n",
       "       [0],\n",
       "       [1],\n",
       "       [1],\n",
       "       [1],\n",
       "       [1],\n",
       "       [0],\n",
       "       [1],\n",
       "       [0],\n",
       "       [1],\n",
       "       [1],\n",
       "       [1],\n",
       "       [0],\n",
       "       [0],\n",
       "       [1],\n",
       "       [0],\n",
       "       [1],\n",
       "       [1],\n",
       "       [1],\n",
       "       [0],\n",
       "       [1],\n",
       "       [0],\n",
       "       [0],\n",
       "       [1],\n",
       "       [1],\n",
       "       [1],\n",
       "       [1],\n",
       "       [1],\n",
       "       [1],\n",
       "       [1],\n",
       "       [1],\n",
       "       [1],\n",
       "       [1],\n",
       "       [0],\n",
       "       [0],\n",
       "       [0],\n",
       "       [0],\n",
       "       [1],\n",
       "       [1],\n",
       "       [1],\n",
       "       [0],\n",
       "       [0],\n",
       "       [0],\n",
       "       [1],\n",
       "       [1],\n",
       "       [1],\n",
       "       [0],\n",
       "       [1],\n",
       "       [1],\n",
       "       [0],\n",
       "       [1],\n",
       "       [1],\n",
       "       [0],\n",
       "       [1],\n",
       "       [0],\n",
       "       [0],\n",
       "       [0],\n",
       "       [1],\n",
       "       [0],\n",
       "       [0],\n",
       "       [1],\n",
       "       [1],\n",
       "       [0],\n",
       "       [0],\n",
       "       [1],\n",
       "       [0],\n",
       "       [0],\n",
       "       [0],\n",
       "       [0],\n",
       "       [0],\n",
       "       [0],\n",
       "       [0],\n",
       "       [1],\n",
       "       [1],\n",
       "       [1],\n",
       "       [1]], dtype=int64)"
      ]
     },
     "execution_count": 142,
     "metadata": {},
     "output_type": "execute_result"
    }
   ],
   "source": [
    "# Look at the actual y_test\n",
    "#\n",
    "y_test"
   ]
  },
  {
   "cell_type": "code",
   "execution_count": 143,
   "id": "17f19945",
   "metadata": {},
   "outputs": [
    {
     "name": "stdout",
     "output_type": "stream",
     "text": [
      "Accuracy Score:  0.5282258064516129\n",
      "Confusion Matrix: \n",
      " [[54 62]\n",
      " [55 77]]\n",
      "F1 Score:  0.5682656826568266\n",
      "Precision Score:  0.5539568345323741\n",
      "Recall score:  0.5833333333333334\n",
      "Area Under Curve score:  0.524425287356322\n"
     ]
    }
   ],
   "source": [
    "dctEval = evaluate(cla, y_test, y_pred)\n",
    "printEval(cla, dctEval)"
   ]
  },
  {
   "cell_type": "markdown",
   "id": "a12d4e86",
   "metadata": {
    "jp-MarkdownHeadingCollapsed": true,
    "tags": []
   },
   "source": [
    "<h2>Random Forest</h2>"
   ]
  },
  {
   "cell_type": "code",
   "execution_count": 144,
   "id": "32edc975",
   "metadata": {},
   "outputs": [
    {
     "name": "stderr",
     "output_type": "stream",
     "text": [
      "C:\\Users\\kjmoo\\AppData\\Local\\Temp/ipykernel_4256/371548984.py:2: DataConversionWarning: A column-vector y was passed when a 1d array was expected. Please change the shape of y to (n_samples,), for example using ravel().\n",
      "  forest.fit(X_train, y_train)\n"
     ]
    },
    {
     "data": {
      "text/plain": [
       "RandomForestClassifier(max_features=9, n_estimators=1000, random_state=42)"
      ]
     },
     "execution_count": 144,
     "metadata": {},
     "output_type": "execute_result"
    }
   ],
   "source": [
    "forest = RandomForestClassifier(n_estimators = 1000, random_state = 42, max_features=9)\n",
    "forest.fit(X_train, y_train)"
   ]
  },
  {
   "cell_type": "code",
   "execution_count": 145,
   "id": "dcdc351e",
   "metadata": {},
   "outputs": [
    {
     "data": {
      "text/plain": [
       "array([0, 0, 1, 1, 1, 0, 0, 0, 0, 1, 1, 0, 1, 1, 1, 0, 1, 0, 0, 1, 1, 0,\n",
       "       0, 0, 0, 0, 0, 1, 1, 0, 0, 1, 0, 0, 1, 0, 1, 1, 1, 0, 0, 1, 1, 0,\n",
       "       0, 1, 1, 0, 1, 1, 1, 1, 1, 1, 0, 0, 0, 0, 0, 1, 1, 1, 1, 0, 1, 0,\n",
       "       1, 1, 1, 1, 1, 1, 1, 0, 1, 0, 1, 1, 1, 0, 0, 0, 1, 1, 0, 0, 1, 1,\n",
       "       1, 0, 0, 0, 1, 1, 1, 0, 1, 1, 0, 0, 1, 0, 1, 0, 1, 1, 0, 1, 1, 0,\n",
       "       0, 1, 1, 0, 1, 1, 1, 1, 1, 1, 1, 1, 1, 1, 1, 1, 1, 1, 0, 1, 0, 1,\n",
       "       0, 0, 0, 0, 1, 1, 0, 1, 0, 1, 1, 1, 1, 1, 1, 1, 1, 0, 1, 1, 1, 0,\n",
       "       1, 1, 0, 1, 1, 1, 1, 1, 0, 0, 0, 0, 0, 1, 1, 0, 1, 0, 1, 1, 1, 0,\n",
       "       1, 1, 1, 1, 1, 1, 1, 1, 1, 0, 1, 1, 1, 1, 0, 1, 0, 0, 1, 0, 0, 0,\n",
       "       1, 0, 0, 0, 1, 0, 1, 0, 0, 0, 1, 0, 0, 1, 1, 1, 0, 1, 1, 0, 1, 1,\n",
       "       1, 0, 0, 1, 1, 0, 0, 1, 1, 0, 0, 1, 0, 0, 0, 0, 0, 1, 1, 0, 1, 1,\n",
       "       1, 1, 0, 1, 1, 0], dtype=int64)"
      ]
     },
     "execution_count": 145,
     "metadata": {},
     "output_type": "execute_result"
    }
   ],
   "source": [
    "# Prediction\n",
    "#\n",
    "y_pred = forest.predict(X_test)  #Accuracy\n",
    "y_pred"
   ]
  },
  {
   "cell_type": "code",
   "execution_count": 146,
   "id": "271a417a",
   "metadata": {},
   "outputs": [
    {
     "name": "stdout",
     "output_type": "stream",
     "text": [
      "Accuracy Score:  0.4959677419354839\n",
      "Confusion Matrix: \n",
      " [[47 69]\n",
      " [56 76]]\n",
      "F1 Score:  0.5487364620938628\n",
      "Precision Score:  0.5241379310344828\n",
      "Recall score:  0.5757575757575758\n",
      "Area Under Curve score:  0.49046499477533956\n"
     ]
    }
   ],
   "source": [
    "forestEval = evaluate(cla, y_test, y_pred)\n",
    "printEval(cla, forestEval)"
   ]
  },
  {
   "cell_type": "markdown",
   "id": "ed50ca29",
   "metadata": {
    "jp-MarkdownHeadingCollapsed": true,
    "tags": []
   },
   "source": [
    "<h2>Logistic Regression</h2>"
   ]
  },
  {
   "cell_type": "code",
   "execution_count": 147,
   "id": "10e3a43a",
   "metadata": {},
   "outputs": [
    {
     "name": "stderr",
     "output_type": "stream",
     "text": [
      "C:\\Users\\kjmoo\\AppData\\Local\\Packages\\PythonSoftwareFoundation.Python.3.9_qbz5n2kfra8p0\\LocalCache\\local-packages\\Python39\\site-packages\\sklearn\\utils\\validation.py:985: DataConversionWarning: A column-vector y was passed when a 1d array was expected. Please change the shape of y to (n_samples, ), for example using ravel().\n",
      "  y = column_or_1d(y, warn=True)\n"
     ]
    },
    {
     "data": {
      "text/plain": [
       "LogisticRegression()"
      ]
     },
     "execution_count": 147,
     "metadata": {},
     "output_type": "execute_result"
    }
   ],
   "source": [
    "# Logistic Regression Classifier: Create and Train the model\n",
    "logistic = LogisticRegression()\n",
    "logistic.fit(X_train, y_train)"
   ]
  },
  {
   "cell_type": "code",
   "execution_count": 148,
   "id": "9ee6b346-8fc9-4e80-9d46-76c635e81787",
   "metadata": {},
   "outputs": [
    {
     "data": {
      "text/plain": [
       "array([1, 1, 1, 1, 1, 0, 0, 1, 0, 1, 0, 1, 1, 1, 1, 0, 1, 1, 0, 1, 1, 1,\n",
       "       1, 0, 0, 1, 1, 1, 1, 1, 0, 1, 0, 1, 1, 0, 1, 0, 1, 1, 1, 0, 1, 1,\n",
       "       1, 0, 1, 1, 1, 1, 1, 1, 1, 0, 0, 1, 1, 0, 1, 0, 0, 1, 0, 0, 1, 1,\n",
       "       1, 1, 1, 1, 1, 1, 1, 0, 0, 1, 1, 0, 1, 1, 0, 1, 1, 1, 1, 1, 0, 1,\n",
       "       0, 1, 0, 1, 1, 1, 0, 0, 1, 0, 0, 1, 1, 0, 0, 1, 1, 1, 1, 1, 0, 1,\n",
       "       1, 1, 1, 1, 1, 0, 1, 1, 1, 1, 1, 1, 1, 1, 1, 0, 1, 0, 0, 1, 0, 1,\n",
       "       0, 0, 1, 1, 0, 1, 0, 1, 1, 0, 1, 1, 1, 1, 1, 1, 0, 0, 1, 1, 0, 0,\n",
       "       1, 1, 0, 1, 0, 1, 1, 1, 1, 0, 0, 0, 0, 1, 1, 0, 1, 0, 1, 1, 1, 0,\n",
       "       1, 1, 1, 1, 1, 0, 1, 1, 1, 0, 1, 1, 0, 1, 1, 0, 1, 1, 0, 1, 1, 0,\n",
       "       1, 1, 1, 1, 1, 0, 0, 1, 1, 0, 0, 0, 1, 1, 0, 1, 0, 1, 1, 0, 1, 1,\n",
       "       0, 0, 1, 0, 0, 1, 0, 1, 1, 1, 0, 1, 1, 1, 1, 1, 1, 1, 1, 1, 0, 1,\n",
       "       0, 1, 0, 1, 1, 0], dtype=int64)"
      ]
     },
     "execution_count": 148,
     "metadata": {},
     "output_type": "execute_result"
    }
   ],
   "source": [
    "# Prediction\n",
    "y_pred = logistic.predict(X_test)  #Accuracy\n",
    "y_pred"
   ]
  },
  {
   "cell_type": "code",
   "execution_count": 149,
   "id": "6a3c12c0-ec9b-410d-bcfd-04634023a513",
   "metadata": {},
   "outputs": [],
   "source": [
    "# Look at the actual y_test\n",
    "#y_test"
   ]
  },
  {
   "cell_type": "code",
   "execution_count": 150,
   "id": "1d60e47b-1523-4bc8-8944-b7208623c025",
   "metadata": {},
   "outputs": [
    {
     "name": "stdout",
     "output_type": "stream",
     "text": [
      "Accuracy Score:  0.5161290322580645\n",
      "Confusion Matrix: \n",
      " [[39 77]\n",
      " [43 89]]\n",
      "F1 Score:  0.5973154362416107\n",
      "Precision Score:  0.536144578313253\n",
      "Recall score:  0.6742424242424242\n",
      "Area Under Curve score:  0.5052246603970743\n"
     ]
    }
   ],
   "source": [
    "logisticEval = evaluate(cla, y_test, y_pred)\n",
    "printEval(cla, logisticEval)"
   ]
  },
  {
   "cell_type": "markdown",
   "id": "89c4d943",
   "metadata": {
    "jp-MarkdownHeadingCollapsed": true,
    "tags": []
   },
   "source": [
    "<h2>XGBoost</h2>"
   ]
  },
  {
   "cell_type": "code",
   "execution_count": 151,
   "id": "04f76d12",
   "metadata": {},
   "outputs": [
    {
     "name": "stdout",
     "output_type": "stream",
     "text": [
      "[21:30:47] WARNING: C:/Users/Administrator/workspace/xgboost-win64_release_1.5.1/src/learner.cc:1115: Starting in XGBoost 1.3.0, the default evaluation metric used with the objective 'binary:logistic' was changed from 'error' to 'logloss'. Explicitly set eval_metric if you'd like to restore the old behavior.\n"
     ]
    },
    {
     "name": "stderr",
     "output_type": "stream",
     "text": [
      "C:\\Users\\kjmoo\\AppData\\Local\\Packages\\PythonSoftwareFoundation.Python.3.9_qbz5n2kfra8p0\\LocalCache\\local-packages\\Python39\\site-packages\\xgboost\\sklearn.py:1224: UserWarning: The use of label encoder in XGBClassifier is deprecated and will be removed in a future release. To remove this warning, do the following: 1) Pass option use_label_encoder=False when constructing XGBClassifier object; and 2) Encode your labels (y) as integers starting with 0, i.e. 0, 1, 2, ..., [num_class - 1].\n",
      "  warnings.warn(label_encoder_deprecation_msg, UserWarning)\n",
      "C:\\Users\\kjmoo\\AppData\\Local\\Packages\\PythonSoftwareFoundation.Python.3.9_qbz5n2kfra8p0\\LocalCache\\local-packages\\Python39\\site-packages\\sklearn\\preprocessing\\_label.py:98: DataConversionWarning: A column-vector y was passed when a 1d array was expected. Please change the shape of y to (n_samples, ), for example using ravel().\n",
      "  y = column_or_1d(y, warn=True)\n",
      "C:\\Users\\kjmoo\\AppData\\Local\\Packages\\PythonSoftwareFoundation.Python.3.9_qbz5n2kfra8p0\\LocalCache\\local-packages\\Python39\\site-packages\\sklearn\\preprocessing\\_label.py:133: DataConversionWarning: A column-vector y was passed when a 1d array was expected. Please change the shape of y to (n_samples, ), for example using ravel().\n",
      "  y = column_or_1d(y, warn=True)\n"
     ]
    },
    {
     "data": {
      "text/plain": [
       "XGBClassifier(base_score=0.5, booster='gbtree', colsample_bylevel=1,\n",
       "              colsample_bynode=1, colsample_bytree=1, enable_categorical=False,\n",
       "              gamma=0, gpu_id=-1, importance_type=None,\n",
       "              interaction_constraints='', learning_rate=0.300000012,\n",
       "              max_delta_step=0, max_depth=6, min_child_weight=1, missing=nan,\n",
       "              monotone_constraints='()', n_estimators=100, n_jobs=16,\n",
       "              num_parallel_tree=1, predictor='auto', random_state=0,\n",
       "              reg_alpha=0, reg_lambda=1, scale_pos_weight=1, subsample=1,\n",
       "              tree_method='exact', validate_parameters=1, verbosity=None)"
      ]
     },
     "execution_count": 151,
     "metadata": {},
     "output_type": "execute_result"
    }
   ],
   "source": [
    "from xgboost import XGBClassifier\n",
    "from numpy import loadtxt\n",
    "from sklearn.metrics import accuracy_score\n",
    "\n",
    "xgb = XGBClassifier()\n",
    "xgb.fit(X_train, y_train)"
   ]
  },
  {
   "cell_type": "code",
   "execution_count": 152,
   "id": "91417d00",
   "metadata": {},
   "outputs": [
    {
     "data": {
      "text/plain": [
       "array([0, 0, 1, 0, 1, 0, 1, 0, 0, 1, 1, 0, 1, 1, 1, 0, 1, 1, 0, 1, 1, 0,\n",
       "       0, 0, 0, 1, 1, 0, 1, 1, 0, 1, 0, 1, 1, 0, 1, 1, 1, 0, 0, 1, 1, 0,\n",
       "       0, 0, 1, 1, 1, 1, 1, 1, 1, 1, 0, 0, 0, 0, 0, 1, 0, 1, 0, 1, 1, 0,\n",
       "       1, 1, 1, 1, 1, 1, 1, 0, 1, 1, 1, 0, 1, 0, 0, 0, 1, 0, 0, 1, 1, 1,\n",
       "       1, 0, 0, 0, 1, 1, 1, 0, 1, 1, 0, 1, 1, 1, 1, 0, 1, 1, 0, 0, 1, 0,\n",
       "       0, 1, 1, 0, 1, 0, 0, 1, 0, 1, 1, 0, 1, 1, 1, 0, 1, 1, 0, 1, 1, 1,\n",
       "       0, 0, 0, 0, 1, 1, 1, 1, 0, 1, 1, 0, 1, 1, 0, 1, 0, 0, 1, 1, 1, 0,\n",
       "       1, 1, 0, 0, 1, 1, 1, 1, 0, 0, 0, 0, 1, 1, 1, 1, 1, 0, 1, 0, 1, 0,\n",
       "       1, 1, 1, 1, 1, 1, 1, 0, 1, 0, 1, 1, 1, 0, 0, 0, 1, 0, 1, 0, 0, 1,\n",
       "       1, 0, 0, 0, 1, 0, 0, 0, 0, 1, 0, 0, 1, 1, 1, 0, 0, 0, 1, 0, 1, 0,\n",
       "       0, 1, 0, 1, 1, 0, 0, 1, 1, 0, 0, 1, 0, 0, 0, 0, 1, 1, 1, 0, 1, 0,\n",
       "       1, 1, 0, 1, 1, 0], dtype=int64)"
      ]
     },
     "execution_count": 152,
     "metadata": {},
     "output_type": "execute_result"
    }
   ],
   "source": [
    "y_pred = xgb.predict(X_test)  #Accuracy\n",
    "y_pred"
   ]
  },
  {
   "cell_type": "code",
   "execution_count": 153,
   "id": "2bf562f7",
   "metadata": {},
   "outputs": [],
   "source": [
    "#y_test"
   ]
  },
  {
   "cell_type": "code",
   "execution_count": 154,
   "id": "60d91082",
   "metadata": {},
   "outputs": [
    {
     "name": "stdout",
     "output_type": "stream",
     "text": [
      "Accuracy Score:  0.4959677419354839\n",
      "Confusion Matrix: \n",
      " [[50 66]\n",
      " [59 73]]\n",
      "F1 Score:  0.5387453874538745\n",
      "Precision Score:  0.5251798561151079\n",
      "Recall score:  0.553030303030303\n",
      "Area Under Curve score:  0.4920323928944619\n"
     ]
    }
   ],
   "source": [
    "xgbEval = evaluate(cla, y_test, y_pred)\n",
    "printEval(cla, xgbEval)"
   ]
  },
  {
   "cell_type": "markdown",
   "id": "7d80df8c",
   "metadata": {
    "jp-MarkdownHeadingCollapsed": true,
    "tags": []
   },
   "source": [
    "<h2>Linear Regression</h2>"
   ]
  },
  {
   "cell_type": "code",
   "execution_count": 155,
   "id": "4d2e2757",
   "metadata": {},
   "outputs": [
    {
     "data": {
      "text/plain": [
       "['SMA20',\n",
       " 'EMA',\n",
       " 'RSI14',\n",
       " 'ADX',\n",
       " 'APO',\n",
       " 'BOP',\n",
       " 'CMO',\n",
       " 'macdhist',\n",
       " 'MINUS_DI',\n",
       " 'MINUS_DM',\n",
       " 'PLUS_DI',\n",
       " 'PLUS_DM',\n",
       " 'PPO',\n",
       " 'ROC',\n",
       " 'ROCR100',\n",
       " 'fastd',\n",
       " 'TRIX']"
      ]
     },
     "execution_count": 155,
     "metadata": {},
     "output_type": "execute_result"
    }
   ],
   "source": [
    "sse_refeatures = selectFeatures(sse_ti,'Re Target')\n",
    "sse_refeatures.remove('Target')\n",
    "sse_refeatures.remove('Close')\n",
    "sse_features"
   ]
  },
  {
   "cell_type": "code",
   "execution_count": 156,
   "id": "ddacf479",
   "metadata": {},
   "outputs": [],
   "source": [
    "from sklearn.model_selection import train_test_split\n",
    "X = sse_ti.loc[:, sse_refeatures].values\n",
    "#X = dji_ti.loc[:, ['CCI', 'DX', 'MINUS_DI', 'PLUS_DM', 'slowd']].values\n",
    "y = sse_ti.loc[:, ['Re Target']].values\n",
    "X_train, X_test, y_train, y_test = train_test_split(X, y, test_size=0.2, random_state=0, shuffle=False)"
   ]
  },
  {
   "cell_type": "code",
   "execution_count": 157,
   "id": "b2043f9d",
   "metadata": {},
   "outputs": [],
   "source": [
    "from sklearn.preprocessing import StandardScaler\n",
    "sc = StandardScaler()\n",
    "X_train = sc.fit_transform(X_train)\n",
    "X_test = sc.transform(X_test)"
   ]
  },
  {
   "cell_type": "code",
   "execution_count": 158,
   "id": "eb5bd256",
   "metadata": {},
   "outputs": [],
   "source": [
    "from sklearn.linear_model import LinearRegression\n",
    "lr = LinearRegression(fit_intercept=True)\n",
    "from sklearn import metrics"
   ]
  },
  {
   "cell_type": "code",
   "execution_count": 159,
   "id": "c33b60dd",
   "metadata": {},
   "outputs": [
    {
     "data": {
      "text/plain": [
       "LinearRegression()"
      ]
     },
     "execution_count": 159,
     "metadata": {},
     "output_type": "execute_result"
    }
   ],
   "source": [
    "lr = LinearRegression()\n",
    "lr.fit(X_train, y_train)"
   ]
  },
  {
   "cell_type": "code",
   "execution_count": 160,
   "id": "69d16c74",
   "metadata": {
    "collapsed": true,
    "jupyter": {
     "outputs_hidden": true
    },
    "tags": []
   },
   "outputs": [
    {
     "name": "stdout",
     "output_type": "stream",
     "text": [
      "[[3400.91587284]\n",
      " [3399.3142842 ]\n",
      " [3442.5907922 ]\n",
      " [3440.38921613]\n",
      " [3431.98034073]\n",
      " [3437.37163675]\n",
      " [3403.72551187]\n",
      " [3400.39411774]\n",
      " [3363.1663962 ]\n",
      " [3368.376838  ]\n",
      " [3335.01379294]\n",
      " [3358.71531738]\n",
      " [3351.99305909]\n",
      " [3349.31812298]\n",
      " [3397.21324928]\n",
      " [3383.42481948]\n",
      " [3413.07854136]\n",
      " [3343.33909542]\n",
      " [3369.04840213]\n",
      " [3346.17293972]\n",
      " [3375.96600478]\n",
      " [3375.63926991]\n",
      " [3350.97033781]\n",
      " [3385.09277677]\n",
      " [3442.84274255]\n",
      " [3472.90881097]\n",
      " [3497.78444643]\n",
      " [3524.18786371]\n",
      " [3550.42926992]\n",
      " [3551.85230676]\n",
      " [3515.1411293 ]\n",
      " [3571.1031489 ]\n",
      " [3569.77133406]\n",
      " [3539.07149243]\n",
      " [3538.63682661]\n",
      " [3568.69456325]\n",
      " [3539.59871135]\n",
      " [3556.33625043]\n",
      " [3603.18750948]\n",
      " [3589.17922519]\n",
      " [3616.61371424]\n",
      " [3561.05484846]\n",
      " [3563.87042191]\n",
      " [3504.00056826]\n",
      " [3475.60724541]\n",
      " [3494.83695306]\n",
      " [3524.49277632]\n",
      " [3509.81965981]\n",
      " [3485.27760394]\n",
      " [3484.48649371]\n",
      " [3515.56428679]\n",
      " [3587.30594946]\n",
      " [3640.33653007]\n",
      " [3677.96091488]\n",
      " [3683.36742441]\n",
      " [3643.81855374]\n",
      " [3635.07894315]\n",
      " [3549.78787952]\n",
      " [3564.41579576]\n",
      " [3493.53271954]\n",
      " [3519.48505618]\n",
      " [3474.47816702]\n",
      " [3516.60187561]\n",
      " [3468.56762862]\n",
      " [3458.2215855 ]\n",
      " [3401.62879685]\n",
      " [3337.38512133]\n",
      " [3340.51941598]\n",
      " [3412.67448536]\n",
      " [3428.38574554]\n",
      " [3399.74117791]\n",
      " [3417.45327647]\n",
      " [3420.76842979]\n",
      " [3448.54071154]\n",
      " [3396.45153313]\n",
      " [3430.07796164]\n",
      " [3406.29291596]\n",
      " [3372.47591237]\n",
      " [3359.33493588]\n",
      " [3406.21098343]\n",
      " [3421.83737898]\n",
      " [3434.94678853]\n",
      " [3417.31058984]\n",
      " [3443.40909612]\n",
      " [3462.59246754]\n",
      " [3462.04470406]\n",
      " [3456.52056381]\n",
      " [3468.28279144]\n",
      " [3434.01799917]\n",
      " [3396.53673102]\n",
      " [3378.91115853]\n",
      " [3399.00405214]\n",
      " [3379.23539964]\n",
      " [3414.32250173]\n",
      " [3466.6849983 ]\n",
      " [3465.93073288]\n",
      " [3465.77055511]\n",
      " [3458.20324761]\n",
      " [3471.75594415]\n",
      " [3437.49368223]\n",
      " [3440.94922929]\n",
      " [3456.79555761]\n",
      " [3474.8614395 ]\n",
      " [3436.53432336]\n",
      " [3426.10571289]\n",
      " [3397.0084332 ]\n",
      " [3405.76778228]\n",
      " [3422.83608874]\n",
      " [3447.84936907]\n",
      " [3407.37500932]\n",
      " [3475.07009235]\n",
      " [3505.02661809]\n",
      " [3506.04341859]\n",
      " [3483.22960669]\n",
      " [3483.20681697]\n",
      " [3461.72005396]\n",
      " [3476.88566698]\n",
      " [3568.78174924]\n",
      " [3578.85278452]\n",
      " [3599.85215483]\n",
      " [3590.61902143]\n",
      " [3602.46632072]\n",
      " [3615.08794213]\n",
      " [3584.77550007]\n",
      " [3577.48648724]\n",
      " [3587.40469828]\n",
      " [3592.83946322]\n",
      " [3576.12696843]\n",
      " [3587.75644943]\n",
      " [3612.77346789]\n",
      " [3583.32847863]\n",
      " [3547.26614058]\n",
      " [3510.26527921]\n",
      " [3521.68051954]\n",
      " [3516.50179452]\n",
      " [3519.11015444]\n",
      " [3550.49792335]\n",
      " [3557.86984793]\n",
      " [3554.47954615]\n",
      " [3607.48291891]\n",
      " [3602.77154846]\n",
      " [3563.71962751]\n",
      " [3589.77760873]\n",
      " [3584.98148541]\n",
      " [3509.74385771]\n",
      " [3527.55336212]\n",
      " [3513.79195945]\n",
      " [3538.22546649]\n",
      " [3500.82502038]\n",
      " [3497.01924607]\n",
      " [3528.98965225]\n",
      " [3549.0490085 ]\n",
      " [3504.90402321]\n",
      " [3540.80019659]\n",
      " [3515.0199091 ]\n",
      " [3517.70711858]\n",
      " [3516.80113454]\n",
      " [3550.43294477]\n",
      " [3563.73041666]\n",
      " [3536.13547633]\n",
      " [3451.9534257 ]\n",
      " [3385.52421091]\n",
      " [3356.03985897]\n",
      " [3409.04806226]\n",
      " [3392.29635322]\n",
      " [3457.8293984 ]\n",
      " [3444.47355635]\n",
      " [3466.44675699]\n",
      " [3456.82371441]\n",
      " [3446.73745197]\n",
      " [3494.1520628 ]\n",
      " [3529.492933  ]\n",
      " [3533.53504031]\n",
      " [3519.03919041]\n",
      " [3505.90465329]\n",
      " [3505.05432349]\n",
      " [3427.26006777]\n",
      " [3461.33269548]\n",
      " [3441.20912314]\n",
      " [3400.62555107]\n",
      " [3450.1494777 ]\n",
      " [3487.27709863]\n",
      " [3510.52245281]\n",
      " [3474.96528532]\n",
      " [3493.87021942]\n",
      " [3499.95670194]\n",
      " [3512.59139002]\n",
      " [3545.19846133]\n",
      " [3573.13625315]\n",
      " [3563.966651  ]\n",
      " [3598.03729213]\n",
      " [3647.75024445]\n",
      " [3651.31917753]\n",
      " [3666.06065896]\n",
      " [3688.48678126]\n",
      " [3699.1062788 ]\n",
      " [3641.23951382]\n",
      " [3637.71220532]\n",
      " [3586.76347407]\n",
      " [3588.00614574]\n",
      " [3594.04729587]\n",
      " [3615.15382743]\n",
      " [3582.0422281 ]\n",
      " [3543.76000219]\n",
      " [3563.89560695]\n",
      " [3498.54544376]\n",
      " [3531.94482535]\n",
      " [3563.27813976]\n",
      " [3561.3484573 ]\n",
      " [3506.41539689]\n",
      " [3518.41795177]\n",
      " [3519.28154209]\n",
      " [3539.93074749]\n",
      " [3536.19780333]\n",
      " [3571.83995001]\n",
      " [3565.18825782]\n",
      " [3578.02021846]\n",
      " [3559.14545339]\n",
      " [3583.96264339]\n",
      " [3572.02248885]\n",
      " [3532.44949504]\n",
      " [3487.08050095]\n",
      " [3514.820483  ]\n",
      " [3511.37717117]\n",
      " [3465.29733063]\n",
      " [3460.43503562]\n",
      " [3499.23617819]\n",
      " [3464.26055458]\n",
      " [3475.67841722]\n",
      " [3486.72409725]\n",
      " [3468.4062972 ]\n",
      " [3523.93002352]\n",
      " [3532.32216357]\n",
      " [3525.3096956 ]\n",
      " [3514.436263  ]\n",
      " [3536.12402859]\n",
      " [3515.45371893]\n",
      " [3563.72696754]\n",
      " [3586.97298691]\n",
      " [3592.1131204 ]\n",
      " [3594.11890596]\n",
      " [3579.35170896]\n",
      " [3554.88007873]\n",
      " [3559.52478013]\n",
      " [3557.40682191]\n",
      " [3572.12920256]\n",
      " [3564.1674736 ]\n",
      " [3603.97708937]]\n"
     ]
    }
   ],
   "source": [
    "y_pred = lr.predict(X_test)\n",
    "print(y_pred)"
   ]
  },
  {
   "cell_type": "code",
   "execution_count": 161,
   "id": "c46a215f",
   "metadata": {},
   "outputs": [],
   "source": [
    "dframe = pd.DataFrame({'Actual':y_test.flatten(),'predicted':y_pred.flatten()})"
   ]
  },
  {
   "cell_type": "code",
   "execution_count": 162,
   "id": "cdbcebab-8493-4323-ade8-2d131eaa73e3",
   "metadata": {},
   "outputs": [
    {
     "name": "stdout",
     "output_type": "stream",
     "text": [
      "Slope: [[ 2.18118254e+02  5.50878495e+14  3.57031250e+00 -3.36093750e+01\n",
      "   2.08593750e+00 -5.50878495e+14 -3.27441253e+14  3.04887042e+14\n",
      "   1.06642927e+14  4.08359375e+01 -7.25703125e+01 -2.94687500e+01\n",
      "   6.61562500e+01  7.03125000e+00 -2.69150899e+14  2.69150899e+14\n",
      "  -1.36875000e+01]]\n",
      "Intercept: [3067.55119666]\n"
     ]
    }
   ],
   "source": [
    "print('Slope:', lr.coef_)\n",
    "print('Intercept:', lr.intercept_)"
   ]
  },
  {
   "cell_type": "code",
   "execution_count": 163,
   "id": "a1fb388f-85a0-41ba-b8f4-8546ed007635",
   "metadata": {},
   "outputs": [
    {
     "data": {
      "image/png": "[encoded data removed]",
      "text/plain": [
       "<Figure size 936x432 with 1 Axes>"
      ]
     },
     "metadata": {
      "needs_background": "light"
     },
     "output_type": "display_data"
    }
   ],
   "source": [
    "plotReg('SSE Composite Index', sse.index, sse[['Future Close']], sse_ti.iloc[-180:], sse_refeatures, lr)"
   ]
  },
  {
   "cell_type": "code",
   "execution_count": 164,
   "id": "8fdde84f",
   "metadata": {},
   "outputs": [
    {
     "name": "stdout",
     "output_type": "stream",
     "text": [
      "Mean Squared Error:  37.54497186930557\n",
      "Adjusted R squared 0.7754317746470427\n"
     ]
    }
   ],
   "source": [
    "#evaluate(\"reg\", y_test, y_pred)\n",
    "\n",
    "lrEval = evaluate(reg, y_test, y_pred)\n",
    "printEval(reg, lrEval)"
   ]
  },
  {
   "cell_type": "markdown",
   "id": "537877a9",
   "metadata": {
    "tags": []
   },
   "source": [
    "<h2>Polynomial Regression</h2>"
   ]
  },
  {
   "cell_type": "code",
   "execution_count": 165,
   "id": "2c0f499f",
   "metadata": {},
   "outputs": [
    {
     "data": {
      "text/plain": [
       "Pipeline(steps=[('polynomialfeatures', PolynomialFeatures()),\n",
       "                ('linearregression', LinearRegression())])"
      ]
     },
     "execution_count": 165,
     "metadata": {},
     "output_type": "execute_result"
    }
   ],
   "source": [
    "from sklearn.preprocessing import PolynomialFeatures\n",
    "from sklearn.pipeline import make_pipeline\n",
    "from sklearn.linear_model import LinearRegression\n",
    "degree=2\n",
    "pr=make_pipeline(PolynomialFeatures(degree),LinearRegression())\n",
    "pr.fit(X_train,y_train)"
   ]
  },
  {
   "cell_type": "code",
   "execution_count": 166,
   "id": "13c48dc9",
   "metadata": {
    "tags": []
   },
   "outputs": [
    {
     "data": {
      "text/plain": [
       "array([[3431.53323364],\n",
       "       [3410.75271606],\n",
       "       [3464.42776489],\n",
       "       [3457.91604614],\n",
       "       [3452.31350708],\n",
       "       [3453.70950317],\n",
       "       [3428.79125977],\n",
       "       [3413.41131592],\n",
       "       [3378.87713623],\n",
       "       [3371.46838379],\n",
       "       [3341.60647583],\n",
       "       [3371.17593384],\n",
       "       [3360.00393677],\n",
       "       [3365.44338989],\n",
       "       [3407.60720825],\n",
       "       [3393.17288208],\n",
       "       [3417.83078003],\n",
       "       [3340.71633911],\n",
       "       [3365.19924927],\n",
       "       [3346.35159302],\n",
       "       [3389.41165161],\n",
       "       [3386.03286743],\n",
       "       [3370.76126099],\n",
       "       [3405.59988403],\n",
       "       [3456.54006958],\n",
       "       [3481.03128052],\n",
       "       [3496.65823364],\n",
       "       [3528.85159302],\n",
       "       [3548.28909302],\n",
       "       [3554.72268677],\n",
       "       [3521.01174927],\n",
       "       [3581.15237427],\n",
       "       [3589.58987427],\n",
       "       [3571.04690552],\n",
       "       [3571.61233521],\n",
       "       [3617.16213989],\n",
       "       [3602.42337036],\n",
       "       [3611.33792114],\n",
       "       [3651.26956177],\n",
       "       [3636.32913208],\n",
       "       [3657.42385864],\n",
       "       [3588.12405396],\n",
       "       [3579.34936523],\n",
       "       [3507.42044067],\n",
       "       [3464.89407349],\n",
       "       [3477.97952271],\n",
       "       [3526.08761597],\n",
       "       [3501.39602661],\n",
       "       [3453.54690552],\n",
       "       [3454.98831177],\n",
       "       [3481.77737427],\n",
       "       [3567.78591919],\n",
       "       [3599.46682739],\n",
       "       [3612.46487427],\n",
       "       [3640.11331177],\n",
       "       [3584.24026489],\n",
       "       [3587.05667114],\n",
       "       [3522.00540161],\n",
       "       [3547.40628052],\n",
       "       [3473.58496094],\n",
       "       [3520.39303589],\n",
       "       [3461.28616333],\n",
       "       [3506.61819458],\n",
       "       [3447.50393677],\n",
       "       [3429.80862427],\n",
       "       [3374.98831177],\n",
       "       [3310.76174927],\n",
       "       [3350.69924927],\n",
       "       [3453.61721802],\n",
       "       [3478.58987427],\n",
       "       [3429.52346802],\n",
       "       [3471.04299927],\n",
       "       [3452.02932739],\n",
       "       [3478.31326294],\n",
       "       [3421.76565552],\n",
       "       [3469.87991333],\n",
       "       [3414.81887817],\n",
       "       [3397.04345703],\n",
       "       [3414.70022583],\n",
       "       [3469.47244263],\n",
       "       [3457.97296143],\n",
       "       [3465.72323608],\n",
       "       [3434.29931641],\n",
       "       [3455.39419556],\n",
       "       [3463.5864563 ],\n",
       "       [3449.29641724],\n",
       "       [3446.30764771],\n",
       "       [3462.82815552],\n",
       "       [3436.23538208],\n",
       "       [3402.73519897],\n",
       "       [3392.72439575],\n",
       "       [3417.58938599],\n",
       "       [3400.89553833],\n",
       "       [3425.87576294],\n",
       "       [3456.60531616],\n",
       "       [3451.65628052],\n",
       "       [3454.38278198],\n",
       "       [3451.08462524],\n",
       "       [3460.40307617],\n",
       "       [3431.64810181],\n",
       "       [3430.81570435],\n",
       "       [3452.66397095],\n",
       "       [3481.90383911],\n",
       "       [3437.04812622],\n",
       "       [3416.5461731 ],\n",
       "       [3396.73196411],\n",
       "       [3399.02590942],\n",
       "       [3415.68692017],\n",
       "       [3438.77407837],\n",
       "       [3395.60665894],\n",
       "       [3470.415802  ],\n",
       "       [3485.85940552],\n",
       "       [3491.40042114],\n",
       "       [3482.93118286],\n",
       "       [3474.74221802],\n",
       "       [3464.10647583],\n",
       "       [3475.18069458],\n",
       "       [3575.66995239],\n",
       "       [3586.38479614],\n",
       "       [3617.27737427],\n",
       "       [3605.13772583],\n",
       "       [3620.01272583],\n",
       "       [3633.65823364],\n",
       "       [3615.07717896],\n",
       "       [3599.55764771],\n",
       "       [3614.92971802],\n",
       "       [3629.67776489],\n",
       "       [3602.51293945],\n",
       "       [3615.65856934],\n",
       "       [3623.06005859],\n",
       "       [3599.03561401],\n",
       "       [3541.42971802],\n",
       "       [3494.33206177],\n",
       "       [3490.12161255],\n",
       "       [3493.73391724],\n",
       "       [3493.86575317],\n",
       "       [3531.57449341],\n",
       "       [3540.13204956],\n",
       "       [3532.80978394],\n",
       "       [3567.43060303],\n",
       "       [3561.78897095],\n",
       "       [3530.01376343],\n",
       "       [3547.33157349],\n",
       "       [3546.04690552],\n",
       "       [3485.16809082],\n",
       "       [3508.98059082],\n",
       "       [3505.61209106],\n",
       "       [3540.75491333],\n",
       "       [3517.72000122],\n",
       "       [3495.01174927],\n",
       "       [3529.7348938 ],\n",
       "       [3557.16833496],\n",
       "       [3516.83938599],\n",
       "       [3538.3197937 ],\n",
       "       [3530.568573  ],\n",
       "       [3513.81030273],\n",
       "       [3519.60842896],\n",
       "       [3554.49337769],\n",
       "       [3571.35476685],\n",
       "       [3544.7406311 ],\n",
       "       [3443.14944458],\n",
       "       [3381.33987427],\n",
       "       [3371.89456177],\n",
       "       [3430.81253052],\n",
       "       [3429.85354614],\n",
       "       [3482.96780396],\n",
       "       [3460.51565552],\n",
       "       [3488.79104614],\n",
       "       [3467.12698364],\n",
       "       [3460.04006958],\n",
       "       [3494.17483521],\n",
       "       [3521.10159302],\n",
       "       [3514.09378052],\n",
       "       [3497.91995239],\n",
       "       [3489.89651489],\n",
       "       [3485.23196411],\n",
       "       [3419.88162231],\n",
       "       [3451.61138916],\n",
       "       [3435.99301147],\n",
       "       [3397.76028442],\n",
       "       [3454.14474487],\n",
       "       [3474.95773315],\n",
       "       [3493.17999268],\n",
       "       [3470.32351685],\n",
       "       [3485.88967896],\n",
       "       [3490.87869263],\n",
       "       [3505.53811646],\n",
       "       [3527.47171021],\n",
       "       [3563.34378052],\n",
       "       [3561.69143677],\n",
       "       [3590.17190552],\n",
       "       [3646.58596802],\n",
       "       [3656.75198364],\n",
       "       [3686.41409302],\n",
       "       [3717.31253052],\n",
       "       [3741.52346802],\n",
       "       [3701.39065552],\n",
       "       [3702.55471802],\n",
       "       [3665.21182251],\n",
       "       [3655.76089478],\n",
       "       [3655.11175537],\n",
       "       [3679.27346802],\n",
       "       [3639.88870239],\n",
       "       [3568.37112427],\n",
       "       [3566.66604614],\n",
       "       [3472.93362427],\n",
       "       [3502.22171021],\n",
       "       [3530.45462036],\n",
       "       [3539.05563354],\n",
       "       [3462.30276489],\n",
       "       [3471.54934692],\n",
       "       [3471.21194458],\n",
       "       [3499.43313599],\n",
       "       [3491.52545166],\n",
       "       [3534.76931763],\n",
       "       [3533.55130005],\n",
       "       [3538.55728149],\n",
       "       [3525.49432373],\n",
       "       [3549.38510132],\n",
       "       [3549.39260864],\n",
       "       [3510.62994385],\n",
       "       [3477.21853638],\n",
       "       [3510.8788147 ],\n",
       "       [3517.12936401],\n",
       "       [3467.11721802],\n",
       "       [3472.70803833],\n",
       "       [3518.97122192],\n",
       "       [3490.54885864],\n",
       "       [3495.73440552],\n",
       "       [3506.67483521],\n",
       "       [3490.84622192],\n",
       "       [3547.4256897 ],\n",
       "       [3531.23538208],\n",
       "       [3521.80752563],\n",
       "       [3515.54592896],\n",
       "       [3536.8586731 ],\n",
       "       [3508.31411743],\n",
       "       [3561.92776489],\n",
       "       [3576.23635864],\n",
       "       [3577.16018677],\n",
       "       [3580.41311646],\n",
       "       [3571.05300903],\n",
       "       [3559.86947632],\n",
       "       [3560.75320435],\n",
       "       [3570.47634888],\n",
       "       [3585.05532837],\n",
       "       [3590.1423645 ],\n",
       "       [3618.40237427]])"
      ]
     },
     "execution_count": 166,
     "metadata": {},
     "output_type": "execute_result"
    }
   ],
   "source": [
    "y_pred = pr.predict(X_test)  #Accuracy\n",
    "y_pred"
   ]
  },
  {
   "cell_type": "code",
   "execution_count": 167,
   "id": "aa7cd04d-3aff-4731-8e6e-2e343a9fa263",
   "metadata": {},
   "outputs": [
    {
     "data": {
      "image/png": "[encoded data removed]",
      "text/plain": [
       "<Figure size 936x432 with 1 Axes>"
      ]
     },
     "metadata": {
      "needs_background": "light"
     },
     "output_type": "display_data"
    }
   ],
   "source": [
    "plotReg('SSE Composite Index', sse.index, sse[['Future Close']], sse_ti.iloc[-180:], sse_refeatures, pr)"
   ]
  },
  {
   "cell_type": "code",
   "execution_count": 168,
   "id": "8abd3333",
   "metadata": {},
   "outputs": [
    {
     "name": "stdout",
     "output_type": "stream",
     "text": [
      "Mean Squared Error:  43.43821092415573\n",
      "Adjusted R squared 0.6994002603793626\n"
     ]
    }
   ],
   "source": [
    "gsEval = evaluate(reg, y_test, y_pred)\n",
    "printEval(reg, gsEval)"
   ]
  },
  {
   "cell_type": "code",
   "execution_count": 169,
   "id": "2d5c3f8c",
   "metadata": {},
   "outputs": [
    {
     "name": "stdout",
     "output_type": "stream",
     "text": [
      "[1, 1, 0, 1, 0, 1]\n",
      "The model suggests that you should sell\n"
     ]
    }
   ],
   "source": [
    "finalPredict(sse_target, sse_features,sse_refeatures, dctEval, forestEval, logisticEval, xgbEval, lrEval, prEval)\n",
    "\n"
   ]
  },
  {
   "cell_type": "code",
   "execution_count": null,
   "id": "40f04b83",
   "metadata": {},
   "outputs": [],
   "source": []
  },
  {
   "cell_type": "code",
   "execution_count": null,
   "metadata": {},
   "outputs": [],
   "source": []
  },
  {
   "cell_type": "code",
   "execution_count": null,
   "metadata": {},
   "outputs": [],
   "source": []
  }
 ],
 "metadata": {
  "kernelspec": {
   "display_name": "Python 3.9.7 64-bit",
   "metadata": {
    "interpreter": {
     "hash": "ac2eaa0ea0ebeafcc7822e65e46aa9d4f966f30b695406963e145ea4a91cd4fc"
    }
   },
   "name": "python3"
  },
  "language_info": {
   "codemirror_mode": {
    "name": "ipython",
    "version": 3
   },
   "file_extension": ".py",
   "mimetype": "text/x-python",
   "name": "python",
   "nbconvert_exporter": "python",
   "pygments_lexer": "ipython3",
   "version": "3.9.9"
  }
 },
 "nbformat": 4,
 "nbformat_minor": 5
}
