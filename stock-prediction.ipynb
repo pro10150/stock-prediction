{
 "cells": [
  {
   "cell_type": "code",
   "execution_count": 1473,
   "id": "6a2b1b0f-bbd6-46eb-b179-125466f4efd8",
   "metadata": {},
   "outputs": [],
   "source": [
    "import numpy as np\n",
    "import pandas as pd\n",
    "import matplotlib.pyplot as plt\n",
    "import pandas_datareader as pdr\n",
    "import seaborn as sns\n",
    "import talib \n",
    "from sklearn.preprocessing import MinMaxScaler\n",
    "from sklearn import tree\n",
    "from sklearn.linear_model import LinearRegression\n",
    "from sklearn.feature_selection import RFE\n",
    "from mlxtend.feature_selection import SequentialFeatureSelector as SFS\n",
    "\n"
   ]
  },
  {
   "cell_type": "code",
   "execution_count": 1474,
   "metadata": {},
   "outputs": [],
   "source": [
    "startdate = '2016-01-1'\n",
    "enddate= '2021-12-31'\n",
    "scaler = MinMaxScaler()"
   ]
  },
  {
   "cell_type": "code",
   "execution_count": 1475,
   "id": "dcaed81f-a4c3-4908-808b-b4647707d732",
   "metadata": {},
   "outputs": [],
   "source": [
    "dji = pdr.get_data_yahoo('^DJI', start=startdate, end=enddate)\n",
    "dji_norm = pd.DataFrame(scaler.fit_transform(dji), columns=dji.columns)\n",
    "n225 = pdr.get_data_yahoo(\"^N225\", start=startdate, end=enddate)\n",
    "n225_norm = pd.DataFrame(scaler.fit_transform(n225), columns=n225.columns)\n",
    "hsi = pdr.get_data_yahoo(\"^HSI\", start=startdate, end=enddate)\n",
    "hsi_norm = pd.DataFrame(scaler.fit_transform(hsi), columns=hsi.columns)\n",
    "sse = pdr.get_data_yahoo(\"000001.SS\", start=startdate, end=enddate)\n",
    "sse_norm = pd.DataFrame(scaler.fit_transform(sse), columns=sse.columns)\n"
   ]
  },
  {
   "source": [
    "<h1>Dow Jones Industrial Average</h1>"
   ],
   "cell_type": "markdown",
   "metadata": {}
  },
  {
   "source": [
    "<h2>Feature Selection</h2>"
   ],
   "cell_type": "markdown",
   "metadata": {}
  },
  {
   "cell_type": "code",
   "execution_count": 1476,
   "metadata": {
    "tags": []
   },
   "outputs": [
    {
     "output_type": "execute_result",
     "data": {
      "text/plain": [
       "                    High           Low          Open         Close     Volume  \\\n",
       "Date                                                                            \n",
       "2015-12-31  17590.660156  17421.160156  17590.660156  17425.029297   93690000   \n",
       "2016-01-04  17405.480469  16957.630859  17405.480469  17148.939453  148060000   \n",
       "2016-01-05  17195.839844  17038.609375  17147.500000  17158.660156  105750000   \n",
       "2016-01-06  17154.830078  16817.619141  17154.830078  16906.509766  120250000   \n",
       "2016-01-07  16888.359375  16463.630859  16888.359375  16514.099609  176240000   \n",
       "...                  ...           ...           ...           ...        ...   \n",
       "2021-11-17  36159.699219  35909.480469  36159.699219  35931.050781  358310000   \n",
       "2021-11-18  35952.628906  35654.390625  35901.691406  35870.949219  435080000   \n",
       "2021-11-19  35879.089844  35555.371094  35879.089844  35601.980469  408840000   \n",
       "2021-11-22  35929.660156  35615.550781  35631.410156  35619.250000  420810000   \n",
       "2021-11-23  35762.351562  35542.871094  35619.921875  35615.550781  186011219   \n",
       "\n",
       "               Adj Close  Future Close  \n",
       "Date                                    \n",
       "2015-12-31  17425.029297  17148.939453  \n",
       "2016-01-04  17148.939453  17158.660156  \n",
       "2016-01-05  17158.660156  16906.509766  \n",
       "2016-01-06  16906.509766  16514.099609  \n",
       "2016-01-07  16514.099609  16346.450195  \n",
       "...                  ...           ...  \n",
       "2021-11-17  35931.050781  35870.949219  \n",
       "2021-11-18  35870.949219  35601.980469  \n",
       "2021-11-19  35601.980469  35619.250000  \n",
       "2021-11-22  35619.250000  35615.550781  \n",
       "2021-11-23  35615.550781           NaN  \n",
       "\n",
       "[1486 rows x 7 columns]"
      ],
      "text/html": "<div>\n<style scoped>\n    .dataframe tbody tr th:only-of-type {\n        vertical-align: middle;\n    }\n\n    .dataframe tbody tr th {\n        vertical-align: top;\n    }\n\n    .dataframe thead th {\n        text-align: right;\n    }\n</style>\n<table border=\"1\" class=\"dataframe\">\n  <thead>\n    <tr style=\"text-align: right;\">\n      <th></th>\n      <th>High</th>\n      <th>Low</th>\n      <th>Open</th>\n      <th>Close</th>\n      <th>Volume</th>\n      <th>Adj Close</th>\n      <th>Future Close</th>\n    </tr>\n    <tr>\n      <th>Date</th>\n      <th></th>\n      <th></th>\n      <th></th>\n      <th></th>\n      <th></th>\n      <th></th>\n      <th></th>\n    </tr>\n  </thead>\n  <tbody>\n    <tr>\n      <th>2015-12-31</th>\n      <td>17590.660156</td>\n      <td>17421.160156</td>\n      <td>17590.660156</td>\n      <td>17425.029297</td>\n      <td>93690000</td>\n      <td>17425.029297</td>\n      <td>17148.939453</td>\n    </tr>\n    <tr>\n      <th>2016-01-04</th>\n      <td>17405.480469</td>\n      <td>16957.630859</td>\n      <td>17405.480469</td>\n      <td>17148.939453</td>\n      <td>148060000</td>\n      <td>17148.939453</td>\n      <td>17158.660156</td>\n    </tr>\n    <tr>\n      <th>2016-01-05</th>\n      <td>17195.839844</td>\n      <td>17038.609375</td>\n      <td>17147.500000</td>\n      <td>17158.660156</td>\n      <td>105750000</td>\n      <td>17158.660156</td>\n      <td>16906.509766</td>\n    </tr>\n    <tr>\n      <th>2016-01-06</th>\n      <td>17154.830078</td>\n      <td>16817.619141</td>\n      <td>17154.830078</td>\n      <td>16906.509766</td>\n      <td>120250000</td>\n      <td>16906.509766</td>\n      <td>16514.099609</td>\n    </tr>\n    <tr>\n      <th>2016-01-07</th>\n      <td>16888.359375</td>\n      <td>16463.630859</td>\n      <td>16888.359375</td>\n      <td>16514.099609</td>\n      <td>176240000</td>\n      <td>16514.099609</td>\n      <td>16346.450195</td>\n    </tr>\n    <tr>\n      <th>...</th>\n      <td>...</td>\n      <td>...</td>\n      <td>...</td>\n      <td>...</td>\n      <td>...</td>\n      <td>...</td>\n      <td>...</td>\n    </tr>\n    <tr>\n      <th>2021-11-17</th>\n      <td>36159.699219</td>\n      <td>35909.480469</td>\n      <td>36159.699219</td>\n      <td>35931.050781</td>\n      <td>358310000</td>\n      <td>35931.050781</td>\n      <td>35870.949219</td>\n    </tr>\n    <tr>\n      <th>2021-11-18</th>\n      <td>35952.628906</td>\n      <td>35654.390625</td>\n      <td>35901.691406</td>\n      <td>35870.949219</td>\n      <td>435080000</td>\n      <td>35870.949219</td>\n      <td>35601.980469</td>\n    </tr>\n    <tr>\n      <th>2021-11-19</th>\n      <td>35879.089844</td>\n      <td>35555.371094</td>\n      <td>35879.089844</td>\n      <td>35601.980469</td>\n      <td>408840000</td>\n      <td>35601.980469</td>\n      <td>35619.250000</td>\n    </tr>\n    <tr>\n      <th>2021-11-22</th>\n      <td>35929.660156</td>\n      <td>35615.550781</td>\n      <td>35631.410156</td>\n      <td>35619.250000</td>\n      <td>420810000</td>\n      <td>35619.250000</td>\n      <td>35615.550781</td>\n    </tr>\n    <tr>\n      <th>2021-11-23</th>\n      <td>35762.351562</td>\n      <td>35542.871094</td>\n      <td>35619.921875</td>\n      <td>35615.550781</td>\n      <td>186011219</td>\n      <td>35615.550781</td>\n      <td>NaN</td>\n    </tr>\n  </tbody>\n</table>\n<p>1486 rows × 7 columns</p>\n</div>"
     },
     "metadata": {},
     "execution_count": 1476
    }
   ],
   "source": [
    "dji['Future Close'] = dji['Close'].shift(-1)\n",
    "dji"
   ]
  },
  {
   "cell_type": "code",
   "execution_count": 1477,
   "metadata": {},
   "outputs": [],
   "source": [
    "def computeTarget(present_price, future_price):\n",
    "    score = (( future_price - present_price ) / present_price ) * 100\n",
    "    target = []\n",
    "    for i in score:\n",
    "        if i > 0.1:\n",
    "            target.append(1)\n",
    "        else:\n",
    "            target.append(0)\n",
    "    return target\n",
    "# 1 = up, 0 = down"
   ]
  },
  {
   "cell_type": "code",
   "execution_count": 1478,
   "metadata": {},
   "outputs": [],
   "source": [
    "\n",
    "target = computeTarget(dji['Close'], dji['Future Close'])\n",
    "\n",
    "dji['Target'] = target\n"
   ]
  },
  {
   "cell_type": "code",
   "execution_count": 1479,
   "metadata": {},
   "outputs": [],
   "source": [
    "dji_target = dji.tail(1)\n",
    "dji_target\n",
    "dji = dji.dropna()"
   ]
  },
  {
   "cell_type": "code",
   "execution_count": 1480,
   "id": "ead8e0e8-fc6a-4772-8f0b-5bec6abac5c8",
   "metadata": {},
   "outputs": [],
   "source": [
    "close = dji['Close']\n",
    "high = dji['High']\n",
    "low = dji['Low']\n",
    "open = dji['Open']\n",
    "volume  = dji['Volume']"
   ]
  },
  {
   "cell_type": "code",
   "execution_count": 1481,
   "id": "a43f2f7d-15b4-435d-a133-cccb77d6f831",
   "metadata": {},
   "outputs": [
    {
     "output_type": "execute_result",
     "data": {
      "text/plain": [
       "                   SMA20         SMA50        SMA200           EMA  \\\n",
       "Date                                                                 \n",
       "2015-12-31           NaN           NaN           NaN           NaN   \n",
       "2016-01-04           NaN           NaN           NaN           NaN   \n",
       "2016-01-05           NaN           NaN           NaN           NaN   \n",
       "2016-01-06           NaN           NaN           NaN           NaN   \n",
       "2016-01-07           NaN           NaN           NaN           NaN   \n",
       "...                  ...           ...           ...           ...   \n",
       "2021-11-16  35954.388477  35141.137109  34160.790791  36004.355982   \n",
       "2021-11-17  35970.474023  35159.136719  34186.828047  35994.581955   \n",
       "2021-11-18  35983.867578  35178.968125  34210.903496  35978.097590   \n",
       "2021-11-19  35980.115625  35198.853359  34233.172197  35927.948641   \n",
       "2021-11-22  35974.020703  35213.845781  34254.339648  35886.788822   \n",
       "\n",
       "                     OBV      RSI14        ADX       ADXR   aroondown  \\\n",
       "Date                                                                    \n",
       "2015-12-31  9.369000e+07        NaN        NaN        NaN         NaN   \n",
       "2016-01-04 -5.437000e+07        NaN        NaN        NaN         NaN   \n",
       "2016-01-05  5.138000e+07        NaN        NaN        NaN         NaN   \n",
       "2016-01-06 -6.887000e+07        NaN        NaN        NaN         NaN   \n",
       "2016-01-07 -2.451100e+08        NaN        NaN        NaN         NaN   \n",
       "...                  ...        ...        ...        ...         ...   \n",
       "2021-11-16  4.068477e+10  60.821001  23.921669  22.839573    0.000000   \n",
       "2021-11-17  4.032646e+10  54.656278  23.134882  22.278214    0.000000   \n",
       "2021-11-18  3.989138e+10  53.009423  21.616344  21.578782    0.000000   \n",
       "2021-11-19  3.948254e+10  46.287684  20.569966  21.215418  100.000000   \n",
       "2021-11-22  3.990335e+10  46.754531  19.386325  20.889122   92.857143   \n",
       "\n",
       "              aroonup  ...      ROCR     ROCR100      slowk      slowd  \\\n",
       "Date                   ...                                               \n",
       "2015-12-31        NaN  ...       NaN         NaN        NaN        NaN   \n",
       "2016-01-04        NaN  ...       NaN         NaN        NaN        NaN   \n",
       "2016-01-05        NaN  ...       NaN         NaN        NaN        NaN   \n",
       "2016-01-06        NaN  ...       NaN         NaN        NaN        NaN   \n",
       "2016-01-07        NaN  ...       NaN         NaN        NaN        NaN   \n",
       "...               ...  ...       ...         ...        ...        ...   \n",
       "2021-11-16  57.142857  ...  1.002485  100.248497  38.460274  24.951303   \n",
       "2021-11-17  50.000000  ...  0.993735   99.373500  30.743867  30.143858   \n",
       "2021-11-18  42.857143  ...  0.992989   99.298860  30.205023  33.136388   \n",
       "2021-11-19  35.714286  ...  0.980016   98.001625  14.707654  25.218848   \n",
       "2021-11-22  28.571429  ...  0.977685   97.768544  15.738752  20.217143   \n",
       "\n",
       "                fastk      fastd      TRIX     ULTOSC      WILLR  Target  \n",
       "Date                                                                      \n",
       "2015-12-31        NaN        NaN       NaN        NaN        NaN       0  \n",
       "2016-01-04        NaN        NaN       NaN        NaN        NaN       0  \n",
       "2016-01-05        NaN        NaN       NaN        NaN        NaN       0  \n",
       "2016-01-06        NaN        NaN       NaN        NaN        NaN       0  \n",
       "2016-01-07        NaN        NaN       NaN        NaN        NaN       0  \n",
       "...               ...        ...       ...        ...        ...     ...  \n",
       "2021-11-16  52.614944  38.460274  0.051693  45.702226 -41.507722       0  \n",
       "2021-11-17   5.298153  30.743867  0.054180  40.768597 -68.059884       0  \n",
       "2021-11-18  32.701973  30.205023  0.056254  43.144530 -76.237339       0  \n",
       "2021-11-19   6.122836  14.707654  0.057744  41.457206 -95.386852       0  \n",
       "2021-11-22   8.391447  15.738752  0.058735  38.329353 -93.677605       0  \n",
       "\n",
       "[1485 rows x 38 columns]"
      ],
      "text/html": "<div>\n<style scoped>\n    .dataframe tbody tr th:only-of-type {\n        vertical-align: middle;\n    }\n\n    .dataframe tbody tr th {\n        vertical-align: top;\n    }\n\n    .dataframe thead th {\n        text-align: right;\n    }\n</style>\n<table border=\"1\" class=\"dataframe\">\n  <thead>\n    <tr style=\"text-align: right;\">\n      <th></th>\n      <th>SMA20</th>\n      <th>SMA50</th>\n      <th>SMA200</th>\n      <th>EMA</th>\n      <th>OBV</th>\n      <th>RSI14</th>\n      <th>ADX</th>\n      <th>ADXR</th>\n      <th>aroondown</th>\n      <th>aroonup</th>\n      <th>...</th>\n      <th>ROCR</th>\n      <th>ROCR100</th>\n      <th>slowk</th>\n      <th>slowd</th>\n      <th>fastk</th>\n      <th>fastd</th>\n      <th>TRIX</th>\n      <th>ULTOSC</th>\n      <th>WILLR</th>\n      <th>Target</th>\n    </tr>\n    <tr>\n      <th>Date</th>\n      <th></th>\n      <th></th>\n      <th></th>\n      <th></th>\n      <th></th>\n      <th></th>\n      <th></th>\n      <th></th>\n      <th></th>\n      <th></th>\n      <th></th>\n      <th></th>\n      <th></th>\n      <th></th>\n      <th></th>\n      <th></th>\n      <th></th>\n      <th></th>\n      <th></th>\n      <th></th>\n      <th></th>\n    </tr>\n  </thead>\n  <tbody>\n    <tr>\n      <th>2015-12-31</th>\n      <td>NaN</td>\n      <td>NaN</td>\n      <td>NaN</td>\n      <td>NaN</td>\n      <td>9.369000e+07</td>\n      <td>NaN</td>\n      <td>NaN</td>\n      <td>NaN</td>\n      <td>NaN</td>\n      <td>NaN</td>\n      <td>...</td>\n      <td>NaN</td>\n      <td>NaN</td>\n      <td>NaN</td>\n      <td>NaN</td>\n      <td>NaN</td>\n      <td>NaN</td>\n      <td>NaN</td>\n      <td>NaN</td>\n      <td>NaN</td>\n      <td>0</td>\n    </tr>\n    <tr>\n      <th>2016-01-04</th>\n      <td>NaN</td>\n      <td>NaN</td>\n      <td>NaN</td>\n      <td>NaN</td>\n      <td>-5.437000e+07</td>\n      <td>NaN</td>\n      <td>NaN</td>\n      <td>NaN</td>\n      <td>NaN</td>\n      <td>NaN</td>\n      <td>...</td>\n      <td>NaN</td>\n      <td>NaN</td>\n      <td>NaN</td>\n      <td>NaN</td>\n      <td>NaN</td>\n      <td>NaN</td>\n      <td>NaN</td>\n      <td>NaN</td>\n      <td>NaN</td>\n      <td>0</td>\n    </tr>\n    <tr>\n      <th>2016-01-05</th>\n      <td>NaN</td>\n      <td>NaN</td>\n      <td>NaN</td>\n      <td>NaN</td>\n      <td>5.138000e+07</td>\n      <td>NaN</td>\n      <td>NaN</td>\n      <td>NaN</td>\n      <td>NaN</td>\n      <td>NaN</td>\n      <td>...</td>\n      <td>NaN</td>\n      <td>NaN</td>\n      <td>NaN</td>\n      <td>NaN</td>\n      <td>NaN</td>\n      <td>NaN</td>\n      <td>NaN</td>\n      <td>NaN</td>\n      <td>NaN</td>\n      <td>0</td>\n    </tr>\n    <tr>\n      <th>2016-01-06</th>\n      <td>NaN</td>\n      <td>NaN</td>\n      <td>NaN</td>\n      <td>NaN</td>\n      <td>-6.887000e+07</td>\n      <td>NaN</td>\n      <td>NaN</td>\n      <td>NaN</td>\n      <td>NaN</td>\n      <td>NaN</td>\n      <td>...</td>\n      <td>NaN</td>\n      <td>NaN</td>\n      <td>NaN</td>\n      <td>NaN</td>\n      <td>NaN</td>\n      <td>NaN</td>\n      <td>NaN</td>\n      <td>NaN</td>\n      <td>NaN</td>\n      <td>0</td>\n    </tr>\n    <tr>\n      <th>2016-01-07</th>\n      <td>NaN</td>\n      <td>NaN</td>\n      <td>NaN</td>\n      <td>NaN</td>\n      <td>-2.451100e+08</td>\n      <td>NaN</td>\n      <td>NaN</td>\n      <td>NaN</td>\n      <td>NaN</td>\n      <td>NaN</td>\n      <td>...</td>\n      <td>NaN</td>\n      <td>NaN</td>\n      <td>NaN</td>\n      <td>NaN</td>\n      <td>NaN</td>\n      <td>NaN</td>\n      <td>NaN</td>\n      <td>NaN</td>\n      <td>NaN</td>\n      <td>0</td>\n    </tr>\n    <tr>\n      <th>...</th>\n      <td>...</td>\n      <td>...</td>\n      <td>...</td>\n      <td>...</td>\n      <td>...</td>\n      <td>...</td>\n      <td>...</td>\n      <td>...</td>\n      <td>...</td>\n      <td>...</td>\n      <td>...</td>\n      <td>...</td>\n      <td>...</td>\n      <td>...</td>\n      <td>...</td>\n      <td>...</td>\n      <td>...</td>\n      <td>...</td>\n      <td>...</td>\n      <td>...</td>\n      <td>...</td>\n    </tr>\n    <tr>\n      <th>2021-11-16</th>\n      <td>35954.388477</td>\n      <td>35141.137109</td>\n      <td>34160.790791</td>\n      <td>36004.355982</td>\n      <td>4.068477e+10</td>\n      <td>60.821001</td>\n      <td>23.921669</td>\n      <td>22.839573</td>\n      <td>0.000000</td>\n      <td>57.142857</td>\n      <td>...</td>\n      <td>1.002485</td>\n      <td>100.248497</td>\n      <td>38.460274</td>\n      <td>24.951303</td>\n      <td>52.614944</td>\n      <td>38.460274</td>\n      <td>0.051693</td>\n      <td>45.702226</td>\n      <td>-41.507722</td>\n      <td>0</td>\n    </tr>\n    <tr>\n      <th>2021-11-17</th>\n      <td>35970.474023</td>\n      <td>35159.136719</td>\n      <td>34186.828047</td>\n      <td>35994.581955</td>\n      <td>4.032646e+10</td>\n      <td>54.656278</td>\n      <td>23.134882</td>\n      <td>22.278214</td>\n      <td>0.000000</td>\n      <td>50.000000</td>\n      <td>...</td>\n      <td>0.993735</td>\n      <td>99.373500</td>\n      <td>30.743867</td>\n      <td>30.143858</td>\n      <td>5.298153</td>\n      <td>30.743867</td>\n      <td>0.054180</td>\n      <td>40.768597</td>\n      <td>-68.059884</td>\n      <td>0</td>\n    </tr>\n    <tr>\n      <th>2021-11-18</th>\n      <td>35983.867578</td>\n      <td>35178.968125</td>\n      <td>34210.903496</td>\n      <td>35978.097590</td>\n      <td>3.989138e+10</td>\n      <td>53.009423</td>\n      <td>21.616344</td>\n      <td>21.578782</td>\n      <td>0.000000</td>\n      <td>42.857143</td>\n      <td>...</td>\n      <td>0.992989</td>\n      <td>99.298860</td>\n      <td>30.205023</td>\n      <td>33.136388</td>\n      <td>32.701973</td>\n      <td>30.205023</td>\n      <td>0.056254</td>\n      <td>43.144530</td>\n      <td>-76.237339</td>\n      <td>0</td>\n    </tr>\n    <tr>\n      <th>2021-11-19</th>\n      <td>35980.115625</td>\n      <td>35198.853359</td>\n      <td>34233.172197</td>\n      <td>35927.948641</td>\n      <td>3.948254e+10</td>\n      <td>46.287684</td>\n      <td>20.569966</td>\n      <td>21.215418</td>\n      <td>100.000000</td>\n      <td>35.714286</td>\n      <td>...</td>\n      <td>0.980016</td>\n      <td>98.001625</td>\n      <td>14.707654</td>\n      <td>25.218848</td>\n      <td>6.122836</td>\n      <td>14.707654</td>\n      <td>0.057744</td>\n      <td>41.457206</td>\n      <td>-95.386852</td>\n      <td>0</td>\n    </tr>\n    <tr>\n      <th>2021-11-22</th>\n      <td>35974.020703</td>\n      <td>35213.845781</td>\n      <td>34254.339648</td>\n      <td>35886.788822</td>\n      <td>3.990335e+10</td>\n      <td>46.754531</td>\n      <td>19.386325</td>\n      <td>20.889122</td>\n      <td>92.857143</td>\n      <td>28.571429</td>\n      <td>...</td>\n      <td>0.977685</td>\n      <td>97.768544</td>\n      <td>15.738752</td>\n      <td>20.217143</td>\n      <td>8.391447</td>\n      <td>15.738752</td>\n      <td>0.058735</td>\n      <td>38.329353</td>\n      <td>-93.677605</td>\n      <td>0</td>\n    </tr>\n  </tbody>\n</table>\n<p>1485 rows × 38 columns</p>\n</div>"
     },
     "metadata": {},
     "execution_count": 1481
    }
   ],
   "source": [
    "dji_ti = pd.DataFrame()\n",
    "dji_ti['SMA20'] = talib.SMA(close, timeperiod=20)\n",
    "dji_ti['SMA50'] = talib.SMA(close, timeperiod=50)\n",
    "dji_ti['SMA200'] = talib.SMA(close, timeperiod=200)\n",
    "dji_ti['EMA'] = talib.EMA(close, timeperiod=14)\n",
    "dji_ti['OBV'] = talib.OBV(close, volume)\n",
    "dji_ti['RSI14'] = talib.RSI(close, timeperiod=14)\n",
    "dji_ti['ADX'] = talib.ADX(high, low, close, timeperiod=14)\n",
    "dji_ti['ADXR'] = talib.ADXR(high, low, close, timeperiod=14)\n",
    "dji_ti['aroondown'], dji_ti['aroonup'] = talib.AROON(high, low, timeperiod=14)\n",
    "dji_ti['APO'] = talib.APO(close, fastperiod=12, slowperiod=26, matype=0)\n",
    "dji_ti['AROONOSC'] = talib.AROONOSC(high, low, timeperiod=14)\n",
    "dji_ti['BOP'] = talib.BOP(open, high, low, close)\n",
    "dji_ti['CCI'] = talib.CCI(high, low, close, timeperiod=14)\n",
    "dji_ti['CMO'] = talib.CMO(close, timeperiod=14)\n",
    "dji_ti['DX'] = talib.DX(high, low, close, timeperiod=14)\n",
    "dji_ti['macd'],dji_ti['macdsignal'],dji_ti['macdhist'] = talib.MACD(close, fastperiod = 12, slowperiod=26, signalperiod=9)\n",
    "dji_ti['MFI'] = talib.MFI(high, low, close, volume, timeperiod=14)\n",
    "dji_ti['MINUS_DI'] = talib.MINUS_DI(high, low, close, timeperiod=14)\n",
    "dji_ti['MINUS_DM'] = talib.MINUS_DM(high, low, timeperiod=14)\n",
    "dji_ti['MOM'] = talib.MOM(close, timeperiod=14)\n",
    "dji_ti['PLUS_DI'] = talib.PLUS_DI(high, low, close, timeperiod=14)\n",
    "dji_ti['PLUS_DM'] = talib.PLUS_DM(high, low, timeperiod=14)\n",
    "dji_ti['PPO'] = talib.PPO(close, fastperiod=12, slowperiod=26, matype=0)\n",
    "dji_ti['ROC'] = talib.ROC(close, timeperiod=10)\n",
    "dji_ti['ROCP'] = talib.ROCP(close, timeperiod=10)\n",
    "dji_ti['ROCR'] = talib.ROCR(close, timeperiod=10)\n",
    "dji_ti['ROCR100'] = talib.ROCR100(close, timeperiod=10)\n",
    "dji_ti['slowk'], dji_ti['slowd'] = talib.STOCH(high, low, close, fastk_period=5, slowk_period=3, slowd_period=3, slowd_matype=0)\n",
    "dji_ti['fastk'], dji_ti['fastd'] = talib.STOCHF(high, low, close, fastk_period=5, fastd_period=3, fastd_matype=0)\n",
    "dji_ti['TRIX'] = talib.TRIX(close, timeperiod=30)\n",
    "dji_ti['ULTOSC'] = talib.ULTOSC(high, low, close, timeperiod1=7, timeperiod2=14, timeperiod3=28)\n",
    "dji_ti['WILLR'] = talib.WILLR(high, low, close, timeperiod=14)\n",
    "dji_ti['Target'] = dji['Target']\n",
    "dji_ti"
   ]
  },
  {
   "cell_type": "code",
   "execution_count": 1482,
   "id": "346fa05c-4b8a-44b0-b842-e39484a51772",
   "metadata": {},
   "outputs": [],
   "source": [
    "# plt.figure(figsize=(12,10))\n",
    "# cor = ti.corr()\n",
    "# sns.heatmap(cor, annot=True, cmap=plt.cm.Reds)\n",
    "# plt.show()"
   ]
  },
  {
   "cell_type": "code",
   "execution_count": 1483,
   "id": "06fb88c7-0a62-44f0-bf4d-2c0da39151f3",
   "metadata": {},
   "outputs": [],
   "source": [
    "# cor_target = abs(cor[\"Target\"])\n",
    "# features = cor_target[cor_target>0.05]\n",
    "# features"
   ]
  },
  {
   "cell_type": "code",
   "execution_count": 1484,
   "metadata": {},
   "outputs": [
    {
     "output_type": "execute_result",
     "data": {
      "text/plain": [
       "Date\n",
       "2016-10-14    0\n",
       "2016-10-17    1\n",
       "2016-10-18    1\n",
       "2016-10-19    0\n",
       "2016-10-20    0\n",
       "             ..\n",
       "2021-11-16    0\n",
       "2021-11-17    0\n",
       "2021-11-18    0\n",
       "2021-11-19    0\n",
       "2021-11-22    0\n",
       "Name: Target, Length: 1286, dtype: int64"
      ]
     },
     "metadata": {},
     "execution_count": 1484
    }
   ],
   "source": [
    "dji_ti = dji_ti.dropna()\n",
    "X = dji_ti.drop(\"Target\", axis=1)  # Feature Matrix\n",
    "y = dji_ti[\"Target\"]               # Target Variable\n",
    "y"
   ]
  },
  {
   "cell_type": "code",
   "execution_count": 1485,
   "metadata": {},
   "outputs": [],
   "source": [
    "X = X.fillna(0)"
   ]
  },
  {
   "cell_type": "code",
   "execution_count": 1486,
   "metadata": {},
   "outputs": [],
   "source": [
    "#X.isna().sum()"
   ]
  },
  {
   "cell_type": "code",
   "execution_count": 1568,
   "metadata": {},
   "outputs": [],
   "source": [
    "def selectFeatures(df):\n",
    "    #Split the features and target data\n",
    "    #select the first 13 columns as features\n",
    "    X = df.drop(\"Target\", axis=1)  # Feature Matrix\n",
    "    #Select the last column for target \n",
    "    Y = df[\"Target\"]               # Target Variable\n",
    "\n",
    "    #Build a logistic regression model \n",
    "    model = LinearRegression()\n",
    "    #Define RFE \n",
    "    rfe = RFE(model)\n",
    "    #Use RFE to select the top 5 features \n",
    "    fit = rfe.fit(X, Y)\n",
    "\n",
    "    #Create a dataframe for the results \n",
    "    df_RFE_results = []\n",
    "    for i in range(X.shape[1]):\n",
    "        df_RFE_results.append(\n",
    "            {      \n",
    "                'Feature_names': X.columns[i],\n",
    "                'Selected':  rfe.support_[i],\n",
    "                'RFE_ranking':  rfe.ranking_[i],\n",
    "            }\n",
    "        )\n",
    "\n",
    "    df_RFE_results = pd.DataFrame(df_RFE_results)\n",
    "    df_RFE_results.index.name='Columns'\n",
    "    ti = []\n",
    "    for index, row in df_RFE_results.iterrows():\n",
    "        if row['Selected'] == True:\n",
    "            ti.append(row['Feature_names']) \n",
    "    return ti"
   ]
  },
  {
   "source": [
    "dji_features = selectFeatures(dji_ti)\n",
    "dji_features"
   ],
   "cell_type": "code",
   "metadata": {},
   "execution_count": 1584,
   "outputs": [
    {
     "output_type": "execute_result",
     "data": {
      "text/plain": [
       "['RSI14',\n",
       " 'ADX',\n",
       " 'ADXR',\n",
       " 'aroondown',\n",
       " 'BOP',\n",
       " 'CCI',\n",
       " 'CMO',\n",
       " 'DX',\n",
       " 'macd',\n",
       " 'macdsignal',\n",
       " 'PLUS_DI',\n",
       " 'ROC',\n",
       " 'ROCR100',\n",
       " 'slowd',\n",
       " 'fastk',\n",
       " 'TRIX',\n",
       " 'ULTOSC',\n",
       " 'WILLR']"
      ]
     },
     "metadata": {},
     "execution_count": 1584
    }
   ]
  },
  {
   "cell_type": "code",
   "execution_count": 1585,
   "id": "bf8b7288-39a2-459a-a648-3a864c51f0e7",
   "metadata": {},
   "outputs": [],
   "source": [
    "from sklearn.model_selection import train_test_split\n",
    "X = dji_ti.loc[:, dji_features].values\n",
    "#X = dji_ti.loc[:, ['CCI', 'DX', 'MINUS_DI', 'PLUS_DM', 'slowd']].values\n",
    "y = dji_ti.loc[:, ['Target']].values\n",
    "X_train, X_test, y_train, y_test = train_test_split(X, y, test_size=0.2, random_state=0)"
   ]
  },
  {
   "cell_type": "code",
   "execution_count": 1586,
   "metadata": {},
   "outputs": [],
   "source": [
    "from sklearn.preprocessing import StandardScaler\n",
    "sc = StandardScaler()\n",
    "X_train = sc.fit_transform(X_train)\n",
    "X_test = sc.transform(X_test)"
   ]
  },
  {
   "cell_type": "code",
   "execution_count": 1587,
   "metadata": {},
   "outputs": [],
   "source": [
    "# Visualize the data\n",
    "#\n",
    "def visualize(title, xlabel, ylabel, classifier, X_test, y_test):\n",
    "    X_set, y_set = X_test, y_test\n",
    "    X1, X2 = np.meshgrid(np.arange(start = X_set[:, 0].min() - 1, stop = X_set[:, 0].max() + 1, step = 0.01),\n",
    "                         np.arange(start = X_set[:, 1].min() - 1, stop = X_set[:, 1].max() + 1, step = 0.01))\n",
    "    plt.contourf(X1, X2, classifier.predict(np.array([X1.ravel(), X2.ravel()]).T).reshape(X1.shape),\n",
    "                 alpha = 0.75, cmap = ListedColormap(('lightblue', 'cornsilk')))\n",
    "    plt.xlim(X1.min(), X1.max())\n",
    "    plt.ylim(X2.min(), X2.max())\n",
    "\n",
    "    for i, j in enumerate(np.unique(y_set)):\n",
    "        plt.scatter(X_set[y_set == j, 0], X_set[y_set == j, 1], label = j)\n",
    "\n",
    "    plt.title(title)\n",
    "    plt.xlabel(xlabel)\n",
    "    plt.ylabel(ylabel)\n",
    "    plt.legend()\n",
    "    plt.show()"
   ]
  },
  {
   "source": [
    "<h2>Decision Tree</h2>"
   ],
   "cell_type": "markdown",
   "metadata": {}
  },
  {
   "cell_type": "code",
   "execution_count": 1588,
   "metadata": {},
   "outputs": [
    {
     "output_type": "execute_result",
     "data": {
      "text/plain": [
       "DecisionTreeClassifier()"
      ]
     },
     "metadata": {},
     "execution_count": 1588
    }
   ],
   "source": [
    "# Decision Tree Classifier: Create and Train the model\n",
    "#\n",
    "from sklearn.tree import DecisionTreeClassifier\n",
    "\n",
    "dtc = DecisionTreeClassifier()\n",
    "dtc.fit(X_train, y_train)"
   ]
  },
  {
   "cell_type": "code",
   "execution_count": 1589,
   "metadata": {},
   "outputs": [
    {
     "output_type": "execute_result",
     "data": {
      "text/plain": [
       "array([0, 1, 0, 0, 0, 1, 0, 0, 0, 0, 1, 1, 1, 0, 1, 0, 1, 1, 1, 1, 0, 0,\n",
       "       1, 0, 0, 0, 0, 1, 1, 1, 1, 1, 0, 0, 0, 0, 1, 1, 1, 0, 0, 1, 0, 0,\n",
       "       1, 0, 1, 0, 0, 0, 1, 0, 1, 1, 1, 1, 0, 0, 0, 1, 1, 0, 1, 0, 0, 1,\n",
       "       1, 0, 1, 1, 0, 0, 0, 0, 0, 1, 1, 0, 1, 0, 1, 1, 0, 1, 0, 1, 0, 1,\n",
       "       1, 1, 1, 1, 1, 0, 1, 1, 0, 0, 1, 1, 0, 0, 1, 0, 1, 1, 0, 0, 1, 1,\n",
       "       1, 1, 0, 0, 0, 0, 1, 1, 0, 1, 1, 1, 1, 1, 0, 1, 0, 0, 1, 1, 0, 1,\n",
       "       0, 0, 1, 1, 1, 1, 1, 1, 0, 1, 0, 1, 1, 0, 0, 0, 1, 0, 0, 1, 0, 0,\n",
       "       0, 1, 1, 1, 0, 1, 1, 0, 1, 0, 1, 1, 0, 1, 1, 0, 1, 0, 1, 1, 0, 1,\n",
       "       1, 1, 1, 1, 0, 0, 1, 1, 0, 1, 0, 0, 0, 1, 1, 1, 0, 0, 1, 0, 1, 1,\n",
       "       1, 1, 0, 0, 1, 0, 0, 0, 0, 0, 1, 1, 0, 0, 0, 0, 1, 0, 0, 1, 0, 1,\n",
       "       1, 0, 0, 0, 1, 1, 0, 1, 1, 1, 0, 1, 0, 1, 1, 0, 0, 0, 0, 1, 0, 0,\n",
       "       1, 0, 1, 1, 0, 1, 0, 0, 1, 0, 1, 0, 1, 0, 0, 1])"
      ]
     },
     "metadata": {},
     "execution_count": 1589
    }
   ],
   "source": [
    "# Prediction\n",
    "#\n",
    "y_pred = dtc.predict(X_test)  #Accuracy\n",
    "y_pred"
   ]
  },
  {
   "cell_type": "code",
   "execution_count": 1590,
   "metadata": {},
   "outputs": [
    {
     "output_type": "execute_result",
     "data": {
      "text/plain": [
       "array([[0],\n",
       "       [1],\n",
       "       [0],\n",
       "       [0],\n",
       "       [1],\n",
       "       [0],\n",
       "       [1],\n",
       "       [1],\n",
       "       [1],\n",
       "       [1],\n",
       "       [1],\n",
       "       [0],\n",
       "       [1],\n",
       "       [1],\n",
       "       [0],\n",
       "       [1],\n",
       "       [0],\n",
       "       [0],\n",
       "       [0],\n",
       "       [0],\n",
       "       [0],\n",
       "       [0],\n",
       "       [1],\n",
       "       [0],\n",
       "       [1],\n",
       "       [1],\n",
       "       [0],\n",
       "       [1],\n",
       "       [0],\n",
       "       [0],\n",
       "       [0],\n",
       "       [0],\n",
       "       [1],\n",
       "       [1],\n",
       "       [1],\n",
       "       [0],\n",
       "       [0],\n",
       "       [1],\n",
       "       [0],\n",
       "       [1],\n",
       "       [0],\n",
       "       [1],\n",
       "       [0],\n",
       "       [1],\n",
       "       [0],\n",
       "       [1],\n",
       "       [0],\n",
       "       [0],\n",
       "       [0],\n",
       "       [1],\n",
       "       [0],\n",
       "       [1],\n",
       "       [1],\n",
       "       [0],\n",
       "       [0],\n",
       "       [1],\n",
       "       [0],\n",
       "       [0],\n",
       "       [0],\n",
       "       [0],\n",
       "       [0],\n",
       "       [1],\n",
       "       [0],\n",
       "       [1],\n",
       "       [0],\n",
       "       [1],\n",
       "       [1],\n",
       "       [1],\n",
       "       [1],\n",
       "       [0],\n",
       "       [1],\n",
       "       [0],\n",
       "       [1],\n",
       "       [1],\n",
       "       [0],\n",
       "       [1],\n",
       "       [0],\n",
       "       [1],\n",
       "       [1],\n",
       "       [1],\n",
       "       [0],\n",
       "       [0],\n",
       "       [1],\n",
       "       [1],\n",
       "       [1],\n",
       "       [0],\n",
       "       [0],\n",
       "       [0],\n",
       "       [0],\n",
       "       [0],\n",
       "       [0],\n",
       "       [0],\n",
       "       [1],\n",
       "       [0],\n",
       "       [1],\n",
       "       [0],\n",
       "       [1],\n",
       "       [1],\n",
       "       [1],\n",
       "       [0],\n",
       "       [1],\n",
       "       [0],\n",
       "       [0],\n",
       "       [0],\n",
       "       [1],\n",
       "       [1],\n",
       "       [1],\n",
       "       [0],\n",
       "       [0],\n",
       "       [1],\n",
       "       [0],\n",
       "       [0],\n",
       "       [1],\n",
       "       [1],\n",
       "       [1],\n",
       "       [1],\n",
       "       [0],\n",
       "       [0],\n",
       "       [0],\n",
       "       [0],\n",
       "       [0],\n",
       "       [0],\n",
       "       [1],\n",
       "       [0],\n",
       "       [1],\n",
       "       [1],\n",
       "       [1],\n",
       "       [1],\n",
       "       [1],\n",
       "       [1],\n",
       "       [1],\n",
       "       [0],\n",
       "       [0],\n",
       "       [1],\n",
       "       [0],\n",
       "       [0],\n",
       "       [0],\n",
       "       [0],\n",
       "       [0],\n",
       "       [0],\n",
       "       [0],\n",
       "       [0],\n",
       "       [0],\n",
       "       [1],\n",
       "       [0],\n",
       "       [1],\n",
       "       [1],\n",
       "       [1],\n",
       "       [1],\n",
       "       [1],\n",
       "       [1],\n",
       "       [0],\n",
       "       [0],\n",
       "       [1],\n",
       "       [1],\n",
       "       [0],\n",
       "       [1],\n",
       "       [0],\n",
       "       [1],\n",
       "       [1],\n",
       "       [0],\n",
       "       [0],\n",
       "       [1],\n",
       "       [0],\n",
       "       [0],\n",
       "       [1],\n",
       "       [1],\n",
       "       [0],\n",
       "       [0],\n",
       "       [0],\n",
       "       [0],\n",
       "       [0],\n",
       "       [0],\n",
       "       [1],\n",
       "       [1],\n",
       "       [0],\n",
       "       [0],\n",
       "       [0],\n",
       "       [1],\n",
       "       [1],\n",
       "       [1],\n",
       "       [0],\n",
       "       [1],\n",
       "       [0],\n",
       "       [0],\n",
       "       [1],\n",
       "       [0],\n",
       "       [0],\n",
       "       [1],\n",
       "       [1],\n",
       "       [1],\n",
       "       [1],\n",
       "       [0],\n",
       "       [0],\n",
       "       [0],\n",
       "       [1],\n",
       "       [1],\n",
       "       [1],\n",
       "       [1],\n",
       "       [1],\n",
       "       [0],\n",
       "       [1],\n",
       "       [1],\n",
       "       [1],\n",
       "       [0],\n",
       "       [0],\n",
       "       [1],\n",
       "       [1],\n",
       "       [0],\n",
       "       [1],\n",
       "       [0],\n",
       "       [1],\n",
       "       [0],\n",
       "       [1],\n",
       "       [1],\n",
       "       [1],\n",
       "       [0],\n",
       "       [1],\n",
       "       [0],\n",
       "       [1],\n",
       "       [0],\n",
       "       [0],\n",
       "       [0],\n",
       "       [0],\n",
       "       [0],\n",
       "       [0],\n",
       "       [1],\n",
       "       [1],\n",
       "       [1],\n",
       "       [1],\n",
       "       [0],\n",
       "       [1],\n",
       "       [1],\n",
       "       [1],\n",
       "       [0],\n",
       "       [0],\n",
       "       [1],\n",
       "       [1],\n",
       "       [1],\n",
       "       [1],\n",
       "       [0],\n",
       "       [0],\n",
       "       [0],\n",
       "       [1],\n",
       "       [0],\n",
       "       [0],\n",
       "       [1],\n",
       "       [1],\n",
       "       [1],\n",
       "       [1],\n",
       "       [1],\n",
       "       [1],\n",
       "       [0],\n",
       "       [0],\n",
       "       [1],\n",
       "       [1],\n",
       "       [0],\n",
       "       [0]])"
      ]
     },
     "metadata": {},
     "execution_count": 1590
    }
   ],
   "source": [
    "# Look at the actual y_test\n",
    "#\n",
    "y_test"
   ]
  },
  {
   "cell_type": "code",
   "execution_count": 1591,
   "metadata": {},
   "outputs": [
    {
     "output_type": "stream",
     "name": "stdout",
     "text": [
      "Accuracy Score: 0.43023255813953487\n"
     ]
    }
   ],
   "source": [
    "# See the accuracy\n",
    "#\n",
    "from sklearn import metrics\n",
    "print('Accuracy Score:', metrics.accuracy_score(y_test, y_pred))"
   ]
  },
  {
   "cell_type": "code",
   "execution_count": 1551,
   "metadata": {},
   "outputs": [
    {
     "output_type": "execute_result",
     "data": {
      "text/plain": [
       "array([[61, 69],\n",
       "       [50, 78]])"
      ]
     },
     "metadata": {},
     "execution_count": 1551
    }
   ],
   "source": [
    "# See the confusion matrix\n",
    "#\n",
    "from sklearn.metrics import confusion_matrix\n",
    "cm = confusion_matrix(y_test, y_pred)\n",
    "cm"
   ]
  },
  {
   "source": [
    "<h2>Random Forest</h2>"
   ],
   "cell_type": "markdown",
   "metadata": {}
  },
  {
   "cell_type": "code",
   "execution_count": null,
   "metadata": {},
   "outputs": [],
   "source": []
  },
  {
   "source": [
    "<h2>Logistic Regression</h2>"
   ],
   "cell_type": "markdown",
   "metadata": {}
  },
  {
   "cell_type": "code",
   "execution_count": null,
   "metadata": {},
   "outputs": [],
   "source": []
  },
  {
   "source": [
    "<h2>XGBoost</h2>"
   ],
   "cell_type": "markdown",
   "metadata": {}
  },
  {
   "cell_type": "code",
   "execution_count": null,
   "metadata": {},
   "outputs": [],
   "source": []
  },
  {
   "source": [
    "<h2>Linear Regression</h2>"
   ],
   "cell_type": "markdown",
   "metadata": {}
  },
  {
   "cell_type": "code",
   "execution_count": null,
   "metadata": {},
   "outputs": [],
   "source": []
  },
  {
   "source": [
    "<h2>Gauccian Process Regress</h2>"
   ],
   "cell_type": "markdown",
   "metadata": {}
  },
  {
   "cell_type": "code",
   "execution_count": null,
   "metadata": {},
   "outputs": [],
   "source": []
  },
  {
   "source": [
    "<h1>Nikkei 225 Stock Average</h1>"
   ],
   "cell_type": "markdown",
   "metadata": {}
  },
  {
   "source": [
    "<h2>Feature Selection</h2>"
   ],
   "cell_type": "markdown",
   "metadata": {}
  },
  {
   "cell_type": "code",
   "execution_count": 1499,
   "metadata": {},
   "outputs": [
    {
     "output_type": "execute_result",
     "data": {
      "text/plain": [
       "                    High           Low          Open         Close  \\\n",
       "Date                                                                 \n",
       "2016-01-04  18951.119141  18394.429688  18818.580078  18450.980469   \n",
       "2016-01-05  18547.380859  18327.519531  18398.759766  18374.000000   \n",
       "2016-01-06  18469.380859  18064.300781  18410.570312  18191.320312   \n",
       "2016-01-07  18172.039062  17767.339844  18139.769531  17767.339844   \n",
       "2016-01-08  17975.310547  17509.640625  17562.230469  17697.960938   \n",
       "...                  ...           ...           ...           ...   \n",
       "2021-11-16  29960.929688  29681.250000  29749.710938  29808.119141   \n",
       "2021-11-17  29909.970703  29623.789062  29906.679688  29688.330078   \n",
       "2021-11-18  29715.949219  29402.570312  29597.929688  29598.660156   \n",
       "2021-11-19  29768.539062  29589.189453  29641.050781  29745.869141   \n",
       "2021-11-22  29806.490234  29542.289062  29618.550781  29774.109375   \n",
       "\n",
       "                 Volume     Adj Close  Future Close  \n",
       "Date                                                 \n",
       "2016-01-04  140200000.0  18450.980469  18374.000000  \n",
       "2016-01-05  132300000.0  18374.000000  18191.320312  \n",
       "2016-01-06  142200000.0  18191.320312  17767.339844  \n",
       "2016-01-07  168000000.0  17767.339844  17697.960938  \n",
       "2016-01-08  184300000.0  17697.960938  17218.960938  \n",
       "...                 ...           ...           ...  \n",
       "2021-11-16   62000000.0  29808.119141  29688.330078  \n",
       "2021-11-17   63900000.0  29688.330078  29598.660156  \n",
       "2021-11-18   65400000.0  29598.660156  29745.869141  \n",
       "2021-11-19   65600000.0  29745.869141  29774.109375  \n",
       "2021-11-22   58800000.0  29774.109375           NaN  \n",
       "\n",
       "[1439 rows x 7 columns]"
      ],
      "text/html": "<div>\n<style scoped>\n    .dataframe tbody tr th:only-of-type {\n        vertical-align: middle;\n    }\n\n    .dataframe tbody tr th {\n        vertical-align: top;\n    }\n\n    .dataframe thead th {\n        text-align: right;\n    }\n</style>\n<table border=\"1\" class=\"dataframe\">\n  <thead>\n    <tr style=\"text-align: right;\">\n      <th></th>\n      <th>High</th>\n      <th>Low</th>\n      <th>Open</th>\n      <th>Close</th>\n      <th>Volume</th>\n      <th>Adj Close</th>\n      <th>Future Close</th>\n    </tr>\n    <tr>\n      <th>Date</th>\n      <th></th>\n      <th></th>\n      <th></th>\n      <th></th>\n      <th></th>\n      <th></th>\n      <th></th>\n    </tr>\n  </thead>\n  <tbody>\n    <tr>\n      <th>2016-01-04</th>\n      <td>18951.119141</td>\n      <td>18394.429688</td>\n      <td>18818.580078</td>\n      <td>18450.980469</td>\n      <td>140200000.0</td>\n      <td>18450.980469</td>\n      <td>18374.000000</td>\n    </tr>\n    <tr>\n      <th>2016-01-05</th>\n      <td>18547.380859</td>\n      <td>18327.519531</td>\n      <td>18398.759766</td>\n      <td>18374.000000</td>\n      <td>132300000.0</td>\n      <td>18374.000000</td>\n      <td>18191.320312</td>\n    </tr>\n    <tr>\n      <th>2016-01-06</th>\n      <td>18469.380859</td>\n      <td>18064.300781</td>\n      <td>18410.570312</td>\n      <td>18191.320312</td>\n      <td>142200000.0</td>\n      <td>18191.320312</td>\n      <td>17767.339844</td>\n    </tr>\n    <tr>\n      <th>2016-01-07</th>\n      <td>18172.039062</td>\n      <td>17767.339844</td>\n      <td>18139.769531</td>\n      <td>17767.339844</td>\n      <td>168000000.0</td>\n      <td>17767.339844</td>\n      <td>17697.960938</td>\n    </tr>\n    <tr>\n      <th>2016-01-08</th>\n      <td>17975.310547</td>\n      <td>17509.640625</td>\n      <td>17562.230469</td>\n      <td>17697.960938</td>\n      <td>184300000.0</td>\n      <td>17697.960938</td>\n      <td>17218.960938</td>\n    </tr>\n    <tr>\n      <th>...</th>\n      <td>...</td>\n      <td>...</td>\n      <td>...</td>\n      <td>...</td>\n      <td>...</td>\n      <td>...</td>\n      <td>...</td>\n    </tr>\n    <tr>\n      <th>2021-11-16</th>\n      <td>29960.929688</td>\n      <td>29681.250000</td>\n      <td>29749.710938</td>\n      <td>29808.119141</td>\n      <td>62000000.0</td>\n      <td>29808.119141</td>\n      <td>29688.330078</td>\n    </tr>\n    <tr>\n      <th>2021-11-17</th>\n      <td>29909.970703</td>\n      <td>29623.789062</td>\n      <td>29906.679688</td>\n      <td>29688.330078</td>\n      <td>63900000.0</td>\n      <td>29688.330078</td>\n      <td>29598.660156</td>\n    </tr>\n    <tr>\n      <th>2021-11-18</th>\n      <td>29715.949219</td>\n      <td>29402.570312</td>\n      <td>29597.929688</td>\n      <td>29598.660156</td>\n      <td>65400000.0</td>\n      <td>29598.660156</td>\n      <td>29745.869141</td>\n    </tr>\n    <tr>\n      <th>2021-11-19</th>\n      <td>29768.539062</td>\n      <td>29589.189453</td>\n      <td>29641.050781</td>\n      <td>29745.869141</td>\n      <td>65600000.0</td>\n      <td>29745.869141</td>\n      <td>29774.109375</td>\n    </tr>\n    <tr>\n      <th>2021-11-22</th>\n      <td>29806.490234</td>\n      <td>29542.289062</td>\n      <td>29618.550781</td>\n      <td>29774.109375</td>\n      <td>58800000.0</td>\n      <td>29774.109375</td>\n      <td>NaN</td>\n    </tr>\n  </tbody>\n</table>\n<p>1439 rows × 7 columns</p>\n</div>"
     },
     "metadata": {},
     "execution_count": 1499
    }
   ],
   "source": [
    "n225['Future Close'] = n225['Close'].shift(-1)\n",
    "n225"
   ]
  },
  {
   "cell_type": "code",
   "execution_count": 1500,
   "metadata": {},
   "outputs": [],
   "source": [
    "target = computeTarget(n225['Close'], n225['Future Close'])\n",
    "\n",
    "n225['Target'] = target\n",
    "n225_target = n225.tail(1)\n",
    "n225 = n225.dropna()"
   ]
  },
  {
   "cell_type": "code",
   "execution_count": 1501,
   "metadata": {},
   "outputs": [],
   "source": [
    "close = n225['Close']\n",
    "high = n225['High']\n",
    "low = n225['Low']\n",
    "open = n225['Open']\n",
    "volume  = n225['Volume']"
   ]
  },
  {
   "cell_type": "code",
   "execution_count": 1502,
   "metadata": {},
   "outputs": [
    {
     "output_type": "execute_result",
     "data": {
      "text/plain": [
       "                   SMA20         SMA50        SMA200           EMA  \\\n",
       "Date                                                                 \n",
       "2016-01-04           NaN           NaN           NaN           NaN   \n",
       "2016-01-05           NaN           NaN           NaN           NaN   \n",
       "2016-01-06           NaN           NaN           NaN           NaN   \n",
       "2016-01-07           NaN           NaN           NaN           NaN   \n",
       "2016-01-08           NaN           NaN           NaN           NaN   \n",
       "...                  ...           ...           ...           ...   \n",
       "2021-11-15  29233.262109  29297.366875  28901.341738  29352.537538   \n",
       "2021-11-16  29272.395020  29322.659062  28907.225088  29413.281752   \n",
       "2021-11-17  29296.035547  29333.863477  28911.555293  29449.954862   \n",
       "2021-11-18  29313.191016  29332.638867  28916.817695  29469.782235   \n",
       "2021-11-19  29365.055469  29329.233437  28922.370986  29506.593822   \n",
       "\n",
       "                     OBV      RSI14        ADX       ADXR  aroondown  \\\n",
       "Date                                                                   \n",
       "2016-01-04  1.402000e+08        NaN        NaN        NaN        NaN   \n",
       "2016-01-05  7.900000e+06        NaN        NaN        NaN        NaN   \n",
       "2016-01-06 -1.343000e+08        NaN        NaN        NaN        NaN   \n",
       "2016-01-07 -3.023000e+08        NaN        NaN        NaN        NaN   \n",
       "2016-01-08 -4.866000e+08        NaN        NaN        NaN        NaN   \n",
       "...                  ...        ...        ...        ...        ...   \n",
       "2021-11-15  5.710900e+09  58.851897  11.824174  15.413168   0.000000   \n",
       "2021-11-16  5.772900e+09  59.249153  11.990726  14.860945  21.428571   \n",
       "2021-11-17  5.709000e+09  56.983099  11.979636  14.369150  14.285714   \n",
       "2021-11-18  5.643600e+09  55.278742  11.348443  13.825177   7.142857   \n",
       "2021-11-19  5.709200e+09  57.524806  10.897318  13.343248   0.000000   \n",
       "\n",
       "               aroonup  ...      ROCR     ROCR100      slowk      slowd  \\\n",
       "Date                    ...                                               \n",
       "2016-01-04         NaN  ...       NaN         NaN        NaN        NaN   \n",
       "2016-01-05         NaN  ...       NaN         NaN        NaN        NaN   \n",
       "2016-01-06         NaN  ...       NaN         NaN        NaN        NaN   \n",
       "2016-01-07         NaN  ...       NaN         NaN        NaN        NaN   \n",
       "2016-01-08         NaN  ...       NaN         NaN        NaN        NaN   \n",
       "...                ...  ...       ...         ...        ...        ...   \n",
       "2021-11-15   50.000000  ...  1.030600  103.059983  66.522879  39.220148   \n",
       "2021-11-16  100.000000  ...  1.005432  100.543187  84.425284  62.904204   \n",
       "2021-11-17   92.857143  ...  1.005672  100.567156  81.149848  77.366004   \n",
       "2021-11-18   85.714286  ...  0.993431   99.343134  63.762055  76.445729   \n",
       "2021-11-19   78.571429  ...  1.004535  100.453535  56.454724  67.122209   \n",
       "\n",
       "                fastk      fastd      TRIX     ULTOSC      WILLR  Target  \n",
       "Date                                                                      \n",
       "2016-01-04        NaN        NaN       NaN        NaN        NaN       0  \n",
       "2016-01-05        NaN        NaN       NaN        NaN        NaN       0  \n",
       "2016-01-06        NaN        NaN       NaN        NaN        NaN       0  \n",
       "2016-01-07        NaN        NaN       NaN        NaN        NaN       0  \n",
       "2016-01-08        NaN        NaN       NaN        NaN        NaN       0  \n",
       "...               ...        ...       ...        ...        ...     ...  \n",
       "2021-11-15  89.647116  66.522879  0.034467  49.140580  -7.398881       1  \n",
       "2021-11-16  83.405483  84.425284  0.035941  49.417832 -10.284253       0  \n",
       "2021-11-17  70.396946  81.149848  0.037510  49.491904 -18.346138       0  \n",
       "2021-11-18  37.483737  63.762055  0.039044  56.947511 -24.380985       1  \n",
       "2021-11-19  61.483490  56.454724  0.040657  60.671533 -23.354579       0  \n",
       "\n",
       "[1438 rows x 38 columns]"
      ],
      "text/html": "<div>\n<style scoped>\n    .dataframe tbody tr th:only-of-type {\n        vertical-align: middle;\n    }\n\n    .dataframe tbody tr th {\n        vertical-align: top;\n    }\n\n    .dataframe thead th {\n        text-align: right;\n    }\n</style>\n<table border=\"1\" class=\"dataframe\">\n  <thead>\n    <tr style=\"text-align: right;\">\n      <th></th>\n      <th>SMA20</th>\n      <th>SMA50</th>\n      <th>SMA200</th>\n      <th>EMA</th>\n      <th>OBV</th>\n      <th>RSI14</th>\n      <th>ADX</th>\n      <th>ADXR</th>\n      <th>aroondown</th>\n      <th>aroonup</th>\n      <th>...</th>\n      <th>ROCR</th>\n      <th>ROCR100</th>\n      <th>slowk</th>\n      <th>slowd</th>\n      <th>fastk</th>\n      <th>fastd</th>\n      <th>TRIX</th>\n      <th>ULTOSC</th>\n      <th>WILLR</th>\n      <th>Target</th>\n    </tr>\n    <tr>\n      <th>Date</th>\n      <th></th>\n      <th></th>\n      <th></th>\n      <th></th>\n      <th></th>\n      <th></th>\n      <th></th>\n      <th></th>\n      <th></th>\n      <th></th>\n      <th></th>\n      <th></th>\n      <th></th>\n      <th></th>\n      <th></th>\n      <th></th>\n      <th></th>\n      <th></th>\n      <th></th>\n      <th></th>\n      <th></th>\n    </tr>\n  </thead>\n  <tbody>\n    <tr>\n      <th>2016-01-04</th>\n      <td>NaN</td>\n      <td>NaN</td>\n      <td>NaN</td>\n      <td>NaN</td>\n      <td>1.402000e+08</td>\n      <td>NaN</td>\n      <td>NaN</td>\n      <td>NaN</td>\n      <td>NaN</td>\n      <td>NaN</td>\n      <td>...</td>\n      <td>NaN</td>\n      <td>NaN</td>\n      <td>NaN</td>\n      <td>NaN</td>\n      <td>NaN</td>\n      <td>NaN</td>\n      <td>NaN</td>\n      <td>NaN</td>\n      <td>NaN</td>\n      <td>0</td>\n    </tr>\n    <tr>\n      <th>2016-01-05</th>\n      <td>NaN</td>\n      <td>NaN</td>\n      <td>NaN</td>\n      <td>NaN</td>\n      <td>7.900000e+06</td>\n      <td>NaN</td>\n      <td>NaN</td>\n      <td>NaN</td>\n      <td>NaN</td>\n      <td>NaN</td>\n      <td>...</td>\n      <td>NaN</td>\n      <td>NaN</td>\n      <td>NaN</td>\n      <td>NaN</td>\n      <td>NaN</td>\n      <td>NaN</td>\n      <td>NaN</td>\n      <td>NaN</td>\n      <td>NaN</td>\n      <td>0</td>\n    </tr>\n    <tr>\n      <th>2016-01-06</th>\n      <td>NaN</td>\n      <td>NaN</td>\n      <td>NaN</td>\n      <td>NaN</td>\n      <td>-1.343000e+08</td>\n      <td>NaN</td>\n      <td>NaN</td>\n      <td>NaN</td>\n      <td>NaN</td>\n      <td>NaN</td>\n      <td>...</td>\n      <td>NaN</td>\n      <td>NaN</td>\n      <td>NaN</td>\n      <td>NaN</td>\n      <td>NaN</td>\n      <td>NaN</td>\n      <td>NaN</td>\n      <td>NaN</td>\n      <td>NaN</td>\n      <td>0</td>\n    </tr>\n    <tr>\n      <th>2016-01-07</th>\n      <td>NaN</td>\n      <td>NaN</td>\n      <td>NaN</td>\n      <td>NaN</td>\n      <td>-3.023000e+08</td>\n      <td>NaN</td>\n      <td>NaN</td>\n      <td>NaN</td>\n      <td>NaN</td>\n      <td>NaN</td>\n      <td>...</td>\n      <td>NaN</td>\n      <td>NaN</td>\n      <td>NaN</td>\n      <td>NaN</td>\n      <td>NaN</td>\n      <td>NaN</td>\n      <td>NaN</td>\n      <td>NaN</td>\n      <td>NaN</td>\n      <td>0</td>\n    </tr>\n    <tr>\n      <th>2016-01-08</th>\n      <td>NaN</td>\n      <td>NaN</td>\n      <td>NaN</td>\n      <td>NaN</td>\n      <td>-4.866000e+08</td>\n      <td>NaN</td>\n      <td>NaN</td>\n      <td>NaN</td>\n      <td>NaN</td>\n      <td>NaN</td>\n      <td>...</td>\n      <td>NaN</td>\n      <td>NaN</td>\n      <td>NaN</td>\n      <td>NaN</td>\n      <td>NaN</td>\n      <td>NaN</td>\n      <td>NaN</td>\n      <td>NaN</td>\n      <td>NaN</td>\n      <td>0</td>\n    </tr>\n    <tr>\n      <th>...</th>\n      <td>...</td>\n      <td>...</td>\n      <td>...</td>\n      <td>...</td>\n      <td>...</td>\n      <td>...</td>\n      <td>...</td>\n      <td>...</td>\n      <td>...</td>\n      <td>...</td>\n      <td>...</td>\n      <td>...</td>\n      <td>...</td>\n      <td>...</td>\n      <td>...</td>\n      <td>...</td>\n      <td>...</td>\n      <td>...</td>\n      <td>...</td>\n      <td>...</td>\n      <td>...</td>\n    </tr>\n    <tr>\n      <th>2021-11-15</th>\n      <td>29233.262109</td>\n      <td>29297.366875</td>\n      <td>28901.341738</td>\n      <td>29352.537538</td>\n      <td>5.710900e+09</td>\n      <td>58.851897</td>\n      <td>11.824174</td>\n      <td>15.413168</td>\n      <td>0.000000</td>\n      <td>50.000000</td>\n      <td>...</td>\n      <td>1.030600</td>\n      <td>103.059983</td>\n      <td>66.522879</td>\n      <td>39.220148</td>\n      <td>89.647116</td>\n      <td>66.522879</td>\n      <td>0.034467</td>\n      <td>49.140580</td>\n      <td>-7.398881</td>\n      <td>1</td>\n    </tr>\n    <tr>\n      <th>2021-11-16</th>\n      <td>29272.395020</td>\n      <td>29322.659062</td>\n      <td>28907.225088</td>\n      <td>29413.281752</td>\n      <td>5.772900e+09</td>\n      <td>59.249153</td>\n      <td>11.990726</td>\n      <td>14.860945</td>\n      <td>21.428571</td>\n      <td>100.000000</td>\n      <td>...</td>\n      <td>1.005432</td>\n      <td>100.543187</td>\n      <td>84.425284</td>\n      <td>62.904204</td>\n      <td>83.405483</td>\n      <td>84.425284</td>\n      <td>0.035941</td>\n      <td>49.417832</td>\n      <td>-10.284253</td>\n      <td>0</td>\n    </tr>\n    <tr>\n      <th>2021-11-17</th>\n      <td>29296.035547</td>\n      <td>29333.863477</td>\n      <td>28911.555293</td>\n      <td>29449.954862</td>\n      <td>5.709000e+09</td>\n      <td>56.983099</td>\n      <td>11.979636</td>\n      <td>14.369150</td>\n      <td>14.285714</td>\n      <td>92.857143</td>\n      <td>...</td>\n      <td>1.005672</td>\n      <td>100.567156</td>\n      <td>81.149848</td>\n      <td>77.366004</td>\n      <td>70.396946</td>\n      <td>81.149848</td>\n      <td>0.037510</td>\n      <td>49.491904</td>\n      <td>-18.346138</td>\n      <td>0</td>\n    </tr>\n    <tr>\n      <th>2021-11-18</th>\n      <td>29313.191016</td>\n      <td>29332.638867</td>\n      <td>28916.817695</td>\n      <td>29469.782235</td>\n      <td>5.643600e+09</td>\n      <td>55.278742</td>\n      <td>11.348443</td>\n      <td>13.825177</td>\n      <td>7.142857</td>\n      <td>85.714286</td>\n      <td>...</td>\n      <td>0.993431</td>\n      <td>99.343134</td>\n      <td>63.762055</td>\n      <td>76.445729</td>\n      <td>37.483737</td>\n      <td>63.762055</td>\n      <td>0.039044</td>\n      <td>56.947511</td>\n      <td>-24.380985</td>\n      <td>1</td>\n    </tr>\n    <tr>\n      <th>2021-11-19</th>\n      <td>29365.055469</td>\n      <td>29329.233437</td>\n      <td>28922.370986</td>\n      <td>29506.593822</td>\n      <td>5.709200e+09</td>\n      <td>57.524806</td>\n      <td>10.897318</td>\n      <td>13.343248</td>\n      <td>0.000000</td>\n      <td>78.571429</td>\n      <td>...</td>\n      <td>1.004535</td>\n      <td>100.453535</td>\n      <td>56.454724</td>\n      <td>67.122209</td>\n      <td>61.483490</td>\n      <td>56.454724</td>\n      <td>0.040657</td>\n      <td>60.671533</td>\n      <td>-23.354579</td>\n      <td>0</td>\n    </tr>\n  </tbody>\n</table>\n<p>1438 rows × 38 columns</p>\n</div>"
     },
     "metadata": {},
     "execution_count": 1502
    }
   ],
   "source": [
    "n225_ti = pd.DataFrame()\n",
    "n225_ti['SMA20'] = talib.SMA(close, timeperiod=20)\n",
    "n225_ti['SMA50'] = talib.SMA(close, timeperiod=50)\n",
    "n225_ti['SMA200'] = talib.SMA(close, timeperiod=200)\n",
    "n225_ti['EMA'] = talib.EMA(close, timeperiod=14)\n",
    "n225_ti['OBV'] = talib.OBV(close, volume)\n",
    "n225_ti['RSI14'] = talib.RSI(close, timeperiod=14)\n",
    "n225_ti['ADX'] = talib.ADX(high, low, close, timeperiod=14)\n",
    "n225_ti['ADXR'] = talib.ADXR(high, low, close, timeperiod=14)\n",
    "n225_ti['aroondown'], n225_ti['aroonup'] = talib.AROON(high, low, timeperiod=14)\n",
    "n225_ti['APO'] = talib.APO(close, fastperiod=12, slowperiod=26, matype=0)\n",
    "n225_ti['AROONOSC'] = talib.AROONOSC(high, low, timeperiod=14)\n",
    "n225_ti['BOP'] = talib.BOP(open, high, low, close)\n",
    "n225_ti['CCI'] = talib.CCI(high, low, close, timeperiod=14)\n",
    "n225_ti['CMO'] = talib.CMO(close, timeperiod=14)\n",
    "n225_ti['DX'] = talib.DX(high, low, close, timeperiod=14)\n",
    "n225_ti['macd'],n225_ti['macdsignal'],n225_ti['macdhist'] = talib.MACD(close, fastperiod = 12, slowperiod=26, signalperiod=9)\n",
    "n225_ti['MFI'] = talib.MFI(high, low, close, volume, timeperiod=14)\n",
    "n225_ti['MINUS_DI'] = talib.MINUS_DI(high, low, close, timeperiod=14)\n",
    "n225_ti['MINUS_DM'] = talib.MINUS_DM(high, low, timeperiod=14)\n",
    "n225_ti['MOM'] = talib.MOM(close, timeperiod=14)\n",
    "n225_ti['PLUS_DI'] = talib.PLUS_DI(high, low, close, timeperiod=14)\n",
    "n225_ti['PLUS_DM'] = talib.PLUS_DM(high, low, timeperiod=14)\n",
    "n225_ti['PPO'] = talib.PPO(close, fastperiod=12, slowperiod=26, matype=0)\n",
    "n225_ti['ROC'] = talib.ROC(close, timeperiod=10)\n",
    "n225_ti['ROCP'] = talib.ROCP(close, timeperiod=10)\n",
    "n225_ti['ROCR'] = talib.ROCR(close, timeperiod=10)\n",
    "n225_ti['ROCR100'] = talib.ROCR100(close, timeperiod=10)\n",
    "n225_ti['slowk'], n225_ti['slowd'] = talib.STOCH(high, low, close, fastk_period=5, slowk_period=3, slowd_period=3, slowd_matype=0)\n",
    "n225_ti['fastk'], n225_ti['fastd'] = talib.STOCHF(high, low, close, fastk_period=5, fastd_period=3, fastd_matype=0)\n",
    "n225_ti['TRIX'] = talib.TRIX(close, timeperiod=30)\n",
    "n225_ti['ULTOSC'] = talib.ULTOSC(high, low, close, timeperiod1=7, timeperiod2=14, timeperiod3=28)\n",
    "n225_ti['WILLR'] = talib.WILLR(high, low, close, timeperiod=14)\n",
    "n225_ti['Target'] = n225['Target']\n",
    "n225_ti"
   ]
  },
  {
   "cell_type": "code",
   "execution_count": 1576,
   "metadata": {},
   "outputs": [
    {
     "output_type": "execute_result",
     "data": {
      "text/plain": [
       "['RSI14',\n",
       " 'ADX',\n",
       " 'ADXR',\n",
       " 'BOP',\n",
       " 'CMO',\n",
       " 'DX',\n",
       " 'MINUS_DI',\n",
       " 'PLUS_DI',\n",
       " 'PPO',\n",
       " 'ROC',\n",
       " 'ROCR100',\n",
       " 'slowk',\n",
       " 'slowd',\n",
       " 'fastk',\n",
       " 'fastd',\n",
       " 'TRIX',\n",
       " 'ULTOSC',\n",
       " 'WILLR']"
      ]
     },
     "metadata": {},
     "execution_count": 1576
    }
   ],
   "source": [
    "n225_features = selectFeatures(n225_ti)\n",
    "n225_features"
   ]
  },
  {
   "source": [
    "<h2>จากการทำ Feature Selection ควรจะใช้ 'ADX', 'ADXR', 'BOP', 'CMO', 'MINUS_DI', 'PPO', 'ROC', 'TRIX', 'ULTOSC',\n",
    "       'WILLR' ในการสร้าง model</h2>"
   ],
   "cell_type": "markdown",
   "metadata": {}
  },
  {
   "source": [],
   "cell_type": "markdown",
   "metadata": {}
  },
  {
   "cell_type": "code",
   "execution_count": 1577,
   "metadata": {},
   "outputs": [],
   "source": [
    "X = n225_ti.loc[:, n225_features].values\n",
    "#X = dji_ti.loc[:, ['CCI', 'DX', 'MINUS_DI', 'PLUS_DM', 'slowd']].values\n",
    "y = n225_ti.loc[:, ['Target']].values\n",
    "X_train, X_test, y_train, y_test = train_test_split(X, y, test_size=0.2, random_state=0)"
   ]
  },
  {
   "cell_type": "code",
   "execution_count": 1578,
   "metadata": {},
   "outputs": [],
   "source": [
    "sc = StandardScaler()\n",
    "X_train = sc.fit_transform(X_train)\n",
    "X_test = sc.transform(X_test)"
   ]
  },
  {
   "source": [
    "<h2>Decision Tree</h2>"
   ],
   "cell_type": "markdown",
   "metadata": {}
  },
  {
   "cell_type": "code",
   "execution_count": 1579,
   "metadata": {},
   "outputs": [
    {
     "output_type": "execute_result",
     "data": {
      "text/plain": [
       "DecisionTreeClassifier()"
      ]
     },
     "metadata": {},
     "execution_count": 1579
    }
   ],
   "source": [
    "dtc = DecisionTreeClassifier()\n",
    "dtc.fit(X_train, y_train)"
   ]
  },
  {
   "cell_type": "code",
   "execution_count": 1580,
   "metadata": {},
   "outputs": [
    {
     "output_type": "execute_result",
     "data": {
      "text/plain": [
       "array([0, 0, 1, 1, 1, 1, 0, 0, 1, 0, 1, 0, 0, 1, 1, 0, 1, 0, 1, 1, 1, 1,\n",
       "       1, 0, 0, 1, 0, 0, 0, 0, 1, 1, 1, 1, 1, 0, 0, 0, 1, 0, 1, 0, 1, 1,\n",
       "       0, 1, 1, 1, 1, 0, 1, 0, 0, 1, 1, 1, 1, 0, 1, 1, 1, 0, 0, 1, 0, 1,\n",
       "       1, 0, 0, 0, 1, 0, 0, 1, 0, 0, 0, 0, 1, 1, 1, 1, 0, 1, 0, 1, 1, 0,\n",
       "       0, 1, 1, 0, 0, 0, 1, 1, 1, 0, 0, 0, 1, 0, 1, 1, 1, 1, 1, 0, 0, 1,\n",
       "       1, 1, 0, 0, 1, 0, 1, 0, 1, 1, 1, 0, 1, 1, 0, 0, 1, 0, 1, 1, 1, 0,\n",
       "       1, 1, 0, 1, 1, 0, 1, 0, 1, 0, 1, 0, 0, 1, 0, 0, 1, 1, 0, 1, 0, 1,\n",
       "       0, 0, 1, 0, 0, 1, 0, 0, 1, 1, 0, 1, 1, 0, 0, 0, 0, 0, 0, 1, 0, 0,\n",
       "       1, 1, 1, 1, 1, 0, 1, 0, 1, 0, 0, 1, 1, 1, 0, 1, 0, 1, 0, 0, 1, 1,\n",
       "       0, 0, 1, 0, 0, 0, 1, 1, 1, 1, 1, 1, 1, 0, 0, 1, 0, 1, 1, 0, 0, 1,\n",
       "       0, 1, 1, 0, 0, 1, 1, 1, 0, 0, 1, 0, 0, 0, 1, 0, 1, 1, 1, 0, 0, 0,\n",
       "       0, 1, 0, 1, 1, 0])"
      ]
     },
     "metadata": {},
     "execution_count": 1580
    }
   ],
   "source": [
    "# Prediction\n",
    "#\n",
    "y_pred = dtc.predict(X_test)  #Accuracy\n",
    "y_pred"
   ]
  },
  {
   "cell_type": "code",
   "execution_count": 1581,
   "metadata": {},
   "outputs": [
    {
     "output_type": "execute_result",
     "data": {
      "text/plain": [
       "array([[0],\n",
       "       [1],\n",
       "       [1],\n",
       "       [1],\n",
       "       [0],\n",
       "       [1],\n",
       "       [1],\n",
       "       [0],\n",
       "       [1],\n",
       "       [0],\n",
       "       [1],\n",
       "       [0],\n",
       "       [0],\n",
       "       [0],\n",
       "       [0],\n",
       "       [1],\n",
       "       [1],\n",
       "       [1],\n",
       "       [1],\n",
       "       [1],\n",
       "       [1],\n",
       "       [1],\n",
       "       [0],\n",
       "       [0],\n",
       "       [1],\n",
       "       [0],\n",
       "       [0],\n",
       "       [1],\n",
       "       [0],\n",
       "       [0],\n",
       "       [0],\n",
       "       [0],\n",
       "       [0],\n",
       "       [1],\n",
       "       [0],\n",
       "       [1],\n",
       "       [1],\n",
       "       [0],\n",
       "       [0],\n",
       "       [1],\n",
       "       [1],\n",
       "       [1],\n",
       "       [0],\n",
       "       [0],\n",
       "       [0],\n",
       "       [0],\n",
       "       [0],\n",
       "       [0],\n",
       "       [0],\n",
       "       [0],\n",
       "       [1],\n",
       "       [0],\n",
       "       [1],\n",
       "       [0],\n",
       "       [0],\n",
       "       [1],\n",
       "       [1],\n",
       "       [1],\n",
       "       [0],\n",
       "       [1],\n",
       "       [0],\n",
       "       [1],\n",
       "       [1],\n",
       "       [0],\n",
       "       [0],\n",
       "       [0],\n",
       "       [0],\n",
       "       [1],\n",
       "       [1],\n",
       "       [1],\n",
       "       [1],\n",
       "       [0],\n",
       "       [0],\n",
       "       [1],\n",
       "       [0],\n",
       "       [1],\n",
       "       [0],\n",
       "       [1],\n",
       "       [1],\n",
       "       [1],\n",
       "       [0],\n",
       "       [0],\n",
       "       [1],\n",
       "       [0],\n",
       "       [0],\n",
       "       [1],\n",
       "       [0],\n",
       "       [1],\n",
       "       [0],\n",
       "       [0],\n",
       "       [1],\n",
       "       [0],\n",
       "       [0],\n",
       "       [0],\n",
       "       [0],\n",
       "       [0],\n",
       "       [1],\n",
       "       [1],\n",
       "       [0],\n",
       "       [0],\n",
       "       [1],\n",
       "       [1],\n",
       "       [0],\n",
       "       [1],\n",
       "       [1],\n",
       "       [0],\n",
       "       [1],\n",
       "       [1],\n",
       "       [1],\n",
       "       [0],\n",
       "       [1],\n",
       "       [0],\n",
       "       [1],\n",
       "       [0],\n",
       "       [0],\n",
       "       [1],\n",
       "       [1],\n",
       "       [0],\n",
       "       [1],\n",
       "       [0],\n",
       "       [1],\n",
       "       [0],\n",
       "       [1],\n",
       "       [0],\n",
       "       [0],\n",
       "       [0],\n",
       "       [0],\n",
       "       [1],\n",
       "       [1],\n",
       "       [0],\n",
       "       [0],\n",
       "       [0],\n",
       "       [0],\n",
       "       [1],\n",
       "       [0],\n",
       "       [1],\n",
       "       [0],\n",
       "       [0],\n",
       "       [0],\n",
       "       [0],\n",
       "       [1],\n",
       "       [0],\n",
       "       [1],\n",
       "       [1],\n",
       "       [0],\n",
       "       [1],\n",
       "       [0],\n",
       "       [1],\n",
       "       [1],\n",
       "       [0],\n",
       "       [1],\n",
       "       [1],\n",
       "       [1],\n",
       "       [0],\n",
       "       [0],\n",
       "       [0],\n",
       "       [0],\n",
       "       [0],\n",
       "       [0],\n",
       "       [1],\n",
       "       [0],\n",
       "       [0],\n",
       "       [0],\n",
       "       [0],\n",
       "       [0],\n",
       "       [1],\n",
       "       [1],\n",
       "       [0],\n",
       "       [0],\n",
       "       [1],\n",
       "       [0],\n",
       "       [1],\n",
       "       [0],\n",
       "       [0],\n",
       "       [1],\n",
       "       [1],\n",
       "       [0],\n",
       "       [0],\n",
       "       [1],\n",
       "       [1],\n",
       "       [0],\n",
       "       [1],\n",
       "       [0],\n",
       "       [0],\n",
       "       [0],\n",
       "       [1],\n",
       "       [0],\n",
       "       [1],\n",
       "       [1],\n",
       "       [1],\n",
       "       [0],\n",
       "       [1],\n",
       "       [0],\n",
       "       [0],\n",
       "       [0],\n",
       "       [1],\n",
       "       [1],\n",
       "       [1],\n",
       "       [0],\n",
       "       [0],\n",
       "       [0],\n",
       "       [0],\n",
       "       [0],\n",
       "       [1],\n",
       "       [1],\n",
       "       [0],\n",
       "       [1],\n",
       "       [0],\n",
       "       [0],\n",
       "       [1],\n",
       "       [1],\n",
       "       [1],\n",
       "       [1],\n",
       "       [0],\n",
       "       [1],\n",
       "       [1],\n",
       "       [1],\n",
       "       [1],\n",
       "       [0],\n",
       "       [0],\n",
       "       [0],\n",
       "       [1],\n",
       "       [1],\n",
       "       [1],\n",
       "       [1],\n",
       "       [1],\n",
       "       [0],\n",
       "       [1],\n",
       "       [0],\n",
       "       [1],\n",
       "       [0],\n",
       "       [1],\n",
       "       [1],\n",
       "       [1],\n",
       "       [0],\n",
       "       [1],\n",
       "       [1],\n",
       "       [0],\n",
       "       [1],\n",
       "       [1],\n",
       "       [1],\n",
       "       [1],\n",
       "       [1],\n",
       "       [0],\n",
       "       [1],\n",
       "       [1],\n",
       "       [0],\n",
       "       [0]])"
      ]
     },
     "metadata": {},
     "execution_count": 1581
    }
   ],
   "source": [
    "# Look at the actual y_test\n",
    "#\n",
    "y_test"
   ]
  },
  {
   "cell_type": "code",
   "execution_count": 1582,
   "metadata": {},
   "outputs": [
    {
     "output_type": "stream",
     "name": "stdout",
     "text": [
      "Accuracy Score: 0.5040322580645161\n"
     ]
    }
   ],
   "source": [
    "# See the accuracy\n",
    "#\n",
    "from sklearn import metrics\n",
    "print('Accuracy Score:', metrics.accuracy_score(y_test, y_pred))"
   ]
  },
  {
   "cell_type": "code",
   "execution_count": 1583,
   "metadata": {},
   "outputs": [
    {
     "output_type": "execute_result",
     "data": {
      "text/plain": [
       "array([[61, 67],\n",
       "       [56, 64]])"
      ]
     },
     "metadata": {},
     "execution_count": 1583
    }
   ],
   "source": [
    "# See the confusion matrix\n",
    "#\n",
    "from sklearn.metrics import confusion_matrix\n",
    "cm = confusion_matrix(y_test, y_pred)\n",
    "cm"
   ]
  },
  {
   "source": [
    "<h2>Random Forest</h2>"
   ],
   "cell_type": "markdown",
   "metadata": {}
  },
  {
   "cell_type": "code",
   "execution_count": null,
   "metadata": {},
   "outputs": [],
   "source": []
  },
  {
   "source": [
    "<h2>Logistic Regression</h2>"
   ],
   "cell_type": "markdown",
   "metadata": {}
  },
  {
   "cell_type": "code",
   "execution_count": null,
   "metadata": {},
   "outputs": [],
   "source": []
  },
  {
   "source": [
    "<h2>XGBoost</h2>"
   ],
   "cell_type": "markdown",
   "metadata": {}
  },
  {
   "cell_type": "code",
   "execution_count": null,
   "metadata": {},
   "outputs": [],
   "source": []
  },
  {
   "source": [
    "<h2>Linear Regress</h2>"
   ],
   "cell_type": "markdown",
   "metadata": {}
  },
  {
   "cell_type": "code",
   "execution_count": null,
   "metadata": {},
   "outputs": [],
   "source": []
  },
  {
   "source": [
    "<h2>Cauccian Process Regression</h2>"
   ],
   "cell_type": "markdown",
   "metadata": {}
  },
  {
   "cell_type": "code",
   "execution_count": null,
   "metadata": {},
   "outputs": [],
   "source": []
  },
  {
   "source": [
    "<h1>Heng Seng Index</h1>"
   ],
   "cell_type": "markdown",
   "metadata": {}
  },
  {
   "source": [
    "<h2>Feature Selection</h2>"
   ],
   "cell_type": "markdown",
   "metadata": {}
  },
  {
   "cell_type": "code",
   "execution_count": 1514,
   "metadata": {},
   "outputs": [
    {
     "output_type": "execute_result",
     "data": {
      "text/plain": [
       "                    High           Low          Open         Close  \\\n",
       "Date                                                                 \n",
       "2016-01-04  21794.839844  21227.609375  21782.619141  21327.119141   \n",
       "2016-01-05  21452.740234  21095.900391  21318.689453  21188.720703   \n",
       "2016-01-06  21199.619141  20947.300781  21142.630859  20980.810547   \n",
       "2016-01-07  20826.439453  20323.970703  20772.599609  20333.339844   \n",
       "2016-01-08  20596.419922  20324.619141  20491.880859  20453.710938   \n",
       "...                  ...           ...           ...           ...   \n",
       "2021-11-17  25667.810547  25520.669922  25667.810547  25650.080078   \n",
       "2021-11-18  25414.210938  25222.599609  25369.880859  25319.720703   \n",
       "2021-11-19  25077.150391  24825.429688  24934.400391  25049.970703   \n",
       "2021-11-22  25099.949219  24869.939453  25057.060547  24951.339844   \n",
       "2021-11-23  24794.720703  24618.740234  24688.990234  24651.580078   \n",
       "\n",
       "                  Volume     Adj Close  Future Close  \n",
       "Date                                                  \n",
       "2016-01-04  1.712095e+09  21327.119141  21188.720703  \n",
       "2016-01-05  1.484745e+09  21188.720703  20980.810547  \n",
       "2016-01-06  1.651083e+09  20980.810547  20333.339844  \n",
       "2016-01-07  2.982004e+09  20333.339844  20453.710938  \n",
       "2016-01-08  2.078133e+09  20453.710938  19888.500000  \n",
       "...                  ...           ...           ...  \n",
       "2021-11-17  1.193809e+09  25650.080078  25319.720703  \n",
       "2021-11-18  1.342851e+09  25319.720703  25049.970703  \n",
       "2021-11-19  1.640365e+09  25049.970703  24951.339844  \n",
       "2021-11-22  1.510359e+09  24951.339844  24651.580078  \n",
       "2021-11-23  0.000000e+00  24651.580078           NaN  \n",
       "\n",
       "[1451 rows x 7 columns]"
      ],
      "text/html": "<div>\n<style scoped>\n    .dataframe tbody tr th:only-of-type {\n        vertical-align: middle;\n    }\n\n    .dataframe tbody tr th {\n        vertical-align: top;\n    }\n\n    .dataframe thead th {\n        text-align: right;\n    }\n</style>\n<table border=\"1\" class=\"dataframe\">\n  <thead>\n    <tr style=\"text-align: right;\">\n      <th></th>\n      <th>High</th>\n      <th>Low</th>\n      <th>Open</th>\n      <th>Close</th>\n      <th>Volume</th>\n      <th>Adj Close</th>\n      <th>Future Close</th>\n    </tr>\n    <tr>\n      <th>Date</th>\n      <th></th>\n      <th></th>\n      <th></th>\n      <th></th>\n      <th></th>\n      <th></th>\n      <th></th>\n    </tr>\n  </thead>\n  <tbody>\n    <tr>\n      <th>2016-01-04</th>\n      <td>21794.839844</td>\n      <td>21227.609375</td>\n      <td>21782.619141</td>\n      <td>21327.119141</td>\n      <td>1.712095e+09</td>\n      <td>21327.119141</td>\n      <td>21188.720703</td>\n    </tr>\n    <tr>\n      <th>2016-01-05</th>\n      <td>21452.740234</td>\n      <td>21095.900391</td>\n      <td>21318.689453</td>\n      <td>21188.720703</td>\n      <td>1.484745e+09</td>\n      <td>21188.720703</td>\n      <td>20980.810547</td>\n    </tr>\n    <tr>\n      <th>2016-01-06</th>\n      <td>21199.619141</td>\n      <td>20947.300781</td>\n      <td>21142.630859</td>\n      <td>20980.810547</td>\n      <td>1.651083e+09</td>\n      <td>20980.810547</td>\n      <td>20333.339844</td>\n    </tr>\n    <tr>\n      <th>2016-01-07</th>\n      <td>20826.439453</td>\n      <td>20323.970703</td>\n      <td>20772.599609</td>\n      <td>20333.339844</td>\n      <td>2.982004e+09</td>\n      <td>20333.339844</td>\n      <td>20453.710938</td>\n    </tr>\n    <tr>\n      <th>2016-01-08</th>\n      <td>20596.419922</td>\n      <td>20324.619141</td>\n      <td>20491.880859</td>\n      <td>20453.710938</td>\n      <td>2.078133e+09</td>\n      <td>20453.710938</td>\n      <td>19888.500000</td>\n    </tr>\n    <tr>\n      <th>...</th>\n      <td>...</td>\n      <td>...</td>\n      <td>...</td>\n      <td>...</td>\n      <td>...</td>\n      <td>...</td>\n      <td>...</td>\n    </tr>\n    <tr>\n      <th>2021-11-17</th>\n      <td>25667.810547</td>\n      <td>25520.669922</td>\n      <td>25667.810547</td>\n      <td>25650.080078</td>\n      <td>1.193809e+09</td>\n      <td>25650.080078</td>\n      <td>25319.720703</td>\n    </tr>\n    <tr>\n      <th>2021-11-18</th>\n      <td>25414.210938</td>\n      <td>25222.599609</td>\n      <td>25369.880859</td>\n      <td>25319.720703</td>\n      <td>1.342851e+09</td>\n      <td>25319.720703</td>\n      <td>25049.970703</td>\n    </tr>\n    <tr>\n      <th>2021-11-19</th>\n      <td>25077.150391</td>\n      <td>24825.429688</td>\n      <td>24934.400391</td>\n      <td>25049.970703</td>\n      <td>1.640365e+09</td>\n      <td>25049.970703</td>\n      <td>24951.339844</td>\n    </tr>\n    <tr>\n      <th>2021-11-22</th>\n      <td>25099.949219</td>\n      <td>24869.939453</td>\n      <td>25057.060547</td>\n      <td>24951.339844</td>\n      <td>1.510359e+09</td>\n      <td>24951.339844</td>\n      <td>24651.580078</td>\n    </tr>\n    <tr>\n      <th>2021-11-23</th>\n      <td>24794.720703</td>\n      <td>24618.740234</td>\n      <td>24688.990234</td>\n      <td>24651.580078</td>\n      <td>0.000000e+00</td>\n      <td>24651.580078</td>\n      <td>NaN</td>\n    </tr>\n  </tbody>\n</table>\n<p>1451 rows × 7 columns</p>\n</div>"
     },
     "metadata": {},
     "execution_count": 1514
    }
   ],
   "source": [
    "hsi['Future Close'] = hsi['Close'].shift(-1)\n",
    "hsi"
   ]
  },
  {
   "cell_type": "code",
   "execution_count": 1515,
   "metadata": {},
   "outputs": [],
   "source": [
    "target = computeTarget(hsi['Close'], hsi['Future Close'])\n",
    "\n",
    "hsi['Target'] = target\n",
    "hsi_target = hsi.loc[hsi.index[-1]]\n",
    "hsi = hsi.dropna()"
   ]
  },
  {
   "cell_type": "code",
   "execution_count": 1516,
   "metadata": {},
   "outputs": [],
   "source": [
    "close = hsi['Close']\n",
    "high = hsi['High']\n",
    "low = hsi['Low']\n",
    "open = hsi['Open']\n",
    "volume  = hsi['Volume']"
   ]
  },
  {
   "cell_type": "code",
   "execution_count": 1517,
   "metadata": {},
   "outputs": [
    {
     "output_type": "execute_result",
     "data": {
      "text/plain": [
       "                   SMA20         SMA50        SMA200           EMA  \\\n",
       "Date                                                                 \n",
       "2016-01-04           NaN           NaN           NaN           NaN   \n",
       "2016-01-05           NaN           NaN           NaN           NaN   \n",
       "2016-01-06           NaN           NaN           NaN           NaN   \n",
       "2016-01-07           NaN           NaN           NaN           NaN   \n",
       "2016-01-08           NaN           NaN           NaN           NaN   \n",
       "...                  ...           ...           ...           ...   \n",
       "2021-11-16  25432.030957  25215.306484  27506.617119  25277.409626   \n",
       "2021-11-17  25407.733984  25206.499492  27484.072471  25327.099020   \n",
       "2021-11-18  25372.843555  25194.854102  27463.714775  25326.115244   \n",
       "2021-11-19  25318.995605  25172.580898  27442.476982  25289.295972   \n",
       "2021-11-22  25259.961133  25144.535078  27424.479834  25244.235155   \n",
       "\n",
       "                     OBV      RSI14        ADX       ADXR  aroondown  \\\n",
       "Date                                                                   \n",
       "2016-01-04  1.712095e+09        NaN        NaN        NaN        NaN   \n",
       "2016-01-05  2.273497e+08        NaN        NaN        NaN        NaN   \n",
       "2016-01-06 -1.423734e+09        NaN        NaN        NaN        NaN   \n",
       "2016-01-07 -4.405738e+09        NaN        NaN        NaN        NaN   \n",
       "2016-01-08 -2.327604e+09        NaN        NaN        NaN        NaN   \n",
       "...                  ...        ...        ...        ...        ...   \n",
       "2021-11-16  1.907508e+11  58.646649  12.476613  14.799833  71.428571   \n",
       "2021-11-17  1.895570e+11  57.221959  12.263880  14.301206  64.285714   \n",
       "2021-11-18  1.882141e+11  50.385653  11.571831  13.974159  57.142857   \n",
       "2021-11-19  1.865737e+11  45.595592  11.879860  13.655748  50.000000   \n",
       "2021-11-22  1.850634e+11  43.950340  12.096570  13.569889  42.857143   \n",
       "\n",
       "              aroonup  ...      ROCR     ROCR100      slowk      slowd  \\\n",
       "Date                   ...                                               \n",
       "2016-01-04        NaN  ...       NaN         NaN        NaN        NaN   \n",
       "2016-01-05        NaN  ...       NaN         NaN        NaN        NaN   \n",
       "2016-01-06        NaN  ...       NaN         NaN        NaN        NaN   \n",
       "2016-01-07        NaN  ...       NaN         NaN        NaN        NaN   \n",
       "2016-01-08        NaN  ...       NaN         NaN        NaN        NaN   \n",
       "...               ...  ...       ...         ...        ...        ...   \n",
       "2021-11-16   0.000000  ...  1.024467  102.446683  88.443502  84.828571   \n",
       "2021-11-17  92.857143  ...  1.024988  102.498846  91.253358  88.659208   \n",
       "2021-11-18  85.714286  ...  1.003747  100.374749  69.048227  82.915029   \n",
       "2021-11-19  78.571429  ...  1.007216  100.721581  44.706578  68.336054   \n",
       "2021-11-22  71.428571  ...  1.007574  100.757438  19.466510  44.407105   \n",
       "\n",
       "                fastk      fastd      TRIX     ULTOSC      WILLR  Target  \n",
       "Date                                                                      \n",
       "2016-01-04        NaN        NaN       NaN        NaN        NaN       0  \n",
       "2016-01-05        NaN        NaN       NaN        NaN        NaN       0  \n",
       "2016-01-06        NaN        NaN       NaN        NaN        NaN       0  \n",
       "2016-01-07        NaN        NaN       NaN        NaN        NaN       1  \n",
       "2016-01-08        NaN        NaN       NaN        NaN        NaN       0  \n",
       "...               ...        ...       ...        ...        ...     ...  \n",
       "2021-11-16  97.397636  88.443502 -0.073960  65.696857  -2.602364       0  \n",
       "2021-11-17  89.387056  91.253358 -0.070285  67.084202  -7.636080       0  \n",
       "2021-11-18  20.359988  69.048227 -0.066757  62.814885 -33.742134       0  \n",
       "2021-11-19  24.372689  44.706578 -0.063657  56.756723 -55.058642       0  \n",
       "2021-11-22  13.666853  19.466510 -0.061031  53.201779 -62.852768       0  \n",
       "\n",
       "[1450 rows x 38 columns]"
      ],
      "text/html": "<div>\n<style scoped>\n    .dataframe tbody tr th:only-of-type {\n        vertical-align: middle;\n    }\n\n    .dataframe tbody tr th {\n        vertical-align: top;\n    }\n\n    .dataframe thead th {\n        text-align: right;\n    }\n</style>\n<table border=\"1\" class=\"dataframe\">\n  <thead>\n    <tr style=\"text-align: right;\">\n      <th></th>\n      <th>SMA20</th>\n      <th>SMA50</th>\n      <th>SMA200</th>\n      <th>EMA</th>\n      <th>OBV</th>\n      <th>RSI14</th>\n      <th>ADX</th>\n      <th>ADXR</th>\n      <th>aroondown</th>\n      <th>aroonup</th>\n      <th>...</th>\n      <th>ROCR</th>\n      <th>ROCR100</th>\n      <th>slowk</th>\n      <th>slowd</th>\n      <th>fastk</th>\n      <th>fastd</th>\n      <th>TRIX</th>\n      <th>ULTOSC</th>\n      <th>WILLR</th>\n      <th>Target</th>\n    </tr>\n    <tr>\n      <th>Date</th>\n      <th></th>\n      <th></th>\n      <th></th>\n      <th></th>\n      <th></th>\n      <th></th>\n      <th></th>\n      <th></th>\n      <th></th>\n      <th></th>\n      <th></th>\n      <th></th>\n      <th></th>\n      <th></th>\n      <th></th>\n      <th></th>\n      <th></th>\n      <th></th>\n      <th></th>\n      <th></th>\n      <th></th>\n    </tr>\n  </thead>\n  <tbody>\n    <tr>\n      <th>2016-01-04</th>\n      <td>NaN</td>\n      <td>NaN</td>\n      <td>NaN</td>\n      <td>NaN</td>\n      <td>1.712095e+09</td>\n      <td>NaN</td>\n      <td>NaN</td>\n      <td>NaN</td>\n      <td>NaN</td>\n      <td>NaN</td>\n      <td>...</td>\n      <td>NaN</td>\n      <td>NaN</td>\n      <td>NaN</td>\n      <td>NaN</td>\n      <td>NaN</td>\n      <td>NaN</td>\n      <td>NaN</td>\n      <td>NaN</td>\n      <td>NaN</td>\n      <td>0</td>\n    </tr>\n    <tr>\n      <th>2016-01-05</th>\n      <td>NaN</td>\n      <td>NaN</td>\n      <td>NaN</td>\n      <td>NaN</td>\n      <td>2.273497e+08</td>\n      <td>NaN</td>\n      <td>NaN</td>\n      <td>NaN</td>\n      <td>NaN</td>\n      <td>NaN</td>\n      <td>...</td>\n      <td>NaN</td>\n      <td>NaN</td>\n      <td>NaN</td>\n      <td>NaN</td>\n      <td>NaN</td>\n      <td>NaN</td>\n      <td>NaN</td>\n      <td>NaN</td>\n      <td>NaN</td>\n      <td>0</td>\n    </tr>\n    <tr>\n      <th>2016-01-06</th>\n      <td>NaN</td>\n      <td>NaN</td>\n      <td>NaN</td>\n      <td>NaN</td>\n      <td>-1.423734e+09</td>\n      <td>NaN</td>\n      <td>NaN</td>\n      <td>NaN</td>\n      <td>NaN</td>\n      <td>NaN</td>\n      <td>...</td>\n      <td>NaN</td>\n      <td>NaN</td>\n      <td>NaN</td>\n      <td>NaN</td>\n      <td>NaN</td>\n      <td>NaN</td>\n      <td>NaN</td>\n      <td>NaN</td>\n      <td>NaN</td>\n      <td>0</td>\n    </tr>\n    <tr>\n      <th>2016-01-07</th>\n      <td>NaN</td>\n      <td>NaN</td>\n      <td>NaN</td>\n      <td>NaN</td>\n      <td>-4.405738e+09</td>\n      <td>NaN</td>\n      <td>NaN</td>\n      <td>NaN</td>\n      <td>NaN</td>\n      <td>NaN</td>\n      <td>...</td>\n      <td>NaN</td>\n      <td>NaN</td>\n      <td>NaN</td>\n      <td>NaN</td>\n      <td>NaN</td>\n      <td>NaN</td>\n      <td>NaN</td>\n      <td>NaN</td>\n      <td>NaN</td>\n      <td>1</td>\n    </tr>\n    <tr>\n      <th>2016-01-08</th>\n      <td>NaN</td>\n      <td>NaN</td>\n      <td>NaN</td>\n      <td>NaN</td>\n      <td>-2.327604e+09</td>\n      <td>NaN</td>\n      <td>NaN</td>\n      <td>NaN</td>\n      <td>NaN</td>\n      <td>NaN</td>\n      <td>...</td>\n      <td>NaN</td>\n      <td>NaN</td>\n      <td>NaN</td>\n      <td>NaN</td>\n      <td>NaN</td>\n      <td>NaN</td>\n      <td>NaN</td>\n      <td>NaN</td>\n      <td>NaN</td>\n      <td>0</td>\n    </tr>\n    <tr>\n      <th>...</th>\n      <td>...</td>\n      <td>...</td>\n      <td>...</td>\n      <td>...</td>\n      <td>...</td>\n      <td>...</td>\n      <td>...</td>\n      <td>...</td>\n      <td>...</td>\n      <td>...</td>\n      <td>...</td>\n      <td>...</td>\n      <td>...</td>\n      <td>...</td>\n      <td>...</td>\n      <td>...</td>\n      <td>...</td>\n      <td>...</td>\n      <td>...</td>\n      <td>...</td>\n      <td>...</td>\n    </tr>\n    <tr>\n      <th>2021-11-16</th>\n      <td>25432.030957</td>\n      <td>25215.306484</td>\n      <td>27506.617119</td>\n      <td>25277.409626</td>\n      <td>1.907508e+11</td>\n      <td>58.646649</td>\n      <td>12.476613</td>\n      <td>14.799833</td>\n      <td>71.428571</td>\n      <td>0.000000</td>\n      <td>...</td>\n      <td>1.024467</td>\n      <td>102.446683</td>\n      <td>88.443502</td>\n      <td>84.828571</td>\n      <td>97.397636</td>\n      <td>88.443502</td>\n      <td>-0.073960</td>\n      <td>65.696857</td>\n      <td>-2.602364</td>\n      <td>0</td>\n    </tr>\n    <tr>\n      <th>2021-11-17</th>\n      <td>25407.733984</td>\n      <td>25206.499492</td>\n      <td>27484.072471</td>\n      <td>25327.099020</td>\n      <td>1.895570e+11</td>\n      <td>57.221959</td>\n      <td>12.263880</td>\n      <td>14.301206</td>\n      <td>64.285714</td>\n      <td>92.857143</td>\n      <td>...</td>\n      <td>1.024988</td>\n      <td>102.498846</td>\n      <td>91.253358</td>\n      <td>88.659208</td>\n      <td>89.387056</td>\n      <td>91.253358</td>\n      <td>-0.070285</td>\n      <td>67.084202</td>\n      <td>-7.636080</td>\n      <td>0</td>\n    </tr>\n    <tr>\n      <th>2021-11-18</th>\n      <td>25372.843555</td>\n      <td>25194.854102</td>\n      <td>27463.714775</td>\n      <td>25326.115244</td>\n      <td>1.882141e+11</td>\n      <td>50.385653</td>\n      <td>11.571831</td>\n      <td>13.974159</td>\n      <td>57.142857</td>\n      <td>85.714286</td>\n      <td>...</td>\n      <td>1.003747</td>\n      <td>100.374749</td>\n      <td>69.048227</td>\n      <td>82.915029</td>\n      <td>20.359988</td>\n      <td>69.048227</td>\n      <td>-0.066757</td>\n      <td>62.814885</td>\n      <td>-33.742134</td>\n      <td>0</td>\n    </tr>\n    <tr>\n      <th>2021-11-19</th>\n      <td>25318.995605</td>\n      <td>25172.580898</td>\n      <td>27442.476982</td>\n      <td>25289.295972</td>\n      <td>1.865737e+11</td>\n      <td>45.595592</td>\n      <td>11.879860</td>\n      <td>13.655748</td>\n      <td>50.000000</td>\n      <td>78.571429</td>\n      <td>...</td>\n      <td>1.007216</td>\n      <td>100.721581</td>\n      <td>44.706578</td>\n      <td>68.336054</td>\n      <td>24.372689</td>\n      <td>44.706578</td>\n      <td>-0.063657</td>\n      <td>56.756723</td>\n      <td>-55.058642</td>\n      <td>0</td>\n    </tr>\n    <tr>\n      <th>2021-11-22</th>\n      <td>25259.961133</td>\n      <td>25144.535078</td>\n      <td>27424.479834</td>\n      <td>25244.235155</td>\n      <td>1.850634e+11</td>\n      <td>43.950340</td>\n      <td>12.096570</td>\n      <td>13.569889</td>\n      <td>42.857143</td>\n      <td>71.428571</td>\n      <td>...</td>\n      <td>1.007574</td>\n      <td>100.757438</td>\n      <td>19.466510</td>\n      <td>44.407105</td>\n      <td>13.666853</td>\n      <td>19.466510</td>\n      <td>-0.061031</td>\n      <td>53.201779</td>\n      <td>-62.852768</td>\n      <td>0</td>\n    </tr>\n  </tbody>\n</table>\n<p>1450 rows × 38 columns</p>\n</div>"
     },
     "metadata": {},
     "execution_count": 1517
    }
   ],
   "source": [
    "hsi_ti = pd.DataFrame()\n",
    "hsi_ti['SMA20'] = talib.SMA(close, timeperiod=20)\n",
    "hsi_ti['SMA50'] = talib.SMA(close, timeperiod=50)\n",
    "hsi_ti['SMA200'] = talib.SMA(close, timeperiod=200)\n",
    "hsi_ti['EMA'] = talib.EMA(close, timeperiod=14)\n",
    "hsi_ti['OBV'] = talib.OBV(close, volume)\n",
    "hsi_ti['RSI14'] = talib.RSI(close, timeperiod=14)\n",
    "hsi_ti['ADX'] = talib.ADX(high, low, close, timeperiod=14)\n",
    "hsi_ti['ADXR'] = talib.ADXR(high, low, close, timeperiod=14)\n",
    "hsi_ti['aroondown'], hsi_ti['aroonup'] = talib.AROON(high, low, timeperiod=14)\n",
    "hsi_ti['APO'] = talib.APO(close, fastperiod=12, slowperiod=26, matype=0)\n",
    "hsi_ti['AROONOSC'] = talib.AROONOSC(high, low, timeperiod=14)\n",
    "hsi_ti['BOP'] = talib.BOP(open, high, low, close)\n",
    "hsi_ti['CCI'] = talib.CCI(high, low, close, timeperiod=14)\n",
    "hsi_ti['CMO'] = talib.CMO(close, timeperiod=14)\n",
    "hsi_ti['DX'] = talib.DX(high, low, close, timeperiod=14)\n",
    "hsi_ti['macd'],hsi_ti['macdsignal'],hsi_ti['macdhist'] = talib.MACD(close, fastperiod = 12, slowperiod=26, signalperiod=9)\n",
    "hsi_ti['MFI'] = talib.MFI(high, low, close, volume, timeperiod=14)\n",
    "hsi_ti['MINUS_DI'] = talib.MINUS_DI(high, low, close, timeperiod=14)\n",
    "hsi_ti['MINUS_DM'] = talib.MINUS_DM(high, low, timeperiod=14)\n",
    "hsi_ti['MOM'] = talib.MOM(close, timeperiod=14)\n",
    "hsi_ti['PLUS_DI'] = talib.PLUS_DI(high, low, close, timeperiod=14)\n",
    "hsi_ti['PLUS_DM'] = talib.PLUS_DM(high, low, timeperiod=14)\n",
    "hsi_ti['PPO'] = talib.PPO(close, fastperiod=12, slowperiod=26, matype=0)\n",
    "hsi_ti['ROC'] = talib.ROC(close, timeperiod=10)\n",
    "hsi_ti['ROCP'] = talib.ROCP(close, timeperiod=10)\n",
    "hsi_ti['ROCR'] = talib.ROCR(close, timeperiod=10)\n",
    "hsi_ti['ROCR100'] = talib.ROCR100(close, timeperiod=10)\n",
    "hsi_ti['slowk'], hsi_ti['slowd'] = talib.STOCH(high, low, close, fastk_period=5, slowk_period=3, slowd_period=3, slowd_matype=0)\n",
    "hsi_ti['fastk'], hsi_ti['fastd'] = talib.STOCHF(high, low, close, fastk_period=5, fastd_period=3, fastd_matype=0)\n",
    "hsi_ti['TRIX'] = talib.TRIX(close, timeperiod=30)\n",
    "hsi_ti['ULTOSC'] = talib.ULTOSC(high, low, close, timeperiod1=7, timeperiod2=14, timeperiod3=28)\n",
    "hsi_ti['WILLR'] = talib.WILLR(high, low, close, timeperiod=14)\n",
    "hsi_ti['Target'] = hsi['Target']\n",
    "hsi_ti"
   ]
  },
  {
   "cell_type": "code",
   "execution_count": 1592,
   "metadata": {},
   "outputs": [
    {
     "output_type": "execute_result",
     "data": {
      "text/plain": [
       "['ADX',\n",
       " 'ADXR',\n",
       " 'APO',\n",
       " 'BOP',\n",
       " 'CCI',\n",
       " 'MFI',\n",
       " 'MINUS_DI',\n",
       " 'PLUS_DI',\n",
       " 'PPO',\n",
       " 'ROC',\n",
       " 'ROCR100',\n",
       " 'slowk',\n",
       " 'slowd',\n",
       " 'fastk',\n",
       " 'fastd',\n",
       " 'TRIX',\n",
       " 'ULTOSC',\n",
       " 'WILLR']"
      ]
     },
     "metadata": {},
     "execution_count": 1592
    }
   ],
   "source": [
    "hsi_features = selectFeatures(hsi_ti)\n",
    "hsi_features"
   ]
  },
  {
   "cell_type": "code",
   "execution_count": 1594,
   "metadata": {},
   "outputs": [],
   "source": [
    "X = hsi_ti.loc[:, hsi_features].values\n",
    "#X = dji_ti.loc[:, ['CCI', 'DX', 'MINUS_DI', 'PLUS_DM', 'slowd']].values\n",
    "y = hsi_ti.loc[:, ['Target']].values\n",
    "X_train, X_test, y_train, y_test = train_test_split(X, y, test_size=0.2, random_state=0)"
   ]
  },
  {
   "cell_type": "code",
   "execution_count": 1595,
   "metadata": {},
   "outputs": [],
   "source": [
    "sc = StandardScaler()\n",
    "X_train = sc.fit_transform(X_train)\n",
    "X_test = sc.transform(X_test)"
   ]
  },
  {
   "source": [
    "<h2>Decision Tree</h2>"
   ],
   "cell_type": "markdown",
   "metadata": {}
  },
  {
   "cell_type": "code",
   "execution_count": 1596,
   "metadata": {},
   "outputs": [
    {
     "output_type": "execute_result",
     "data": {
      "text/plain": [
       "DecisionTreeClassifier()"
      ]
     },
     "metadata": {},
     "execution_count": 1596
    }
   ],
   "source": [
    "dtc = DecisionTreeClassifier()\n",
    "dtc.fit(X_train, y_train)"
   ]
  },
  {
   "cell_type": "code",
   "execution_count": 1597,
   "metadata": {},
   "outputs": [
    {
     "output_type": "execute_result",
     "data": {
      "text/plain": [
       "array([1, 0, 0, 1, 0, 1, 1, 1, 0, 1, 0, 0, 0, 1, 1, 0, 0, 1, 1, 1, 1, 0,\n",
       "       1, 1, 0, 0, 0, 1, 1, 1, 1, 1, 1, 0, 1, 0, 0, 1, 1, 0, 0, 1, 1, 0,\n",
       "       1, 0, 0, 1, 0, 0, 1, 0, 0, 1, 1, 1, 1, 1, 1, 1, 1, 1, 0, 1, 1, 1,\n",
       "       0, 0, 1, 1, 1, 1, 1, 0, 1, 1, 1, 0, 1, 1, 0, 0, 0, 0, 1, 1, 1, 1,\n",
       "       1, 1, 0, 0, 1, 0, 1, 1, 0, 0, 0, 0, 1, 0, 1, 0, 0, 1, 1, 0, 1, 1,\n",
       "       1, 0, 1, 1, 1, 0, 1, 1, 1, 1, 1, 1, 1, 0, 0, 0, 1, 0, 0, 1, 1, 0,\n",
       "       0, 1, 1, 0, 1, 0, 1, 0, 1, 0, 1, 0, 1, 0, 1, 1, 0, 1, 1, 0, 1, 1,\n",
       "       1, 1, 0, 1, 0, 1, 0, 1, 0, 1, 1, 1, 0, 1, 1, 1, 1, 1, 0, 1, 0, 0,\n",
       "       1, 1, 1, 1, 0, 0, 1, 0, 1, 0, 1, 1, 0, 1, 1, 1, 1, 1, 1, 0, 1, 0,\n",
       "       0, 0, 1, 1, 0, 0, 1, 0, 1, 1, 1, 1, 0, 0, 1, 0, 0, 1, 0, 1, 1, 1,\n",
       "       0, 0, 0, 1, 1, 0, 0, 1, 0, 1, 1, 0, 0, 0, 1, 0, 1, 0, 0, 0, 0, 0,\n",
       "       1, 1, 0, 0, 1, 0, 1, 0, 0])"
      ]
     },
     "metadata": {},
     "execution_count": 1597
    }
   ],
   "source": [
    "# Prediction\n",
    "#\n",
    "y_pred = dtc.predict(X_test)  #Accuracy\n",
    "y_pred"
   ]
  },
  {
   "cell_type": "code",
   "execution_count": 1598,
   "metadata": {},
   "outputs": [
    {
     "output_type": "execute_result",
     "data": {
      "text/plain": [
       "array([[0],\n",
       "       [1],\n",
       "       [1],\n",
       "       [0],\n",
       "       [1],\n",
       "       [0],\n",
       "       [1],\n",
       "       [1],\n",
       "       [0],\n",
       "       [1],\n",
       "       [0],\n",
       "       [0],\n",
       "       [1],\n",
       "       [0],\n",
       "       [1],\n",
       "       [1],\n",
       "       [0],\n",
       "       [1],\n",
       "       [0],\n",
       "       [1],\n",
       "       [1],\n",
       "       [0],\n",
       "       [1],\n",
       "       [1],\n",
       "       [0],\n",
       "       [1],\n",
       "       [0],\n",
       "       [0],\n",
       "       [0],\n",
       "       [1],\n",
       "       [1],\n",
       "       [0],\n",
       "       [0],\n",
       "       [1],\n",
       "       [1],\n",
       "       [0],\n",
       "       [0],\n",
       "       [0],\n",
       "       [1],\n",
       "       [0],\n",
       "       [0],\n",
       "       [0],\n",
       "       [1],\n",
       "       [0],\n",
       "       [0],\n",
       "       [1],\n",
       "       [0],\n",
       "       [1],\n",
       "       [0],\n",
       "       [1],\n",
       "       [0],\n",
       "       [0],\n",
       "       [0],\n",
       "       [0],\n",
       "       [0],\n",
       "       [1],\n",
       "       [1],\n",
       "       [0],\n",
       "       [0],\n",
       "       [0],\n",
       "       [1],\n",
       "       [0],\n",
       "       [0],\n",
       "       [1],\n",
       "       [1],\n",
       "       [0],\n",
       "       [1],\n",
       "       [1],\n",
       "       [1],\n",
       "       [0],\n",
       "       [1],\n",
       "       [0],\n",
       "       [1],\n",
       "       [0],\n",
       "       [0],\n",
       "       [1],\n",
       "       [0],\n",
       "       [0],\n",
       "       [1],\n",
       "       [1],\n",
       "       [0],\n",
       "       [0],\n",
       "       [0],\n",
       "       [0],\n",
       "       [1],\n",
       "       [0],\n",
       "       [0],\n",
       "       [1],\n",
       "       [0],\n",
       "       [1],\n",
       "       [0],\n",
       "       [1],\n",
       "       [0],\n",
       "       [1],\n",
       "       [1],\n",
       "       [0],\n",
       "       [0],\n",
       "       [1],\n",
       "       [0],\n",
       "       [0],\n",
       "       [0],\n",
       "       [0],\n",
       "       [1],\n",
       "       [1],\n",
       "       [1],\n",
       "       [1],\n",
       "       [0],\n",
       "       [1],\n",
       "       [0],\n",
       "       [1],\n",
       "       [1],\n",
       "       [1],\n",
       "       [1],\n",
       "       [1],\n",
       "       [0],\n",
       "       [0],\n",
       "       [1],\n",
       "       [0],\n",
       "       [1],\n",
       "       [0],\n",
       "       [0],\n",
       "       [1],\n",
       "       [0],\n",
       "       [0],\n",
       "       [1],\n",
       "       [0],\n",
       "       [1],\n",
       "       [1],\n",
       "       [0],\n",
       "       [1],\n",
       "       [0],\n",
       "       [1],\n",
       "       [0],\n",
       "       [1],\n",
       "       [1],\n",
       "       [1],\n",
       "       [0],\n",
       "       [1],\n",
       "       [1],\n",
       "       [1],\n",
       "       [0],\n",
       "       [1],\n",
       "       [1],\n",
       "       [1],\n",
       "       [0],\n",
       "       [0],\n",
       "       [1],\n",
       "       [1],\n",
       "       [0],\n",
       "       [1],\n",
       "       [0],\n",
       "       [0],\n",
       "       [0],\n",
       "       [1],\n",
       "       [1],\n",
       "       [1],\n",
       "       [1],\n",
       "       [0],\n",
       "       [1],\n",
       "       [1],\n",
       "       [0],\n",
       "       [0],\n",
       "       [0],\n",
       "       [1],\n",
       "       [0],\n",
       "       [0],\n",
       "       [1],\n",
       "       [0],\n",
       "       [1],\n",
       "       [0],\n",
       "       [0],\n",
       "       [1],\n",
       "       [0],\n",
       "       [1],\n",
       "       [0],\n",
       "       [0],\n",
       "       [0],\n",
       "       [0],\n",
       "       [0],\n",
       "       [1],\n",
       "       [0],\n",
       "       [1],\n",
       "       [0],\n",
       "       [0],\n",
       "       [1],\n",
       "       [0],\n",
       "       [0],\n",
       "       [1],\n",
       "       [1],\n",
       "       [1],\n",
       "       [0],\n",
       "       [0],\n",
       "       [0],\n",
       "       [1],\n",
       "       [0],\n",
       "       [1],\n",
       "       [1],\n",
       "       [0],\n",
       "       [1],\n",
       "       [1],\n",
       "       [0],\n",
       "       [0],\n",
       "       [0],\n",
       "       [1],\n",
       "       [0],\n",
       "       [1],\n",
       "       [1],\n",
       "       [0],\n",
       "       [1],\n",
       "       [0],\n",
       "       [0],\n",
       "       [1],\n",
       "       [0],\n",
       "       [1],\n",
       "       [0],\n",
       "       [1],\n",
       "       [1],\n",
       "       [0],\n",
       "       [1],\n",
       "       [0],\n",
       "       [0],\n",
       "       [1],\n",
       "       [1],\n",
       "       [0],\n",
       "       [1],\n",
       "       [1],\n",
       "       [1],\n",
       "       [1],\n",
       "       [1],\n",
       "       [0],\n",
       "       [1],\n",
       "       [1],\n",
       "       [1],\n",
       "       [1],\n",
       "       [1],\n",
       "       [1],\n",
       "       [0],\n",
       "       [0],\n",
       "       [1],\n",
       "       [1],\n",
       "       [1],\n",
       "       [1],\n",
       "       [0],\n",
       "       [1],\n",
       "       [0],\n",
       "       [0],\n",
       "       [0],\n",
       "       [0],\n",
       "       [1],\n",
       "       [0],\n",
       "       [1]])"
      ]
     },
     "metadata": {},
     "execution_count": 1598
    }
   ],
   "source": [
    "# Look at the actual y_test\n",
    "#\n",
    "y_test"
   ]
  },
  {
   "cell_type": "code",
   "execution_count": 1599,
   "metadata": {},
   "outputs": [
    {
     "output_type": "stream",
     "name": "stdout",
     "text": [
      "Accuracy Score: 0.50199203187251\n"
     ]
    }
   ],
   "source": [
    "# See the accuracy\n",
    "#\n",
    "from sklearn import metrics\n",
    "print('Accuracy Score:', metrics.accuracy_score(y_test, y_pred))"
   ]
  },
  {
   "cell_type": "code",
   "execution_count": 1600,
   "metadata": {},
   "outputs": [
    {
     "output_type": "execute_result",
     "data": {
      "text/plain": [
       "array([[54, 72],\n",
       "       [53, 72]])"
      ]
     },
     "metadata": {},
     "execution_count": 1600
    }
   ],
   "source": [
    "# See the confusion matrix\n",
    "#\n",
    "from sklearn.metrics import confusion_matrix\n",
    "cm = confusion_matrix(y_test, y_pred)\n",
    "cm"
   ]
  },
  {
   "source": [
    "<h2>Random Forest</h2>"
   ],
   "cell_type": "markdown",
   "metadata": {}
  },
  {
   "cell_type": "code",
   "execution_count": null,
   "metadata": {},
   "outputs": [],
   "source": []
  },
  {
   "source": [
    "<h2>Logistic Regression</h2>"
   ],
   "cell_type": "markdown",
   "metadata": {}
  },
  {
   "cell_type": "code",
   "execution_count": null,
   "metadata": {},
   "outputs": [],
   "source": []
  },
  {
   "source": [
    "<h2>XGBoost</h2>"
   ],
   "cell_type": "markdown",
   "metadata": {}
  },
  {
   "cell_type": "code",
   "execution_count": null,
   "metadata": {},
   "outputs": [],
   "source": []
  },
  {
   "source": [
    "<h2>Linear Regression</h2>"
   ],
   "cell_type": "markdown",
   "metadata": {}
  },
  {
   "cell_type": "code",
   "execution_count": null,
   "metadata": {},
   "outputs": [],
   "source": []
  },
  {
   "source": [
    "<h2>Gauccian Process Regression</h2>"
   ],
   "cell_type": "markdown",
   "metadata": {}
  },
  {
   "cell_type": "code",
   "execution_count": null,
   "metadata": {},
   "outputs": [],
   "source": []
  },
  {
   "source": [
    "<h1>SSE Composite Index</h1>"
   ],
   "cell_type": "markdown",
   "metadata": {}
  },
  {
   "source": [
    "<h2>Feature Selection</h2>"
   ],
   "cell_type": "markdown",
   "metadata": {}
  },
  {
   "cell_type": "code",
   "execution_count": 1529,
   "metadata": {},
   "outputs": [
    {
     "output_type": "execute_result",
     "data": {
      "text/plain": [
       "                   High          Low         Open        Close      Volume  \\\n",
       "Date                                                                         \n",
       "2016-01-04  3538.688965  3295.740967  3536.589111  3296.258057      184400   \n",
       "2016-01-05  3328.138916  3189.604980  3196.650879  3287.710938      266900   \n",
       "2016-01-06  3362.974121  3288.933105  3291.195068  3361.840088      238900   \n",
       "2016-01-07  3309.656982  3115.885010  3309.656982  3125.001953       70600   \n",
       "2016-01-08  3235.450928  3056.877930  3194.625000  3186.412109      286400   \n",
       "...                 ...          ...          ...          ...         ...   \n",
       "2021-11-17  3537.510010  3513.520020  3518.560059  3537.370117      276700   \n",
       "2021-11-18  3537.979980  3513.110107  3531.489990  3520.709961      312400   \n",
       "2021-11-19  3561.909912  3517.649902  3519.280029  3560.370117      318000   \n",
       "2021-11-22  3585.187988  3562.750977  3562.762939  3582.080078      330000   \n",
       "2021-11-23  3598.375000  3577.360840  3580.505859  3589.089355  1641420932   \n",
       "\n",
       "              Adj Close  Future Close  \n",
       "Date                                   \n",
       "2016-01-04  3296.258057   3287.710938  \n",
       "2016-01-05  3287.710938   3361.840088  \n",
       "2016-01-06  3361.840088   3125.001953  \n",
       "2016-01-07  3125.001953   3186.412109  \n",
       "2016-01-08  3186.412109   3016.704102  \n",
       "...                 ...           ...  \n",
       "2021-11-17  3537.370117   3520.709961  \n",
       "2021-11-18  3520.709961   3560.370117  \n",
       "2021-11-19  3560.370117   3582.080078  \n",
       "2021-11-22  3582.080078   3589.089355  \n",
       "2021-11-23  3589.089355           NaN  \n",
       "\n",
       "[1431 rows x 7 columns]"
      ],
      "text/html": "<div>\n<style scoped>\n    .dataframe tbody tr th:only-of-type {\n        vertical-align: middle;\n    }\n\n    .dataframe tbody tr th {\n        vertical-align: top;\n    }\n\n    .dataframe thead th {\n        text-align: right;\n    }\n</style>\n<table border=\"1\" class=\"dataframe\">\n  <thead>\n    <tr style=\"text-align: right;\">\n      <th></th>\n      <th>High</th>\n      <th>Low</th>\n      <th>Open</th>\n      <th>Close</th>\n      <th>Volume</th>\n      <th>Adj Close</th>\n      <th>Future Close</th>\n    </tr>\n    <tr>\n      <th>Date</th>\n      <th></th>\n      <th></th>\n      <th></th>\n      <th></th>\n      <th></th>\n      <th></th>\n      <th></th>\n    </tr>\n  </thead>\n  <tbody>\n    <tr>\n      <th>2016-01-04</th>\n      <td>3538.688965</td>\n      <td>3295.740967</td>\n      <td>3536.589111</td>\n      <td>3296.258057</td>\n      <td>184400</td>\n      <td>3296.258057</td>\n      <td>3287.710938</td>\n    </tr>\n    <tr>\n      <th>2016-01-05</th>\n      <td>3328.138916</td>\n      <td>3189.604980</td>\n      <td>3196.650879</td>\n      <td>3287.710938</td>\n      <td>266900</td>\n      <td>3287.710938</td>\n      <td>3361.840088</td>\n    </tr>\n    <tr>\n      <th>2016-01-06</th>\n      <td>3362.974121</td>\n      <td>3288.933105</td>\n      <td>3291.195068</td>\n      <td>3361.840088</td>\n      <td>238900</td>\n      <td>3361.840088</td>\n      <td>3125.001953</td>\n    </tr>\n    <tr>\n      <th>2016-01-07</th>\n      <td>3309.656982</td>\n      <td>3115.885010</td>\n      <td>3309.656982</td>\n      <td>3125.001953</td>\n      <td>70600</td>\n      <td>3125.001953</td>\n      <td>3186.412109</td>\n    </tr>\n    <tr>\n      <th>2016-01-08</th>\n      <td>3235.450928</td>\n      <td>3056.877930</td>\n      <td>3194.625000</td>\n      <td>3186.412109</td>\n      <td>286400</td>\n      <td>3186.412109</td>\n      <td>3016.704102</td>\n    </tr>\n    <tr>\n      <th>...</th>\n      <td>...</td>\n      <td>...</td>\n      <td>...</td>\n      <td>...</td>\n      <td>...</td>\n      <td>...</td>\n      <td>...</td>\n    </tr>\n    <tr>\n      <th>2021-11-17</th>\n      <td>3537.510010</td>\n      <td>3513.520020</td>\n      <td>3518.560059</td>\n      <td>3537.370117</td>\n      <td>276700</td>\n      <td>3537.370117</td>\n      <td>3520.709961</td>\n    </tr>\n    <tr>\n      <th>2021-11-18</th>\n      <td>3537.979980</td>\n      <td>3513.110107</td>\n      <td>3531.489990</td>\n      <td>3520.709961</td>\n      <td>312400</td>\n      <td>3520.709961</td>\n      <td>3560.370117</td>\n    </tr>\n    <tr>\n      <th>2021-11-19</th>\n      <td>3561.909912</td>\n      <td>3517.649902</td>\n      <td>3519.280029</td>\n      <td>3560.370117</td>\n      <td>318000</td>\n      <td>3560.370117</td>\n      <td>3582.080078</td>\n    </tr>\n    <tr>\n      <th>2021-11-22</th>\n      <td>3585.187988</td>\n      <td>3562.750977</td>\n      <td>3562.762939</td>\n      <td>3582.080078</td>\n      <td>330000</td>\n      <td>3582.080078</td>\n      <td>3589.089355</td>\n    </tr>\n    <tr>\n      <th>2021-11-23</th>\n      <td>3598.375000</td>\n      <td>3577.360840</td>\n      <td>3580.505859</td>\n      <td>3589.089355</td>\n      <td>1641420932</td>\n      <td>3589.089355</td>\n      <td>NaN</td>\n    </tr>\n  </tbody>\n</table>\n<p>1431 rows × 7 columns</p>\n</div>"
     },
     "metadata": {},
     "execution_count": 1529
    }
   ],
   "source": [
    "sse['Future Close'] = sse['Close'].shift(-1)\n",
    "sse"
   ]
  },
  {
   "cell_type": "code",
   "execution_count": 1530,
   "metadata": {},
   "outputs": [],
   "source": [
    "target = computeTarget(sse['Close'], sse['Future Close'])\n",
    "\n",
    "sse['Target'] = target\n",
    "sse_target = sse.loc[hsi.index[-1]]\n",
    "sse = sse.dropna()"
   ]
  },
  {
   "cell_type": "code",
   "execution_count": 1531,
   "metadata": {},
   "outputs": [],
   "source": [
    "close = sse['Close']\n",
    "high = sse['High']\n",
    "low = sse['Low']\n",
    "open = sse['Open']\n",
    "volume  = sse['Volume']"
   ]
  },
  {
   "cell_type": "code",
   "execution_count": 1532,
   "metadata": {},
   "outputs": [
    {
     "output_type": "execute_result",
     "data": {
      "text/plain": [
       "                  SMA20        SMA50       SMA200          EMA         OBV  \\\n",
       "Date                                                                         \n",
       "2016-01-04          NaN          NaN          NaN          NaN    184400.0   \n",
       "2016-01-05          NaN          NaN          NaN          NaN    -82500.0   \n",
       "2016-01-06          NaN          NaN          NaN          NaN    156400.0   \n",
       "2016-01-07          NaN          NaN          NaN          NaN     85800.0   \n",
       "2016-01-08          NaN          NaN          NaN          NaN    372200.0   \n",
       "...                 ...          ...          ...          ...         ...   \n",
       "2021-11-16  3539.605518  3579.860229  3527.289161  3528.458933  24156100.0   \n",
       "2021-11-17  3537.124023  3580.044614  3526.994912  3529.647091  24432800.0   \n",
       "2021-11-18  3533.420520  3579.580015  3526.766562  3528.455474  24120400.0   \n",
       "2021-11-19  3532.309021  3579.445415  3526.652953  3532.710760  24438400.0   \n",
       "2021-11-22  3530.920020  3579.146216  3526.457034  3539.293335  24768400.0   \n",
       "\n",
       "                RSI14        ADX       ADXR  aroondown     aroonup  ...  \\\n",
       "Date                                                                ...   \n",
       "2016-01-04        NaN        NaN        NaN        NaN         NaN  ...   \n",
       "2016-01-05        NaN        NaN        NaN        NaN         NaN  ...   \n",
       "2016-01-06        NaN        NaN        NaN        NaN         NaN  ...   \n",
       "2016-01-07        NaN        NaN        NaN        NaN         NaN  ...   \n",
       "2016-01-08        NaN        NaN        NaN        NaN         NaN  ...   \n",
       "...               ...        ...        ...        ...         ...  ...   \n",
       "2021-11-16  45.870457  25.622516  22.424765  71.428571    0.000000  ...   \n",
       "2021-11-17  49.067261  25.210056  22.776071  64.285714   21.428571  ...   \n",
       "2021-11-18  45.942678  24.807825  22.922670  57.142857   14.285714  ...   \n",
       "2021-11-19  53.529165  23.497480  22.955213  50.000000  100.000000  ...   \n",
       "2021-11-22  57.080036  22.141173  22.915652  42.857143  100.000000  ...   \n",
       "\n",
       "                ROCR     ROCR100      slowk      slowd      fastk      fastd  \\\n",
       "Date                                                                           \n",
       "2016-01-04       NaN         NaN        NaN        NaN        NaN        NaN   \n",
       "2016-01-05       NaN         NaN        NaN        NaN        NaN        NaN   \n",
       "2016-01-06       NaN         NaN        NaN        NaN        NaN        NaN   \n",
       "2016-01-07       NaN         NaN        NaN        NaN        NaN        NaN   \n",
       "2016-01-08       NaN         NaN        NaN        NaN        NaN        NaN   \n",
       "...              ...         ...        ...        ...        ...        ...   \n",
       "2021-11-16  1.004610  100.460977  83.443113  86.227132  71.911860  83.443113   \n",
       "2021-11-17  1.011099  101.109894  78.592268  84.764400  80.668761  78.592268   \n",
       "2021-11-18  0.998253   99.825336  57.646427  73.227269  20.358659  57.646427   \n",
       "2021-11-19  1.019705  101.970462  65.957363  67.398686  96.844670  65.957363   \n",
       "2021-11-22  1.023852  102.385225  70.963817  64.855869  95.688122  70.963817   \n",
       "\n",
       "                TRIX     ULTOSC      WILLR  Target  \n",
       "Date                                                \n",
       "2016-01-04       NaN        NaN        NaN       0  \n",
       "2016-01-05       NaN        NaN        NaN       1  \n",
       "2016-01-06       NaN        NaN        NaN       0  \n",
       "2016-01-07       NaN        NaN        NaN       1  \n",
       "2016-01-08       NaN        NaN        NaN       0  \n",
       "...              ...        ...        ...     ...  \n",
       "2021-11-16 -0.000020  61.270883 -33.685900       1  \n",
       "2021-11-17 -0.002265  65.254481 -19.600317       0  \n",
       "2021-11-18 -0.004395  61.566902 -34.662373       1  \n",
       "2021-11-19 -0.006107  64.791843  -1.357007       1  \n",
       "2021-11-22 -0.007290  63.482566  -2.272727       1  \n",
       "\n",
       "[1430 rows x 38 columns]"
      ],
      "text/html": "<div>\n<style scoped>\n    .dataframe tbody tr th:only-of-type {\n        vertical-align: middle;\n    }\n\n    .dataframe tbody tr th {\n        vertical-align: top;\n    }\n\n    .dataframe thead th {\n        text-align: right;\n    }\n</style>\n<table border=\"1\" class=\"dataframe\">\n  <thead>\n    <tr style=\"text-align: right;\">\n      <th></th>\n      <th>SMA20</th>\n      <th>SMA50</th>\n      <th>SMA200</th>\n      <th>EMA</th>\n      <th>OBV</th>\n      <th>RSI14</th>\n      <th>ADX</th>\n      <th>ADXR</th>\n      <th>aroondown</th>\n      <th>aroonup</th>\n      <th>...</th>\n      <th>ROCR</th>\n      <th>ROCR100</th>\n      <th>slowk</th>\n      <th>slowd</th>\n      <th>fastk</th>\n      <th>fastd</th>\n      <th>TRIX</th>\n      <th>ULTOSC</th>\n      <th>WILLR</th>\n      <th>Target</th>\n    </tr>\n    <tr>\n      <th>Date</th>\n      <th></th>\n      <th></th>\n      <th></th>\n      <th></th>\n      <th></th>\n      <th></th>\n      <th></th>\n      <th></th>\n      <th></th>\n      <th></th>\n      <th></th>\n      <th></th>\n      <th></th>\n      <th></th>\n      <th></th>\n      <th></th>\n      <th></th>\n      <th></th>\n      <th></th>\n      <th></th>\n      <th></th>\n    </tr>\n  </thead>\n  <tbody>\n    <tr>\n      <th>2016-01-04</th>\n      <td>NaN</td>\n      <td>NaN</td>\n      <td>NaN</td>\n      <td>NaN</td>\n      <td>184400.0</td>\n      <td>NaN</td>\n      <td>NaN</td>\n      <td>NaN</td>\n      <td>NaN</td>\n      <td>NaN</td>\n      <td>...</td>\n      <td>NaN</td>\n      <td>NaN</td>\n      <td>NaN</td>\n      <td>NaN</td>\n      <td>NaN</td>\n      <td>NaN</td>\n      <td>NaN</td>\n      <td>NaN</td>\n      <td>NaN</td>\n      <td>0</td>\n    </tr>\n    <tr>\n      <th>2016-01-05</th>\n      <td>NaN</td>\n      <td>NaN</td>\n      <td>NaN</td>\n      <td>NaN</td>\n      <td>-82500.0</td>\n      <td>NaN</td>\n      <td>NaN</td>\n      <td>NaN</td>\n      <td>NaN</td>\n      <td>NaN</td>\n      <td>...</td>\n      <td>NaN</td>\n      <td>NaN</td>\n      <td>NaN</td>\n      <td>NaN</td>\n      <td>NaN</td>\n      <td>NaN</td>\n      <td>NaN</td>\n      <td>NaN</td>\n      <td>NaN</td>\n      <td>1</td>\n    </tr>\n    <tr>\n      <th>2016-01-06</th>\n      <td>NaN</td>\n      <td>NaN</td>\n      <td>NaN</td>\n      <td>NaN</td>\n      <td>156400.0</td>\n      <td>NaN</td>\n      <td>NaN</td>\n      <td>NaN</td>\n      <td>NaN</td>\n      <td>NaN</td>\n      <td>...</td>\n      <td>NaN</td>\n      <td>NaN</td>\n      <td>NaN</td>\n      <td>NaN</td>\n      <td>NaN</td>\n      <td>NaN</td>\n      <td>NaN</td>\n      <td>NaN</td>\n      <td>NaN</td>\n      <td>0</td>\n    </tr>\n    <tr>\n      <th>2016-01-07</th>\n      <td>NaN</td>\n      <td>NaN</td>\n      <td>NaN</td>\n      <td>NaN</td>\n      <td>85800.0</td>\n      <td>NaN</td>\n      <td>NaN</td>\n      <td>NaN</td>\n      <td>NaN</td>\n      <td>NaN</td>\n      <td>...</td>\n      <td>NaN</td>\n      <td>NaN</td>\n      <td>NaN</td>\n      <td>NaN</td>\n      <td>NaN</td>\n      <td>NaN</td>\n      <td>NaN</td>\n      <td>NaN</td>\n      <td>NaN</td>\n      <td>1</td>\n    </tr>\n    <tr>\n      <th>2016-01-08</th>\n      <td>NaN</td>\n      <td>NaN</td>\n      <td>NaN</td>\n      <td>NaN</td>\n      <td>372200.0</td>\n      <td>NaN</td>\n      <td>NaN</td>\n      <td>NaN</td>\n      <td>NaN</td>\n      <td>NaN</td>\n      <td>...</td>\n      <td>NaN</td>\n      <td>NaN</td>\n      <td>NaN</td>\n      <td>NaN</td>\n      <td>NaN</td>\n      <td>NaN</td>\n      <td>NaN</td>\n      <td>NaN</td>\n      <td>NaN</td>\n      <td>0</td>\n    </tr>\n    <tr>\n      <th>...</th>\n      <td>...</td>\n      <td>...</td>\n      <td>...</td>\n      <td>...</td>\n      <td>...</td>\n      <td>...</td>\n      <td>...</td>\n      <td>...</td>\n      <td>...</td>\n      <td>...</td>\n      <td>...</td>\n      <td>...</td>\n      <td>...</td>\n      <td>...</td>\n      <td>...</td>\n      <td>...</td>\n      <td>...</td>\n      <td>...</td>\n      <td>...</td>\n      <td>...</td>\n      <td>...</td>\n    </tr>\n    <tr>\n      <th>2021-11-16</th>\n      <td>3539.605518</td>\n      <td>3579.860229</td>\n      <td>3527.289161</td>\n      <td>3528.458933</td>\n      <td>24156100.0</td>\n      <td>45.870457</td>\n      <td>25.622516</td>\n      <td>22.424765</td>\n      <td>71.428571</td>\n      <td>0.000000</td>\n      <td>...</td>\n      <td>1.004610</td>\n      <td>100.460977</td>\n      <td>83.443113</td>\n      <td>86.227132</td>\n      <td>71.911860</td>\n      <td>83.443113</td>\n      <td>-0.000020</td>\n      <td>61.270883</td>\n      <td>-33.685900</td>\n      <td>1</td>\n    </tr>\n    <tr>\n      <th>2021-11-17</th>\n      <td>3537.124023</td>\n      <td>3580.044614</td>\n      <td>3526.994912</td>\n      <td>3529.647091</td>\n      <td>24432800.0</td>\n      <td>49.067261</td>\n      <td>25.210056</td>\n      <td>22.776071</td>\n      <td>64.285714</td>\n      <td>21.428571</td>\n      <td>...</td>\n      <td>1.011099</td>\n      <td>101.109894</td>\n      <td>78.592268</td>\n      <td>84.764400</td>\n      <td>80.668761</td>\n      <td>78.592268</td>\n      <td>-0.002265</td>\n      <td>65.254481</td>\n      <td>-19.600317</td>\n      <td>0</td>\n    </tr>\n    <tr>\n      <th>2021-11-18</th>\n      <td>3533.420520</td>\n      <td>3579.580015</td>\n      <td>3526.766562</td>\n      <td>3528.455474</td>\n      <td>24120400.0</td>\n      <td>45.942678</td>\n      <td>24.807825</td>\n      <td>22.922670</td>\n      <td>57.142857</td>\n      <td>14.285714</td>\n      <td>...</td>\n      <td>0.998253</td>\n      <td>99.825336</td>\n      <td>57.646427</td>\n      <td>73.227269</td>\n      <td>20.358659</td>\n      <td>57.646427</td>\n      <td>-0.004395</td>\n      <td>61.566902</td>\n      <td>-34.662373</td>\n      <td>1</td>\n    </tr>\n    <tr>\n      <th>2021-11-19</th>\n      <td>3532.309021</td>\n      <td>3579.445415</td>\n      <td>3526.652953</td>\n      <td>3532.710760</td>\n      <td>24438400.0</td>\n      <td>53.529165</td>\n      <td>23.497480</td>\n      <td>22.955213</td>\n      <td>50.000000</td>\n      <td>100.000000</td>\n      <td>...</td>\n      <td>1.019705</td>\n      <td>101.970462</td>\n      <td>65.957363</td>\n      <td>67.398686</td>\n      <td>96.844670</td>\n      <td>65.957363</td>\n      <td>-0.006107</td>\n      <td>64.791843</td>\n      <td>-1.357007</td>\n      <td>1</td>\n    </tr>\n    <tr>\n      <th>2021-11-22</th>\n      <td>3530.920020</td>\n      <td>3579.146216</td>\n      <td>3526.457034</td>\n      <td>3539.293335</td>\n      <td>24768400.0</td>\n      <td>57.080036</td>\n      <td>22.141173</td>\n      <td>22.915652</td>\n      <td>42.857143</td>\n      <td>100.000000</td>\n      <td>...</td>\n      <td>1.023852</td>\n      <td>102.385225</td>\n      <td>70.963817</td>\n      <td>64.855869</td>\n      <td>95.688122</td>\n      <td>70.963817</td>\n      <td>-0.007290</td>\n      <td>63.482566</td>\n      <td>-2.272727</td>\n      <td>1</td>\n    </tr>\n  </tbody>\n</table>\n<p>1430 rows × 38 columns</p>\n</div>"
     },
     "metadata": {},
     "execution_count": 1532
    }
   ],
   "source": [
    "sse_ti = pd.DataFrame()\n",
    "sse_ti['SMA20'] = talib.SMA(close, timeperiod=20)\n",
    "sse_ti['SMA50'] = talib.SMA(close, timeperiod=50)\n",
    "sse_ti['SMA200'] = talib.SMA(close, timeperiod=200)\n",
    "sse_ti['EMA'] = talib.EMA(close, timeperiod=14)\n",
    "sse_ti['OBV'] = talib.OBV(close, volume)\n",
    "sse_ti['RSI14'] = talib.RSI(close, timeperiod=14)\n",
    "sse_ti['ADX'] = talib.ADX(high, low, close, timeperiod=14)\n",
    "sse_ti['ADXR'] = talib.ADXR(high, low, close, timeperiod=14)\n",
    "sse_ti['aroondown'], sse_ti['aroonup'] = talib.AROON(high, low, timeperiod=14)\n",
    "sse_ti['APO'] = talib.APO(close, fastperiod=12, slowperiod=26, matype=0)\n",
    "sse_ti['AROONOSC'] = talib.AROONOSC(high, low, timeperiod=14)\n",
    "sse_ti['BOP'] = talib.BOP(open, high, low, close)\n",
    "sse_ti['CCI'] = talib.CCI(high, low, close, timeperiod=14)\n",
    "sse_ti['CMO'] = talib.CMO(close, timeperiod=14)\n",
    "sse_ti['DX'] = talib.DX(high, low, close, timeperiod=14)\n",
    "sse_ti['macd'],sse_ti['macdsignal'],sse_ti['macdhist'] = talib.MACD(close, fastperiod = 12, slowperiod=26, signalperiod=9)\n",
    "sse_ti['MFI'] = talib.MFI(high, low, close, volume, timeperiod=14)\n",
    "sse_ti['MINUS_DI'] = talib.MINUS_DI(high, low, close, timeperiod=14)\n",
    "sse_ti['MINUS_DM'] = talib.MINUS_DM(high, low, timeperiod=14)\n",
    "sse_ti['MOM'] = talib.MOM(close, timeperiod=14)\n",
    "sse_ti['PLUS_DI'] = talib.PLUS_DI(high, low, close, timeperiod=14)\n",
    "sse_ti['PLUS_DM'] = talib.PLUS_DM(high, low, timeperiod=14)\n",
    "sse_ti['PPO'] = talib.PPO(close, fastperiod=12, slowperiod=26, matype=0)\n",
    "sse_ti['ROC'] = talib.ROC(close, timeperiod=10)\n",
    "sse_ti['ROCP'] = talib.ROCP(close, timeperiod=10)\n",
    "sse_ti['ROCR'] = talib.ROCR(close, timeperiod=10)\n",
    "sse_ti['ROCR100'] = talib.ROCR100(close, timeperiod=10)\n",
    "sse_ti['slowk'], sse_ti['slowd'] = talib.STOCH(high, low, close, fastk_period=5, slowk_period=3, slowd_period=3, slowd_matype=0)\n",
    "sse_ti['fastk'], sse_ti['fastd'] = talib.STOCHF(high, low, close, fastk_period=5, fastd_period=3, fastd_matype=0)\n",
    "sse_ti['TRIX'] = talib.TRIX(close, timeperiod=30)\n",
    "sse_ti['ULTOSC'] = talib.ULTOSC(high, low, close, timeperiod1=7, timeperiod2=14, timeperiod3=28)\n",
    "sse_ti['WILLR'] = talib.WILLR(high, low, close, timeperiod=14)\n",
    "sse_ti['Target'] = sse['Target']\n",
    "sse_ti"
   ]
  },
  {
   "source": [
    "sse_features = selectFeatures(sse_ti)\n",
    "sse_features"
   ],
   "cell_type": "code",
   "metadata": {},
   "execution_count": 1601,
   "outputs": [
    {
     "output_type": "execute_result",
     "data": {
      "text/plain": [
       "['SMA20',\n",
       " 'EMA',\n",
       " 'APO',\n",
       " 'BOP',\n",
       " 'CCI',\n",
       " 'CMO',\n",
       " 'DX',\n",
       " 'macd',\n",
       " 'macdhist',\n",
       " 'MFI',\n",
       " 'PPO',\n",
       " 'ROC',\n",
       " 'ROCR100',\n",
       " 'slowk',\n",
       " 'slowd',\n",
       " 'fastd',\n",
       " 'TRIX',\n",
       " 'ULTOSC']"
      ]
     },
     "metadata": {},
     "execution_count": 1601
    }
   ]
  },
  {
   "cell_type": "code",
   "execution_count": 1603,
   "metadata": {},
   "outputs": [],
   "source": [
    "X = sse_ti.loc[:, sse_features].values\n",
    "#X = dji_ti.loc[:, ['CCI', 'DX', 'MINUS_DI', 'PLUS_DM', 'slowd']].values\n",
    "y = sse_ti.loc[:, ['Target']].values\n",
    "X_train, X_test, y_train, y_test = train_test_split(X, y, test_size=0.2, random_state=0)"
   ]
  },
  {
   "cell_type": "code",
   "execution_count": 1604,
   "metadata": {},
   "outputs": [],
   "source": [
    "sc = StandardScaler()\n",
    "X_train = sc.fit_transform(X_train)\n",
    "X_test = sc.transform(X_test)"
   ]
  },
  {
   "source": [
    "<h2>Decision Tree</h2>"
   ],
   "cell_type": "markdown",
   "metadata": {}
  },
  {
   "cell_type": "code",
   "execution_count": 1605,
   "metadata": {},
   "outputs": [
    {
     "output_type": "execute_result",
     "data": {
      "text/plain": [
       "DecisionTreeClassifier()"
      ]
     },
     "metadata": {},
     "execution_count": 1605
    }
   ],
   "source": [
    "dtc = DecisionTreeClassifier()\n",
    "dtc.fit(X_train, y_train)"
   ]
  },
  {
   "cell_type": "code",
   "execution_count": 1606,
   "metadata": {},
   "outputs": [
    {
     "output_type": "execute_result",
     "data": {
      "text/plain": [
       "array([0, 0, 1, 1, 0, 0, 0, 1, 0, 1, 1, 1, 1, 0, 0, 0, 1, 0, 0, 1, 1, 1,\n",
       "       1, 0, 0, 1, 0, 1, 0, 0, 1, 0, 0, 1, 0, 0, 0, 0, 0, 0, 0, 1, 1, 1,\n",
       "       0, 1, 1, 0, 0, 1, 0, 1, 1, 0, 1, 1, 0, 1, 1, 0, 1, 0, 1, 1, 1, 0,\n",
       "       0, 1, 0, 0, 1, 0, 0, 1, 0, 0, 0, 0, 0, 1, 1, 0, 1, 0, 0, 1, 0, 0,\n",
       "       0, 0, 1, 0, 0, 0, 1, 1, 0, 0, 0, 0, 1, 1, 0, 0, 0, 0, 0, 1, 0, 0,\n",
       "       1, 1, 0, 0, 0, 0, 1, 1, 1, 0, 0, 0, 1, 0, 1, 1, 0, 0, 0, 1, 0, 0,\n",
       "       0, 1, 1, 0, 0, 0, 1, 0, 0, 0, 0, 0, 0, 0, 0, 1, 1, 1, 0, 1, 1, 1,\n",
       "       1, 1, 1, 1, 1, 0, 0, 0, 1, 0, 0, 0, 1, 0, 1, 0, 0, 1, 0, 1, 0, 0,\n",
       "       1, 1, 0, 0, 1, 0, 0, 0, 0, 1, 0, 0, 0, 0, 0, 1, 0, 0, 0, 0, 0, 1,\n",
       "       0, 1, 1, 1, 1, 1, 1, 0, 0, 0, 0, 0, 0, 0, 0, 0, 0, 1, 0, 0, 0, 1,\n",
       "       0, 1, 1, 1, 1, 0, 0, 1, 1, 0, 0, 0, 0, 0, 1, 1, 1, 1, 0, 1, 0, 0,\n",
       "       0, 1, 1, 1, 0])"
      ]
     },
     "metadata": {},
     "execution_count": 1606
    }
   ],
   "source": [
    "# Prediction\n",
    "#\n",
    "y_pred = dtc.predict(X_test)  #Accuracy\n",
    "y_pred"
   ]
  },
  {
   "cell_type": "code",
   "execution_count": 1607,
   "metadata": {},
   "outputs": [
    {
     "output_type": "execute_result",
     "data": {
      "text/plain": [
       "array([[1],\n",
       "       [0],\n",
       "       [0],\n",
       "       [1],\n",
       "       [0],\n",
       "       [1],\n",
       "       [0],\n",
       "       [0],\n",
       "       [0],\n",
       "       [0],\n",
       "       [1],\n",
       "       [1],\n",
       "       [1],\n",
       "       [0],\n",
       "       [1],\n",
       "       [1],\n",
       "       [1],\n",
       "       [0],\n",
       "       [0],\n",
       "       [1],\n",
       "       [1],\n",
       "       [0],\n",
       "       [0],\n",
       "       [0],\n",
       "       [0],\n",
       "       [1],\n",
       "       [0],\n",
       "       [0],\n",
       "       [1],\n",
       "       [1],\n",
       "       [0],\n",
       "       [1],\n",
       "       [0],\n",
       "       [1],\n",
       "       [1],\n",
       "       [1],\n",
       "       [0],\n",
       "       [1],\n",
       "       [0],\n",
       "       [0],\n",
       "       [1],\n",
       "       [1],\n",
       "       [1],\n",
       "       [1],\n",
       "       [1],\n",
       "       [1],\n",
       "       [1],\n",
       "       [0],\n",
       "       [1],\n",
       "       [0],\n",
       "       [0],\n",
       "       [1],\n",
       "       [1],\n",
       "       [1],\n",
       "       [1],\n",
       "       [0],\n",
       "       [1],\n",
       "       [0],\n",
       "       [0],\n",
       "       [1],\n",
       "       [1],\n",
       "       [0],\n",
       "       [0],\n",
       "       [0],\n",
       "       [1],\n",
       "       [0],\n",
       "       [1],\n",
       "       [1],\n",
       "       [1],\n",
       "       [0],\n",
       "       [0],\n",
       "       [0],\n",
       "       [1],\n",
       "       [1],\n",
       "       [1],\n",
       "       [0],\n",
       "       [1],\n",
       "       [1],\n",
       "       [0],\n",
       "       [1],\n",
       "       [1],\n",
       "       [1],\n",
       "       [0],\n",
       "       [0],\n",
       "       [0],\n",
       "       [1],\n",
       "       [0],\n",
       "       [0],\n",
       "       [0],\n",
       "       [0],\n",
       "       [0],\n",
       "       [1],\n",
       "       [1],\n",
       "       [0],\n",
       "       [0],\n",
       "       [0],\n",
       "       [1],\n",
       "       [1],\n",
       "       [0],\n",
       "       [0],\n",
       "       [1],\n",
       "       [0],\n",
       "       [1],\n",
       "       [1],\n",
       "       [0],\n",
       "       [0],\n",
       "       [1],\n",
       "       [1],\n",
       "       [1],\n",
       "       [0],\n",
       "       [0],\n",
       "       [1],\n",
       "       [0],\n",
       "       [0],\n",
       "       [1],\n",
       "       [1],\n",
       "       [1],\n",
       "       [0],\n",
       "       [1],\n",
       "       [0],\n",
       "       [0],\n",
       "       [1],\n",
       "       [1],\n",
       "       [0],\n",
       "       [1],\n",
       "       [0],\n",
       "       [1],\n",
       "       [0],\n",
       "       [1],\n",
       "       [1],\n",
       "       [0],\n",
       "       [0],\n",
       "       [1],\n",
       "       [0],\n",
       "       [0],\n",
       "       [1],\n",
       "       [1],\n",
       "       [1],\n",
       "       [0],\n",
       "       [0],\n",
       "       [0],\n",
       "       [1],\n",
       "       [0],\n",
       "       [1],\n",
       "       [0],\n",
       "       [0],\n",
       "       [1],\n",
       "       [1],\n",
       "       [0],\n",
       "       [1],\n",
       "       [0],\n",
       "       [0],\n",
       "       [0],\n",
       "       [1],\n",
       "       [0],\n",
       "       [1],\n",
       "       [0],\n",
       "       [0],\n",
       "       [1],\n",
       "       [0],\n",
       "       [0],\n",
       "       [0],\n",
       "       [1],\n",
       "       [0],\n",
       "       [1],\n",
       "       [1],\n",
       "       [0],\n",
       "       [1],\n",
       "       [0],\n",
       "       [0],\n",
       "       [1],\n",
       "       [1],\n",
       "       [1],\n",
       "       [0],\n",
       "       [0],\n",
       "       [0],\n",
       "       [0],\n",
       "       [1],\n",
       "       [0],\n",
       "       [1],\n",
       "       [0],\n",
       "       [1],\n",
       "       [1],\n",
       "       [1],\n",
       "       [0],\n",
       "       [1],\n",
       "       [0],\n",
       "       [0],\n",
       "       [0],\n",
       "       [0],\n",
       "       [1],\n",
       "       [1],\n",
       "       [0],\n",
       "       [0],\n",
       "       [0],\n",
       "       [0],\n",
       "       [0],\n",
       "       [1],\n",
       "       [1],\n",
       "       [1],\n",
       "       [0],\n",
       "       [1],\n",
       "       [1],\n",
       "       [1],\n",
       "       [0],\n",
       "       [0],\n",
       "       [1],\n",
       "       [0],\n",
       "       [0],\n",
       "       [0],\n",
       "       [0],\n",
       "       [0],\n",
       "       [0],\n",
       "       [0],\n",
       "       [1],\n",
       "       [1],\n",
       "       [1],\n",
       "       [0],\n",
       "       [1],\n",
       "       [1],\n",
       "       [0],\n",
       "       [0],\n",
       "       [1],\n",
       "       [1],\n",
       "       [1],\n",
       "       [1],\n",
       "       [1],\n",
       "       [1],\n",
       "       [0],\n",
       "       [0],\n",
       "       [0],\n",
       "       [1],\n",
       "       [0],\n",
       "       [1],\n",
       "       [1],\n",
       "       [0],\n",
       "       [0],\n",
       "       [0],\n",
       "       [0],\n",
       "       [1],\n",
       "       [1],\n",
       "       [0],\n",
       "       [0],\n",
       "       [0],\n",
       "       [1],\n",
       "       [1],\n",
       "       [0]])"
      ]
     },
     "metadata": {},
     "execution_count": 1607
    }
   ],
   "source": [
    "# Look at the actual y_test\n",
    "#\n",
    "y_test"
   ]
  },
  {
   "cell_type": "code",
   "execution_count": 1608,
   "metadata": {},
   "outputs": [
    {
     "output_type": "stream",
     "name": "stdout",
     "text": [
      "Accuracy Score: 0.5668016194331984\n"
     ]
    }
   ],
   "source": [
    "# See the accuracy\n",
    "#\n",
    "from sklearn import metrics\n",
    "print('Accuracy Score:', metrics.accuracy_score(y_test, y_pred))"
   ]
  },
  {
   "cell_type": "code",
   "execution_count": 1609,
   "metadata": {},
   "outputs": [
    {
     "output_type": "execute_result",
     "data": {
      "text/plain": [
       "array([[83, 44],\n",
       "       [63, 57]])"
      ]
     },
     "metadata": {},
     "execution_count": 1609
    }
   ],
   "source": [
    "# See the confusion matrix\n",
    "#\n",
    "from sklearn.metrics import confusion_matrix\n",
    "cm = confusion_matrix(y_test, y_pred)\n",
    "cm"
   ]
  },
  {
   "source": [
    "<h2>Random Forest</h2>"
   ],
   "cell_type": "markdown",
   "metadata": {}
  },
  {
   "cell_type": "code",
   "execution_count": null,
   "metadata": {},
   "outputs": [],
   "source": []
  },
  {
   "source": [
    "<h2>Logistic Regression</h2>"
   ],
   "cell_type": "markdown",
   "metadata": {}
  },
  {
   "cell_type": "code",
   "execution_count": null,
   "metadata": {},
   "outputs": [],
   "source": []
  },
  {
   "source": [
    "<h2>XGBoost</h2>"
   ],
   "cell_type": "markdown",
   "metadata": {}
  },
  {
   "cell_type": "code",
   "execution_count": null,
   "metadata": {},
   "outputs": [],
   "source": []
  },
  {
   "source": [
    "<h2>Linear Regression</h2>"
   ],
   "cell_type": "markdown",
   "metadata": {}
  },
  {
   "cell_type": "code",
   "execution_count": null,
   "metadata": {},
   "outputs": [],
   "source": []
  },
  {
   "source": [
    "<h2>Gauccian Process Regression</h2>"
   ],
   "cell_type": "markdown",
   "metadata": {}
  },
  {
   "cell_type": "code",
   "execution_count": null,
   "metadata": {},
   "outputs": [],
   "source": []
  }
 ],
 "metadata": {
  "kernelspec": {
   "name": "python3",
   "display_name": "Python 3.9.7 64-bit",
   "metadata": {
    "interpreter": {
     "hash": "ac2eaa0ea0ebeafcc7822e65e46aa9d4f966f30b695406963e145ea4a91cd4fc"
    }
   }
  },
  "language_info": {
   "codemirror_mode": {
    "name": "ipython",
    "version": 3
   },
   "file_extension": ".py",
   "mimetype": "text/x-python",
   "name": "python",
   "nbconvert_exporter": "python",
   "pygments_lexer": "ipython3",
   "version": "3.9.7-final"
  }
 },
 "nbformat": 4,
 "nbformat_minor": 5
}