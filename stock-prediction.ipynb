{
 "cells": [
  {
   "cell_type": "code",
   "execution_count": 898,
   "id": "6a2b1b0f-bbd6-46eb-b179-125466f4efd8",
   "metadata": {},
   "outputs": [],
   "source": [
    "import numpy as np\n",
    "import pandas as pd\n",
    "import matplotlib.pyplot as plt\n",
    "import pandas_datareader as pdr\n",
    "import seaborn as sns\n",
    "import talib \n",
    "from sklearn.preprocessing import MinMaxScaler\n",
    "from sklearn import tree\n",
    "from sklearn.linear_model import LinearRegression\n",
    "from sklearn.feature_selection import RFE\n",
    "from mlxtend.feature_selection import SequentialFeatureSelector as SFS\n",
    "\n"
   ]
  },
  {
   "cell_type": "code",
   "execution_count": 900,
   "metadata": {},
   "outputs": [],
   "source": [
    "startdate = '2016-01-1'\n",
    "enddate= '2021-12-31'\n",
    "scaler = MinMaxScaler()"
   ]
  },
  {
   "cell_type": "code",
   "execution_count": 902,
   "id": "dcaed81f-a4c3-4908-808b-b4647707d732",
   "metadata": {},
   "outputs": [],
   "source": [
    "dji = pdr.get_data_yahoo('^DJI', start=startdate, end=enddate)\n",
    "dji_norm = pd.DataFrame(scaler.fit_transform(dji), columns=dji.columns)\n",
    "n225 = pdr.get_data_yahoo(\"^N225\", start=startdate, end=enddate)\n",
    "n225_norm = pd.DataFrame(scaler.fit_transform(n225), columns=n225.columns)\n",
    "hsi = pdr.get_data_yahoo(\"^HSI\", start=startdate, end=enddate)\n",
    "hsi_norm = pd.DataFrame(scaler.fit_transform(hsi), columns=hsi.columns)\n",
    "sse = pdr.get_data_yahoo(\"000001.SS\", start=startdate, end=enddate)\n",
    "sse_norm = pd.DataFrame(scaler.fit_transform(sse), columns=sse.columns)\n"
   ]
  },
  {
   "source": [
    "<h1>Dow Jones Industrial Average</h1>"
   ],
   "cell_type": "markdown",
   "metadata": {}
  },
  {
   "source": [
    "<h2>Feature Selection</h2>"
   ],
   "cell_type": "markdown",
   "metadata": {}
  },
  {
   "cell_type": "code",
   "execution_count": null,
   "metadata": {
    "tags": []
   },
   "outputs": [],
   "source": [
    "dji['Future Close'] = dji['Close'].shift(-1)\n",
    "dji"
   ]
  },
  {
   "cell_type": "code",
   "execution_count": 901,
   "metadata": {},
   "outputs": [],
   "source": [
    "def computeTarget(present_price, future_price):\n",
    "    score = (( future_price - present_price ) / present_price ) * 100\n",
    "    target = []\n",
    "    for i in score:\n",
    "        if i > 0:\n",
    "            target.append(1)\n",
    "        else:\n",
    "            target.append(0)\n",
    "    return target\n",
    "# 2 = up, 1 = down, 0 = sideway"
   ]
  },
  {
   "cell_type": "code",
   "execution_count": 952,
   "metadata": {},
   "outputs": [
    {
     "output_type": "stream",
     "name": "stderr",
     "text": [
      "/var/folders/_t/ffqnjnx55t7_d2v9hx5smxm00000gn/T/ipykernel_44804/25613601.py:3: SettingWithCopyWarning: \nA value is trying to be set on a copy of a slice from a DataFrame.\nTry using .loc[row_indexer,col_indexer] = value instead\n\nSee the caveats in the documentation: https://pandas.pydata.org/pandas-docs/stable/user_guide/indexing.html#returning-a-view-versus-a-copy\n  dji['Target'] = target\n"
     ]
    }
   ],
   "source": [
    "\n",
    "target = computeTarget(dji['Close'], dji['Future Close'])\n",
    "\n",
    "dji['Target'] = target\n"
   ]
  },
  {
   "cell_type": "code",
   "execution_count": 905,
   "metadata": {},
   "outputs": [],
   "source": [
    "dji_target = dji.tail(1)\n",
    "dji_target\n",
    "dji = dji.dropna()"
   ]
  },
  {
   "cell_type": "code",
   "execution_count": 906,
   "id": "ead8e0e8-fc6a-4772-8f0b-5bec6abac5c8",
   "metadata": {},
   "outputs": [],
   "source": [
    "close = dji['Close']\n",
    "high = dji['High']\n",
    "low = dji['Low']\n",
    "open = dji['Open']\n",
    "volume  = dji['Volume']"
   ]
  },
  {
   "cell_type": "code",
   "execution_count": 907,
   "id": "a43f2f7d-15b4-435d-a133-cccb77d6f831",
   "metadata": {},
   "outputs": [
    {
     "output_type": "error",
     "ename": "KeyError",
     "evalue": "'Target'",
     "traceback": [
      "\u001b[0;31m---------------------------------------------------------------------------\u001b[0m",
      "\u001b[0;31mKeyError\u001b[0m                                  Traceback (most recent call last)",
      "\u001b[0;32m/usr/local/lib/python3.9/site-packages/pandas/core/indexes/base.py\u001b[0m in \u001b[0;36mget_loc\u001b[0;34m(self, key, method, tolerance)\u001b[0m\n\u001b[1;32m   3360\u001b[0m             \u001b[0;32mtry\u001b[0m\u001b[0;34m:\u001b[0m\u001b[0;34m\u001b[0m\u001b[0;34m\u001b[0m\u001b[0m\n\u001b[0;32m-> 3361\u001b[0;31m                 \u001b[0;32mreturn\u001b[0m \u001b[0mself\u001b[0m\u001b[0;34m.\u001b[0m\u001b[0m_engine\u001b[0m\u001b[0;34m.\u001b[0m\u001b[0mget_loc\u001b[0m\u001b[0;34m(\u001b[0m\u001b[0mcasted_key\u001b[0m\u001b[0;34m)\u001b[0m\u001b[0;34m\u001b[0m\u001b[0;34m\u001b[0m\u001b[0m\n\u001b[0m\u001b[1;32m   3362\u001b[0m             \u001b[0;32mexcept\u001b[0m \u001b[0mKeyError\u001b[0m \u001b[0;32mas\u001b[0m \u001b[0merr\u001b[0m\u001b[0;34m:\u001b[0m\u001b[0;34m\u001b[0m\u001b[0;34m\u001b[0m\u001b[0m\n",
      "\u001b[0;32m/usr/local/lib/python3.9/site-packages/pandas/_libs/index.pyx\u001b[0m in \u001b[0;36mpandas._libs.index.IndexEngine.get_loc\u001b[0;34m()\u001b[0m\n",
      "\u001b[0;32m/usr/local/lib/python3.9/site-packages/pandas/_libs/index.pyx\u001b[0m in \u001b[0;36mpandas._libs.index.IndexEngine.get_loc\u001b[0;34m()\u001b[0m\n",
      "\u001b[0;32mpandas/_libs/hashtable_class_helper.pxi\u001b[0m in \u001b[0;36mpandas._libs.hashtable.PyObjectHashTable.get_item\u001b[0;34m()\u001b[0m\n",
      "\u001b[0;32mpandas/_libs/hashtable_class_helper.pxi\u001b[0m in \u001b[0;36mpandas._libs.hashtable.PyObjectHashTable.get_item\u001b[0;34m()\u001b[0m\n",
      "\u001b[0;31mKeyError\u001b[0m: 'Target'",
      "\nThe above exception was the direct cause of the following exception:\n",
      "\u001b[0;31mKeyError\u001b[0m                                  Traceback (most recent call last)",
      "\u001b[0;32m/var/folders/_t/ffqnjnx55t7_d2v9hx5smxm00000gn/T/ipykernel_44804/112003937.py\u001b[0m in \u001b[0;36m<module>\u001b[0;34m\u001b[0m\n\u001b[1;32m     32\u001b[0m \u001b[0mdji_ti\u001b[0m\u001b[0;34m[\u001b[0m\u001b[0;34m'ULTOSC'\u001b[0m\u001b[0;34m]\u001b[0m \u001b[0;34m=\u001b[0m \u001b[0mtalib\u001b[0m\u001b[0;34m.\u001b[0m\u001b[0mULTOSC\u001b[0m\u001b[0;34m(\u001b[0m\u001b[0mhigh\u001b[0m\u001b[0;34m,\u001b[0m \u001b[0mlow\u001b[0m\u001b[0;34m,\u001b[0m \u001b[0mclose\u001b[0m\u001b[0;34m,\u001b[0m \u001b[0mtimeperiod1\u001b[0m\u001b[0;34m=\u001b[0m\u001b[0;36m7\u001b[0m\u001b[0;34m,\u001b[0m \u001b[0mtimeperiod2\u001b[0m\u001b[0;34m=\u001b[0m\u001b[0;36m14\u001b[0m\u001b[0;34m,\u001b[0m \u001b[0mtimeperiod3\u001b[0m\u001b[0;34m=\u001b[0m\u001b[0;36m28\u001b[0m\u001b[0;34m)\u001b[0m\u001b[0;34m\u001b[0m\u001b[0;34m\u001b[0m\u001b[0m\n\u001b[1;32m     33\u001b[0m \u001b[0mdji_ti\u001b[0m\u001b[0;34m[\u001b[0m\u001b[0;34m'WILLR'\u001b[0m\u001b[0;34m]\u001b[0m \u001b[0;34m=\u001b[0m \u001b[0mtalib\u001b[0m\u001b[0;34m.\u001b[0m\u001b[0mWILLR\u001b[0m\u001b[0;34m(\u001b[0m\u001b[0mhigh\u001b[0m\u001b[0;34m,\u001b[0m \u001b[0mlow\u001b[0m\u001b[0;34m,\u001b[0m \u001b[0mclose\u001b[0m\u001b[0;34m,\u001b[0m \u001b[0mtimeperiod\u001b[0m\u001b[0;34m=\u001b[0m\u001b[0;36m14\u001b[0m\u001b[0;34m)\u001b[0m\u001b[0;34m\u001b[0m\u001b[0;34m\u001b[0m\u001b[0m\n\u001b[0;32m---> 34\u001b[0;31m \u001b[0mdji_ti\u001b[0m\u001b[0;34m[\u001b[0m\u001b[0;34m'Target'\u001b[0m\u001b[0;34m]\u001b[0m \u001b[0;34m=\u001b[0m \u001b[0mdji\u001b[0m\u001b[0;34m[\u001b[0m\u001b[0;34m'Target'\u001b[0m\u001b[0;34m]\u001b[0m\u001b[0;34m\u001b[0m\u001b[0;34m\u001b[0m\u001b[0m\n\u001b[0m\u001b[1;32m     35\u001b[0m \u001b[0mdji_ti\u001b[0m\u001b[0;34m\u001b[0m\u001b[0;34m\u001b[0m\u001b[0m\n",
      "\u001b[0;32m/usr/local/lib/python3.9/site-packages/pandas/core/frame.py\u001b[0m in \u001b[0;36m__getitem__\u001b[0;34m(self, key)\u001b[0m\n\u001b[1;32m   3453\u001b[0m             \u001b[0;32mif\u001b[0m \u001b[0mself\u001b[0m\u001b[0;34m.\u001b[0m\u001b[0mcolumns\u001b[0m\u001b[0;34m.\u001b[0m\u001b[0mnlevels\u001b[0m \u001b[0;34m>\u001b[0m \u001b[0;36m1\u001b[0m\u001b[0;34m:\u001b[0m\u001b[0;34m\u001b[0m\u001b[0;34m\u001b[0m\u001b[0m\n\u001b[1;32m   3454\u001b[0m                 \u001b[0;32mreturn\u001b[0m \u001b[0mself\u001b[0m\u001b[0;34m.\u001b[0m\u001b[0m_getitem_multilevel\u001b[0m\u001b[0;34m(\u001b[0m\u001b[0mkey\u001b[0m\u001b[0;34m)\u001b[0m\u001b[0;34m\u001b[0m\u001b[0;34m\u001b[0m\u001b[0m\n\u001b[0;32m-> 3455\u001b[0;31m             \u001b[0mindexer\u001b[0m \u001b[0;34m=\u001b[0m \u001b[0mself\u001b[0m\u001b[0;34m.\u001b[0m\u001b[0mcolumns\u001b[0m\u001b[0;34m.\u001b[0m\u001b[0mget_loc\u001b[0m\u001b[0;34m(\u001b[0m\u001b[0mkey\u001b[0m\u001b[0;34m)\u001b[0m\u001b[0;34m\u001b[0m\u001b[0;34m\u001b[0m\u001b[0m\n\u001b[0m\u001b[1;32m   3456\u001b[0m             \u001b[0;32mif\u001b[0m \u001b[0mis_integer\u001b[0m\u001b[0;34m(\u001b[0m\u001b[0mindexer\u001b[0m\u001b[0;34m)\u001b[0m\u001b[0;34m:\u001b[0m\u001b[0;34m\u001b[0m\u001b[0;34m\u001b[0m\u001b[0m\n\u001b[1;32m   3457\u001b[0m                 \u001b[0mindexer\u001b[0m \u001b[0;34m=\u001b[0m \u001b[0;34m[\u001b[0m\u001b[0mindexer\u001b[0m\u001b[0;34m]\u001b[0m\u001b[0;34m\u001b[0m\u001b[0;34m\u001b[0m\u001b[0m\n",
      "\u001b[0;32m/usr/local/lib/python3.9/site-packages/pandas/core/indexes/base.py\u001b[0m in \u001b[0;36mget_loc\u001b[0;34m(self, key, method, tolerance)\u001b[0m\n\u001b[1;32m   3361\u001b[0m                 \u001b[0;32mreturn\u001b[0m \u001b[0mself\u001b[0m\u001b[0;34m.\u001b[0m\u001b[0m_engine\u001b[0m\u001b[0;34m.\u001b[0m\u001b[0mget_loc\u001b[0m\u001b[0;34m(\u001b[0m\u001b[0mcasted_key\u001b[0m\u001b[0;34m)\u001b[0m\u001b[0;34m\u001b[0m\u001b[0;34m\u001b[0m\u001b[0m\n\u001b[1;32m   3362\u001b[0m             \u001b[0;32mexcept\u001b[0m \u001b[0mKeyError\u001b[0m \u001b[0;32mas\u001b[0m \u001b[0merr\u001b[0m\u001b[0;34m:\u001b[0m\u001b[0;34m\u001b[0m\u001b[0;34m\u001b[0m\u001b[0m\n\u001b[0;32m-> 3363\u001b[0;31m                 \u001b[0;32mraise\u001b[0m \u001b[0mKeyError\u001b[0m\u001b[0;34m(\u001b[0m\u001b[0mkey\u001b[0m\u001b[0;34m)\u001b[0m \u001b[0;32mfrom\u001b[0m \u001b[0merr\u001b[0m\u001b[0;34m\u001b[0m\u001b[0;34m\u001b[0m\u001b[0m\n\u001b[0m\u001b[1;32m   3364\u001b[0m \u001b[0;34m\u001b[0m\u001b[0m\n\u001b[1;32m   3365\u001b[0m         \u001b[0;32mif\u001b[0m \u001b[0mis_scalar\u001b[0m\u001b[0;34m(\u001b[0m\u001b[0mkey\u001b[0m\u001b[0;34m)\u001b[0m \u001b[0;32mand\u001b[0m \u001b[0misna\u001b[0m\u001b[0;34m(\u001b[0m\u001b[0mkey\u001b[0m\u001b[0;34m)\u001b[0m \u001b[0;32mand\u001b[0m \u001b[0;32mnot\u001b[0m \u001b[0mself\u001b[0m\u001b[0;34m.\u001b[0m\u001b[0mhasnans\u001b[0m\u001b[0;34m:\u001b[0m\u001b[0;34m\u001b[0m\u001b[0;34m\u001b[0m\u001b[0m\n",
      "\u001b[0;31mKeyError\u001b[0m: 'Target'"
     ]
    }
   ],
   "source": [
    "dji_ti = pd.DataFrame()\n",
    "dji_ti['SMA20'] = talib.SMA(close, timeperiod=20)\n",
    "dji_ti['SMA50'] = talib.SMA(close, timeperiod=50)\n",
    "dji_ti['SMA200'] = talib.SMA(close, timeperiod=200)\n",
    "dji_ti['EMA'] = talib.EMA(close, timeperiod=14)\n",
    "dji_ti['OBV'] = talib.OBV(close, volume)\n",
    "dji_ti['RSI14'] = talib.RSI(close, timeperiod=14)\n",
    "dji_ti['ADX'] = talib.ADX(high, low, close, timeperiod=14)\n",
    "dji_ti['ADXR'] = talib.ADXR(high, low, close, timeperiod=14)\n",
    "dji_ti['aroondown'], dji_ti['aroonup'] = talib.AROON(high, low, timeperiod=14)\n",
    "dji_ti['APO'] = talib.APO(close, fastperiod=12, slowperiod=26, matype=0)\n",
    "dji_ti['AROONOSC'] = talib.AROONOSC(high, low, timeperiod=14)\n",
    "dji_ti['BOP'] = talib.BOP(open, high, low, close)\n",
    "dji_ti['CCI'] = talib.CCI(high, low, close, timeperiod=14)\n",
    "dji_ti['CMO'] = talib.CMO(close, timeperiod=14)\n",
    "dji_ti['DX'] = talib.DX(high, low, close, timeperiod=14)\n",
    "dji_ti['macd'],dji_ti['macdsignal'],dji_ti['macdhist'] = talib.MACD(close, fastperiod = 12, slowperiod=26, signalperiod=9)\n",
    "dji_ti['MFI'] = talib.MFI(high, low, close, volume, timeperiod=14)\n",
    "dji_ti['MINUS_DI'] = talib.MINUS_DI(high, low, close, timeperiod=14)\n",
    "dji_ti['MINUS_DM'] = talib.MINUS_DM(high, low, timeperiod=14)\n",
    "dji_ti['MOM'] = talib.MOM(close, timeperiod=14)\n",
    "dji_ti['PLUS_DI'] = talib.PLUS_DI(high, low, close, timeperiod=14)\n",
    "dji_ti['PLUS_DM'] = talib.PLUS_DM(high, low, timeperiod=14)\n",
    "dji_ti['PPO'] = talib.PPO(close, fastperiod=12, slowperiod=26, matype=0)\n",
    "dji_ti['ROC'] = talib.ROC(close, timeperiod=10)\n",
    "dji_ti['ROCP'] = talib.ROCP(close, timeperiod=10)\n",
    "dji_ti['ROCR'] = talib.ROCR(close, timeperiod=10)\n",
    "dji_ti['ROCR100'] = talib.ROCR100(close, timeperiod=10)\n",
    "dji_ti['slowk'], dji_ti['slowd'] = talib.STOCH(high, low, close, fastk_period=5, slowk_period=3, slowd_period=3, slowd_matype=0)\n",
    "dji_ti['fastk'], dji_ti['fastd'] = talib.STOCHF(high, low, close, fastk_period=5, fastd_period=3, fastd_matype=0)\n",
    "dji_ti['TRIX'] = talib.TRIX(close, timeperiod=30)\n",
    "dji_ti['ULTOSC'] = talib.ULTOSC(high, low, close, timeperiod1=7, timeperiod2=14, timeperiod3=28)\n",
    "dji_ti['WILLR'] = talib.WILLR(high, low, close, timeperiod=14)\n",
    "dji_ti['Target'] = dji['Target']\n",
    "dji_ti"
   ]
  },
  {
   "cell_type": "code",
   "execution_count": 872,
   "id": "346fa05c-4b8a-44b0-b842-e39484a51772",
   "metadata": {},
   "outputs": [],
   "source": [
    "# plt.figure(figsize=(12,10))\n",
    "# cor = ti.corr()\n",
    "# sns.heatmap(cor, annot=True, cmap=plt.cm.Reds)\n",
    "# plt.show()"
   ]
  },
  {
   "cell_type": "code",
   "execution_count": 873,
   "id": "06fb88c7-0a62-44f0-bf4d-2c0da39151f3",
   "metadata": {},
   "outputs": [],
   "source": [
    "# cor_target = abs(cor[\"Target\"])\n",
    "# features = cor_target[cor_target>0.05]\n",
    "# features"
   ]
  },
  {
   "cell_type": "code",
   "execution_count": 874,
   "metadata": {},
   "outputs": [
    {
     "output_type": "execute_result",
     "data": {
      "text/plain": [
       "Date\n",
       "2016-10-14    0\n",
       "2016-10-17    1\n",
       "2016-10-18    1\n",
       "2016-10-19    0\n",
       "2016-10-20    0\n",
       "             ..\n",
       "2021-11-15    1\n",
       "2021-11-16    0\n",
       "2021-11-17    0\n",
       "2021-11-18    0\n",
       "2021-11-19    1\n",
       "Name: Target, Length: 1285, dtype: int64"
      ]
     },
     "metadata": {},
     "execution_count": 874
    }
   ],
   "source": [
    "dji_ti = dji_ti.dropna()\n",
    "X = dji_ti.drop(\"Target\", axis=1)  # Feature Matrix\n",
    "y = dji_ti[\"Target\"]               # Target Variable\n",
    "y"
   ]
  },
  {
   "cell_type": "code",
   "execution_count": 875,
   "metadata": {},
   "outputs": [],
   "source": [
    "X = X.fillna(0)"
   ]
  },
  {
   "cell_type": "code",
   "execution_count": 876,
   "metadata": {},
   "outputs": [],
   "source": [
    "#X.isna().sum()"
   ]
  },
  {
   "cell_type": "code",
   "execution_count": 877,
   "metadata": {},
   "outputs": [
    {
     "output_type": "stream",
     "name": "stdout",
     "text": [
      "[False False False False False  True False False False False False False\n  True False  True False False False False False False False False  True\n False False  True False False  True False False False False  True False\n False]\n[19 18 30 28 31  1  9  8  7 17 15 16  1 12  1 20 14 13 23 27  3 24 29  1\n 22  4  1 25 26  1  6 10 21 11  1  2  5]\n"
     ]
    }
   ],
   "source": [
    "model = LinearRegression()\n",
    "\n",
    "#Initializing RFE model\n",
    "rfe = RFE(model, n_features_to_select=7)\n",
    "\n",
    "#Transforming data using RFE\n",
    "X_rfe = rfe.fit_transform(X,y)  \n",
    "\n",
    "#Fitting the data to model\n",
    "model.fit(X_rfe,y)\n",
    "\n",
    "print(rfe.support_)\n",
    "print(rfe.ranking_)"
   ]
  },
  {
   "cell_type": "code",
   "execution_count": 878,
   "metadata": {},
   "outputs": [
    {
     "output_type": "stream",
     "name": "stdout",
     "text": [
      "Optimum number of features: 0\nScore with 0 features: 0.000000\n"
     ]
    }
   ],
   "source": [
    "# no. of features\n",
    "#\n",
    "nof_list = np.arange(1, 13)            \n",
    "high_score = 0\n",
    "\n",
    "# Variable to store the optimum features\n",
    "#\n",
    "nof = 0           \n",
    "score_list = []\n",
    "\n",
    "for n in range(len(nof_list)):\n",
    "    X_train, X_test, y_train, y_test = train_test_split(X,y, test_size = 0.9, random_state = 0)\n",
    "\n",
    "    model = LinearRegression()\n",
    "    rfe = RFE(model, n_features_to_select=nof_list[n])\n",
    "    X_train_rfe = rfe.fit_transform(X_train,y_train)\n",
    "    X_test_rfe = rfe.transform(X_test)\n",
    "    model.fit(X_train_rfe,y_train)\n",
    "\n",
    "    score = model.score(X_test_rfe,y_test)\n",
    "    score_list.append(score)\n",
    "\n",
    "    if(score > high_score):\n",
    "        high_score = score\n",
    "        nof = nof_list[n]\n",
    "\n",
    "print(\"Optimum number of features: %d\" % nof)\n",
    "print(\"Score with %d features: %f\" % (nof, high_score))"
   ]
  },
  {
   "cell_type": "code",
   "execution_count": 879,
   "metadata": {},
   "outputs": [
    {
     "output_type": "stream",
     "name": "stdout",
     "text": [
      "Index(['RSI14', 'BOP', 'CMO', 'MINUS_DI', 'PLUS_DI', 'PPO', 'ROC', 'ROCR100',\n       'TRIX', 'ULTOSC'],\n      dtype='object')\n"
     ]
    }
   ],
   "source": [
    "cols = list(X.columns)\n",
    "model = LinearRegression()\n",
    "\n",
    "# Initializing RFE model\n",
    "rfe = RFE(model, n_features_to_select=10)             \n",
    "\n",
    "# Transforming data using RFE\n",
    "X_rfe = rfe.fit_transform(X,y)  \n",
    "\n",
    "# Fitting the data to model\n",
    "model.fit(X_rfe,y)              \n",
    "temp = pd.Series(rfe.support_, index = cols)\n",
    "selected_features_rfe = temp[temp==True].index\n",
    "\n",
    "print(selected_features_rfe)"
   ]
  },
  {
   "cell_type": "code",
   "execution_count": 817,
   "metadata": {},
   "outputs": [],
   "source": [
    "# dji_ti = dji_ti.dropna()\n",
    "# X = dji_ti.drop(\"Target\", axis=1)  # Feature Matrix\n",
    "# y = dji_ti[\"Target\"]               # Target Variable\n",
    "# #Split the features and target data\n",
    "# #Define Sequential Forward Selection (sfs)\n",
    "# sfs = SFS(LinearRegression(),\n",
    "#            k_features=5,\n",
    "#            forward=True,\n",
    "#            floating=False,\n",
    "#            scoring = 'r2',\n",
    "#            cv = 0)\n",
    "# #Use SFS to select the top 5 features \n",
    "# sfs.fit(X, y)\n",
    "\n",
    "# #Create a dataframe for the SFS results \n",
    "# df_SFS_results = pd.DataFrame(sfs.subsets_).transpose()\n",
    "# df_SFS_results\n"
   ]
  },
  {
   "cell_type": "markdown",
   "id": "cbc5745e-a6fa-40e8-bb57-3cd7ee33c37c",
   "metadata": {},
   "source": [
    "<h2>จากการทำ Feature Selection ควรจะใช้ 'RSI14', 'BOP', 'CMO', 'MINUS_DI', 'PLUS_DI', 'PPO', 'ROC', 'ROCR100','TRIX', 'ULTOSC' ในการสร้าง model</h2>"
   ]
  },
  {
   "cell_type": "code",
   "execution_count": 818,
   "id": "bf8b7288-39a2-459a-a648-3a864c51f0e7",
   "metadata": {},
   "outputs": [],
   "source": [
    "from sklearn.model_selection import train_test_split\n",
    "X = dji_ti.loc[:, ['RSI14', 'BOP', 'CMO', 'MINUS_DI', 'PLUS_DI', 'PPO', 'ROC', 'ROCR100','TRIX', 'ULTOSC']].values\n",
    "#X = dji_ti.loc[:, ['CCI', 'DX', 'MINUS_DI', 'PLUS_DM', 'slowd']].values\n",
    "y = dji_ti.loc[:, ['Target']].values\n",
    "X_train, X_test, y_train, y_test = train_test_split(X, y, test_size=0.2, random_state=0)"
   ]
  },
  {
   "cell_type": "code",
   "execution_count": 819,
   "metadata": {},
   "outputs": [],
   "source": [
    "from sklearn.preprocessing import StandardScaler\n",
    "sc = StandardScaler()\n",
    "X_train = sc.fit_transform(X_train)\n",
    "X_test = sc.transform(X_test)"
   ]
  },
  {
   "cell_type": "code",
   "execution_count": 820,
   "metadata": {},
   "outputs": [],
   "source": [
    "# Visualize the data\n",
    "#\n",
    "def visualize(title, xlabel, ylabel, classifier, X_test, y_test):\n",
    "    X_set, y_set = X_test, y_test\n",
    "    X1, X2 = np.meshgrid(np.arange(start = X_set[:, 0].min() - 1, stop = X_set[:, 0].max() + 1, step = 0.01),\n",
    "                         np.arange(start = X_set[:, 1].min() - 1, stop = X_set[:, 1].max() + 1, step = 0.01))\n",
    "    plt.contourf(X1, X2, classifier.predict(np.array([X1.ravel(), X2.ravel()]).T).reshape(X1.shape),\n",
    "                 alpha = 0.75, cmap = ListedColormap(('lightblue', 'cornsilk')))\n",
    "    plt.xlim(X1.min(), X1.max())\n",
    "    plt.ylim(X2.min(), X2.max())\n",
    "\n",
    "    for i, j in enumerate(np.unique(y_set)):\n",
    "        plt.scatter(X_set[y_set == j, 0], X_set[y_set == j, 1], label = j)\n",
    "\n",
    "    plt.title(title)\n",
    "    plt.xlabel(xlabel)\n",
    "    plt.ylabel(ylabel)\n",
    "    plt.legend()\n",
    "    plt.show()"
   ]
  },
  {
   "source": [
    "<h2>Decision Tree</h2>"
   ],
   "cell_type": "markdown",
   "metadata": {}
  },
  {
   "cell_type": "code",
   "execution_count": 821,
   "metadata": {},
   "outputs": [
    {
     "output_type": "execute_result",
     "data": {
      "text/plain": [
       "DecisionTreeClassifier()"
      ]
     },
     "metadata": {},
     "execution_count": 821
    }
   ],
   "source": [
    "# Decision Tree Classifier: Create and Train the model\n",
    "#\n",
    "from sklearn.tree import DecisionTreeClassifier\n",
    "\n",
    "dtc = DecisionTreeClassifier()\n",
    "dtc.fit(X_train, y_train)"
   ]
  },
  {
   "cell_type": "code",
   "execution_count": 822,
   "metadata": {},
   "outputs": [
    {
     "output_type": "execute_result",
     "data": {
      "text/plain": [
       "array([1, 1, 0, 1, 1, 1, 1, 1, 0, 0, 1, 0, 0, 0, 0, 0, 1, 1, 1, 0, 1, 1,\n",
       "       1, 0, 0, 0, 1, 1, 1, 0, 1, 1, 1, 1, 1, 0, 0, 1, 1, 1, 0, 0, 0, 1,\n",
       "       1, 1, 1, 1, 1, 1, 0, 0, 1, 1, 1, 1, 1, 0, 0, 0, 0, 1, 1, 1, 1, 1,\n",
       "       1, 1, 0, 1, 0, 1, 0, 1, 1, 1, 0, 0, 0, 0, 1, 0, 0, 0, 1, 0, 0, 1,\n",
       "       0, 1, 1, 1, 1, 1, 1, 1, 0, 1, 0, 1, 1, 0, 1, 0, 1, 0, 0, 1, 0, 1,\n",
       "       1, 0, 1, 0, 1, 1, 1, 1, 1, 1, 0, 1, 0, 1, 0, 0, 0, 1, 1, 1, 0, 1,\n",
       "       0, 1, 0, 1, 1, 0, 1, 0, 0, 0, 0, 1, 0, 1, 1, 0, 1, 1, 1, 0, 1, 0,\n",
       "       0, 1, 1, 0, 0, 0, 1, 0, 0, 1, 1, 1, 0, 0, 1, 0, 0, 1, 1, 1, 1, 1,\n",
       "       1, 0, 0, 1, 0, 1, 0, 1, 0, 1, 0, 0, 0, 0, 1, 1, 1, 1, 1, 1, 1, 1,\n",
       "       1, 0, 0, 1, 1, 1, 0, 0, 1, 0, 0, 1, 0, 1, 1, 0, 1, 0, 1, 0, 1, 1,\n",
       "       0, 0, 0, 0, 1, 1, 0, 0, 1, 0, 1, 1, 1, 0, 1, 1, 0, 0, 1, 1, 1, 1,\n",
       "       1, 0, 0, 0, 0, 0, 1, 0, 1, 0, 1, 0, 1, 1, 1, 1])"
      ]
     },
     "metadata": {},
     "execution_count": 822
    }
   ],
   "source": [
    "# Prediction\n",
    "#\n",
    "y_pred = dtc.predict(X_test)  #Accuracy\n",
    "y_pred"
   ]
  },
  {
   "cell_type": "code",
   "execution_count": 823,
   "metadata": {},
   "outputs": [
    {
     "output_type": "execute_result",
     "data": {
      "text/plain": [
       "array([[0],\n",
       "       [1],\n",
       "       [0],\n",
       "       [0],\n",
       "       [1],\n",
       "       [1],\n",
       "       [1],\n",
       "       [1],\n",
       "       [1],\n",
       "       [1],\n",
       "       [1],\n",
       "       [0],\n",
       "       [1],\n",
       "       [1],\n",
       "       [0],\n",
       "       [1],\n",
       "       [0],\n",
       "       [1],\n",
       "       [0],\n",
       "       [1],\n",
       "       [0],\n",
       "       [0],\n",
       "       [1],\n",
       "       [0],\n",
       "       [1],\n",
       "       [1],\n",
       "       [0],\n",
       "       [1],\n",
       "       [0],\n",
       "       [1],\n",
       "       [1],\n",
       "       [0],\n",
       "       [1],\n",
       "       [1],\n",
       "       [1],\n",
       "       [0],\n",
       "       [0],\n",
       "       [1],\n",
       "       [0],\n",
       "       [1],\n",
       "       [0],\n",
       "       [1],\n",
       "       [0],\n",
       "       [1],\n",
       "       [0],\n",
       "       [1],\n",
       "       [0],\n",
       "       [0],\n",
       "       [0],\n",
       "       [1],\n",
       "       [0],\n",
       "       [1],\n",
       "       [1],\n",
       "       [0],\n",
       "       [0],\n",
       "       [1],\n",
       "       [0],\n",
       "       [0],\n",
       "       [0],\n",
       "       [0],\n",
       "       [0],\n",
       "       [1],\n",
       "       [0],\n",
       "       [1],\n",
       "       [0],\n",
       "       [1],\n",
       "       [1],\n",
       "       [1],\n",
       "       [1],\n",
       "       [0],\n",
       "       [1],\n",
       "       [0],\n",
       "       [1],\n",
       "       [1],\n",
       "       [0],\n",
       "       [1],\n",
       "       [1],\n",
       "       [1],\n",
       "       [1],\n",
       "       [1],\n",
       "       [0],\n",
       "       [0],\n",
       "       [1],\n",
       "       [1],\n",
       "       [1],\n",
       "       [0],\n",
       "       [0],\n",
       "       [1],\n",
       "       [0],\n",
       "       [1],\n",
       "       [0],\n",
       "       [1],\n",
       "       [1],\n",
       "       [0],\n",
       "       [1],\n",
       "       [0],\n",
       "       [1],\n",
       "       [1],\n",
       "       [1],\n",
       "       [0],\n",
       "       [1],\n",
       "       [1],\n",
       "       [0],\n",
       "       [0],\n",
       "       [1],\n",
       "       [1],\n",
       "       [1],\n",
       "       [1],\n",
       "       [0],\n",
       "       [1],\n",
       "       [0],\n",
       "       [0],\n",
       "       [1],\n",
       "       [1],\n",
       "       [1],\n",
       "       [1],\n",
       "       [0],\n",
       "       [0],\n",
       "       [0],\n",
       "       [0],\n",
       "       [0],\n",
       "       [0],\n",
       "       [1],\n",
       "       [0],\n",
       "       [1],\n",
       "       [1],\n",
       "       [1],\n",
       "       [1],\n",
       "       [1],\n",
       "       [1],\n",
       "       [1],\n",
       "       [0],\n",
       "       [0],\n",
       "       [1],\n",
       "       [0],\n",
       "       [0],\n",
       "       [0],\n",
       "       [0],\n",
       "       [0],\n",
       "       [0],\n",
       "       [0],\n",
       "       [0],\n",
       "       [0],\n",
       "       [1],\n",
       "       [0],\n",
       "       [1],\n",
       "       [1],\n",
       "       [1],\n",
       "       [1],\n",
       "       [1],\n",
       "       [1],\n",
       "       [0],\n",
       "       [0],\n",
       "       [1],\n",
       "       [1],\n",
       "       [0],\n",
       "       [1],\n",
       "       [0],\n",
       "       [1],\n",
       "       [1],\n",
       "       [0],\n",
       "       [0],\n",
       "       [1],\n",
       "       [0],\n",
       "       [0],\n",
       "       [1],\n",
       "       [1],\n",
       "       [0],\n",
       "       [0],\n",
       "       [0],\n",
       "       [0],\n",
       "       [0],\n",
       "       [0],\n",
       "       [1],\n",
       "       [1],\n",
       "       [1],\n",
       "       [0],\n",
       "       [0],\n",
       "       [1],\n",
       "       [1],\n",
       "       [1],\n",
       "       [0],\n",
       "       [1],\n",
       "       [0],\n",
       "       [0],\n",
       "       [1],\n",
       "       [0],\n",
       "       [0],\n",
       "       [1],\n",
       "       [1],\n",
       "       [1],\n",
       "       [1],\n",
       "       [0],\n",
       "       [0],\n",
       "       [0],\n",
       "       [1],\n",
       "       [1],\n",
       "       [1],\n",
       "       [1],\n",
       "       [1],\n",
       "       [0],\n",
       "       [1],\n",
       "       [1],\n",
       "       [1],\n",
       "       [0],\n",
       "       [1],\n",
       "       [1],\n",
       "       [1],\n",
       "       [0],\n",
       "       [1],\n",
       "       [0],\n",
       "       [1],\n",
       "       [0],\n",
       "       [1],\n",
       "       [1],\n",
       "       [1],\n",
       "       [0],\n",
       "       [1],\n",
       "       [0],\n",
       "       [1],\n",
       "       [0],\n",
       "       [0],\n",
       "       [0],\n",
       "       [0],\n",
       "       [0],\n",
       "       [1],\n",
       "       [1],\n",
       "       [1],\n",
       "       [1],\n",
       "       [1],\n",
       "       [0],\n",
       "       [1],\n",
       "       [1],\n",
       "       [1],\n",
       "       [0],\n",
       "       [1],\n",
       "       [1],\n",
       "       [1],\n",
       "       [1],\n",
       "       [1],\n",
       "       [1],\n",
       "       [1],\n",
       "       [1],\n",
       "       [1],\n",
       "       [0],\n",
       "       [0],\n",
       "       [1],\n",
       "       [1],\n",
       "       [1],\n",
       "       [1],\n",
       "       [1],\n",
       "       [1],\n",
       "       [0],\n",
       "       [0],\n",
       "       [1],\n",
       "       [1],\n",
       "       [0],\n",
       "       [0]])"
      ]
     },
     "metadata": {},
     "execution_count": 823
    }
   ],
   "source": [
    "# Look at the actual y_test\n",
    "#\n",
    "y_test"
   ]
  },
  {
   "cell_type": "code",
   "execution_count": 824,
   "metadata": {},
   "outputs": [
    {
     "output_type": "stream",
     "name": "stdout",
     "text": [
      "Accuracy Score: 0.5271317829457365\n"
     ]
    }
   ],
   "source": [
    "# See the accuracy\n",
    "#\n",
    "from sklearn import metrics\n",
    "print('Accuracy Score:', metrics.accuracy_score(y_test, y_pred))"
   ]
  },
  {
   "cell_type": "code",
   "execution_count": 825,
   "metadata": {},
   "outputs": [
    {
     "output_type": "execute_result",
     "data": {
      "text/plain": [
       "array([[50, 62],\n",
       "       [60, 86]])"
      ]
     },
     "metadata": {},
     "execution_count": 825
    }
   ],
   "source": [
    "# See the confusion matrix\n",
    "#\n",
    "from sklearn.metrics import confusion_matrix\n",
    "cm = confusion_matrix(y_test, y_pred)\n",
    "cm"
   ]
  },
  {
   "source": [
    "<h2>Random Forest</h2>"
   ],
   "cell_type": "markdown",
   "metadata": {}
  },
  {
   "cell_type": "code",
   "execution_count": null,
   "metadata": {},
   "outputs": [],
   "source": []
  },
  {
   "source": [
    "<h2>Logistic Regression</h2>"
   ],
   "cell_type": "markdown",
   "metadata": {}
  },
  {
   "cell_type": "code",
   "execution_count": null,
   "metadata": {},
   "outputs": [],
   "source": []
  },
  {
   "source": [
    "<h2>XGBoost</h2>"
   ],
   "cell_type": "markdown",
   "metadata": {}
  },
  {
   "cell_type": "code",
   "execution_count": null,
   "metadata": {},
   "outputs": [],
   "source": []
  },
  {
   "source": [
    "<h2>Linear Regression</h2>"
   ],
   "cell_type": "markdown",
   "metadata": {}
  },
  {
   "cell_type": "code",
   "execution_count": null,
   "metadata": {},
   "outputs": [],
   "source": []
  },
  {
   "source": [
    "<h2>Gauccian Process Regress</h2>"
   ],
   "cell_type": "markdown",
   "metadata": {}
  },
  {
   "cell_type": "code",
   "execution_count": null,
   "metadata": {},
   "outputs": [],
   "source": []
  },
  {
   "source": [
    "<h1>Nikkei 225 Stock Average</h1>"
   ],
   "cell_type": "markdown",
   "metadata": {}
  },
  {
   "source": [
    "<h2>Feature Selection</h2>"
   ],
   "cell_type": "markdown",
   "metadata": {}
  },
  {
   "cell_type": "code",
   "execution_count": 880,
   "metadata": {},
   "outputs": [
    {
     "output_type": "stream",
     "name": "stderr",
     "text": [
      "/var/folders/_t/ffqnjnx55t7_d2v9hx5smxm00000gn/T/ipykernel_44804/2336074776.py:1: SettingWithCopyWarning: \nA value is trying to be set on a copy of a slice from a DataFrame.\nTry using .loc[row_indexer,col_indexer] = value instead\n\nSee the caveats in the documentation: https://pandas.pydata.org/pandas-docs/stable/user_guide/indexing.html#returning-a-view-versus-a-copy\n  n225['Future Close'] = n225['Close'].shift(-1)\n"
     ]
    },
    {
     "output_type": "execute_result",
     "data": {
      "text/plain": [
       "                    High           Low          Open         Close  \\\n",
       "Date                                                                 \n",
       "2016-01-04  18951.119141  18394.429688  18818.580078  18450.980469   \n",
       "2016-01-05  18547.380859  18327.519531  18398.759766  18374.000000   \n",
       "2016-01-06  18469.380859  18064.300781  18410.570312  18191.320312   \n",
       "2016-01-07  18172.039062  17767.339844  18139.769531  17767.339844   \n",
       "2016-01-08  17975.310547  17509.640625  17562.230469  17697.960938   \n",
       "...                  ...           ...           ...           ...   \n",
       "2021-11-15  29861.880859  29718.210938  29807.369141  29776.800781   \n",
       "2021-11-16  29960.929688  29681.250000  29749.710938  29808.119141   \n",
       "2021-11-17  29909.970703  29623.789062  29906.679688  29688.330078   \n",
       "2021-11-18  29715.949219  29402.570312  29597.929688  29598.660156   \n",
       "2021-11-19  29768.539062  29589.189453  29641.050781  29745.869141   \n",
       "\n",
       "                 Volume     Adj Close  Future Close  Target  \n",
       "Date                                                         \n",
       "2016-01-04  140200000.0  18450.980469  18374.000000       0  \n",
       "2016-01-05  132300000.0  18374.000000  18191.320312       0  \n",
       "2016-01-06  142200000.0  18191.320312  17767.339844       0  \n",
       "2016-01-07  168000000.0  17767.339844  17697.960938       0  \n",
       "2016-01-08  184300000.0  17697.960938  17218.960938       0  \n",
       "...                 ...           ...           ...     ...  \n",
       "2021-11-15   60400000.0  29776.800781  29808.119141       1  \n",
       "2021-11-16   62000000.0  29808.119141  29688.330078       0  \n",
       "2021-11-17   63900000.0  29688.330078  29598.660156       0  \n",
       "2021-11-18   65400000.0  29598.660156  29745.869141       1  \n",
       "2021-11-19   65600000.0  29745.869141           NaN       1  \n",
       "\n",
       "[1438 rows x 8 columns]"
      ],
      "text/html": "<div>\n<style scoped>\n    .dataframe tbody tr th:only-of-type {\n        vertical-align: middle;\n    }\n\n    .dataframe tbody tr th {\n        vertical-align: top;\n    }\n\n    .dataframe thead th {\n        text-align: right;\n    }\n</style>\n<table border=\"1\" class=\"dataframe\">\n  <thead>\n    <tr style=\"text-align: right;\">\n      <th></th>\n      <th>High</th>\n      <th>Low</th>\n      <th>Open</th>\n      <th>Close</th>\n      <th>Volume</th>\n      <th>Adj Close</th>\n      <th>Future Close</th>\n      <th>Target</th>\n    </tr>\n    <tr>\n      <th>Date</th>\n      <th></th>\n      <th></th>\n      <th></th>\n      <th></th>\n      <th></th>\n      <th></th>\n      <th></th>\n      <th></th>\n    </tr>\n  </thead>\n  <tbody>\n    <tr>\n      <th>2016-01-04</th>\n      <td>18951.119141</td>\n      <td>18394.429688</td>\n      <td>18818.580078</td>\n      <td>18450.980469</td>\n      <td>140200000.0</td>\n      <td>18450.980469</td>\n      <td>18374.000000</td>\n      <td>0</td>\n    </tr>\n    <tr>\n      <th>2016-01-05</th>\n      <td>18547.380859</td>\n      <td>18327.519531</td>\n      <td>18398.759766</td>\n      <td>18374.000000</td>\n      <td>132300000.0</td>\n      <td>18374.000000</td>\n      <td>18191.320312</td>\n      <td>0</td>\n    </tr>\n    <tr>\n      <th>2016-01-06</th>\n      <td>18469.380859</td>\n      <td>18064.300781</td>\n      <td>18410.570312</td>\n      <td>18191.320312</td>\n      <td>142200000.0</td>\n      <td>18191.320312</td>\n      <td>17767.339844</td>\n      <td>0</td>\n    </tr>\n    <tr>\n      <th>2016-01-07</th>\n      <td>18172.039062</td>\n      <td>17767.339844</td>\n      <td>18139.769531</td>\n      <td>17767.339844</td>\n      <td>168000000.0</td>\n      <td>17767.339844</td>\n      <td>17697.960938</td>\n      <td>0</td>\n    </tr>\n    <tr>\n      <th>2016-01-08</th>\n      <td>17975.310547</td>\n      <td>17509.640625</td>\n      <td>17562.230469</td>\n      <td>17697.960938</td>\n      <td>184300000.0</td>\n      <td>17697.960938</td>\n      <td>17218.960938</td>\n      <td>0</td>\n    </tr>\n    <tr>\n      <th>...</th>\n      <td>...</td>\n      <td>...</td>\n      <td>...</td>\n      <td>...</td>\n      <td>...</td>\n      <td>...</td>\n      <td>...</td>\n      <td>...</td>\n    </tr>\n    <tr>\n      <th>2021-11-15</th>\n      <td>29861.880859</td>\n      <td>29718.210938</td>\n      <td>29807.369141</td>\n      <td>29776.800781</td>\n      <td>60400000.0</td>\n      <td>29776.800781</td>\n      <td>29808.119141</td>\n      <td>1</td>\n    </tr>\n    <tr>\n      <th>2021-11-16</th>\n      <td>29960.929688</td>\n      <td>29681.250000</td>\n      <td>29749.710938</td>\n      <td>29808.119141</td>\n      <td>62000000.0</td>\n      <td>29808.119141</td>\n      <td>29688.330078</td>\n      <td>0</td>\n    </tr>\n    <tr>\n      <th>2021-11-17</th>\n      <td>29909.970703</td>\n      <td>29623.789062</td>\n      <td>29906.679688</td>\n      <td>29688.330078</td>\n      <td>63900000.0</td>\n      <td>29688.330078</td>\n      <td>29598.660156</td>\n      <td>0</td>\n    </tr>\n    <tr>\n      <th>2021-11-18</th>\n      <td>29715.949219</td>\n      <td>29402.570312</td>\n      <td>29597.929688</td>\n      <td>29598.660156</td>\n      <td>65400000.0</td>\n      <td>29598.660156</td>\n      <td>29745.869141</td>\n      <td>1</td>\n    </tr>\n    <tr>\n      <th>2021-11-19</th>\n      <td>29768.539062</td>\n      <td>29589.189453</td>\n      <td>29641.050781</td>\n      <td>29745.869141</td>\n      <td>65600000.0</td>\n      <td>29745.869141</td>\n      <td>NaN</td>\n      <td>1</td>\n    </tr>\n  </tbody>\n</table>\n<p>1438 rows × 8 columns</p>\n</div>"
     },
     "metadata": {},
     "execution_count": 880
    }
   ],
   "source": [
    "n225['Future Close'] = n225['Close'].shift(-1)\n",
    "n225"
   ]
  },
  {
   "cell_type": "code",
   "execution_count": 881,
   "metadata": {},
   "outputs": [
    {
     "output_type": "stream",
     "name": "stderr",
     "text": [
      "/var/folders/_t/ffqnjnx55t7_d2v9hx5smxm00000gn/T/ipykernel_44804/318589239.py:3: SettingWithCopyWarning: \nA value is trying to be set on a copy of a slice from a DataFrame.\nTry using .loc[row_indexer,col_indexer] = value instead\n\nSee the caveats in the documentation: https://pandas.pydata.org/pandas-docs/stable/user_guide/indexing.html#returning-a-view-versus-a-copy\n  n225['Target'] = target\n"
     ]
    }
   ],
   "source": [
    "target = computeTarget(n225['Close'], n225['Future Close'])\n",
    "\n",
    "n225['Target'] = target\n",
    "n225_target = n225.tail(1)\n",
    "n225 = n225.dropna()"
   ]
  },
  {
   "cell_type": "code",
   "execution_count": 882,
   "metadata": {},
   "outputs": [],
   "source": [
    "close = n225['Close']\n",
    "high = n225['High']\n",
    "low = n225['Low']\n",
    "open = n225['Open']\n",
    "volume  = n225['Volume']"
   ]
  },
  {
   "cell_type": "code",
   "execution_count": 883,
   "metadata": {},
   "outputs": [
    {
     "output_type": "execute_result",
     "data": {
      "text/plain": [
       "                   SMA20         SMA50        SMA200           EMA  \\\n",
       "Date                                                                 \n",
       "2016-01-04           NaN           NaN           NaN           NaN   \n",
       "2016-01-05           NaN           NaN           NaN           NaN   \n",
       "2016-01-06           NaN           NaN           NaN           NaN   \n",
       "2016-01-07           NaN           NaN           NaN           NaN   \n",
       "2016-01-08           NaN           NaN           NaN           NaN   \n",
       "...                  ...           ...           ...           ...   \n",
       "2021-11-12  29197.853613  29270.851250  28896.242031  29287.266270   \n",
       "2021-11-15  29233.262109  29297.366875  28901.341738  29352.537538   \n",
       "2021-11-16  29272.395020  29322.659062  28907.225088  29413.281752   \n",
       "2021-11-17  29296.035547  29333.863477  28911.555293  29449.954862   \n",
       "2021-11-18  29313.191016  29332.638867  28916.817695  29469.782235   \n",
       "\n",
       "                     OBV      RSI14        ADX       ADXR  aroondown  \\\n",
       "Date                                                                   \n",
       "2016-01-04  1.402000e+08        NaN        NaN        NaN        NaN   \n",
       "2016-01-05  7.900000e+06        NaN        NaN        NaN        NaN   \n",
       "2016-01-06 -1.343000e+08        NaN        NaN        NaN        NaN   \n",
       "2016-01-07 -3.023000e+08        NaN        NaN        NaN        NaN   \n",
       "2016-01-08 -4.866000e+08        NaN        NaN        NaN        NaN   \n",
       "...                  ...        ...        ...        ...        ...   \n",
       "2021-11-12  5.650500e+09  56.767222  11.871649  16.094257   7.142857   \n",
       "2021-11-15  5.710900e+09  58.851897  11.824174  15.413168   0.000000   \n",
       "2021-11-16  5.772900e+09  59.249153  11.990726  14.860945  21.428571   \n",
       "2021-11-17  5.709000e+09  56.983099  11.979636  14.369150  14.285714   \n",
       "2021-11-18  5.643600e+09  55.278742  11.348443  13.825177   7.142857   \n",
       "\n",
       "               aroonup  ...      ROCR     ROCR100      slowk      slowd  \\\n",
       "Date                    ...                                               \n",
       "2016-01-04         NaN  ...       NaN         NaN        NaN        NaN   \n",
       "2016-01-05         NaN  ...       NaN         NaN        NaN        NaN   \n",
       "2016-01-06         NaN  ...       NaN         NaN        NaN        NaN   \n",
       "2016-01-07         NaN  ...       NaN         NaN        NaN        NaN   \n",
       "2016-01-08         NaN  ...       NaN         NaN        NaN        NaN   \n",
       "...                ...  ...       ...         ...        ...        ...   \n",
       "2021-11-12   57.142857  ...  1.027407  102.740730  37.764451  22.542156   \n",
       "2021-11-15   50.000000  ...  1.030600  103.059983  66.522879  39.220148   \n",
       "2021-11-16  100.000000  ...  1.005432  100.543187  84.425284  62.904204   \n",
       "2021-11-17   92.857143  ...  1.005672  100.567156  81.149848  77.366004   \n",
       "2021-11-18   85.714286  ...  0.993431   99.343134  63.762055  76.445729   \n",
       "\n",
       "                fastk      fastd      TRIX     ULTOSC      WILLR  Target  \n",
       "Date                                                                      \n",
       "2016-01-04        NaN        NaN       NaN        NaN        NaN       0  \n",
       "2016-01-05        NaN        NaN       NaN        NaN        NaN       0  \n",
       "2016-01-06        NaN        NaN       NaN        NaN        NaN       0  \n",
       "2016-01-07        NaN        NaN       NaN        NaN        NaN       0  \n",
       "2016-01-08        NaN        NaN       NaN        NaN        NaN       0  \n",
       "...               ...        ...       ...        ...        ...     ...  \n",
       "2021-11-12  80.223252  37.764451  0.033280  49.952988 -19.232236       1  \n",
       "2021-11-15  89.647116  66.522879  0.034467  49.140580  -7.398881       1  \n",
       "2021-11-16  83.405483  84.425284  0.035941  49.417832 -10.284253       0  \n",
       "2021-11-17  70.396946  81.149848  0.037510  49.491904 -18.346138       0  \n",
       "2021-11-18  37.483737  63.762055  0.039044  56.947511 -24.380985       1  \n",
       "\n",
       "[1437 rows x 38 columns]"
      ],
      "text/html": "<div>\n<style scoped>\n    .dataframe tbody tr th:only-of-type {\n        vertical-align: middle;\n    }\n\n    .dataframe tbody tr th {\n        vertical-align: top;\n    }\n\n    .dataframe thead th {\n        text-align: right;\n    }\n</style>\n<table border=\"1\" class=\"dataframe\">\n  <thead>\n    <tr style=\"text-align: right;\">\n      <th></th>\n      <th>SMA20</th>\n      <th>SMA50</th>\n      <th>SMA200</th>\n      <th>EMA</th>\n      <th>OBV</th>\n      <th>RSI14</th>\n      <th>ADX</th>\n      <th>ADXR</th>\n      <th>aroondown</th>\n      <th>aroonup</th>\n      <th>...</th>\n      <th>ROCR</th>\n      <th>ROCR100</th>\n      <th>slowk</th>\n      <th>slowd</th>\n      <th>fastk</th>\n      <th>fastd</th>\n      <th>TRIX</th>\n      <th>ULTOSC</th>\n      <th>WILLR</th>\n      <th>Target</th>\n    </tr>\n    <tr>\n      <th>Date</th>\n      <th></th>\n      <th></th>\n      <th></th>\n      <th></th>\n      <th></th>\n      <th></th>\n      <th></th>\n      <th></th>\n      <th></th>\n      <th></th>\n      <th></th>\n      <th></th>\n      <th></th>\n      <th></th>\n      <th></th>\n      <th></th>\n      <th></th>\n      <th></th>\n      <th></th>\n      <th></th>\n      <th></th>\n    </tr>\n  </thead>\n  <tbody>\n    <tr>\n      <th>2016-01-04</th>\n      <td>NaN</td>\n      <td>NaN</td>\n      <td>NaN</td>\n      <td>NaN</td>\n      <td>1.402000e+08</td>\n      <td>NaN</td>\n      <td>NaN</td>\n      <td>NaN</td>\n      <td>NaN</td>\n      <td>NaN</td>\n      <td>...</td>\n      <td>NaN</td>\n      <td>NaN</td>\n      <td>NaN</td>\n      <td>NaN</td>\n      <td>NaN</td>\n      <td>NaN</td>\n      <td>NaN</td>\n      <td>NaN</td>\n      <td>NaN</td>\n      <td>0</td>\n    </tr>\n    <tr>\n      <th>2016-01-05</th>\n      <td>NaN</td>\n      <td>NaN</td>\n      <td>NaN</td>\n      <td>NaN</td>\n      <td>7.900000e+06</td>\n      <td>NaN</td>\n      <td>NaN</td>\n      <td>NaN</td>\n      <td>NaN</td>\n      <td>NaN</td>\n      <td>...</td>\n      <td>NaN</td>\n      <td>NaN</td>\n      <td>NaN</td>\n      <td>NaN</td>\n      <td>NaN</td>\n      <td>NaN</td>\n      <td>NaN</td>\n      <td>NaN</td>\n      <td>NaN</td>\n      <td>0</td>\n    </tr>\n    <tr>\n      <th>2016-01-06</th>\n      <td>NaN</td>\n      <td>NaN</td>\n      <td>NaN</td>\n      <td>NaN</td>\n      <td>-1.343000e+08</td>\n      <td>NaN</td>\n      <td>NaN</td>\n      <td>NaN</td>\n      <td>NaN</td>\n      <td>NaN</td>\n      <td>...</td>\n      <td>NaN</td>\n      <td>NaN</td>\n      <td>NaN</td>\n      <td>NaN</td>\n      <td>NaN</td>\n      <td>NaN</td>\n      <td>NaN</td>\n      <td>NaN</td>\n      <td>NaN</td>\n      <td>0</td>\n    </tr>\n    <tr>\n      <th>2016-01-07</th>\n      <td>NaN</td>\n      <td>NaN</td>\n      <td>NaN</td>\n      <td>NaN</td>\n      <td>-3.023000e+08</td>\n      <td>NaN</td>\n      <td>NaN</td>\n      <td>NaN</td>\n      <td>NaN</td>\n      <td>NaN</td>\n      <td>...</td>\n      <td>NaN</td>\n      <td>NaN</td>\n      <td>NaN</td>\n      <td>NaN</td>\n      <td>NaN</td>\n      <td>NaN</td>\n      <td>NaN</td>\n      <td>NaN</td>\n      <td>NaN</td>\n      <td>0</td>\n    </tr>\n    <tr>\n      <th>2016-01-08</th>\n      <td>NaN</td>\n      <td>NaN</td>\n      <td>NaN</td>\n      <td>NaN</td>\n      <td>-4.866000e+08</td>\n      <td>NaN</td>\n      <td>NaN</td>\n      <td>NaN</td>\n      <td>NaN</td>\n      <td>NaN</td>\n      <td>...</td>\n      <td>NaN</td>\n      <td>NaN</td>\n      <td>NaN</td>\n      <td>NaN</td>\n      <td>NaN</td>\n      <td>NaN</td>\n      <td>NaN</td>\n      <td>NaN</td>\n      <td>NaN</td>\n      <td>0</td>\n    </tr>\n    <tr>\n      <th>...</th>\n      <td>...</td>\n      <td>...</td>\n      <td>...</td>\n      <td>...</td>\n      <td>...</td>\n      <td>...</td>\n      <td>...</td>\n      <td>...</td>\n      <td>...</td>\n      <td>...</td>\n      <td>...</td>\n      <td>...</td>\n      <td>...</td>\n      <td>...</td>\n      <td>...</td>\n      <td>...</td>\n      <td>...</td>\n      <td>...</td>\n      <td>...</td>\n      <td>...</td>\n      <td>...</td>\n    </tr>\n    <tr>\n      <th>2021-11-12</th>\n      <td>29197.853613</td>\n      <td>29270.851250</td>\n      <td>28896.242031</td>\n      <td>29287.266270</td>\n      <td>5.650500e+09</td>\n      <td>56.767222</td>\n      <td>11.871649</td>\n      <td>16.094257</td>\n      <td>7.142857</td>\n      <td>57.142857</td>\n      <td>...</td>\n      <td>1.027407</td>\n      <td>102.740730</td>\n      <td>37.764451</td>\n      <td>22.542156</td>\n      <td>80.223252</td>\n      <td>37.764451</td>\n      <td>0.033280</td>\n      <td>49.952988</td>\n      <td>-19.232236</td>\n      <td>1</td>\n    </tr>\n    <tr>\n      <th>2021-11-15</th>\n      <td>29233.262109</td>\n      <td>29297.366875</td>\n      <td>28901.341738</td>\n      <td>29352.537538</td>\n      <td>5.710900e+09</td>\n      <td>58.851897</td>\n      <td>11.824174</td>\n      <td>15.413168</td>\n      <td>0.000000</td>\n      <td>50.000000</td>\n      <td>...</td>\n      <td>1.030600</td>\n      <td>103.059983</td>\n      <td>66.522879</td>\n      <td>39.220148</td>\n      <td>89.647116</td>\n      <td>66.522879</td>\n      <td>0.034467</td>\n      <td>49.140580</td>\n      <td>-7.398881</td>\n      <td>1</td>\n    </tr>\n    <tr>\n      <th>2021-11-16</th>\n      <td>29272.395020</td>\n      <td>29322.659062</td>\n      <td>28907.225088</td>\n      <td>29413.281752</td>\n      <td>5.772900e+09</td>\n      <td>59.249153</td>\n      <td>11.990726</td>\n      <td>14.860945</td>\n      <td>21.428571</td>\n      <td>100.000000</td>\n      <td>...</td>\n      <td>1.005432</td>\n      <td>100.543187</td>\n      <td>84.425284</td>\n      <td>62.904204</td>\n      <td>83.405483</td>\n      <td>84.425284</td>\n      <td>0.035941</td>\n      <td>49.417832</td>\n      <td>-10.284253</td>\n      <td>0</td>\n    </tr>\n    <tr>\n      <th>2021-11-17</th>\n      <td>29296.035547</td>\n      <td>29333.863477</td>\n      <td>28911.555293</td>\n      <td>29449.954862</td>\n      <td>5.709000e+09</td>\n      <td>56.983099</td>\n      <td>11.979636</td>\n      <td>14.369150</td>\n      <td>14.285714</td>\n      <td>92.857143</td>\n      <td>...</td>\n      <td>1.005672</td>\n      <td>100.567156</td>\n      <td>81.149848</td>\n      <td>77.366004</td>\n      <td>70.396946</td>\n      <td>81.149848</td>\n      <td>0.037510</td>\n      <td>49.491904</td>\n      <td>-18.346138</td>\n      <td>0</td>\n    </tr>\n    <tr>\n      <th>2021-11-18</th>\n      <td>29313.191016</td>\n      <td>29332.638867</td>\n      <td>28916.817695</td>\n      <td>29469.782235</td>\n      <td>5.643600e+09</td>\n      <td>55.278742</td>\n      <td>11.348443</td>\n      <td>13.825177</td>\n      <td>7.142857</td>\n      <td>85.714286</td>\n      <td>...</td>\n      <td>0.993431</td>\n      <td>99.343134</td>\n      <td>63.762055</td>\n      <td>76.445729</td>\n      <td>37.483737</td>\n      <td>63.762055</td>\n      <td>0.039044</td>\n      <td>56.947511</td>\n      <td>-24.380985</td>\n      <td>1</td>\n    </tr>\n  </tbody>\n</table>\n<p>1437 rows × 38 columns</p>\n</div>"
     },
     "metadata": {},
     "execution_count": 883
    }
   ],
   "source": [
    "n225_ti = pd.DataFrame()\n",
    "n225_ti['SMA20'] = talib.SMA(close, timeperiod=20)\n",
    "n225_ti['SMA50'] = talib.SMA(close, timeperiod=50)\n",
    "n225_ti['SMA200'] = talib.SMA(close, timeperiod=200)\n",
    "n225_ti['EMA'] = talib.EMA(close, timeperiod=14)\n",
    "n225_ti['OBV'] = talib.OBV(close, volume)\n",
    "n225_ti['RSI14'] = talib.RSI(close, timeperiod=14)\n",
    "n225_ti['ADX'] = talib.ADX(high, low, close, timeperiod=14)\n",
    "n225_ti['ADXR'] = talib.ADXR(high, low, close, timeperiod=14)\n",
    "n225_ti['aroondown'], n225_ti['aroonup'] = talib.AROON(high, low, timeperiod=14)\n",
    "n225_ti['APO'] = talib.APO(close, fastperiod=12, slowperiod=26, matype=0)\n",
    "n225_ti['AROONOSC'] = talib.AROONOSC(high, low, timeperiod=14)\n",
    "n225_ti['BOP'] = talib.BOP(open, high, low, close)\n",
    "n225_ti['CCI'] = talib.CCI(high, low, close, timeperiod=14)\n",
    "n225_ti['CMO'] = talib.CMO(close, timeperiod=14)\n",
    "n225_ti['DX'] = talib.DX(high, low, close, timeperiod=14)\n",
    "n225_ti['macd'],n225_ti['macdsignal'],n225_ti['macdhist'] = talib.MACD(close, fastperiod = 12, slowperiod=26, signalperiod=9)\n",
    "n225_ti['MFI'] = talib.MFI(high, low, close, volume, timeperiod=14)\n",
    "n225_ti['MINUS_DI'] = talib.MINUS_DI(high, low, close, timeperiod=14)\n",
    "n225_ti['MINUS_DM'] = talib.MINUS_DM(high, low, timeperiod=14)\n",
    "n225_ti['MOM'] = talib.MOM(close, timeperiod=14)\n",
    "n225_ti['PLUS_DI'] = talib.PLUS_DI(high, low, close, timeperiod=14)\n",
    "n225_ti['PLUS_DM'] = talib.PLUS_DM(high, low, timeperiod=14)\n",
    "n225_ti['PPO'] = talib.PPO(close, fastperiod=12, slowperiod=26, matype=0)\n",
    "n225_ti['ROC'] = talib.ROC(close, timeperiod=10)\n",
    "n225_ti['ROCP'] = talib.ROCP(close, timeperiod=10)\n",
    "n225_ti['ROCR'] = talib.ROCR(close, timeperiod=10)\n",
    "n225_ti['ROCR100'] = talib.ROCR100(close, timeperiod=10)\n",
    "n225_ti['slowk'], n225_ti['slowd'] = talib.STOCH(high, low, close, fastk_period=5, slowk_period=3, slowd_period=3, slowd_matype=0)\n",
    "n225_ti['fastk'], n225_ti['fastd'] = talib.STOCHF(high, low, close, fastk_period=5, fastd_period=3, fastd_matype=0)\n",
    "n225_ti['TRIX'] = talib.TRIX(close, timeperiod=30)\n",
    "n225_ti['ULTOSC'] = talib.ULTOSC(high, low, close, timeperiod1=7, timeperiod2=14, timeperiod3=28)\n",
    "n225_ti['WILLR'] = talib.WILLR(high, low, close, timeperiod=14)\n",
    "n225_ti['Target'] = n225['Target']\n",
    "n225_ti"
   ]
  },
  {
   "cell_type": "code",
   "execution_count": 884,
   "metadata": {},
   "outputs": [],
   "source": [
    "n225_ti = n225_ti.dropna()\n",
    "X = n225_ti.drop(\"Target\", axis=1)  # Feature Matrix\n",
    "y = n225_ti[\"Target\"]               # Target Variable"
   ]
  },
  {
   "cell_type": "code",
   "execution_count": 885,
   "metadata": {},
   "outputs": [
    {
     "output_type": "stream",
     "name": "stdout",
     "text": [
      "[False False False False False False False  True False False False False\n  True False  True False False False False False  True False False False\n False False False False False  True False False False False  True  True\n False]\n[17 26 30 18 31 11  2  1 13 22 14 27  1 19  1 12 20 21 16 15  1 24 23  5\n 25  3  6 29 28  1 10  7  9  8  1  1  4]\n"
     ]
    }
   ],
   "source": [
    "model = LinearRegression()\n",
    "\n",
    "#Initializing RFE model\n",
    "rfe = RFE(model, n_features_to_select=7)\n",
    "\n",
    "#Transforming data using RFE\n",
    "X_rfe = rfe.fit_transform(X,y)  \n",
    "\n",
    "#Fitting the data to model\n",
    "model.fit(X_rfe,y)\n",
    "\n",
    "print(rfe.support_)\n",
    "print(rfe.ranking_)"
   ]
  },
  {
   "cell_type": "code",
   "execution_count": 886,
   "metadata": {},
   "outputs": [
    {
     "output_type": "stream",
     "name": "stdout",
     "text": [
      "Optimum number of features: 0\nScore with 0 features: 0.000000\n"
     ]
    }
   ],
   "source": [
    "# no. of features\n",
    "#\n",
    "nof_list = np.arange(1, 13)            \n",
    "high_score = 0\n",
    "\n",
    "# Variable to store the optimum features\n",
    "#\n",
    "nof = 0           \n",
    "score_list = []\n",
    "\n",
    "for n in range(len(nof_list)):\n",
    "    X_train, X_test, y_train, y_test = train_test_split(X,y, test_size = 0.9, random_state = 0)\n",
    "\n",
    "    model = LinearRegression()\n",
    "    rfe = RFE(model, n_features_to_select=nof_list[n])\n",
    "    X_train_rfe = rfe.fit_transform(X_train,y_train)\n",
    "    X_test_rfe = rfe.transform(X_test)\n",
    "    model.fit(X_train_rfe,y_train)\n",
    "\n",
    "    score = model.score(X_test_rfe,y_test)\n",
    "    score_list.append(score)\n",
    "\n",
    "    if(score > high_score):\n",
    "        high_score = score\n",
    "        nof = nof_list[n]\n",
    "\n",
    "print(\"Optimum number of features: %d\" % nof)\n",
    "print(\"Score with %d features: %f\" % (nof, high_score))"
   ]
  },
  {
   "cell_type": "code",
   "execution_count": 887,
   "metadata": {},
   "outputs": [
    {
     "output_type": "stream",
     "name": "stdout",
     "text": [
      "Index(['ADX', 'ADXR', 'BOP', 'CMO', 'MINUS_DI', 'PPO', 'ROCR100', 'TRIX',\n       'ULTOSC', 'WILLR'],\n      dtype='object')\n"
     ]
    }
   ],
   "source": [
    "cols = list(X.columns)\n",
    "model = LinearRegression()\n",
    "\n",
    "# Initializing RFE model\n",
    "rfe = RFE(model, n_features_to_select=10)             \n",
    "\n",
    "# Transforming data using RFE\n",
    "X_rfe = rfe.fit_transform(X,y)  \n",
    "\n",
    "# Fitting the data to model\n",
    "model.fit(X_rfe,y)              \n",
    "temp = pd.Series(rfe.support_, index = cols)\n",
    "selected_features_rfe = temp[temp==True].index\n",
    "\n",
    "print(selected_features_rfe)"
   ]
  },
  {
   "source": [
    "<h2>จากการทำ Feature Selection ควรจะใช้ 'ADX', 'ADXR', 'BOP', 'CMO', 'MINUS_DI', 'PPO', 'ROC', 'TRIX', 'ULTOSC',\n",
    "       'WILLR' ในการสร้าง model</h2>"
   ],
   "cell_type": "markdown",
   "metadata": {}
  },
  {
   "source": [],
   "cell_type": "markdown",
   "metadata": {}
  },
  {
   "cell_type": "code",
   "execution_count": 912,
   "metadata": {},
   "outputs": [],
   "source": [
    "X = n225_ti.loc[:, ['ADX', 'ADXR', 'BOP', 'CMO', 'MINUS_DI', 'PPO', 'ROCR100', 'TRIX', 'ULTOSC', 'WILLR']].values\n",
    "#X = dji_ti.loc[:, ['CCI', 'DX', 'MINUS_DI', 'PLUS_DM', 'slowd']].values\n",
    "y = n225_ti.loc[:, ['Target']].values\n",
    "X_train, X_test, y_train, y_test = train_test_split(X, y, test_size=0.2, random_state=0)"
   ]
  },
  {
   "cell_type": "code",
   "execution_count": 913,
   "metadata": {},
   "outputs": [],
   "source": [
    "sc = StandardScaler()\n",
    "X_train = sc.fit_transform(X_train)\n",
    "X_test = sc.transform(X_test)"
   ]
  },
  {
   "source": [
    "<h2>Decision Tree</h2>"
   ],
   "cell_type": "markdown",
   "metadata": {}
  },
  {
   "cell_type": "code",
   "execution_count": 914,
   "metadata": {},
   "outputs": [
    {
     "output_type": "execute_result",
     "data": {
      "text/plain": [
       "DecisionTreeClassifier()"
      ]
     },
     "metadata": {},
     "execution_count": 914
    }
   ],
   "source": [
    "dtc = DecisionTreeClassifier()\n",
    "dtc.fit(X_train, y_train)"
   ]
  },
  {
   "cell_type": "code",
   "execution_count": 915,
   "metadata": {},
   "outputs": [
    {
     "output_type": "execute_result",
     "data": {
      "text/plain": [
       "array([0, 1, 0, 1, 1, 0, 1, 0, 1, 0, 0, 1, 1, 0, 0, 0, 1, 0, 1, 0, 0, 1,\n",
       "       1, 0, 0, 0, 1, 1, 0, 1, 1, 0, 1, 1, 1, 0, 0, 0, 1, 0, 0, 1, 1, 1,\n",
       "       0, 1, 0, 0, 1, 1, 0, 1, 1, 0, 0, 1, 0, 1, 1, 0, 0, 1, 0, 0, 0, 1,\n",
       "       1, 0, 1, 1, 0, 1, 0, 0, 1, 1, 1, 1, 0, 1, 0, 0, 0, 0, 1, 1, 1, 1,\n",
       "       1, 1, 1, 0, 1, 1, 0, 1, 1, 1, 0, 1, 0, 1, 1, 0, 1, 1, 1, 0, 1, 0,\n",
       "       0, 1, 0, 1, 0, 1, 0, 0, 0, 1, 0, 1, 1, 0, 1, 0, 0, 1, 1, 0, 1, 0,\n",
       "       1, 0, 1, 0, 1, 1, 1, 1, 0, 0, 1, 1, 1, 1, 0, 1, 0, 1, 0, 0, 0, 0,\n",
       "       0, 1, 0, 0, 1, 0, 0, 1, 1, 1, 0, 1, 0, 0, 0, 1, 1, 0, 0, 1, 0, 0,\n",
       "       0, 1, 0, 0, 0, 1, 0, 0, 0, 1, 1, 1, 0, 0, 0, 1, 1, 1, 1, 0, 0, 1,\n",
       "       1, 0, 0, 1, 0, 1, 0, 0, 1, 1, 0, 1, 1, 1, 0, 1, 1, 1, 1, 0, 1, 1,\n",
       "       0, 0, 0, 0, 0, 0, 0, 0, 1, 1, 1, 0, 1, 0, 1, 0, 0, 0, 1, 1, 0, 0,\n",
       "       1, 0, 0, 1, 1, 1])"
      ]
     },
     "metadata": {},
     "execution_count": 915
    }
   ],
   "source": [
    "# Prediction\n",
    "#\n",
    "y_pred = dtc.predict(X_test)  #Accuracy\n",
    "y_pred"
   ]
  },
  {
   "cell_type": "code",
   "execution_count": 916,
   "metadata": {},
   "outputs": [
    {
     "output_type": "execute_result",
     "data": {
      "text/plain": [
       "array([[0],\n",
       "       [1],\n",
       "       [0],\n",
       "       [1],\n",
       "       [0],\n",
       "       [1],\n",
       "       [0],\n",
       "       [0],\n",
       "       [0],\n",
       "       [0],\n",
       "       [0],\n",
       "       [0],\n",
       "       [0],\n",
       "       [0],\n",
       "       [1],\n",
       "       [1],\n",
       "       [0],\n",
       "       [0],\n",
       "       [0],\n",
       "       [1],\n",
       "       [1],\n",
       "       [1],\n",
       "       [0],\n",
       "       [0],\n",
       "       [1],\n",
       "       [1],\n",
       "       [0],\n",
       "       [1],\n",
       "       [0],\n",
       "       [0],\n",
       "       [0],\n",
       "       [0],\n",
       "       [1],\n",
       "       [1],\n",
       "       [1],\n",
       "       [1],\n",
       "       [1],\n",
       "       [1],\n",
       "       [0],\n",
       "       [1],\n",
       "       [0],\n",
       "       [0],\n",
       "       [0],\n",
       "       [0],\n",
       "       [0],\n",
       "       [0],\n",
       "       [0],\n",
       "       [1],\n",
       "       [1],\n",
       "       [1],\n",
       "       [0],\n",
       "       [1],\n",
       "       [1],\n",
       "       [1],\n",
       "       [0],\n",
       "       [1],\n",
       "       [1],\n",
       "       [0],\n",
       "       [0],\n",
       "       [0],\n",
       "       [1],\n",
       "       [1],\n",
       "       [1],\n",
       "       [0],\n",
       "       [1],\n",
       "       [1],\n",
       "       [0],\n",
       "       [0],\n",
       "       [0],\n",
       "       [1],\n",
       "       [1],\n",
       "       [0],\n",
       "       [0],\n",
       "       [1],\n",
       "       [0],\n",
       "       [0],\n",
       "       [0],\n",
       "       [1],\n",
       "       [1],\n",
       "       [1],\n",
       "       [0],\n",
       "       [0],\n",
       "       [1],\n",
       "       [1],\n",
       "       [0],\n",
       "       [1],\n",
       "       [1],\n",
       "       [0],\n",
       "       [0],\n",
       "       [0],\n",
       "       [0],\n",
       "       [1],\n",
       "       [0],\n",
       "       [0],\n",
       "       [1],\n",
       "       [0],\n",
       "       [1],\n",
       "       [1],\n",
       "       [0],\n",
       "       [1],\n",
       "       [1],\n",
       "       [0],\n",
       "       [1],\n",
       "       [1],\n",
       "       [1],\n",
       "       [0],\n",
       "       [1],\n",
       "       [1],\n",
       "       [0],\n",
       "       [1],\n",
       "       [1],\n",
       "       [1],\n",
       "       [1],\n",
       "       [1],\n",
       "       [1],\n",
       "       [1],\n",
       "       [1],\n",
       "       [1],\n",
       "       [1],\n",
       "       [0],\n",
       "       [1],\n",
       "       [1],\n",
       "       [0],\n",
       "       [0],\n",
       "       [0],\n",
       "       [1],\n",
       "       [0],\n",
       "       [0],\n",
       "       [1],\n",
       "       [1],\n",
       "       [0],\n",
       "       [0],\n",
       "       [1],\n",
       "       [1],\n",
       "       [0],\n",
       "       [1],\n",
       "       [1],\n",
       "       [0],\n",
       "       [0],\n",
       "       [0],\n",
       "       [1],\n",
       "       [0],\n",
       "       [1],\n",
       "       [1],\n",
       "       [0],\n",
       "       [1],\n",
       "       [0],\n",
       "       [0],\n",
       "       [0],\n",
       "       [0],\n",
       "       [0],\n",
       "       [1],\n",
       "       [0],\n",
       "       [0],\n",
       "       [1],\n",
       "       [0],\n",
       "       [0],\n",
       "       [1],\n",
       "       [0],\n",
       "       [1],\n",
       "       [1],\n",
       "       [1],\n",
       "       [1],\n",
       "       [1],\n",
       "       [0],\n",
       "       [1],\n",
       "       [0],\n",
       "       [0],\n",
       "       [1],\n",
       "       [0],\n",
       "       [1],\n",
       "       [1],\n",
       "       [0],\n",
       "       [0],\n",
       "       [1],\n",
       "       [0],\n",
       "       [0],\n",
       "       [1],\n",
       "       [1],\n",
       "       [1],\n",
       "       [0],\n",
       "       [1],\n",
       "       [0],\n",
       "       [1],\n",
       "       [1],\n",
       "       [1],\n",
       "       [1],\n",
       "       [1],\n",
       "       [0],\n",
       "       [1],\n",
       "       [0],\n",
       "       [1],\n",
       "       [1],\n",
       "       [1],\n",
       "       [1],\n",
       "       [0],\n",
       "       [0],\n",
       "       [1],\n",
       "       [1],\n",
       "       [1],\n",
       "       [0],\n",
       "       [1],\n",
       "       [0],\n",
       "       [0],\n",
       "       [0],\n",
       "       [1],\n",
       "       [1],\n",
       "       [0],\n",
       "       [0],\n",
       "       [1],\n",
       "       [1],\n",
       "       [1],\n",
       "       [0],\n",
       "       [1],\n",
       "       [1],\n",
       "       [0],\n",
       "       [1],\n",
       "       [1],\n",
       "       [0],\n",
       "       [1],\n",
       "       [1],\n",
       "       [0],\n",
       "       [1],\n",
       "       [1],\n",
       "       [1],\n",
       "       [1],\n",
       "       [1],\n",
       "       [0],\n",
       "       [0],\n",
       "       [0],\n",
       "       [1],\n",
       "       [1],\n",
       "       [0],\n",
       "       [1],\n",
       "       [1],\n",
       "       [1],\n",
       "       [1],\n",
       "       [1],\n",
       "       [1],\n",
       "       [1],\n",
       "       [1],\n",
       "       [1],\n",
       "       [1],\n",
       "       [0],\n",
       "       [0],\n",
       "       [1],\n",
       "       [1],\n",
       "       [0]])"
      ]
     },
     "metadata": {},
     "execution_count": 916
    }
   ],
   "source": [
    "# Look at the actual y_test\n",
    "#\n",
    "y_test"
   ]
  },
  {
   "cell_type": "code",
   "execution_count": 917,
   "metadata": {},
   "outputs": [
    {
     "output_type": "stream",
     "name": "stdout",
     "text": [
      "Accuracy Score: 0.4838709677419355\n"
     ]
    }
   ],
   "source": [
    "# See the accuracy\n",
    "#\n",
    "from sklearn import metrics\n",
    "print('Accuracy Score:', metrics.accuracy_score(y_test, y_pred))"
   ]
  },
  {
   "cell_type": "code",
   "execution_count": 918,
   "metadata": {},
   "outputs": [
    {
     "output_type": "execute_result",
     "data": {
      "text/plain": [
       "array([[53, 59],\n",
       "       [69, 67]])"
      ]
     },
     "metadata": {},
     "execution_count": 918
    }
   ],
   "source": [
    "# See the confusion matrix\n",
    "#\n",
    "from sklearn.metrics import confusion_matrix\n",
    "cm = confusion_matrix(y_test, y_pred)\n",
    "cm"
   ]
  },
  {
   "source": [
    "<h2>Random Forest</h2>"
   ],
   "cell_type": "markdown",
   "metadata": {}
  },
  {
   "cell_type": "code",
   "execution_count": null,
   "metadata": {},
   "outputs": [],
   "source": []
  },
  {
   "source": [
    "<h2>Logistic Regression</h2>"
   ],
   "cell_type": "markdown",
   "metadata": {}
  },
  {
   "cell_type": "code",
   "execution_count": null,
   "metadata": {},
   "outputs": [],
   "source": []
  },
  {
   "source": [
    "<h2>XGBoost</h2>"
   ],
   "cell_type": "markdown",
   "metadata": {}
  },
  {
   "cell_type": "code",
   "execution_count": null,
   "metadata": {},
   "outputs": [],
   "source": []
  },
  {
   "source": [
    "<h2>Linear Regress</h2>"
   ],
   "cell_type": "markdown",
   "metadata": {}
  },
  {
   "cell_type": "code",
   "execution_count": null,
   "metadata": {},
   "outputs": [],
   "source": []
  },
  {
   "source": [
    "<h2>Cauccian Process Regression</h2>"
   ],
   "cell_type": "markdown",
   "metadata": {}
  },
  {
   "cell_type": "code",
   "execution_count": null,
   "metadata": {},
   "outputs": [],
   "source": []
  },
  {
   "source": [
    "<h1>Heng Seng Index</h1>"
   ],
   "cell_type": "markdown",
   "metadata": {}
  },
  {
   "source": [
    "<h2>Feature Selection</h2>"
   ],
   "cell_type": "markdown",
   "metadata": {}
  },
  {
   "cell_type": "code",
   "execution_count": 888,
   "metadata": {},
   "outputs": [
    {
     "output_type": "execute_result",
     "data": {
      "text/plain": [
       "                    High           Low          Open         Close  \\\n",
       "Date                                                                 \n",
       "2016-01-04  21794.839844  21227.609375  21782.619141  21327.119141   \n",
       "2016-01-05  21452.740234  21095.900391  21318.689453  21188.720703   \n",
       "2016-01-06  21199.619141  20947.300781  21142.630859  20980.810547   \n",
       "2016-01-07  20826.439453  20323.970703  20772.599609  20333.339844   \n",
       "2016-01-08  20596.419922  20324.619141  20491.880859  20453.710938   \n",
       "...                  ...           ...           ...           ...   \n",
       "2021-11-16  25746.710938  25410.869141  25446.650391  25713.779297   \n",
       "2021-11-17  25667.810547  25520.669922  25667.810547  25650.080078   \n",
       "2021-11-18  25414.210938  25222.599609  25369.880859  25319.720703   \n",
       "2021-11-19  25077.150391  24825.429688  24934.400391  25049.970703   \n",
       "2021-11-22  25099.949219  24869.939453  25057.060547  24951.339844   \n",
       "\n",
       "                  Volume     Adj Close  Future Close  Target  \n",
       "Date                                                          \n",
       "2016-01-04  1.712095e+09  21327.119141  21188.720703       0  \n",
       "2016-01-05  1.484745e+09  21188.720703  20980.810547       0  \n",
       "2016-01-06  1.651083e+09  20980.810547  20333.339844       0  \n",
       "2016-01-07  2.982004e+09  20333.339844  20453.710938       1  \n",
       "2016-01-08  2.078133e+09  20453.710938  19888.500000       0  \n",
       "...                  ...           ...           ...     ...  \n",
       "2021-11-16  1.528784e+09  25713.779297  25650.080078       0  \n",
       "2021-11-17  1.193809e+09  25650.080078  25319.720703       0  \n",
       "2021-11-18  1.342851e+09  25319.720703  25049.970703       0  \n",
       "2021-11-19  1.640365e+09  25049.970703  24951.339844       0  \n",
       "2021-11-22  1.510359e+09  24951.339844           NaN       0  \n",
       "\n",
       "[1450 rows x 8 columns]"
      ],
      "text/html": "<div>\n<style scoped>\n    .dataframe tbody tr th:only-of-type {\n        vertical-align: middle;\n    }\n\n    .dataframe tbody tr th {\n        vertical-align: top;\n    }\n\n    .dataframe thead th {\n        text-align: right;\n    }\n</style>\n<table border=\"1\" class=\"dataframe\">\n  <thead>\n    <tr style=\"text-align: right;\">\n      <th></th>\n      <th>High</th>\n      <th>Low</th>\n      <th>Open</th>\n      <th>Close</th>\n      <th>Volume</th>\n      <th>Adj Close</th>\n      <th>Future Close</th>\n      <th>Target</th>\n    </tr>\n    <tr>\n      <th>Date</th>\n      <th></th>\n      <th></th>\n      <th></th>\n      <th></th>\n      <th></th>\n      <th></th>\n      <th></th>\n      <th></th>\n    </tr>\n  </thead>\n  <tbody>\n    <tr>\n      <th>2016-01-04</th>\n      <td>21794.839844</td>\n      <td>21227.609375</td>\n      <td>21782.619141</td>\n      <td>21327.119141</td>\n      <td>1.712095e+09</td>\n      <td>21327.119141</td>\n      <td>21188.720703</td>\n      <td>0</td>\n    </tr>\n    <tr>\n      <th>2016-01-05</th>\n      <td>21452.740234</td>\n      <td>21095.900391</td>\n      <td>21318.689453</td>\n      <td>21188.720703</td>\n      <td>1.484745e+09</td>\n      <td>21188.720703</td>\n      <td>20980.810547</td>\n      <td>0</td>\n    </tr>\n    <tr>\n      <th>2016-01-06</th>\n      <td>21199.619141</td>\n      <td>20947.300781</td>\n      <td>21142.630859</td>\n      <td>20980.810547</td>\n      <td>1.651083e+09</td>\n      <td>20980.810547</td>\n      <td>20333.339844</td>\n      <td>0</td>\n    </tr>\n    <tr>\n      <th>2016-01-07</th>\n      <td>20826.439453</td>\n      <td>20323.970703</td>\n      <td>20772.599609</td>\n      <td>20333.339844</td>\n      <td>2.982004e+09</td>\n      <td>20333.339844</td>\n      <td>20453.710938</td>\n      <td>1</td>\n    </tr>\n    <tr>\n      <th>2016-01-08</th>\n      <td>20596.419922</td>\n      <td>20324.619141</td>\n      <td>20491.880859</td>\n      <td>20453.710938</td>\n      <td>2.078133e+09</td>\n      <td>20453.710938</td>\n      <td>19888.500000</td>\n      <td>0</td>\n    </tr>\n    <tr>\n      <th>...</th>\n      <td>...</td>\n      <td>...</td>\n      <td>...</td>\n      <td>...</td>\n      <td>...</td>\n      <td>...</td>\n      <td>...</td>\n      <td>...</td>\n    </tr>\n    <tr>\n      <th>2021-11-16</th>\n      <td>25746.710938</td>\n      <td>25410.869141</td>\n      <td>25446.650391</td>\n      <td>25713.779297</td>\n      <td>1.528784e+09</td>\n      <td>25713.779297</td>\n      <td>25650.080078</td>\n      <td>0</td>\n    </tr>\n    <tr>\n      <th>2021-11-17</th>\n      <td>25667.810547</td>\n      <td>25520.669922</td>\n      <td>25667.810547</td>\n      <td>25650.080078</td>\n      <td>1.193809e+09</td>\n      <td>25650.080078</td>\n      <td>25319.720703</td>\n      <td>0</td>\n    </tr>\n    <tr>\n      <th>2021-11-18</th>\n      <td>25414.210938</td>\n      <td>25222.599609</td>\n      <td>25369.880859</td>\n      <td>25319.720703</td>\n      <td>1.342851e+09</td>\n      <td>25319.720703</td>\n      <td>25049.970703</td>\n      <td>0</td>\n    </tr>\n    <tr>\n      <th>2021-11-19</th>\n      <td>25077.150391</td>\n      <td>24825.429688</td>\n      <td>24934.400391</td>\n      <td>25049.970703</td>\n      <td>1.640365e+09</td>\n      <td>25049.970703</td>\n      <td>24951.339844</td>\n      <td>0</td>\n    </tr>\n    <tr>\n      <th>2021-11-22</th>\n      <td>25099.949219</td>\n      <td>24869.939453</td>\n      <td>25057.060547</td>\n      <td>24951.339844</td>\n      <td>1.510359e+09</td>\n      <td>24951.339844</td>\n      <td>NaN</td>\n      <td>0</td>\n    </tr>\n  </tbody>\n</table>\n<p>1450 rows × 8 columns</p>\n</div>"
     },
     "metadata": {},
     "execution_count": 888
    }
   ],
   "source": [
    "hsi['Future Close'] = hsi['Close'].shift(-1)\n",
    "hsi"
   ]
  },
  {
   "cell_type": "code",
   "execution_count": 889,
   "metadata": {},
   "outputs": [],
   "source": [
    "target = computeTarget(hsi['Close'], hsi['Future Close'])\n",
    "\n",
    "hsi['Target'] = target\n",
    "hsi_target = hsi.loc[hsi.index[-1]]\n",
    "hsi = hsi.dropna()"
   ]
  },
  {
   "cell_type": "code",
   "execution_count": 890,
   "metadata": {},
   "outputs": [],
   "source": [
    "close = hsi['Close']\n",
    "high = hsi['High']\n",
    "low = hsi['Low']\n",
    "open = hsi['Open']\n",
    "volume  = hsi['Volume']"
   ]
  },
  {
   "cell_type": "code",
   "execution_count": 891,
   "metadata": {},
   "outputs": [
    {
     "output_type": "execute_result",
     "data": {
      "text/plain": [
       "                   SMA20         SMA50        SMA200           EMA  \\\n",
       "Date                                                                 \n",
       "2016-01-04           NaN           NaN           NaN           NaN   \n",
       "2016-01-05           NaN           NaN           NaN           NaN   \n",
       "2016-01-06           NaN           NaN           NaN           NaN   \n",
       "2016-01-07           NaN           NaN           NaN           NaN   \n",
       "2016-01-08           NaN           NaN           NaN           NaN   \n",
       "...                  ...           ...           ...           ...   \n",
       "2021-11-15  25435.702539  25221.596680  27525.287471  25210.275831   \n",
       "2021-11-16  25432.030957  25215.306484  27506.617119  25277.409626   \n",
       "2021-11-17  25407.733984  25206.499492  27484.072471  25327.099020   \n",
       "2021-11-18  25372.843555  25194.854102  27463.714775  25326.115244   \n",
       "2021-11-19  25318.995605  25172.580898  27442.476982  25289.295972   \n",
       "\n",
       "                     OBV      RSI14        ADX       ADXR  aroondown  \\\n",
       "Date                                                                   \n",
       "2016-01-04  1.712095e+09        NaN        NaN        NaN        NaN   \n",
       "2016-01-05  2.273497e+08        NaN        NaN        NaN        NaN   \n",
       "2016-01-06 -1.423734e+09        NaN        NaN        NaN        NaN   \n",
       "2016-01-07 -4.405738e+09        NaN        NaN        NaN        NaN   \n",
       "2016-01-08 -2.327604e+09        NaN        NaN        NaN        NaN   \n",
       "...                  ...        ...        ...        ...        ...   \n",
       "2021-11-15  1.892220e+11  53.157491  12.705711  15.549905  78.571429   \n",
       "2021-11-16  1.907508e+11  58.646649  12.476613  14.799833  71.428571   \n",
       "2021-11-17  1.895570e+11  57.221959  12.263880  14.301206  64.285714   \n",
       "2021-11-18  1.882141e+11  50.385653  11.571831  13.974159  57.142857   \n",
       "2021-11-19  1.865737e+11  45.595592  11.879860  13.655748  50.000000   \n",
       "\n",
       "              aroonup  ...      ROCR     ROCR100      slowk      slowd  \\\n",
       "Date                   ...                                               \n",
       "2016-01-04        NaN  ...       NaN         NaN        NaN        NaN   \n",
       "2016-01-05        NaN  ...       NaN         NaN        NaN        NaN   \n",
       "2016-01-06        NaN  ...       NaN         NaN        NaN        NaN   \n",
       "2016-01-07        NaN  ...       NaN         NaN        NaN        NaN   \n",
       "2016-01-08        NaN  ...       NaN         NaN        NaN        NaN   \n",
       "...               ...  ...       ...         ...        ...        ...   \n",
       "2021-11-15   0.000000  ...  1.009406  100.940554  86.280765  76.202418   \n",
       "2021-11-16   0.000000  ...  1.024467  102.446683  88.443502  84.828571   \n",
       "2021-11-17  92.857143  ...  1.024988  102.498846  91.253358  88.659208   \n",
       "2021-11-18  85.714286  ...  1.003747  100.374749  69.048227  82.915029   \n",
       "2021-11-19  78.571429  ...  1.007216  100.721581  44.706578  68.336054   \n",
       "\n",
       "                fastk      fastd      TRIX     ULTOSC      WILLR  Target  \n",
       "Date                                                                      \n",
       "2016-01-04        NaN        NaN       NaN        NaN        NaN       0  \n",
       "2016-01-05        NaN        NaN       NaN        NaN        NaN       0  \n",
       "2016-01-06        NaN        NaN       NaN        NaN        NaN       0  \n",
       "2016-01-07        NaN        NaN       NaN        NaN        NaN       1  \n",
       "2016-01-08        NaN        NaN       NaN        NaN        NaN       0  \n",
       "...               ...        ...       ...        ...        ...     ...  \n",
       "2021-11-15  86.975383  86.280765 -0.077363  57.778570 -30.767687       1  \n",
       "2021-11-16  97.397636  88.443502 -0.073960  65.696857  -2.602364       0  \n",
       "2021-11-17  89.387056  91.253358 -0.070285  67.084202  -7.636080       0  \n",
       "2021-11-18  20.359988  69.048227 -0.066757  62.814885 -33.742134       0  \n",
       "2021-11-19  24.372689  44.706578 -0.063657  56.756723 -55.058642       0  \n",
       "\n",
       "[1449 rows x 38 columns]"
      ],
      "text/html": "<div>\n<style scoped>\n    .dataframe tbody tr th:only-of-type {\n        vertical-align: middle;\n    }\n\n    .dataframe tbody tr th {\n        vertical-align: top;\n    }\n\n    .dataframe thead th {\n        text-align: right;\n    }\n</style>\n<table border=\"1\" class=\"dataframe\">\n  <thead>\n    <tr style=\"text-align: right;\">\n      <th></th>\n      <th>SMA20</th>\n      <th>SMA50</th>\n      <th>SMA200</th>\n      <th>EMA</th>\n      <th>OBV</th>\n      <th>RSI14</th>\n      <th>ADX</th>\n      <th>ADXR</th>\n      <th>aroondown</th>\n      <th>aroonup</th>\n      <th>...</th>\n      <th>ROCR</th>\n      <th>ROCR100</th>\n      <th>slowk</th>\n      <th>slowd</th>\n      <th>fastk</th>\n      <th>fastd</th>\n      <th>TRIX</th>\n      <th>ULTOSC</th>\n      <th>WILLR</th>\n      <th>Target</th>\n    </tr>\n    <tr>\n      <th>Date</th>\n      <th></th>\n      <th></th>\n      <th></th>\n      <th></th>\n      <th></th>\n      <th></th>\n      <th></th>\n      <th></th>\n      <th></th>\n      <th></th>\n      <th></th>\n      <th></th>\n      <th></th>\n      <th></th>\n      <th></th>\n      <th></th>\n      <th></th>\n      <th></th>\n      <th></th>\n      <th></th>\n      <th></th>\n    </tr>\n  </thead>\n  <tbody>\n    <tr>\n      <th>2016-01-04</th>\n      <td>NaN</td>\n      <td>NaN</td>\n      <td>NaN</td>\n      <td>NaN</td>\n      <td>1.712095e+09</td>\n      <td>NaN</td>\n      <td>NaN</td>\n      <td>NaN</td>\n      <td>NaN</td>\n      <td>NaN</td>\n      <td>...</td>\n      <td>NaN</td>\n      <td>NaN</td>\n      <td>NaN</td>\n      <td>NaN</td>\n      <td>NaN</td>\n      <td>NaN</td>\n      <td>NaN</td>\n      <td>NaN</td>\n      <td>NaN</td>\n      <td>0</td>\n    </tr>\n    <tr>\n      <th>2016-01-05</th>\n      <td>NaN</td>\n      <td>NaN</td>\n      <td>NaN</td>\n      <td>NaN</td>\n      <td>2.273497e+08</td>\n      <td>NaN</td>\n      <td>NaN</td>\n      <td>NaN</td>\n      <td>NaN</td>\n      <td>NaN</td>\n      <td>...</td>\n      <td>NaN</td>\n      <td>NaN</td>\n      <td>NaN</td>\n      <td>NaN</td>\n      <td>NaN</td>\n      <td>NaN</td>\n      <td>NaN</td>\n      <td>NaN</td>\n      <td>NaN</td>\n      <td>0</td>\n    </tr>\n    <tr>\n      <th>2016-01-06</th>\n      <td>NaN</td>\n      <td>NaN</td>\n      <td>NaN</td>\n      <td>NaN</td>\n      <td>-1.423734e+09</td>\n      <td>NaN</td>\n      <td>NaN</td>\n      <td>NaN</td>\n      <td>NaN</td>\n      <td>NaN</td>\n      <td>...</td>\n      <td>NaN</td>\n      <td>NaN</td>\n      <td>NaN</td>\n      <td>NaN</td>\n      <td>NaN</td>\n      <td>NaN</td>\n      <td>NaN</td>\n      <td>NaN</td>\n      <td>NaN</td>\n      <td>0</td>\n    </tr>\n    <tr>\n      <th>2016-01-07</th>\n      <td>NaN</td>\n      <td>NaN</td>\n      <td>NaN</td>\n      <td>NaN</td>\n      <td>-4.405738e+09</td>\n      <td>NaN</td>\n      <td>NaN</td>\n      <td>NaN</td>\n      <td>NaN</td>\n      <td>NaN</td>\n      <td>...</td>\n      <td>NaN</td>\n      <td>NaN</td>\n      <td>NaN</td>\n      <td>NaN</td>\n      <td>NaN</td>\n      <td>NaN</td>\n      <td>NaN</td>\n      <td>NaN</td>\n      <td>NaN</td>\n      <td>1</td>\n    </tr>\n    <tr>\n      <th>2016-01-08</th>\n      <td>NaN</td>\n      <td>NaN</td>\n      <td>NaN</td>\n      <td>NaN</td>\n      <td>-2.327604e+09</td>\n      <td>NaN</td>\n      <td>NaN</td>\n      <td>NaN</td>\n      <td>NaN</td>\n      <td>NaN</td>\n      <td>...</td>\n      <td>NaN</td>\n      <td>NaN</td>\n      <td>NaN</td>\n      <td>NaN</td>\n      <td>NaN</td>\n      <td>NaN</td>\n      <td>NaN</td>\n      <td>NaN</td>\n      <td>NaN</td>\n      <td>0</td>\n    </tr>\n    <tr>\n      <th>...</th>\n      <td>...</td>\n      <td>...</td>\n      <td>...</td>\n      <td>...</td>\n      <td>...</td>\n      <td>...</td>\n      <td>...</td>\n      <td>...</td>\n      <td>...</td>\n      <td>...</td>\n      <td>...</td>\n      <td>...</td>\n      <td>...</td>\n      <td>...</td>\n      <td>...</td>\n      <td>...</td>\n      <td>...</td>\n      <td>...</td>\n      <td>...</td>\n      <td>...</td>\n      <td>...</td>\n    </tr>\n    <tr>\n      <th>2021-11-15</th>\n      <td>25435.702539</td>\n      <td>25221.596680</td>\n      <td>27525.287471</td>\n      <td>25210.275831</td>\n      <td>1.892220e+11</td>\n      <td>53.157491</td>\n      <td>12.705711</td>\n      <td>15.549905</td>\n      <td>78.571429</td>\n      <td>0.000000</td>\n      <td>...</td>\n      <td>1.009406</td>\n      <td>100.940554</td>\n      <td>86.280765</td>\n      <td>76.202418</td>\n      <td>86.975383</td>\n      <td>86.280765</td>\n      <td>-0.077363</td>\n      <td>57.778570</td>\n      <td>-30.767687</td>\n      <td>1</td>\n    </tr>\n    <tr>\n      <th>2021-11-16</th>\n      <td>25432.030957</td>\n      <td>25215.306484</td>\n      <td>27506.617119</td>\n      <td>25277.409626</td>\n      <td>1.907508e+11</td>\n      <td>58.646649</td>\n      <td>12.476613</td>\n      <td>14.799833</td>\n      <td>71.428571</td>\n      <td>0.000000</td>\n      <td>...</td>\n      <td>1.024467</td>\n      <td>102.446683</td>\n      <td>88.443502</td>\n      <td>84.828571</td>\n      <td>97.397636</td>\n      <td>88.443502</td>\n      <td>-0.073960</td>\n      <td>65.696857</td>\n      <td>-2.602364</td>\n      <td>0</td>\n    </tr>\n    <tr>\n      <th>2021-11-17</th>\n      <td>25407.733984</td>\n      <td>25206.499492</td>\n      <td>27484.072471</td>\n      <td>25327.099020</td>\n      <td>1.895570e+11</td>\n      <td>57.221959</td>\n      <td>12.263880</td>\n      <td>14.301206</td>\n      <td>64.285714</td>\n      <td>92.857143</td>\n      <td>...</td>\n      <td>1.024988</td>\n      <td>102.498846</td>\n      <td>91.253358</td>\n      <td>88.659208</td>\n      <td>89.387056</td>\n      <td>91.253358</td>\n      <td>-0.070285</td>\n      <td>67.084202</td>\n      <td>-7.636080</td>\n      <td>0</td>\n    </tr>\n    <tr>\n      <th>2021-11-18</th>\n      <td>25372.843555</td>\n      <td>25194.854102</td>\n      <td>27463.714775</td>\n      <td>25326.115244</td>\n      <td>1.882141e+11</td>\n      <td>50.385653</td>\n      <td>11.571831</td>\n      <td>13.974159</td>\n      <td>57.142857</td>\n      <td>85.714286</td>\n      <td>...</td>\n      <td>1.003747</td>\n      <td>100.374749</td>\n      <td>69.048227</td>\n      <td>82.915029</td>\n      <td>20.359988</td>\n      <td>69.048227</td>\n      <td>-0.066757</td>\n      <td>62.814885</td>\n      <td>-33.742134</td>\n      <td>0</td>\n    </tr>\n    <tr>\n      <th>2021-11-19</th>\n      <td>25318.995605</td>\n      <td>25172.580898</td>\n      <td>27442.476982</td>\n      <td>25289.295972</td>\n      <td>1.865737e+11</td>\n      <td>45.595592</td>\n      <td>11.879860</td>\n      <td>13.655748</td>\n      <td>50.000000</td>\n      <td>78.571429</td>\n      <td>...</td>\n      <td>1.007216</td>\n      <td>100.721581</td>\n      <td>44.706578</td>\n      <td>68.336054</td>\n      <td>24.372689</td>\n      <td>44.706578</td>\n      <td>-0.063657</td>\n      <td>56.756723</td>\n      <td>-55.058642</td>\n      <td>0</td>\n    </tr>\n  </tbody>\n</table>\n<p>1449 rows × 38 columns</p>\n</div>"
     },
     "metadata": {},
     "execution_count": 891
    }
   ],
   "source": [
    "hsi_ti = pd.DataFrame()\n",
    "hsi_ti['SMA20'] = talib.SMA(close, timeperiod=20)\n",
    "hsi_ti['SMA50'] = talib.SMA(close, timeperiod=50)\n",
    "hsi_ti['SMA200'] = talib.SMA(close, timeperiod=200)\n",
    "hsi_ti['EMA'] = talib.EMA(close, timeperiod=14)\n",
    "hsi_ti['OBV'] = talib.OBV(close, volume)\n",
    "hsi_ti['RSI14'] = talib.RSI(close, timeperiod=14)\n",
    "hsi_ti['ADX'] = talib.ADX(high, low, close, timeperiod=14)\n",
    "hsi_ti['ADXR'] = talib.ADXR(high, low, close, timeperiod=14)\n",
    "hsi_ti['aroondown'], hsi_ti['aroonup'] = talib.AROON(high, low, timeperiod=14)\n",
    "hsi_ti['APO'] = talib.APO(close, fastperiod=12, slowperiod=26, matype=0)\n",
    "hsi_ti['AROONOSC'] = talib.AROONOSC(high, low, timeperiod=14)\n",
    "hsi_ti['BOP'] = talib.BOP(open, high, low, close)\n",
    "hsi_ti['CCI'] = talib.CCI(high, low, close, timeperiod=14)\n",
    "hsi_ti['CMO'] = talib.CMO(close, timeperiod=14)\n",
    "hsi_ti['DX'] = talib.DX(high, low, close, timeperiod=14)\n",
    "hsi_ti['macd'],hsi_ti['macdsignal'],hsi_ti['macdhist'] = talib.MACD(close, fastperiod = 12, slowperiod=26, signalperiod=9)\n",
    "hsi_ti['MFI'] = talib.MFI(high, low, close, volume, timeperiod=14)\n",
    "hsi_ti['MINUS_DI'] = talib.MINUS_DI(high, low, close, timeperiod=14)\n",
    "hsi_ti['MINUS_DM'] = talib.MINUS_DM(high, low, timeperiod=14)\n",
    "hsi_ti['MOM'] = talib.MOM(close, timeperiod=14)\n",
    "hsi_ti['PLUS_DI'] = talib.PLUS_DI(high, low, close, timeperiod=14)\n",
    "hsi_ti['PLUS_DM'] = talib.PLUS_DM(high, low, timeperiod=14)\n",
    "hsi_ti['PPO'] = talib.PPO(close, fastperiod=12, slowperiod=26, matype=0)\n",
    "hsi_ti['ROC'] = talib.ROC(close, timeperiod=10)\n",
    "hsi_ti['ROCP'] = talib.ROCP(close, timeperiod=10)\n",
    "hsi_ti['ROCR'] = talib.ROCR(close, timeperiod=10)\n",
    "hsi_ti['ROCR100'] = talib.ROCR100(close, timeperiod=10)\n",
    "hsi_ti['slowk'], hsi_ti['slowd'] = talib.STOCH(high, low, close, fastk_period=5, slowk_period=3, slowd_period=3, slowd_matype=0)\n",
    "hsi_ti['fastk'], hsi_ti['fastd'] = talib.STOCHF(high, low, close, fastk_period=5, fastd_period=3, fastd_matype=0)\n",
    "hsi_ti['TRIX'] = talib.TRIX(close, timeperiod=30)\n",
    "hsi_ti['ULTOSC'] = talib.ULTOSC(high, low, close, timeperiod1=7, timeperiod2=14, timeperiod3=28)\n",
    "hsi_ti['WILLR'] = talib.WILLR(high, low, close, timeperiod=14)\n",
    "hsi_ti['Target'] = hsi['Target']\n",
    "hsi_ti"
   ]
  },
  {
   "cell_type": "code",
   "execution_count": 892,
   "metadata": {},
   "outputs": [],
   "source": [
    "hsi_ti = hsi_ti.dropna()\n",
    "X = hsi_ti.drop(\"Target\", axis=1)  # Feature Matrix\n",
    "y = hsi_ti[\"Target\"]               # Target Variable"
   ]
  },
  {
   "cell_type": "code",
   "execution_count": 893,
   "metadata": {},
   "outputs": [
    {
     "output_type": "stream",
     "name": "stdout",
     "text": [
      "[False False False False False False False False False False False False\n  True False False  True False False False False  True False False  True\n False  True False False False False False False False False  True False\n  True]\n[19 28 30 20 31 17  2  3  6 21 11 25  1  8 13  1 12 24 16  4  1 23 29  1\n 22  1 15 26 27 14  7  5 18  9  1 10  1]\n"
     ]
    }
   ],
   "source": [
    "model = LinearRegression()\n",
    "\n",
    "#Initializing RFE model\n",
    "rfe = RFE(model, n_features_to_select=7)\n",
    "\n",
    "#Transforming data using RFE\n",
    "X_rfe = rfe.fit_transform(X,y)  \n",
    "\n",
    "#Fitting the data to model\n",
    "model.fit(X_rfe,y)\n",
    "\n",
    "print(rfe.support_)\n",
    "print(rfe.ranking_)"
   ]
  },
  {
   "cell_type": "code",
   "execution_count": 894,
   "metadata": {},
   "outputs": [
    {
     "output_type": "stream",
     "name": "stdout",
     "text": [
      "Optimum number of features: 0\nScore with 0 features: 0.000000\n"
     ]
    }
   ],
   "source": [
    "# no. of features\n",
    "#\n",
    "nof_list = np.arange(1, 13)            \n",
    "high_score = 0\n",
    "\n",
    "# Variable to store the optimum features\n",
    "#\n",
    "nof = 0           \n",
    "score_list = []\n",
    "\n",
    "for n in range(len(nof_list)):\n",
    "    X_train, X_test, y_train, y_test = train_test_split(X,y, test_size = 0.9, random_state = 0)\n",
    "\n",
    "    model = LinearRegression()\n",
    "    rfe = RFE(model, n_features_to_select=nof_list[n])\n",
    "    X_train_rfe = rfe.fit_transform(X_train,y_train)\n",
    "    X_test_rfe = rfe.transform(X_test)\n",
    "    model.fit(X_train_rfe,y_train)\n",
    "\n",
    "    score = model.score(X_test_rfe,y_test)\n",
    "    score_list.append(score)\n",
    "\n",
    "    if(score > high_score):\n",
    "        high_score = score\n",
    "        nof = nof_list[n]\n",
    "\n",
    "print(\"Optimum number of features: %d\" % nof)\n",
    "print(\"Score with %d features: %f\" % (nof, high_score))"
   ]
  },
  {
   "cell_type": "code",
   "execution_count": 847,
   "metadata": {},
   "outputs": [
    {
     "output_type": "stream",
     "name": "stdout",
     "text": [
      "Index(['ADX', 'BOP', 'DX', 'MFI', 'MINUS_DI', 'PLUS_DI', 'PPO', 'ROC',\n       'ROCR100', 'TRIX'],\n      dtype='object')\n"
     ]
    }
   ],
   "source": [
    "cols = list(X.columns)\n",
    "model = LinearRegression()\n",
    "\n",
    "# Initializing RFE model\n",
    "rfe = RFE(model, n_features_to_select=10)             \n",
    "\n",
    "# Transforming data using RFE\n",
    "X_rfe = rfe.fit_transform(X,y)  \n",
    "\n",
    "# Fitting the data to model\n",
    "model.fit(X_rfe,y)              \n",
    "temp = pd.Series(rfe.support_, index = cols)\n",
    "selected_features_rfe = temp[temp==True].index\n",
    "\n",
    "print(selected_features_rfe)"
   ]
  },
  {
   "source": [
    "<h2>จากการทำ Feature Selection ควรจะใช้ 'ADX', 'BOP', 'DX', 'MFI', 'MINUS_DI', 'PLUS_DI', 'PPO', 'ROC',\n",
    "       'ROCR100', 'TRIX'ในการสร้าง model</h2>"
   ],
   "cell_type": "markdown",
   "metadata": {}
  },
  {
   "cell_type": "code",
   "execution_count": 920,
   "metadata": {},
   "outputs": [],
   "source": [
    "X = hsi_ti.loc[:, ['ADX', 'BOP', 'DX', 'MFI', 'MINUS_DI', 'PLUS_DI', 'PPO', 'ROC','ROCR100', 'TRIX']].values\n",
    "#X = dji_ti.loc[:, ['CCI', 'DX', 'MINUS_DI', 'PLUS_DM', 'slowd']].values\n",
    "y = hsi_ti.loc[:, ['Target']].values\n",
    "X_train, X_test, y_train, y_test = train_test_split(X, y, test_size=0.2, random_state=0)"
   ]
  },
  {
   "cell_type": "code",
   "execution_count": 921,
   "metadata": {},
   "outputs": [],
   "source": [
    "sc = StandardScaler()\n",
    "X_train = sc.fit_transform(X_train)\n",
    "X_test = sc.transform(X_test)"
   ]
  },
  {
   "source": [
    "<h2>Decision Tree</h2>"
   ],
   "cell_type": "markdown",
   "metadata": {}
  },
  {
   "cell_type": "code",
   "execution_count": 922,
   "metadata": {},
   "outputs": [
    {
     "output_type": "execute_result",
     "data": {
      "text/plain": [
       "DecisionTreeClassifier()"
      ]
     },
     "metadata": {},
     "execution_count": 922
    }
   ],
   "source": [
    "dtc = DecisionTreeClassifier()\n",
    "dtc.fit(X_train, y_train)"
   ]
  },
  {
   "cell_type": "code",
   "execution_count": 923,
   "metadata": {},
   "outputs": [
    {
     "output_type": "execute_result",
     "data": {
      "text/plain": [
       "array([0, 0, 1, 1, 1, 1, 1, 1, 1, 1, 0, 0, 1, 1, 0, 1, 1, 0, 1, 1, 0, 0,\n",
       "       0, 1, 0, 0, 0, 1, 1, 1, 0, 0, 0, 1, 0, 0, 1, 1, 1, 1, 0, 0, 1, 1,\n",
       "       1, 0, 1, 1, 0, 1, 0, 1, 0, 1, 0, 1, 0, 0, 1, 1, 1, 0, 1, 0, 1, 1,\n",
       "       0, 0, 1, 1, 0, 0, 0, 1, 1, 1, 1, 1, 1, 1, 1, 1, 1, 1, 1, 1, 0, 1,\n",
       "       1, 0, 1, 1, 0, 0, 0, 0, 1, 0, 1, 1, 1, 0, 1, 1, 1, 1, 1, 1, 1, 0,\n",
       "       1, 0, 0, 0, 1, 1, 1, 1, 1, 1, 0, 0, 1, 1, 1, 1, 1, 1, 0, 1, 0, 0,\n",
       "       0, 1, 0, 1, 0, 0, 0, 0, 1, 1, 1, 0, 1, 0, 1, 1, 0, 1, 0, 1, 0, 1,\n",
       "       1, 1, 0, 1, 1, 1, 1, 1, 1, 0, 1, 0, 0, 1, 1, 0, 1, 0, 1, 0, 1, 0,\n",
       "       1, 1, 0, 1, 0, 0, 1, 1, 1, 0, 1, 1, 0, 0, 0, 1, 1, 1, 1, 0, 0, 0,\n",
       "       1, 0, 1, 1, 0, 1, 1, 1, 1, 0, 1, 1, 1, 0, 1, 0, 0, 0, 0, 1, 0, 1,\n",
       "       1, 1, 0, 1, 1, 0, 0, 0, 1, 0, 1, 0, 0, 1, 0, 1, 1, 0, 0, 0, 1, 0,\n",
       "       1, 0, 1, 0, 0, 0, 1, 0])"
      ]
     },
     "metadata": {},
     "execution_count": 923
    }
   ],
   "source": [
    "# Prediction\n",
    "#\n",
    "y_pred = dtc.predict(X_test)  #Accuracy\n",
    "y_pred"
   ]
  },
  {
   "cell_type": "code",
   "execution_count": 924,
   "metadata": {},
   "outputs": [
    {
     "output_type": "execute_result",
     "data": {
      "text/plain": [
       "array([[0],\n",
       "       [1],\n",
       "       [1],\n",
       "       [0],\n",
       "       [1],\n",
       "       [0],\n",
       "       [1],\n",
       "       [1],\n",
       "       [0],\n",
       "       [1],\n",
       "       [1],\n",
       "       [1],\n",
       "       [1],\n",
       "       [0],\n",
       "       [1],\n",
       "       [1],\n",
       "       [0],\n",
       "       [1],\n",
       "       [1],\n",
       "       [1],\n",
       "       [1],\n",
       "       [0],\n",
       "       [1],\n",
       "       [1],\n",
       "       [0],\n",
       "       [1],\n",
       "       [1],\n",
       "       [0],\n",
       "       [0],\n",
       "       [1],\n",
       "       [0],\n",
       "       [0],\n",
       "       [0],\n",
       "       [1],\n",
       "       [1],\n",
       "       [0],\n",
       "       [0],\n",
       "       [0],\n",
       "       [1],\n",
       "       [0],\n",
       "       [1],\n",
       "       [1],\n",
       "       [1],\n",
       "       [0],\n",
       "       [0],\n",
       "       [1],\n",
       "       [0],\n",
       "       [1],\n",
       "       [0],\n",
       "       [1],\n",
       "       [0],\n",
       "       [0],\n",
       "       [0],\n",
       "       [1],\n",
       "       [0],\n",
       "       [1],\n",
       "       [1],\n",
       "       [0],\n",
       "       [0],\n",
       "       [0],\n",
       "       [1],\n",
       "       [0],\n",
       "       [0],\n",
       "       [1],\n",
       "       [1],\n",
       "       [0],\n",
       "       [1],\n",
       "       [1],\n",
       "       [1],\n",
       "       [0],\n",
       "       [1],\n",
       "       [0],\n",
       "       [1],\n",
       "       [0],\n",
       "       [0],\n",
       "       [1],\n",
       "       [0],\n",
       "       [0],\n",
       "       [1],\n",
       "       [1],\n",
       "       [0],\n",
       "       [0],\n",
       "       [0],\n",
       "       [0],\n",
       "       [1],\n",
       "       [0],\n",
       "       [0],\n",
       "       [1],\n",
       "       [0],\n",
       "       [1],\n",
       "       [0],\n",
       "       [1],\n",
       "       [0],\n",
       "       [1],\n",
       "       [1],\n",
       "       [0],\n",
       "       [0],\n",
       "       [1],\n",
       "       [0],\n",
       "       [0],\n",
       "       [0],\n",
       "       [0],\n",
       "       [1],\n",
       "       [1],\n",
       "       [1],\n",
       "       [1],\n",
       "       [0],\n",
       "       [1],\n",
       "       [0],\n",
       "       [1],\n",
       "       [1],\n",
       "       [1],\n",
       "       [1],\n",
       "       [1],\n",
       "       [0],\n",
       "       [0],\n",
       "       [1],\n",
       "       [0],\n",
       "       [1],\n",
       "       [0],\n",
       "       [0],\n",
       "       [1],\n",
       "       [0],\n",
       "       [0],\n",
       "       [1],\n",
       "       [1],\n",
       "       [1],\n",
       "       [1],\n",
       "       [0],\n",
       "       [1],\n",
       "       [0],\n",
       "       [1],\n",
       "       [0],\n",
       "       [1],\n",
       "       [1],\n",
       "       [1],\n",
       "       [0],\n",
       "       [1],\n",
       "       [1],\n",
       "       [1],\n",
       "       [0],\n",
       "       [1],\n",
       "       [1],\n",
       "       [1],\n",
       "       [0],\n",
       "       [0],\n",
       "       [1],\n",
       "       [1],\n",
       "       [0],\n",
       "       [1],\n",
       "       [0],\n",
       "       [0],\n",
       "       [0],\n",
       "       [1],\n",
       "       [1],\n",
       "       [1],\n",
       "       [1],\n",
       "       [0],\n",
       "       [1],\n",
       "       [1],\n",
       "       [0],\n",
       "       [0],\n",
       "       [0],\n",
       "       [1],\n",
       "       [0],\n",
       "       [0],\n",
       "       [1],\n",
       "       [0],\n",
       "       [1],\n",
       "       [0],\n",
       "       [0],\n",
       "       [1],\n",
       "       [0],\n",
       "       [1],\n",
       "       [0],\n",
       "       [1],\n",
       "       [0],\n",
       "       [0],\n",
       "       [0],\n",
       "       [1],\n",
       "       [0],\n",
       "       [1],\n",
       "       [0],\n",
       "       [0],\n",
       "       [1],\n",
       "       [0],\n",
       "       [0],\n",
       "       [1],\n",
       "       [1],\n",
       "       [1],\n",
       "       [0],\n",
       "       [0],\n",
       "       [0],\n",
       "       [1],\n",
       "       [0],\n",
       "       [1],\n",
       "       [1],\n",
       "       [0],\n",
       "       [1],\n",
       "       [1],\n",
       "       [0],\n",
       "       [0],\n",
       "       [0],\n",
       "       [1],\n",
       "       [0],\n",
       "       [1],\n",
       "       [1],\n",
       "       [0],\n",
       "       [1],\n",
       "       [0],\n",
       "       [0],\n",
       "       [1],\n",
       "       [0],\n",
       "       [1],\n",
       "       [0],\n",
       "       [1],\n",
       "       [1],\n",
       "       [0],\n",
       "       [1],\n",
       "       [0],\n",
       "       [1],\n",
       "       [1],\n",
       "       [1],\n",
       "       [0],\n",
       "       [1],\n",
       "       [1],\n",
       "       [1],\n",
       "       [1],\n",
       "       [1],\n",
       "       [0],\n",
       "       [1],\n",
       "       [1],\n",
       "       [1],\n",
       "       [1],\n",
       "       [1],\n",
       "       [1],\n",
       "       [0],\n",
       "       [0],\n",
       "       [1],\n",
       "       [1],\n",
       "       [1],\n",
       "       [1],\n",
       "       [0],\n",
       "       [1],\n",
       "       [0],\n",
       "       [0],\n",
       "       [0],\n",
       "       [0],\n",
       "       [1],\n",
       "       [0]])"
      ]
     },
     "metadata": {},
     "execution_count": 924
    }
   ],
   "source": [
    "# Look at the actual y_test\n",
    "#\n",
    "y_test"
   ]
  },
  {
   "cell_type": "code",
   "execution_count": 925,
   "metadata": {},
   "outputs": [
    {
     "output_type": "stream",
     "name": "stdout",
     "text": [
      "Accuracy Score: 0.456\n"
     ]
    }
   ],
   "source": [
    "# See the accuracy\n",
    "#\n",
    "from sklearn import metrics\n",
    "print('Accuracy Score:', metrics.accuracy_score(y_test, y_pred))"
   ]
  },
  {
   "cell_type": "code",
   "execution_count": 926,
   "metadata": {},
   "outputs": [
    {
     "output_type": "execute_result",
     "data": {
      "text/plain": [
       "array([[43, 74],\n",
       "       [62, 71]])"
      ]
     },
     "metadata": {},
     "execution_count": 926
    }
   ],
   "source": [
    "# See the confusion matrix\n",
    "#\n",
    "from sklearn.metrics import confusion_matrix\n",
    "cm = confusion_matrix(y_test, y_pred)\n",
    "cm"
   ]
  },
  {
   "source": [
    "<h2>Random Forest</h2>"
   ],
   "cell_type": "markdown",
   "metadata": {}
  },
  {
   "cell_type": "code",
   "execution_count": null,
   "metadata": {},
   "outputs": [],
   "source": []
  },
  {
   "source": [
    "<h2>Logistic Regression</h2>"
   ],
   "cell_type": "markdown",
   "metadata": {}
  },
  {
   "cell_type": "code",
   "execution_count": null,
   "metadata": {},
   "outputs": [],
   "source": []
  },
  {
   "source": [
    "<h2>XGBoost</h2>"
   ],
   "cell_type": "markdown",
   "metadata": {}
  },
  {
   "cell_type": "code",
   "execution_count": null,
   "metadata": {},
   "outputs": [],
   "source": []
  },
  {
   "source": [
    "<h2>Linear Regression</h2>"
   ],
   "cell_type": "markdown",
   "metadata": {}
  },
  {
   "cell_type": "code",
   "execution_count": null,
   "metadata": {},
   "outputs": [],
   "source": []
  },
  {
   "source": [
    "<h2>Gauccian Process Regression</h2>"
   ],
   "cell_type": "markdown",
   "metadata": {}
  },
  {
   "cell_type": "code",
   "execution_count": null,
   "metadata": {},
   "outputs": [],
   "source": []
  },
  {
   "source": [
    "<h1>SSE Composite Index</h1>"
   ],
   "cell_type": "markdown",
   "metadata": {}
  },
  {
   "source": [
    "<h2>Feature Selection</h2>"
   ],
   "cell_type": "markdown",
   "metadata": {}
  },
  {
   "cell_type": "code",
   "execution_count": 934,
   "metadata": {},
   "outputs": [
    {
     "output_type": "execute_result",
     "data": {
      "text/plain": [
       "                   High          Low         Open        Close      Volume  \\\n",
       "Date                                                                         \n",
       "2016-01-04  3538.688965  3295.740967  3536.589111  3296.258057      184400   \n",
       "2016-01-05  3328.138916  3189.604980  3196.650879  3287.710938      266900   \n",
       "2016-01-06  3362.974121  3288.933105  3291.195068  3361.840088      238900   \n",
       "2016-01-07  3309.656982  3115.885010  3309.656982  3125.001953       70600   \n",
       "2016-01-08  3235.450928  3056.877930  3194.625000  3186.412109      286400   \n",
       "...                 ...          ...          ...          ...         ...   \n",
       "2021-11-17  3537.510010  3513.520020  3518.560059  3537.370117      276700   \n",
       "2021-11-18  3537.979980  3513.110107  3531.489990  3520.709961      312400   \n",
       "2021-11-19  3561.909912  3517.649902  3519.280029  3560.370117      318000   \n",
       "2021-11-22  3585.187988  3562.750977  3562.762939  3582.080078      330000   \n",
       "2021-11-23  3598.375000  3577.360840  3580.505859  3589.089355  1641420932   \n",
       "\n",
       "              Adj Close  Future Close  \n",
       "Date                                   \n",
       "2016-01-04  3296.258057   3287.710938  \n",
       "2016-01-05  3287.710938   3361.840088  \n",
       "2016-01-06  3361.840088   3125.001953  \n",
       "2016-01-07  3125.001953   3186.412109  \n",
       "2016-01-08  3186.412109   3016.704102  \n",
       "...                 ...           ...  \n",
       "2021-11-17  3537.370117   3520.709961  \n",
       "2021-11-18  3520.709961   3560.370117  \n",
       "2021-11-19  3560.370117   3582.080078  \n",
       "2021-11-22  3582.080078   3589.089355  \n",
       "2021-11-23  3589.089355           NaN  \n",
       "\n",
       "[1431 rows x 7 columns]"
      ],
      "text/html": "<div>\n<style scoped>\n    .dataframe tbody tr th:only-of-type {\n        vertical-align: middle;\n    }\n\n    .dataframe tbody tr th {\n        vertical-align: top;\n    }\n\n    .dataframe thead th {\n        text-align: right;\n    }\n</style>\n<table border=\"1\" class=\"dataframe\">\n  <thead>\n    <tr style=\"text-align: right;\">\n      <th></th>\n      <th>High</th>\n      <th>Low</th>\n      <th>Open</th>\n      <th>Close</th>\n      <th>Volume</th>\n      <th>Adj Close</th>\n      <th>Future Close</th>\n    </tr>\n    <tr>\n      <th>Date</th>\n      <th></th>\n      <th></th>\n      <th></th>\n      <th></th>\n      <th></th>\n      <th></th>\n      <th></th>\n    </tr>\n  </thead>\n  <tbody>\n    <tr>\n      <th>2016-01-04</th>\n      <td>3538.688965</td>\n      <td>3295.740967</td>\n      <td>3536.589111</td>\n      <td>3296.258057</td>\n      <td>184400</td>\n      <td>3296.258057</td>\n      <td>3287.710938</td>\n    </tr>\n    <tr>\n      <th>2016-01-05</th>\n      <td>3328.138916</td>\n      <td>3189.604980</td>\n      <td>3196.650879</td>\n      <td>3287.710938</td>\n      <td>266900</td>\n      <td>3287.710938</td>\n      <td>3361.840088</td>\n    </tr>\n    <tr>\n      <th>2016-01-06</th>\n      <td>3362.974121</td>\n      <td>3288.933105</td>\n      <td>3291.195068</td>\n      <td>3361.840088</td>\n      <td>238900</td>\n      <td>3361.840088</td>\n      <td>3125.001953</td>\n    </tr>\n    <tr>\n      <th>2016-01-07</th>\n      <td>3309.656982</td>\n      <td>3115.885010</td>\n      <td>3309.656982</td>\n      <td>3125.001953</td>\n      <td>70600</td>\n      <td>3125.001953</td>\n      <td>3186.412109</td>\n    </tr>\n    <tr>\n      <th>2016-01-08</th>\n      <td>3235.450928</td>\n      <td>3056.877930</td>\n      <td>3194.625000</td>\n      <td>3186.412109</td>\n      <td>286400</td>\n      <td>3186.412109</td>\n      <td>3016.704102</td>\n    </tr>\n    <tr>\n      <th>...</th>\n      <td>...</td>\n      <td>...</td>\n      <td>...</td>\n      <td>...</td>\n      <td>...</td>\n      <td>...</td>\n      <td>...</td>\n    </tr>\n    <tr>\n      <th>2021-11-17</th>\n      <td>3537.510010</td>\n      <td>3513.520020</td>\n      <td>3518.560059</td>\n      <td>3537.370117</td>\n      <td>276700</td>\n      <td>3537.370117</td>\n      <td>3520.709961</td>\n    </tr>\n    <tr>\n      <th>2021-11-18</th>\n      <td>3537.979980</td>\n      <td>3513.110107</td>\n      <td>3531.489990</td>\n      <td>3520.709961</td>\n      <td>312400</td>\n      <td>3520.709961</td>\n      <td>3560.370117</td>\n    </tr>\n    <tr>\n      <th>2021-11-19</th>\n      <td>3561.909912</td>\n      <td>3517.649902</td>\n      <td>3519.280029</td>\n      <td>3560.370117</td>\n      <td>318000</td>\n      <td>3560.370117</td>\n      <td>3582.080078</td>\n    </tr>\n    <tr>\n      <th>2021-11-22</th>\n      <td>3585.187988</td>\n      <td>3562.750977</td>\n      <td>3562.762939</td>\n      <td>3582.080078</td>\n      <td>330000</td>\n      <td>3582.080078</td>\n      <td>3589.089355</td>\n    </tr>\n    <tr>\n      <th>2021-11-23</th>\n      <td>3598.375000</td>\n      <td>3577.360840</td>\n      <td>3580.505859</td>\n      <td>3589.089355</td>\n      <td>1641420932</td>\n      <td>3589.089355</td>\n      <td>NaN</td>\n    </tr>\n  </tbody>\n</table>\n<p>1431 rows × 7 columns</p>\n</div>"
     },
     "metadata": {},
     "execution_count": 934
    }
   ],
   "source": [
    "sse['Future Close'] = sse['Close'].shift(-1)\n",
    "sse"
   ]
  },
  {
   "cell_type": "code",
   "execution_count": 935,
   "metadata": {},
   "outputs": [],
   "source": [
    "target = computeTarget(sse['Close'], sse['Future Close'])\n",
    "\n",
    "sse['Target'] = target\n",
    "sse_target = sse.loc[hsi.index[-1]]\n",
    "sse = sse.dropna()"
   ]
  },
  {
   "cell_type": "code",
   "execution_count": 936,
   "metadata": {},
   "outputs": [],
   "source": [
    "close = sse['Close']\n",
    "high = sse['High']\n",
    "low = sse['Low']\n",
    "open = sse['Open']\n",
    "volume  = sse['Volume']"
   ]
  },
  {
   "cell_type": "code",
   "execution_count": 937,
   "metadata": {},
   "outputs": [
    {
     "output_type": "execute_result",
     "data": {
      "text/plain": [
       "                  SMA20        SMA50       SMA200          EMA         OBV  \\\n",
       "Date                                                                         \n",
       "2016-01-04          NaN          NaN          NaN          NaN    184400.0   \n",
       "2016-01-05          NaN          NaN          NaN          NaN    -82500.0   \n",
       "2016-01-06          NaN          NaN          NaN          NaN    156400.0   \n",
       "2016-01-07          NaN          NaN          NaN          NaN     85800.0   \n",
       "2016-01-08          NaN          NaN          NaN          NaN    372200.0   \n",
       "...                 ...          ...          ...          ...         ...   \n",
       "2021-11-16  3539.605518  3579.860229  3527.289161  3528.458933  24156100.0   \n",
       "2021-11-17  3537.124023  3580.044614  3526.994912  3529.647091  24432800.0   \n",
       "2021-11-18  3533.420520  3579.580015  3526.766562  3528.455474  24120400.0   \n",
       "2021-11-19  3532.309021  3579.445415  3526.652953  3532.710760  24438400.0   \n",
       "2021-11-22  3530.920020  3579.146216  3526.457034  3539.293335  24768400.0   \n",
       "\n",
       "                RSI14        ADX       ADXR  aroondown     aroonup  ...  \\\n",
       "Date                                                                ...   \n",
       "2016-01-04        NaN        NaN        NaN        NaN         NaN  ...   \n",
       "2016-01-05        NaN        NaN        NaN        NaN         NaN  ...   \n",
       "2016-01-06        NaN        NaN        NaN        NaN         NaN  ...   \n",
       "2016-01-07        NaN        NaN        NaN        NaN         NaN  ...   \n",
       "2016-01-08        NaN        NaN        NaN        NaN         NaN  ...   \n",
       "...               ...        ...        ...        ...         ...  ...   \n",
       "2021-11-16  45.870457  25.622516  22.424765  71.428571    0.000000  ...   \n",
       "2021-11-17  49.067261  25.210056  22.776071  64.285714   21.428571  ...   \n",
       "2021-11-18  45.942678  24.807825  22.922670  57.142857   14.285714  ...   \n",
       "2021-11-19  53.529165  23.497480  22.955213  50.000000  100.000000  ...   \n",
       "2021-11-22  57.080036  22.141173  22.915652  42.857143  100.000000  ...   \n",
       "\n",
       "                ROCR     ROCR100      slowk      slowd      fastk      fastd  \\\n",
       "Date                                                                           \n",
       "2016-01-04       NaN         NaN        NaN        NaN        NaN        NaN   \n",
       "2016-01-05       NaN         NaN        NaN        NaN        NaN        NaN   \n",
       "2016-01-06       NaN         NaN        NaN        NaN        NaN        NaN   \n",
       "2016-01-07       NaN         NaN        NaN        NaN        NaN        NaN   \n",
       "2016-01-08       NaN         NaN        NaN        NaN        NaN        NaN   \n",
       "...              ...         ...        ...        ...        ...        ...   \n",
       "2021-11-16  1.004610  100.460977  83.443113  86.227132  71.911860  83.443113   \n",
       "2021-11-17  1.011099  101.109894  78.592268  84.764400  80.668761  78.592268   \n",
       "2021-11-18  0.998253   99.825336  57.646427  73.227269  20.358659  57.646427   \n",
       "2021-11-19  1.019705  101.970462  65.957363  67.398686  96.844670  65.957363   \n",
       "2021-11-22  1.023852  102.385225  70.963817  64.855869  95.688122  70.963817   \n",
       "\n",
       "                TRIX     ULTOSC      WILLR  Target  \n",
       "Date                                                \n",
       "2016-01-04       NaN        NaN        NaN       0  \n",
       "2016-01-05       NaN        NaN        NaN       1  \n",
       "2016-01-06       NaN        NaN        NaN       0  \n",
       "2016-01-07       NaN        NaN        NaN       1  \n",
       "2016-01-08       NaN        NaN        NaN       0  \n",
       "...              ...        ...        ...     ...  \n",
       "2021-11-16 -0.000020  61.270883 -33.685900       1  \n",
       "2021-11-17 -0.002265  65.254481 -19.600317       0  \n",
       "2021-11-18 -0.004395  61.566902 -34.662373       1  \n",
       "2021-11-19 -0.006107  64.791843  -1.357007       1  \n",
       "2021-11-22 -0.007290  63.482566  -2.272727       1  \n",
       "\n",
       "[1430 rows x 38 columns]"
      ],
      "text/html": "<div>\n<style scoped>\n    .dataframe tbody tr th:only-of-type {\n        vertical-align: middle;\n    }\n\n    .dataframe tbody tr th {\n        vertical-align: top;\n    }\n\n    .dataframe thead th {\n        text-align: right;\n    }\n</style>\n<table border=\"1\" class=\"dataframe\">\n  <thead>\n    <tr style=\"text-align: right;\">\n      <th></th>\n      <th>SMA20</th>\n      <th>SMA50</th>\n      <th>SMA200</th>\n      <th>EMA</th>\n      <th>OBV</th>\n      <th>RSI14</th>\n      <th>ADX</th>\n      <th>ADXR</th>\n      <th>aroondown</th>\n      <th>aroonup</th>\n      <th>...</th>\n      <th>ROCR</th>\n      <th>ROCR100</th>\n      <th>slowk</th>\n      <th>slowd</th>\n      <th>fastk</th>\n      <th>fastd</th>\n      <th>TRIX</th>\n      <th>ULTOSC</th>\n      <th>WILLR</th>\n      <th>Target</th>\n    </tr>\n    <tr>\n      <th>Date</th>\n      <th></th>\n      <th></th>\n      <th></th>\n      <th></th>\n      <th></th>\n      <th></th>\n      <th></th>\n      <th></th>\n      <th></th>\n      <th></th>\n      <th></th>\n      <th></th>\n      <th></th>\n      <th></th>\n      <th></th>\n      <th></th>\n      <th></th>\n      <th></th>\n      <th></th>\n      <th></th>\n      <th></th>\n    </tr>\n  </thead>\n  <tbody>\n    <tr>\n      <th>2016-01-04</th>\n      <td>NaN</td>\n      <td>NaN</td>\n      <td>NaN</td>\n      <td>NaN</td>\n      <td>184400.0</td>\n      <td>NaN</td>\n      <td>NaN</td>\n      <td>NaN</td>\n      <td>NaN</td>\n      <td>NaN</td>\n      <td>...</td>\n      <td>NaN</td>\n      <td>NaN</td>\n      <td>NaN</td>\n      <td>NaN</td>\n      <td>NaN</td>\n      <td>NaN</td>\n      <td>NaN</td>\n      <td>NaN</td>\n      <td>NaN</td>\n      <td>0</td>\n    </tr>\n    <tr>\n      <th>2016-01-05</th>\n      <td>NaN</td>\n      <td>NaN</td>\n      <td>NaN</td>\n      <td>NaN</td>\n      <td>-82500.0</td>\n      <td>NaN</td>\n      <td>NaN</td>\n      <td>NaN</td>\n      <td>NaN</td>\n      <td>NaN</td>\n      <td>...</td>\n      <td>NaN</td>\n      <td>NaN</td>\n      <td>NaN</td>\n      <td>NaN</td>\n      <td>NaN</td>\n      <td>NaN</td>\n      <td>NaN</td>\n      <td>NaN</td>\n      <td>NaN</td>\n      <td>1</td>\n    </tr>\n    <tr>\n      <th>2016-01-06</th>\n      <td>NaN</td>\n      <td>NaN</td>\n      <td>NaN</td>\n      <td>NaN</td>\n      <td>156400.0</td>\n      <td>NaN</td>\n      <td>NaN</td>\n      <td>NaN</td>\n      <td>NaN</td>\n      <td>NaN</td>\n      <td>...</td>\n      <td>NaN</td>\n      <td>NaN</td>\n      <td>NaN</td>\n      <td>NaN</td>\n      <td>NaN</td>\n      <td>NaN</td>\n      <td>NaN</td>\n      <td>NaN</td>\n      <td>NaN</td>\n      <td>0</td>\n    </tr>\n    <tr>\n      <th>2016-01-07</th>\n      <td>NaN</td>\n      <td>NaN</td>\n      <td>NaN</td>\n      <td>NaN</td>\n      <td>85800.0</td>\n      <td>NaN</td>\n      <td>NaN</td>\n      <td>NaN</td>\n      <td>NaN</td>\n      <td>NaN</td>\n      <td>...</td>\n      <td>NaN</td>\n      <td>NaN</td>\n      <td>NaN</td>\n      <td>NaN</td>\n      <td>NaN</td>\n      <td>NaN</td>\n      <td>NaN</td>\n      <td>NaN</td>\n      <td>NaN</td>\n      <td>1</td>\n    </tr>\n    <tr>\n      <th>2016-01-08</th>\n      <td>NaN</td>\n      <td>NaN</td>\n      <td>NaN</td>\n      <td>NaN</td>\n      <td>372200.0</td>\n      <td>NaN</td>\n      <td>NaN</td>\n      <td>NaN</td>\n      <td>NaN</td>\n      <td>NaN</td>\n      <td>...</td>\n      <td>NaN</td>\n      <td>NaN</td>\n      <td>NaN</td>\n      <td>NaN</td>\n      <td>NaN</td>\n      <td>NaN</td>\n      <td>NaN</td>\n      <td>NaN</td>\n      <td>NaN</td>\n      <td>0</td>\n    </tr>\n    <tr>\n      <th>...</th>\n      <td>...</td>\n      <td>...</td>\n      <td>...</td>\n      <td>...</td>\n      <td>...</td>\n      <td>...</td>\n      <td>...</td>\n      <td>...</td>\n      <td>...</td>\n      <td>...</td>\n      <td>...</td>\n      <td>...</td>\n      <td>...</td>\n      <td>...</td>\n      <td>...</td>\n      <td>...</td>\n      <td>...</td>\n      <td>...</td>\n      <td>...</td>\n      <td>...</td>\n      <td>...</td>\n    </tr>\n    <tr>\n      <th>2021-11-16</th>\n      <td>3539.605518</td>\n      <td>3579.860229</td>\n      <td>3527.289161</td>\n      <td>3528.458933</td>\n      <td>24156100.0</td>\n      <td>45.870457</td>\n      <td>25.622516</td>\n      <td>22.424765</td>\n      <td>71.428571</td>\n      <td>0.000000</td>\n      <td>...</td>\n      <td>1.004610</td>\n      <td>100.460977</td>\n      <td>83.443113</td>\n      <td>86.227132</td>\n      <td>71.911860</td>\n      <td>83.443113</td>\n      <td>-0.000020</td>\n      <td>61.270883</td>\n      <td>-33.685900</td>\n      <td>1</td>\n    </tr>\n    <tr>\n      <th>2021-11-17</th>\n      <td>3537.124023</td>\n      <td>3580.044614</td>\n      <td>3526.994912</td>\n      <td>3529.647091</td>\n      <td>24432800.0</td>\n      <td>49.067261</td>\n      <td>25.210056</td>\n      <td>22.776071</td>\n      <td>64.285714</td>\n      <td>21.428571</td>\n      <td>...</td>\n      <td>1.011099</td>\n      <td>101.109894</td>\n      <td>78.592268</td>\n      <td>84.764400</td>\n      <td>80.668761</td>\n      <td>78.592268</td>\n      <td>-0.002265</td>\n      <td>65.254481</td>\n      <td>-19.600317</td>\n      <td>0</td>\n    </tr>\n    <tr>\n      <th>2021-11-18</th>\n      <td>3533.420520</td>\n      <td>3579.580015</td>\n      <td>3526.766562</td>\n      <td>3528.455474</td>\n      <td>24120400.0</td>\n      <td>45.942678</td>\n      <td>24.807825</td>\n      <td>22.922670</td>\n      <td>57.142857</td>\n      <td>14.285714</td>\n      <td>...</td>\n      <td>0.998253</td>\n      <td>99.825336</td>\n      <td>57.646427</td>\n      <td>73.227269</td>\n      <td>20.358659</td>\n      <td>57.646427</td>\n      <td>-0.004395</td>\n      <td>61.566902</td>\n      <td>-34.662373</td>\n      <td>1</td>\n    </tr>\n    <tr>\n      <th>2021-11-19</th>\n      <td>3532.309021</td>\n      <td>3579.445415</td>\n      <td>3526.652953</td>\n      <td>3532.710760</td>\n      <td>24438400.0</td>\n      <td>53.529165</td>\n      <td>23.497480</td>\n      <td>22.955213</td>\n      <td>50.000000</td>\n      <td>100.000000</td>\n      <td>...</td>\n      <td>1.019705</td>\n      <td>101.970462</td>\n      <td>65.957363</td>\n      <td>67.398686</td>\n      <td>96.844670</td>\n      <td>65.957363</td>\n      <td>-0.006107</td>\n      <td>64.791843</td>\n      <td>-1.357007</td>\n      <td>1</td>\n    </tr>\n    <tr>\n      <th>2021-11-22</th>\n      <td>3530.920020</td>\n      <td>3579.146216</td>\n      <td>3526.457034</td>\n      <td>3539.293335</td>\n      <td>24768400.0</td>\n      <td>57.080036</td>\n      <td>22.141173</td>\n      <td>22.915652</td>\n      <td>42.857143</td>\n      <td>100.000000</td>\n      <td>...</td>\n      <td>1.023852</td>\n      <td>102.385225</td>\n      <td>70.963817</td>\n      <td>64.855869</td>\n      <td>95.688122</td>\n      <td>70.963817</td>\n      <td>-0.007290</td>\n      <td>63.482566</td>\n      <td>-2.272727</td>\n      <td>1</td>\n    </tr>\n  </tbody>\n</table>\n<p>1430 rows × 38 columns</p>\n</div>"
     },
     "metadata": {},
     "execution_count": 937
    }
   ],
   "source": [
    "sse_ti = pd.DataFrame()\n",
    "sse_ti['SMA20'] = talib.SMA(close, timeperiod=20)\n",
    "sse_ti['SMA50'] = talib.SMA(close, timeperiod=50)\n",
    "sse_ti['SMA200'] = talib.SMA(close, timeperiod=200)\n",
    "sse_ti['EMA'] = talib.EMA(close, timeperiod=14)\n",
    "sse_ti['OBV'] = talib.OBV(close, volume)\n",
    "sse_ti['RSI14'] = talib.RSI(close, timeperiod=14)\n",
    "sse_ti['ADX'] = talib.ADX(high, low, close, timeperiod=14)\n",
    "sse_ti['ADXR'] = talib.ADXR(high, low, close, timeperiod=14)\n",
    "sse_ti['aroondown'], sse_ti['aroonup'] = talib.AROON(high, low, timeperiod=14)\n",
    "sse_ti['APO'] = talib.APO(close, fastperiod=12, slowperiod=26, matype=0)\n",
    "sse_ti['AROONOSC'] = talib.AROONOSC(high, low, timeperiod=14)\n",
    "sse_ti['BOP'] = talib.BOP(open, high, low, close)\n",
    "sse_ti['CCI'] = talib.CCI(high, low, close, timeperiod=14)\n",
    "sse_ti['CMO'] = talib.CMO(close, timeperiod=14)\n",
    "sse_ti['DX'] = talib.DX(high, low, close, timeperiod=14)\n",
    "sse_ti['macd'],sse_ti['macdsignal'],sse_ti['macdhist'] = talib.MACD(close, fastperiod = 12, slowperiod=26, signalperiod=9)\n",
    "sse_ti['MFI'] = talib.MFI(high, low, close, volume, timeperiod=14)\n",
    "sse_ti['MINUS_DI'] = talib.MINUS_DI(high, low, close, timeperiod=14)\n",
    "sse_ti['MINUS_DM'] = talib.MINUS_DM(high, low, timeperiod=14)\n",
    "sse_ti['MOM'] = talib.MOM(close, timeperiod=14)\n",
    "sse_ti['PLUS_DI'] = talib.PLUS_DI(high, low, close, timeperiod=14)\n",
    "sse_ti['PLUS_DM'] = talib.PLUS_DM(high, low, timeperiod=14)\n",
    "sse_ti['PPO'] = talib.PPO(close, fastperiod=12, slowperiod=26, matype=0)\n",
    "sse_ti['ROC'] = talib.ROC(close, timeperiod=10)\n",
    "sse_ti['ROCP'] = talib.ROCP(close, timeperiod=10)\n",
    "sse_ti['ROCR'] = talib.ROCR(close, timeperiod=10)\n",
    "sse_ti['ROCR100'] = talib.ROCR100(close, timeperiod=10)\n",
    "sse_ti['slowk'], sse_ti['slowd'] = talib.STOCH(high, low, close, fastk_period=5, slowk_period=3, slowd_period=3, slowd_matype=0)\n",
    "sse_ti['fastk'], sse_ti['fastd'] = talib.STOCHF(high, low, close, fastk_period=5, fastd_period=3, fastd_matype=0)\n",
    "sse_ti['TRIX'] = talib.TRIX(close, timeperiod=30)\n",
    "sse_ti['ULTOSC'] = talib.ULTOSC(high, low, close, timeperiod1=7, timeperiod2=14, timeperiod3=28)\n",
    "sse_ti['WILLR'] = talib.WILLR(high, low, close, timeperiod=14)\n",
    "sse_ti['Target'] = sse['Target']\n",
    "sse_ti"
   ]
  },
  {
   "cell_type": "code",
   "execution_count": 941,
   "metadata": {},
   "outputs": [],
   "source": [
    "sse_ti = sse_ti.dropna()\n",
    "X = sse_ti.drop(\"Target\", axis=1)  # Feature Matrix\n",
    "y = sse_ti[\"Target\"]               # Target Variable"
   ]
  },
  {
   "cell_type": "code",
   "execution_count": 942,
   "metadata": {},
   "outputs": [
    {
     "output_type": "stream",
     "name": "stdout",
     "text": [
      "[ True False False  True False False False False False False False False\n  True False False False False False  True False False False False False\n False  True False False False  True False False False False  True False\n False]\n[ 1 23 28  1 31 14 11 27 25 20  3 22  1 19 12 17  5  8  1 10 15 26 24  4\n 13  1  6 29 30  1 18  2 21  9  1 16  7]\n"
     ]
    }
   ],
   "source": [
    "model = LinearRegression()\n",
    "\n",
    "#Initializing RFE model\n",
    "rfe = RFE(model, n_features_to_select=7)\n",
    "\n",
    "#Transforming data using RFE\n",
    "X_rfe = rfe.fit_transform(X,y)  \n",
    "\n",
    "#Fitting the data to model\n",
    "model.fit(X_rfe,y)\n",
    "\n",
    "print(rfe.support_)\n",
    "print(rfe.ranking_)"
   ]
  },
  {
   "cell_type": "code",
   "execution_count": 943,
   "metadata": {},
   "outputs": [
    {
     "output_type": "stream",
     "name": "stdout",
     "text": [
      "Optimum number of features: 0\nScore with 0 features: 0.000000\n"
     ]
    }
   ],
   "source": [
    "# no. of features\n",
    "#\n",
    "nof_list = np.arange(1, 13)            \n",
    "high_score = 0\n",
    "\n",
    "# Variable to store the optimum features\n",
    "#\n",
    "nof = 0           \n",
    "score_list = []\n",
    "\n",
    "for n in range(len(nof_list)):\n",
    "    X_train, X_test, y_train, y_test = train_test_split(X,y, test_size = 0.9, random_state = 0)\n",
    "\n",
    "    model = LinearRegression()\n",
    "    rfe = RFE(model, n_features_to_select=nof_list[n])\n",
    "    X_train_rfe = rfe.fit_transform(X_train,y_train)\n",
    "    X_test_rfe = rfe.transform(X_test)\n",
    "    model.fit(X_train_rfe,y_train)\n",
    "\n",
    "    score = model.score(X_test_rfe,y_test)\n",
    "    score_list.append(score)\n",
    "\n",
    "    if(score > high_score):\n",
    "        high_score = score\n",
    "        nof = nof_list[n]\n",
    "\n",
    "print(\"Optimum number of features: %d\" % nof)\n",
    "print(\"Score with %d features: %f\" % (nof, high_score))"
   ]
  },
  {
   "cell_type": "code",
   "execution_count": 944,
   "metadata": {},
   "outputs": [
    {
     "output_type": "stream",
     "name": "stdout",
     "text": [
      "Index(['SMA20', 'EMA', 'APO', 'BOP', 'macdhist', 'PLUS_DI', 'PPO', 'ROCR100',\n       'slowd', 'TRIX'],\n      dtype='object')\n"
     ]
    }
   ],
   "source": [
    "cols = list(X.columns)\n",
    "model = LinearRegression()\n",
    "\n",
    "# Initializing RFE model\n",
    "rfe = RFE(model, n_features_to_select=10)             \n",
    "\n",
    "# Transforming data using RFE\n",
    "X_rfe = rfe.fit_transform(X,y)  \n",
    "\n",
    "# Fitting the data to model\n",
    "model.fit(X_rfe,y)              \n",
    "temp = pd.Series(rfe.support_, index = cols)\n",
    "selected_features_rfe = temp[temp==True].index\n",
    "\n",
    "print(selected_features_rfe)"
   ]
  },
  {
   "source": [
    "<h2>จากการทำ Feature Selection ควรจะใช้ 'ADX', 'ADXR', 'BOP', 'DX', 'MFI', 'MINUS_DI', 'PLUS_DI', 'PPO', 'TRIX',\n",
    "       'WILLR'ในการสร้าง model</h2>"
   ],
   "cell_type": "markdown",
   "metadata": {}
  },
  {
   "cell_type": "code",
   "execution_count": 945,
   "metadata": {},
   "outputs": [],
   "source": [
    "X = sse_ti.loc[:, ['ADX', 'ADXR', 'BOP', 'DX', 'MFI', 'MINUS_DI', 'PLUS_DI', 'PPO', 'TRIX','WILLR']].values\n",
    "#X = dji_ti.loc[:, ['CCI', 'DX', 'MINUS_DI', 'PLUS_DM', 'slowd']].values\n",
    "y = sse_ti.loc[:, ['Target']].values\n",
    "X_train, X_test, y_train, y_test = train_test_split(X, y, test_size=0.2, random_state=0)"
   ]
  },
  {
   "cell_type": "code",
   "execution_count": 946,
   "metadata": {},
   "outputs": [],
   "source": [
    "sc = StandardScaler()\n",
    "X_train = sc.fit_transform(X_train)\n",
    "X_test = sc.transform(X_test)"
   ]
  },
  {
   "source": [
    "<h2>Decision Tree</h2>"
   ],
   "cell_type": "markdown",
   "metadata": {}
  },
  {
   "cell_type": "code",
   "execution_count": 947,
   "metadata": {},
   "outputs": [
    {
     "output_type": "execute_result",
     "data": {
      "text/plain": [
       "DecisionTreeClassifier()"
      ]
     },
     "metadata": {},
     "execution_count": 947
    }
   ],
   "source": [
    "dtc = DecisionTreeClassifier()\n",
    "dtc.fit(X_train, y_train)"
   ]
  },
  {
   "cell_type": "code",
   "execution_count": 948,
   "metadata": {},
   "outputs": [
    {
     "output_type": "execute_result",
     "data": {
      "text/plain": [
       "array([0, 0, 1, 1, 0, 0, 0, 0, 1, 1, 0, 1, 0, 0, 0, 0, 0, 1, 1, 0, 0, 1,\n",
       "       0, 0, 1, 0, 0, 0, 0, 1, 1, 0, 0, 0, 0, 0, 1, 1, 0, 0, 1, 0, 1, 0,\n",
       "       1, 0, 1, 1, 0, 1, 0, 0, 1, 1, 0, 0, 1, 1, 1, 1, 0, 1, 1, 0, 1, 1,\n",
       "       0, 0, 0, 1, 1, 1, 1, 1, 1, 1, 1, 0, 0, 0, 1, 1, 0, 0, 1, 0, 0, 0,\n",
       "       1, 0, 0, 1, 0, 0, 1, 1, 0, 0, 1, 0, 1, 0, 1, 0, 0, 1, 1, 1, 0, 1,\n",
       "       1, 0, 0, 0, 0, 1, 0, 0, 0, 0, 1, 1, 1, 1, 0, 0, 0, 0, 0, 0, 0, 1,\n",
       "       1, 0, 0, 1, 0, 1, 1, 0, 0, 0, 1, 0, 1, 0, 0, 0, 1, 1, 1, 0, 1, 0,\n",
       "       0, 1, 0, 0, 1, 1, 1, 1, 1, 0, 1, 0, 0, 0, 1, 0, 1, 1, 0, 0, 0, 1,\n",
       "       0, 0, 0, 0, 1, 1, 0, 0, 1, 0, 1, 0, 1, 0, 0, 0, 0, 1, 1, 0, 1, 1,\n",
       "       1, 0, 1, 1, 1, 0, 0, 1, 0, 1, 1, 0, 0, 0, 1, 0, 1, 0, 0, 1, 0, 1,\n",
       "       0, 1, 0, 0, 0, 0, 0, 1, 1, 1, 0, 1, 0, 1, 1, 1, 1, 1, 1, 1, 1, 0,\n",
       "       0, 0, 0, 1, 0])"
      ]
     },
     "metadata": {},
     "execution_count": 948
    }
   ],
   "source": [
    "# Prediction\n",
    "#\n",
    "y_pred = dtc.predict(X_test)  #Accuracy\n",
    "y_pred"
   ]
  },
  {
   "cell_type": "code",
   "execution_count": 949,
   "metadata": {},
   "outputs": [
    {
     "output_type": "execute_result",
     "data": {
      "text/plain": [
       "array([[1],\n",
       "       [0],\n",
       "       [0],\n",
       "       [1],\n",
       "       [0],\n",
       "       [1],\n",
       "       [0],\n",
       "       [0],\n",
       "       [0],\n",
       "       [0],\n",
       "       [1],\n",
       "       [1],\n",
       "       [1],\n",
       "       [0],\n",
       "       [1],\n",
       "       [1],\n",
       "       [1],\n",
       "       [1],\n",
       "       [0],\n",
       "       [1],\n",
       "       [1],\n",
       "       [0],\n",
       "       [0],\n",
       "       [0],\n",
       "       [0],\n",
       "       [1],\n",
       "       [1],\n",
       "       [1],\n",
       "       [1],\n",
       "       [1],\n",
       "       [0],\n",
       "       [1],\n",
       "       [0],\n",
       "       [1],\n",
       "       [1],\n",
       "       [1],\n",
       "       [1],\n",
       "       [1],\n",
       "       [0],\n",
       "       [0],\n",
       "       [1],\n",
       "       [1],\n",
       "       [1],\n",
       "       [1],\n",
       "       [1],\n",
       "       [1],\n",
       "       [1],\n",
       "       [0],\n",
       "       [1],\n",
       "       [0],\n",
       "       [0],\n",
       "       [1],\n",
       "       [1],\n",
       "       [1],\n",
       "       [1],\n",
       "       [0],\n",
       "       [1],\n",
       "       [0],\n",
       "       [0],\n",
       "       [1],\n",
       "       [1],\n",
       "       [1],\n",
       "       [0],\n",
       "       [0],\n",
       "       [1],\n",
       "       [0],\n",
       "       [1],\n",
       "       [1],\n",
       "       [1],\n",
       "       [0],\n",
       "       [0],\n",
       "       [0],\n",
       "       [1],\n",
       "       [1],\n",
       "       [1],\n",
       "       [0],\n",
       "       [1],\n",
       "       [1],\n",
       "       [0],\n",
       "       [1],\n",
       "       [1],\n",
       "       [1],\n",
       "       [0],\n",
       "       [0],\n",
       "       [0],\n",
       "       [1],\n",
       "       [0],\n",
       "       [0],\n",
       "       [0],\n",
       "       [0],\n",
       "       [1],\n",
       "       [1],\n",
       "       [1],\n",
       "       [0],\n",
       "       [0],\n",
       "       [0],\n",
       "       [1],\n",
       "       [1],\n",
       "       [0],\n",
       "       [0],\n",
       "       [1],\n",
       "       [0],\n",
       "       [1],\n",
       "       [1],\n",
       "       [0],\n",
       "       [0],\n",
       "       [1],\n",
       "       [1],\n",
       "       [1],\n",
       "       [0],\n",
       "       [0],\n",
       "       [1],\n",
       "       [1],\n",
       "       [0],\n",
       "       [1],\n",
       "       [1],\n",
       "       [1],\n",
       "       [0],\n",
       "       [1],\n",
       "       [0],\n",
       "       [0],\n",
       "       [1],\n",
       "       [1],\n",
       "       [0],\n",
       "       [1],\n",
       "       [0],\n",
       "       [1],\n",
       "       [1],\n",
       "       [1],\n",
       "       [1],\n",
       "       [0],\n",
       "       [1],\n",
       "       [1],\n",
       "       [0],\n",
       "       [0],\n",
       "       [1],\n",
       "       [1],\n",
       "       [1],\n",
       "       [0],\n",
       "       [0],\n",
       "       [0],\n",
       "       [1],\n",
       "       [0],\n",
       "       [1],\n",
       "       [0],\n",
       "       [0],\n",
       "       [1],\n",
       "       [1],\n",
       "       [0],\n",
       "       [1],\n",
       "       [1],\n",
       "       [0],\n",
       "       [1],\n",
       "       [1],\n",
       "       [0],\n",
       "       [1],\n",
       "       [0],\n",
       "       [0],\n",
       "       [1],\n",
       "       [0],\n",
       "       [0],\n",
       "       [0],\n",
       "       [1],\n",
       "       [0],\n",
       "       [1],\n",
       "       [1],\n",
       "       [0],\n",
       "       [1],\n",
       "       [0],\n",
       "       [0],\n",
       "       [1],\n",
       "       [1],\n",
       "       [1],\n",
       "       [1],\n",
       "       [0],\n",
       "       [0],\n",
       "       [0],\n",
       "       [1],\n",
       "       [0],\n",
       "       [1],\n",
       "       [0],\n",
       "       [1],\n",
       "       [1],\n",
       "       [1],\n",
       "       [0],\n",
       "       [1],\n",
       "       [0],\n",
       "       [0],\n",
       "       [0],\n",
       "       [0],\n",
       "       [1],\n",
       "       [1],\n",
       "       [0],\n",
       "       [0],\n",
       "       [0],\n",
       "       [0],\n",
       "       [0],\n",
       "       [1],\n",
       "       [1],\n",
       "       [1],\n",
       "       [0],\n",
       "       [1],\n",
       "       [1],\n",
       "       [1],\n",
       "       [0],\n",
       "       [0],\n",
       "       [1],\n",
       "       [0],\n",
       "       [0],\n",
       "       [0],\n",
       "       [0],\n",
       "       [0],\n",
       "       [0],\n",
       "       [0],\n",
       "       [1],\n",
       "       [1],\n",
       "       [1],\n",
       "       [0],\n",
       "       [1],\n",
       "       [1],\n",
       "       [0],\n",
       "       [0],\n",
       "       [1],\n",
       "       [1],\n",
       "       [1],\n",
       "       [1],\n",
       "       [1],\n",
       "       [1],\n",
       "       [1],\n",
       "       [0],\n",
       "       [0],\n",
       "       [1],\n",
       "       [0],\n",
       "       [1],\n",
       "       [1],\n",
       "       [0],\n",
       "       [0],\n",
       "       [0],\n",
       "       [0],\n",
       "       [1],\n",
       "       [1],\n",
       "       [0],\n",
       "       [0],\n",
       "       [0],\n",
       "       [1],\n",
       "       [1],\n",
       "       [0]])"
      ]
     },
     "metadata": {},
     "execution_count": 949
    }
   ],
   "source": [
    "# Look at the actual y_test\n",
    "#\n",
    "y_test"
   ]
  },
  {
   "cell_type": "code",
   "execution_count": 950,
   "metadata": {},
   "outputs": [
    {
     "output_type": "stream",
     "name": "stdout",
     "text": [
      "Accuracy Score: 0.47368421052631576\n"
     ]
    }
   ],
   "source": [
    "# See the accuracy\n",
    "#\n",
    "from sklearn import metrics\n",
    "print('Accuracy Score:', metrics.accuracy_score(y_test, y_pred))"
   ]
  },
  {
   "cell_type": "code",
   "execution_count": 951,
   "metadata": {},
   "outputs": [
    {
     "output_type": "execute_result",
     "data": {
      "text/plain": [
       "array([[59, 55],\n",
       "       [75, 58]])"
      ]
     },
     "metadata": {},
     "execution_count": 951
    }
   ],
   "source": [
    "# See the confusion matrix\n",
    "#\n",
    "from sklearn.metrics import confusion_matrix\n",
    "cm = confusion_matrix(y_test, y_pred)\n",
    "cm"
   ]
  },
  {
   "source": [
    "<h2>Random Forest</h2>"
   ],
   "cell_type": "markdown",
   "metadata": {}
  },
  {
   "cell_type": "code",
   "execution_count": null,
   "metadata": {},
   "outputs": [],
   "source": []
  },
  {
   "source": [
    "<h2>Logistic Regression</h2>"
   ],
   "cell_type": "markdown",
   "metadata": {}
  },
  {
   "cell_type": "code",
   "execution_count": null,
   "metadata": {},
   "outputs": [],
   "source": []
  },
  {
   "source": [
    "<h2>XGBoost</h2>"
   ],
   "cell_type": "markdown",
   "metadata": {}
  },
  {
   "cell_type": "code",
   "execution_count": null,
   "metadata": {},
   "outputs": [],
   "source": []
  },
  {
   "source": [
    "<h2>Linear Regression</h2>"
   ],
   "cell_type": "markdown",
   "metadata": {}
  },
  {
   "cell_type": "code",
   "execution_count": null,
   "metadata": {},
   "outputs": [],
   "source": []
  },
  {
   "source": [
    "<h2>Gauccian Process Regression</h2>"
   ],
   "cell_type": "markdown",
   "metadata": {}
  },
  {
   "cell_type": "code",
   "execution_count": null,
   "metadata": {},
   "outputs": [],
   "source": []
  }
 ],
 "metadata": {
  "kernelspec": {
   "name": "python3",
   "display_name": "Python 3.9.7 64-bit",
   "metadata": {
    "interpreter": {
     "hash": "ac2eaa0ea0ebeafcc7822e65e46aa9d4f966f30b695406963e145ea4a91cd4fc"
    }
   }
  },
  "language_info": {
   "codemirror_mode": {
    "name": "ipython",
    "version": 3
   },
   "file_extension": ".py",
   "mimetype": "text/x-python",
   "name": "python",
   "nbconvert_exporter": "python",
   "pygments_lexer": "ipython3",
   "version": "3.9.7-final"
  }
 },
 "nbformat": 4,
 "nbformat_minor": 5
}